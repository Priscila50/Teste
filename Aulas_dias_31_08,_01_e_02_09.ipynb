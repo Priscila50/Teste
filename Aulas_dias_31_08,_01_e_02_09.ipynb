{
  "nbformat": 4,
  "nbformat_minor": 0,
  "metadata": {
    "kernelspec": {
      "language": "python",
      "display_name": "Python 3",
      "name": "python3"
    },
    "language_info": {
      "pygments_lexer": "ipython3",
      "nbconvert_exporter": "python",
      "version": "3.6.4",
      "file_extension": ".py",
      "codemirror_mode": {
        "name": "ipython",
        "version": 3
      },
      "name": "python",
      "mimetype": "text/x-python"
    },
    "colab": {
      "name": "Aulas dias 31/08, 01 e 02/09.ipynb",
      "provenance": [],
      "include_colab_link": true
    }
  },
  "cells": [
    {
      "cell_type": "markdown",
      "metadata": {
        "id": "view-in-github",
        "colab_type": "text"
      },
      "source": [
        "<a href=\"https://colab.research.google.com/github/Priscila50/Teste/blob/master/Aulas_dias_31_08%2C_01_e_02_09.ipynb\" target=\"_parent\"><img src=\"https://colab.research.google.com/assets/colab-badge.svg\" alt=\"Open In Colab\"/></a>"
      ]
    },
    {
      "cell_type": "markdown",
      "metadata": {
        "_uuid": "b5f1939a8f04ac76d3defd0dd87b92c6525cfa89",
        "id": "b2DIbartjQQD",
        "colab_type": "text"
      },
      "source": [
        "# Introdução a Análise de Dados - Python e pandas"
      ]
    },
    {
      "cell_type": "markdown",
      "metadata": {
        "_uuid": "6606e28f9424e42edef714e60e2f70644fba4287",
        "id": "VWL2AIljjQQE",
        "colab_type": "text"
      },
      "source": [
        "# O que é o pandas?\n",
        "\n",
        "O `pandas` é uma biblioteca de análise de dados gratuita e de código aberto para Python, que é a linguagem de programação mais popular da atualidade segundo o site `StackOverflow` \n",
        "\n",
        "Com o `Python` e o `pandas` você pode manipular uma grande quantidade de dados de forma muito rápida e eficiente estando em um ambiente de programação, o que te dá poder para trabalhar de forma extremamente personalizada no seu problema."
      ]
    },
    {
      "cell_type": "markdown",
      "metadata": {
        "_uuid": "9e18feae80135d44edf46ec96a06912d8bffb375",
        "id": "xsM9EJ8_jQQF",
        "colab_type": "text"
      },
      "source": [
        "## O que vamos aprender neste caderno?\n",
        "\n",
        "Vamos aprender o básico de manipulação e visualização de dados para conseguirmos fazer por conta próprias as nossas próprias análises."
      ]
    },
    {
      "cell_type": "markdown",
      "metadata": {
        "_uuid": "6c746fde12b666b137092f911ac7a7b7f5349b70",
        "id": "zovcBTJ8jQQG",
        "colab_type": "text"
      },
      "source": [
        "## Dicas de Jupyter Notebook\n",
        "\n",
        "Este programa que estamos usando no navegado se chama Jupyter Notebook e é um interpretador de Python interativo, podemos digitar um comando de Python e apertar _Shift + Enter_ e esse comando é executado e seu resultado é impresso na tela.\n",
        "\n",
        "Existem alguns atalhos bastante úteis para trabalhar com Jupyter Notebook:\n",
        "    0. 'Esc' - Saí do modo edição da célula atual\n",
        "    1. 'Enter' - Edita a célula selecionada\n",
        "    2. 'Shift + Enter' - Executa a célula selecionada\n",
        "    3. 'A' - Adiciona uma nova célula acima da célula atual (não pode estar em modo de edição)\n",
        "    4. 'B' - Adiciona uma nova célula abaixo da célula atual (não pode estar em modo de edição) \n",
        "    5. 'X' - Deleta a célula selecionada (não pode estar em modo de edição)\n",
        "    6. 'Z' - Desfaz a deleção de uma célula (não pode estar em modo de edição)\n",
        "    7. 'Ctrl + Z' - Desfaz as últimas edições\n",
        "    8. 'Ctrl + Shift + Z' - Refaz o último comando de desfazer\n",
        "    9. 'H' - Abre um arquivo de ajuda com todos os atalhos (não pode estar em modo de edição)\n",
        "    10. 'Tab' - Faz sugestões para completar o código\n",
        "    11. '?função' - Mostra a documentação de uma dada função\n",
        "    \n",
        "    (Modo de edição é verde ao lado, e modo de seleção é azul ao lado)"
      ]
    },
    {
      "cell_type": "markdown",
      "metadata": {
        "_uuid": "0f22f19a484bbf678b3f588c0290a33d33dc7232",
        "id": "u9BofX90jQQH",
        "colab_type": "text"
      },
      "source": [
        "# Iniciando com Python"
      ]
    },
    {
      "cell_type": "markdown",
      "metadata": {
        "_uuid": "380407839dc1af5b4984e2a712887e2aadf67641",
        "id": "L1XxjpIYjQQI",
        "colab_type": "text"
      },
      "source": [
        "As variáveis podem conter números `int` e `float`, textos `str`, valores booleanos `bool`, entre outras."
      ]
    },
    {
      "cell_type": "code",
      "metadata": {
        "trusted": false,
        "_uuid": "b1cb6dc3dc7473ea6e13509bbafb6a398531fb50",
        "id": "HdQy_9I6jQQJ",
        "colab_type": "code",
        "colab": {}
      },
      "source": [
        "x = 10"
      ],
      "execution_count": 1,
      "outputs": []
    },
    {
      "cell_type": "code",
      "metadata": {
        "trusted": false,
        "_uuid": "28dea5586c129f20d3027f709aedfb419d9d91f3",
        "id": "ncTd9QC1jQQR",
        "colab_type": "code",
        "colab": {
          "base_uri": "https://localhost:8080/",
          "height": 35
        },
        "outputId": "4caf4fd5-4e99-42b6-d981-b64027240f21"
      },
      "source": [
        "x"
      ],
      "execution_count": 2,
      "outputs": [
        {
          "output_type": "execute_result",
          "data": {
            "text/plain": [
              "10"
            ]
          },
          "metadata": {
            "tags": []
          },
          "execution_count": 2
        }
      ]
    },
    {
      "cell_type": "code",
      "metadata": {
        "trusted": false,
        "_uuid": "8ec7d4e9ad7c2365c06df28f747e80243c520013",
        "id": "fV13v_snjQQY",
        "colab_type": "code",
        "colab": {}
      },
      "source": [
        "y = 5"
      ],
      "execution_count": 3,
      "outputs": []
    },
    {
      "cell_type": "code",
      "metadata": {
        "trusted": false,
        "_uuid": "825b54c72be9069778e02dbdf2b7e015bfda0d33",
        "id": "N21JHoIejQQe",
        "colab_type": "code",
        "colab": {
          "base_uri": "https://localhost:8080/",
          "height": 35
        },
        "outputId": "f3c91b85-0fec-432d-ab18-47bbf0f0a13e"
      },
      "source": [
        "x + y "
      ],
      "execution_count": 4,
      "outputs": [
        {
          "output_type": "execute_result",
          "data": {
            "text/plain": [
              "15"
            ]
          },
          "metadata": {
            "tags": []
          },
          "execution_count": 4
        }
      ]
    },
    {
      "cell_type": "code",
      "metadata": {
        "trusted": false,
        "_uuid": "bc9e377b17b911731327b5072b995f014a1156cc",
        "id": "R3mG8AfrjQQj",
        "colab_type": "code",
        "colab": {}
      },
      "source": [
        "nome = 'José'"
      ],
      "execution_count": 5,
      "outputs": []
    },
    {
      "cell_type": "code",
      "metadata": {
        "trusted": false,
        "_uuid": "86bdf570f930a4997d0b0363ef7d8dc04c95c893",
        "id": "sap9CHV_jQQn",
        "colab_type": "code",
        "colab": {}
      },
      "source": [
        "sobrenome = 'da Silva'"
      ],
      "execution_count": 6,
      "outputs": []
    },
    {
      "cell_type": "code",
      "metadata": {
        "trusted": false,
        "_uuid": "40dd08aa2b0b7b8ba5f8056545af85eabb35806c",
        "id": "202THhfpjQQs",
        "colab_type": "code",
        "colab": {}
      },
      "source": [
        "nome_completo = nome + ' ' + sobrenome"
      ],
      "execution_count": 7,
      "outputs": []
    },
    {
      "cell_type": "code",
      "metadata": {
        "trusted": false,
        "_uuid": "c4ef06da14bf703e9c7bc85c70cc3d6012874220",
        "id": "BhmOSaj1jQQ0",
        "colab_type": "code",
        "colab": {
          "base_uri": "https://localhost:8080/",
          "height": 35
        },
        "outputId": "4cb5f5be-bcb0-4533-fa28-bd539578d13e"
      },
      "source": [
        "nome_completo"
      ],
      "execution_count": 8,
      "outputs": [
        {
          "output_type": "execute_result",
          "data": {
            "application/vnd.google.colaboratory.intrinsic+json": {
              "type": "string"
            },
            "text/plain": [
              "'José da Silva'"
            ]
          },
          "metadata": {
            "tags": []
          },
          "execution_count": 8
        }
      ]
    },
    {
      "cell_type": "markdown",
      "metadata": {
        "_uuid": "6f8712eb3dc1e5fc1369512fdf6144396b51f9e5",
        "id": "6-7mmQqTjQQ5",
        "colab_type": "text"
      },
      "source": [
        "## `Exercícios: Python Básico`"
      ]
    },
    {
      "cell_type": "markdown",
      "metadata": {
        "_uuid": "493fd57be177ce094af80f7a7c609b9ca4dd82ec",
        "id": "nexuwLMwjQQ6",
        "colab_type": "text"
      },
      "source": [
        "1. Criar as variáveis `nome` e `idade` e atribuir valores a elas\n",
        "2. Juntar as variáveis por meio do comando: `nome + ' ' + idade`"
      ]
    },
    {
      "cell_type": "markdown",
      "metadata": {
        "_uuid": "6641b6e96f464c3e68b19e261cf00568d367c69d",
        "id": "l3O2kK8EjQQ7",
        "colab_type": "text"
      },
      "source": [
        "# Preparando o Ambiente\n",
        "\n",
        "Importando as bibliotecas que iremos usar no treinamento:"
      ]
    },
    {
      "cell_type": "code",
      "metadata": {
        "trusted": true,
        "_uuid": "7e90eb94a86238e357d5df95ae8a9235ba5158ec",
        "id": "9tUsepfKjQQ8",
        "colab_type": "code",
        "colab": {
          "base_uri": "https://localhost:8080/",
          "height": 74
        },
        "outputId": "7eaf080d-4ee4-4817-ee72-4ef08de2af01"
      },
      "source": [
        "import pandas as pd\n",
        "import seaborn as sns"
      ],
      "execution_count": 9,
      "outputs": [
        {
          "output_type": "stream",
          "text": [
            "/usr/local/lib/python3.6/dist-packages/statsmodels/tools/_testing.py:19: FutureWarning: pandas.util.testing is deprecated. Use the functions in the public API at pandas.testing instead.\n",
            "  import pandas.util.testing as tm\n"
          ],
          "name": "stderr"
        }
      ]
    },
    {
      "cell_type": "markdown",
      "metadata": {
        "_uuid": "089cdb846b72c7898f97050d59d5eeb6355b1576",
        "id": "dpbOnC-XjQRC",
        "colab_type": "text"
      },
      "source": [
        "Importando os dados a partir de um arquivo '<i>.csv</i>' contendo dados do IGM preparado especificamente para usarmos neste treinamento.\n",
        "\n",
        "Em nosso código esse arquivo ficará salvo com o nome de `igm`\n",
        "\n",
        "Esse arquivo foi construído a partir de uma série de colunas que compõe o IGM e também de notas do ENEM."
      ]
    },
    {
      "cell_type": "code",
      "metadata": {
        "trusted": true,
        "_uuid": "c1e7b43ff14d6789182060c88d9b07e92a24f1e6",
        "id": "jj5m3ycNjQRD",
        "colab_type": "code",
        "colab": {}
      },
      "source": [
        "igm = pd.read_csv('/content/igm_modificado (1).csv')"
      ],
      "execution_count": 12,
      "outputs": []
    },
    {
      "cell_type": "code",
      "metadata": {
        "id": "qSAVAFb1kRL2",
        "colab_type": "code",
        "colab": {
          "base_uri": "https://localhost:8080/",
          "height": 128
        },
        "outputId": "f710f460-3a27-4f6c-b1a1-3ba3c5ca151f"
      },
      "source": [
        "from google.colab import drive\n",
        "drive.mount('/content/drive')"
      ],
      "execution_count": 13,
      "outputs": [
        {
          "output_type": "stream",
          "text": [
            "Go to this URL in a browser: https://accounts.google.com/o/oauth2/auth?client_id=947318989803-6bn6qk8qdgf4n4g3pfee6491hc0brc4i.apps.googleusercontent.com&redirect_uri=urn%3aietf%3awg%3aoauth%3a2.0%3aoob&scope=email%20https%3a%2f%2fwww.googleapis.com%2fauth%2fdocs.test%20https%3a%2f%2fwww.googleapis.com%2fauth%2fdrive%20https%3a%2f%2fwww.googleapis.com%2fauth%2fdrive.photos.readonly%20https%3a%2f%2fwww.googleapis.com%2fauth%2fpeopleapi.readonly&response_type=code\n",
            "\n",
            "Enter your authorization code:\n",
            "··········\n",
            "Mounted at /content/drive\n"
          ],
          "name": "stdout"
        }
      ]
    },
    {
      "cell_type": "markdown",
      "metadata": {
        "_uuid": "66e76b3d08302cf33cb088f366040eb28249799a",
        "id": "2y8Fqvd1jQRH",
        "colab_type": "text"
      },
      "source": [
        "Temos uma variável chamada `igm` que está guardando algo, para descobrirmos basta digitar `igm` e apertar `Shift + Enter`:"
      ]
    },
    {
      "cell_type": "markdown",
      "metadata": {
        "_uuid": "7b05e99692e8717167fda9ea421a936c4f8df21f",
        "id": "wTULnvXPjQRI",
        "colab_type": "text"
      },
      "source": [
        "# Primeiro Contato com os Dados"
      ]
    },
    {
      "cell_type": "markdown",
      "metadata": {
        "_uuid": "ebef20b0d1d54bca79f81c5532e2f3fe534b8f34",
        "id": "IhA4bj2HjQRJ",
        "colab_type": "text"
      },
      "source": [
        "Uma das primeiras coisas a se fazer quando se pega um conjunto de dados novo é uma rápida visualização a fim de entender melhor o que tem dentro dele. "
      ]
    },
    {
      "cell_type": "code",
      "metadata": {
        "scrolled": true,
        "trusted": true,
        "_uuid": "3715bef2bc82dc88f5a83820d4d93dd80ae55f70",
        "id": "joVjRXhljQRK",
        "colab_type": "code",
        "colab": {
          "base_uri": "https://localhost:8080/",
          "height": 635
        },
        "outputId": "17029032-f77d-4e6a-d014-2db9e2294ce2"
      },
      "source": [
        "igm"
      ],
      "execution_count": 14,
      "outputs": [
        {
          "output_type": "execute_result",
          "data": {
            "text/html": [
              "<div>\n",
              "<style scoped>\n",
              "    .dataframe tbody tr th:only-of-type {\n",
              "        vertical-align: middle;\n",
              "    }\n",
              "\n",
              "    .dataframe tbody tr th {\n",
              "        vertical-align: top;\n",
              "    }\n",
              "\n",
              "    .dataframe thead th {\n",
              "        text-align: right;\n",
              "    }\n",
              "</style>\n",
              "<table border=\"1\" class=\"dataframe\">\n",
              "  <thead>\n",
              "    <tr style=\"text-align: right;\">\n",
              "      <th></th>\n",
              "      <th>regiao</th>\n",
              "      <th>estado</th>\n",
              "      <th>municipio</th>\n",
              "      <th>codigo_mun</th>\n",
              "      <th>capital</th>\n",
              "      <th>porte</th>\n",
              "      <th>populacao</th>\n",
              "      <th>area</th>\n",
              "      <th>densidade_dem</th>\n",
              "      <th>pib</th>\n",
              "      <th>pib_pc</th>\n",
              "      <th>participacao_transf_receita</th>\n",
              "      <th>servidores</th>\n",
              "      <th>comissionados</th>\n",
              "      <th>comissionados_por_servidor</th>\n",
              "      <th>perc_pop_econ_ativa</th>\n",
              "      <th>taxa_empreendedorismo</th>\n",
              "      <th>anos_estudo_empreendedor</th>\n",
              "      <th>jornada_trabalho</th>\n",
              "      <th>gasto_pc_saude</th>\n",
              "      <th>hab_p_medico</th>\n",
              "      <th>exp_vida</th>\n",
              "      <th>gasto_pc_educacao</th>\n",
              "      <th>exp_anos_estudo</th>\n",
              "      <th>nota_ciencias</th>\n",
              "      <th>nota_humanas</th>\n",
              "      <th>nota_linguagem</th>\n",
              "      <th>nota_mat</th>\n",
              "      <th>nota_redacao</th>\n",
              "      <th>idhm</th>\n",
              "      <th>ranking_igm</th>\n",
              "      <th>indice_governanca</th>\n",
              "    </tr>\n",
              "  </thead>\n",
              "  <tbody>\n",
              "    <tr>\n",
              "      <th>0</th>\n",
              "      <td>SUDESTE</td>\n",
              "      <td>SP</td>\n",
              "      <td>ILHABELA</td>\n",
              "      <td>3520400</td>\n",
              "      <td>0</td>\n",
              "      <td>Pequeno porte 2</td>\n",
              "      <td>32,782</td>\n",
              "      <td>347.52</td>\n",
              "      <td>81.1</td>\n",
              "      <td>3.256712e+06</td>\n",
              "      <td>105112.86</td>\n",
              "      <td>77.0</td>\n",
              "      <td>1495.0</td>\n",
              "      <td>74.0</td>\n",
              "      <td>5%</td>\n",
              "      <td>1.18</td>\n",
              "      <td>0.22</td>\n",
              "      <td>8.436129</td>\n",
              "      <td>42.726231</td>\n",
              "      <td>1529.48</td>\n",
              "      <td>394.987500</td>\n",
              "      <td>75.56</td>\n",
              "      <td>1734.52</td>\n",
              "      <td>10.63</td>\n",
              "      <td>482.054348</td>\n",
              "      <td>541.226087</td>\n",
              "      <td>530.651111</td>\n",
              "      <td>507.952778</td>\n",
              "      <td>499.361111</td>\n",
              "      <td>0.747</td>\n",
              "      <td>1º</td>\n",
              "      <td>0.767</td>\n",
              "    </tr>\n",
              "    <tr>\n",
              "      <th>1</th>\n",
              "      <td>SUDESTE</td>\n",
              "      <td>SP</td>\n",
              "      <td>SANTANA DE PARNAIBA</td>\n",
              "      <td>3547304</td>\n",
              "      <td>0</td>\n",
              "      <td>Grande porte</td>\n",
              "      <td>129,261</td>\n",
              "      <td>179.95</td>\n",
              "      <td>604.7</td>\n",
              "      <td>7.373603e+06</td>\n",
              "      <td>60939.87</td>\n",
              "      <td>51.0</td>\n",
              "      <td>6157.0</td>\n",
              "      <td>587.0</td>\n",
              "      <td>10%</td>\n",
              "      <td>1.04</td>\n",
              "      <td>0.25</td>\n",
              "      <td>10.869492</td>\n",
              "      <td>42.542935</td>\n",
              "      <td>1017.67</td>\n",
              "      <td>400.728155</td>\n",
              "      <td>75.92</td>\n",
              "      <td>1704.93</td>\n",
              "      <td>10.01</td>\n",
              "      <td>483.997625</td>\n",
              "      <td>542.760422</td>\n",
              "      <td>535.765129</td>\n",
              "      <td>499.911091</td>\n",
              "      <td>547.506655</td>\n",
              "      <td>0.885</td>\n",
              "      <td>2º</td>\n",
              "      <td>0.759</td>\n",
              "    </tr>\n",
              "    <tr>\n",
              "      <th>2</th>\n",
              "      <td>SUL</td>\n",
              "      <td>SC</td>\n",
              "      <td>BOMBINHAS</td>\n",
              "      <td>4202453</td>\n",
              "      <td>0</td>\n",
              "      <td>Pequeno porte 1</td>\n",
              "      <td>18,052</td>\n",
              "      <td>35.92</td>\n",
              "      <td>398</td>\n",
              "      <td>3.773573e+05</td>\n",
              "      <td>23135.14</td>\n",
              "      <td>32.0</td>\n",
              "      <td>583.0</td>\n",
              "      <td>48.0</td>\n",
              "      <td>8%</td>\n",
              "      <td>1.09</td>\n",
              "      <td>0.32</td>\n",
              "      <td>8.836678</td>\n",
              "      <td>40.314335</td>\n",
              "      <td>830.70</td>\n",
              "      <td>1126.466667</td>\n",
              "      <td>76.86</td>\n",
              "      <td>1370.96</td>\n",
              "      <td>10.44</td>\n",
              "      <td>472.105607</td>\n",
              "      <td>541.949533</td>\n",
              "      <td>523.251923</td>\n",
              "      <td>474.506731</td>\n",
              "      <td>515.000000</td>\n",
              "      <td>0.807</td>\n",
              "      <td>3º</td>\n",
              "      <td>0.758</td>\n",
              "    </tr>\n",
              "    <tr>\n",
              "      <th>3</th>\n",
              "      <td>SUDESTE</td>\n",
              "      <td>SP</td>\n",
              "      <td>SAO BERNARDO DO CAMPO</td>\n",
              "      <td>3548708</td>\n",
              "      <td>0</td>\n",
              "      <td>Grande porte</td>\n",
              "      <td>822,242</td>\n",
              "      <td>409.53</td>\n",
              "      <td>1,869.40</td>\n",
              "      <td>4.766853e+07</td>\n",
              "      <td>59149.80</td>\n",
              "      <td>49.0</td>\n",
              "      <td>10673.0</td>\n",
              "      <td>611.0</td>\n",
              "      <td>6%</td>\n",
              "      <td>1.09</td>\n",
              "      <td>0.18</td>\n",
              "      <td>9.659424</td>\n",
              "      <td>42.620522</td>\n",
              "      <td>1113.74</td>\n",
              "      <td>2459.057576</td>\n",
              "      <td>76.65</td>\n",
              "      <td>770.79</td>\n",
              "      <td>10.22</td>\n",
              "      <td>489.241514</td>\n",
              "      <td>552.616190</td>\n",
              "      <td>546.173721</td>\n",
              "      <td>514.204358</td>\n",
              "      <td>557.668055</td>\n",
              "      <td>0.864</td>\n",
              "      <td>4º</td>\n",
              "      <td>0.756</td>\n",
              "    </tr>\n",
              "    <tr>\n",
              "      <th>4</th>\n",
              "      <td>CENTRO-OESTE</td>\n",
              "      <td>DF</td>\n",
              "      <td>BRASILIA</td>\n",
              "      <td>5300108</td>\n",
              "      <td>1</td>\n",
              "      <td>Grande porte</td>\n",
              "      <td>2,977,216</td>\n",
              "      <td>5,780.00</td>\n",
              "      <td>444.7</td>\n",
              "      <td>1.753628e+08</td>\n",
              "      <td>62859.43</td>\n",
              "      <td>35.0</td>\n",
              "      <td>119072.0</td>\n",
              "      <td>6288.0</td>\n",
              "      <td>5%</td>\n",
              "      <td>1.10</td>\n",
              "      <td>0.18</td>\n",
              "      <td>9.187700</td>\n",
              "      <td>39.546426</td>\n",
              "      <td>1982.45</td>\n",
              "      <td>572.880498</td>\n",
              "      <td>77.35</td>\n",
              "      <td>2077.49</td>\n",
              "      <td>9.87</td>\n",
              "      <td>493.514758</td>\n",
              "      <td>551.982498</td>\n",
              "      <td>538.366612</td>\n",
              "      <td>509.206006</td>\n",
              "      <td>567.991533</td>\n",
              "      <td>0.909</td>\n",
              "      <td>5º</td>\n",
              "      <td>0.736</td>\n",
              "    </tr>\n",
              "    <tr>\n",
              "      <th>...</th>\n",
              "      <td>...</td>\n",
              "      <td>...</td>\n",
              "      <td>...</td>\n",
              "      <td>...</td>\n",
              "      <td>...</td>\n",
              "      <td>...</td>\n",
              "      <td>...</td>\n",
              "      <td>...</td>\n",
              "      <td>...</td>\n",
              "      <td>...</td>\n",
              "      <td>...</td>\n",
              "      <td>...</td>\n",
              "      <td>...</td>\n",
              "      <td>...</td>\n",
              "      <td>...</td>\n",
              "      <td>...</td>\n",
              "      <td>...</td>\n",
              "      <td>...</td>\n",
              "      <td>...</td>\n",
              "      <td>...</td>\n",
              "      <td>...</td>\n",
              "      <td>...</td>\n",
              "      <td>...</td>\n",
              "      <td>...</td>\n",
              "      <td>...</td>\n",
              "      <td>...</td>\n",
              "      <td>...</td>\n",
              "      <td>...</td>\n",
              "      <td>...</td>\n",
              "      <td>...</td>\n",
              "      <td>...</td>\n",
              "      <td>...</td>\n",
              "    </tr>\n",
              "    <tr>\n",
              "      <th>5565</th>\n",
              "      <td>NORTE</td>\n",
              "      <td>TO</td>\n",
              "      <td>RIO DOS BOIS</td>\n",
              "      <td>1718709</td>\n",
              "      <td>0</td>\n",
              "      <td>Pequeno porte 1</td>\n",
              "      <td>2,787</td>\n",
              "      <td>845.07</td>\n",
              "      <td>3</td>\n",
              "      <td>2.713671e+04</td>\n",
              "      <td>9995.11</td>\n",
              "      <td>NaN</td>\n",
              "      <td>98.0</td>\n",
              "      <td>29.0</td>\n",
              "      <td>30%</td>\n",
              "      <td>0.83</td>\n",
              "      <td>0.23</td>\n",
              "      <td>5.928716</td>\n",
              "      <td>39.776672</td>\n",
              "      <td>NaN</td>\n",
              "      <td>1370.000000</td>\n",
              "      <td>72.69</td>\n",
              "      <td>NaN</td>\n",
              "      <td>9.26</td>\n",
              "      <td>450.613333</td>\n",
              "      <td>457.100000</td>\n",
              "      <td>473.128571</td>\n",
              "      <td>458.921429</td>\n",
              "      <td>494.285714</td>\n",
              "      <td>0.413</td>\n",
              "      <td>NaN</td>\n",
              "      <td>NaN</td>\n",
              "    </tr>\n",
              "    <tr>\n",
              "      <th>5566</th>\n",
              "      <td>NORTE</td>\n",
              "      <td>TO</td>\n",
              "      <td>AXIXA DO TOCANTINS</td>\n",
              "      <td>1702901</td>\n",
              "      <td>0</td>\n",
              "      <td>Pequeno porte 1</td>\n",
              "      <td>9,741</td>\n",
              "      <td>150.21</td>\n",
              "      <td>61.8</td>\n",
              "      <td>8.020545e+04</td>\n",
              "      <td>8326.98</td>\n",
              "      <td>NaN</td>\n",
              "      <td>429.0</td>\n",
              "      <td>56.0</td>\n",
              "      <td>13%</td>\n",
              "      <td>0.77</td>\n",
              "      <td>0.30</td>\n",
              "      <td>5.406017</td>\n",
              "      <td>39.214932</td>\n",
              "      <td>NaN</td>\n",
              "      <td>1933.800000</td>\n",
              "      <td>69.00</td>\n",
              "      <td>NaN</td>\n",
              "      <td>10.11</td>\n",
              "      <td>437.360241</td>\n",
              "      <td>470.187952</td>\n",
              "      <td>463.166667</td>\n",
              "      <td>442.091358</td>\n",
              "      <td>444.197531</td>\n",
              "      <td>0.439</td>\n",
              "      <td>NaN</td>\n",
              "      <td>NaN</td>\n",
              "    </tr>\n",
              "    <tr>\n",
              "      <th>5567</th>\n",
              "      <td>NORTE</td>\n",
              "      <td>TO</td>\n",
              "      <td>FILADELFIA</td>\n",
              "      <td>1707702</td>\n",
              "      <td>0</td>\n",
              "      <td>Pequeno porte 1</td>\n",
              "      <td>8,871</td>\n",
              "      <td>1,988.08</td>\n",
              "      <td>4.3</td>\n",
              "      <td>7.850072e+04</td>\n",
              "      <td>8920.54</td>\n",
              "      <td>NaN</td>\n",
              "      <td>405.0</td>\n",
              "      <td>138.0</td>\n",
              "      <td>34%</td>\n",
              "      <td>0.70</td>\n",
              "      <td>0.18</td>\n",
              "      <td>5.519007</td>\n",
              "      <td>33.733080</td>\n",
              "      <td>NaN</td>\n",
              "      <td>1470.666667</td>\n",
              "      <td>72.52</td>\n",
              "      <td>NaN</td>\n",
              "      <td>9.38</td>\n",
              "      <td>431.231707</td>\n",
              "      <td>456.075610</td>\n",
              "      <td>453.890244</td>\n",
              "      <td>426.578049</td>\n",
              "      <td>399.024390</td>\n",
              "      <td>0.425</td>\n",
              "      <td>NaN</td>\n",
              "      <td>NaN</td>\n",
              "    </tr>\n",
              "    <tr>\n",
              "      <th>5568</th>\n",
              "      <td>NORTE</td>\n",
              "      <td>TO</td>\n",
              "      <td>PONTE ALTA DO TOCANTINS</td>\n",
              "      <td>1717909</td>\n",
              "      <td>0</td>\n",
              "      <td>Pequeno porte 1</td>\n",
              "      <td>7,872</td>\n",
              "      <td>6,491.13</td>\n",
              "      <td>1.1</td>\n",
              "      <td>5.914757e+04</td>\n",
              "      <td>7754.01</td>\n",
              "      <td>NaN</td>\n",
              "      <td>167.0</td>\n",
              "      <td>40.0</td>\n",
              "      <td>24%</td>\n",
              "      <td>0.72</td>\n",
              "      <td>0.28</td>\n",
              "      <td>6.794156</td>\n",
              "      <td>40.071482</td>\n",
              "      <td>NaN</td>\n",
              "      <td>3856.000000</td>\n",
              "      <td>71.72</td>\n",
              "      <td>NaN</td>\n",
              "      <td>9.07</td>\n",
              "      <td>443.876923</td>\n",
              "      <td>480.917308</td>\n",
              "      <td>465.538462</td>\n",
              "      <td>437.482692</td>\n",
              "      <td>441.153846</td>\n",
              "      <td>0.432</td>\n",
              "      <td>NaN</td>\n",
              "      <td>NaN</td>\n",
              "    </tr>\n",
              "    <tr>\n",
              "      <th>5569</th>\n",
              "      <td>NORTE</td>\n",
              "      <td>TO</td>\n",
              "      <td>SILVANOPOLIS</td>\n",
              "      <td>1720655</td>\n",
              "      <td>0</td>\n",
              "      <td>Pequeno porte 1</td>\n",
              "      <td>5,372</td>\n",
              "      <td>1,258.83</td>\n",
              "      <td>4</td>\n",
              "      <td>7.773486e+04</td>\n",
              "      <td>14697.46</td>\n",
              "      <td>NaN</td>\n",
              "      <td>150.0</td>\n",
              "      <td>19.0</td>\n",
              "      <td>13%</td>\n",
              "      <td>0.86</td>\n",
              "      <td>0.15</td>\n",
              "      <td>8.365326</td>\n",
              "      <td>41.886471</td>\n",
              "      <td>NaN</td>\n",
              "      <td>1772.666667</td>\n",
              "      <td>73.84</td>\n",
              "      <td>NaN</td>\n",
              "      <td>10.36</td>\n",
              "      <td>433.378571</td>\n",
              "      <td>459.132143</td>\n",
              "      <td>469.714286</td>\n",
              "      <td>407.050000</td>\n",
              "      <td>452.857143</td>\n",
              "      <td>NaN</td>\n",
              "      <td>NaN</td>\n",
              "      <td>NaN</td>\n",
              "    </tr>\n",
              "  </tbody>\n",
              "</table>\n",
              "<p>5570 rows × 32 columns</p>\n",
              "</div>"
            ],
            "text/plain": [
              "            regiao estado  ... ranking_igm  indice_governanca\n",
              "0          SUDESTE     SP  ...          1º              0.767\n",
              "1          SUDESTE     SP  ...          2º              0.759\n",
              "2              SUL     SC  ...          3º              0.758\n",
              "3          SUDESTE     SP  ...          4º              0.756\n",
              "4     CENTRO-OESTE     DF  ...          5º              0.736\n",
              "...            ...    ...  ...         ...                ...\n",
              "5565         NORTE     TO  ...         NaN                NaN\n",
              "5566         NORTE     TO  ...         NaN                NaN\n",
              "5567         NORTE     TO  ...         NaN                NaN\n",
              "5568         NORTE     TO  ...         NaN                NaN\n",
              "5569         NORTE     TO  ...         NaN                NaN\n",
              "\n",
              "[5570 rows x 32 columns]"
            ]
          },
          "metadata": {
            "tags": []
          },
          "execution_count": 14
        }
      ]
    },
    {
      "cell_type": "markdown",
      "metadata": {
        "_uuid": "8fb95692a15c97298ba829b0feb0da24b6e74589",
        "id": "VHwG8CoojQRP",
        "colab_type": "text"
      },
      "source": [
        "## Dissecando o DataFrame (Tipo de Dados)"
      ]
    },
    {
      "cell_type": "markdown",
      "metadata": {
        "_uuid": "33ae81f59317b6a5b98ee70cf48c3d02867e7f3d",
        "id": "dyxECPUejQRQ",
        "colab_type": "text"
      },
      "source": [
        "A visualização do DataFrame acima é composta pelos seguintes elementos:\n",
        "    \n",
        "    1. Index\n",
        "    2. Elemento do Index\n",
        "    3. Colunas\n",
        "    4. Nome da coluna (pode ter espaço, acento e etc, mas nome curto, simples, e representativo facilita o código)\n",
        "    5. '...'\n",
        "    6. Células (Dados)\n",
        "    7. NaNs"
      ]
    },
    {
      "cell_type": "markdown",
      "metadata": {
        "_uuid": "d2d2c15f27f325990378d937be4b8447ca037f2e",
        "id": "Zdphn9cGjQRR",
        "colab_type": "text"
      },
      "source": [
        "Para vermos apenas uma pequena parte, temos o comando `.head()` irá mostrar por padrão as 5 primeiras linhas do que existe dentro de um conjunto de dados dentro de um objeto do pandas."
      ]
    },
    {
      "cell_type": "code",
      "metadata": {
        "trusted": true,
        "_uuid": "8e8a47bb97c8de1b999716c63ed039842ab8cb82",
        "id": "1FYyrPGZjQRS",
        "colab_type": "code",
        "colab": {
          "base_uri": "https://localhost:8080/",
          "height": 339
        },
        "outputId": "ba6504f0-2425-431f-b523-5bc4f057e767"
      },
      "source": [
        "igm.head()"
      ],
      "execution_count": 28,
      "outputs": [
        {
          "output_type": "execute_result",
          "data": {
            "text/html": [
              "<div>\n",
              "<style scoped>\n",
              "    .dataframe tbody tr th:only-of-type {\n",
              "        vertical-align: middle;\n",
              "    }\n",
              "\n",
              "    .dataframe tbody tr th {\n",
              "        vertical-align: top;\n",
              "    }\n",
              "\n",
              "    .dataframe thead th {\n",
              "        text-align: right;\n",
              "    }\n",
              "</style>\n",
              "<table border=\"1\" class=\"dataframe\">\n",
              "  <thead>\n",
              "    <tr style=\"text-align: right;\">\n",
              "      <th></th>\n",
              "      <th>regiao</th>\n",
              "      <th>estado</th>\n",
              "      <th>municipio</th>\n",
              "      <th>codigo_mun</th>\n",
              "      <th>capital</th>\n",
              "      <th>porte</th>\n",
              "      <th>populacao</th>\n",
              "      <th>area</th>\n",
              "      <th>densidade_dem</th>\n",
              "      <th>pib</th>\n",
              "      <th>pib_pc</th>\n",
              "      <th>participacao_transf_receita</th>\n",
              "      <th>servidores</th>\n",
              "      <th>comissionados</th>\n",
              "      <th>comissionados_por_servidor</th>\n",
              "      <th>perc_pop_econ_ativa</th>\n",
              "      <th>taxa_empreendedorismo</th>\n",
              "      <th>anos_estudo_empreendedor</th>\n",
              "      <th>jornada_trabalho</th>\n",
              "      <th>gasto_pc_saude</th>\n",
              "      <th>hab_p_medico</th>\n",
              "      <th>exp_vida</th>\n",
              "      <th>gasto_pc_educacao</th>\n",
              "      <th>exp_anos_estudo</th>\n",
              "      <th>nota_ciencias</th>\n",
              "      <th>nota_humanas</th>\n",
              "      <th>nota_linguagem</th>\n",
              "      <th>nota_mat</th>\n",
              "      <th>nota_redacao</th>\n",
              "      <th>idhm</th>\n",
              "      <th>ranking_igm</th>\n",
              "      <th>indice_governanca</th>\n",
              "    </tr>\n",
              "  </thead>\n",
              "  <tbody>\n",
              "    <tr>\n",
              "      <th>0</th>\n",
              "      <td>SUDESTE</td>\n",
              "      <td>SP</td>\n",
              "      <td>ILHABELA</td>\n",
              "      <td>3520400</td>\n",
              "      <td>0</td>\n",
              "      <td>Pequeno porte 2</td>\n",
              "      <td>32,782</td>\n",
              "      <td>347.52</td>\n",
              "      <td>81.1</td>\n",
              "      <td>3.256712e+06</td>\n",
              "      <td>105112.86</td>\n",
              "      <td>77.0</td>\n",
              "      <td>1495.0</td>\n",
              "      <td>74.0</td>\n",
              "      <td>5%</td>\n",
              "      <td>1.18</td>\n",
              "      <td>0.22</td>\n",
              "      <td>8.436129</td>\n",
              "      <td>42.726231</td>\n",
              "      <td>1529.48</td>\n",
              "      <td>394.987500</td>\n",
              "      <td>75.56</td>\n",
              "      <td>1734.52</td>\n",
              "      <td>10.63</td>\n",
              "      <td>482.054348</td>\n",
              "      <td>541.226087</td>\n",
              "      <td>530.651111</td>\n",
              "      <td>507.952778</td>\n",
              "      <td>499.361111</td>\n",
              "      <td>0.747</td>\n",
              "      <td>1º</td>\n",
              "      <td>0.767</td>\n",
              "    </tr>\n",
              "    <tr>\n",
              "      <th>1</th>\n",
              "      <td>SUDESTE</td>\n",
              "      <td>SP</td>\n",
              "      <td>SANTANA DE PARNAIBA</td>\n",
              "      <td>3547304</td>\n",
              "      <td>0</td>\n",
              "      <td>Grande porte</td>\n",
              "      <td>129,261</td>\n",
              "      <td>179.95</td>\n",
              "      <td>604.7</td>\n",
              "      <td>7.373603e+06</td>\n",
              "      <td>60939.87</td>\n",
              "      <td>51.0</td>\n",
              "      <td>6157.0</td>\n",
              "      <td>587.0</td>\n",
              "      <td>10%</td>\n",
              "      <td>1.04</td>\n",
              "      <td>0.25</td>\n",
              "      <td>10.869492</td>\n",
              "      <td>42.542935</td>\n",
              "      <td>1017.67</td>\n",
              "      <td>400.728155</td>\n",
              "      <td>75.92</td>\n",
              "      <td>1704.93</td>\n",
              "      <td>10.01</td>\n",
              "      <td>483.997625</td>\n",
              "      <td>542.760422</td>\n",
              "      <td>535.765129</td>\n",
              "      <td>499.911091</td>\n",
              "      <td>547.506655</td>\n",
              "      <td>0.885</td>\n",
              "      <td>2º</td>\n",
              "      <td>0.759</td>\n",
              "    </tr>\n",
              "    <tr>\n",
              "      <th>2</th>\n",
              "      <td>SUL</td>\n",
              "      <td>SC</td>\n",
              "      <td>BOMBINHAS</td>\n",
              "      <td>4202453</td>\n",
              "      <td>0</td>\n",
              "      <td>Pequeno porte 1</td>\n",
              "      <td>18,052</td>\n",
              "      <td>35.92</td>\n",
              "      <td>398</td>\n",
              "      <td>3.773573e+05</td>\n",
              "      <td>23135.14</td>\n",
              "      <td>32.0</td>\n",
              "      <td>583.0</td>\n",
              "      <td>48.0</td>\n",
              "      <td>8%</td>\n",
              "      <td>1.09</td>\n",
              "      <td>0.32</td>\n",
              "      <td>8.836678</td>\n",
              "      <td>40.314335</td>\n",
              "      <td>830.70</td>\n",
              "      <td>1126.466667</td>\n",
              "      <td>76.86</td>\n",
              "      <td>1370.96</td>\n",
              "      <td>10.44</td>\n",
              "      <td>472.105607</td>\n",
              "      <td>541.949533</td>\n",
              "      <td>523.251923</td>\n",
              "      <td>474.506731</td>\n",
              "      <td>515.000000</td>\n",
              "      <td>0.807</td>\n",
              "      <td>3º</td>\n",
              "      <td>0.758</td>\n",
              "    </tr>\n",
              "    <tr>\n",
              "      <th>3</th>\n",
              "      <td>SUDESTE</td>\n",
              "      <td>SP</td>\n",
              "      <td>SAO BERNARDO DO CAMPO</td>\n",
              "      <td>3548708</td>\n",
              "      <td>0</td>\n",
              "      <td>Grande porte</td>\n",
              "      <td>822,242</td>\n",
              "      <td>409.53</td>\n",
              "      <td>1,869.40</td>\n",
              "      <td>4.766853e+07</td>\n",
              "      <td>59149.80</td>\n",
              "      <td>49.0</td>\n",
              "      <td>10673.0</td>\n",
              "      <td>611.0</td>\n",
              "      <td>6%</td>\n",
              "      <td>1.09</td>\n",
              "      <td>0.18</td>\n",
              "      <td>9.659424</td>\n",
              "      <td>42.620522</td>\n",
              "      <td>1113.74</td>\n",
              "      <td>2459.057576</td>\n",
              "      <td>76.65</td>\n",
              "      <td>770.79</td>\n",
              "      <td>10.22</td>\n",
              "      <td>489.241514</td>\n",
              "      <td>552.616190</td>\n",
              "      <td>546.173721</td>\n",
              "      <td>514.204358</td>\n",
              "      <td>557.668055</td>\n",
              "      <td>0.864</td>\n",
              "      <td>4º</td>\n",
              "      <td>0.756</td>\n",
              "    </tr>\n",
              "    <tr>\n",
              "      <th>4</th>\n",
              "      <td>CENTRO-OESTE</td>\n",
              "      <td>DF</td>\n",
              "      <td>BRASILIA</td>\n",
              "      <td>5300108</td>\n",
              "      <td>1</td>\n",
              "      <td>Grande porte</td>\n",
              "      <td>2,977,216</td>\n",
              "      <td>5,780.00</td>\n",
              "      <td>444.7</td>\n",
              "      <td>1.753628e+08</td>\n",
              "      <td>62859.43</td>\n",
              "      <td>35.0</td>\n",
              "      <td>119072.0</td>\n",
              "      <td>6288.0</td>\n",
              "      <td>5%</td>\n",
              "      <td>1.10</td>\n",
              "      <td>0.18</td>\n",
              "      <td>9.187700</td>\n",
              "      <td>39.546426</td>\n",
              "      <td>1982.45</td>\n",
              "      <td>572.880498</td>\n",
              "      <td>77.35</td>\n",
              "      <td>2077.49</td>\n",
              "      <td>9.87</td>\n",
              "      <td>493.514758</td>\n",
              "      <td>551.982498</td>\n",
              "      <td>538.366612</td>\n",
              "      <td>509.206006</td>\n",
              "      <td>567.991533</td>\n",
              "      <td>0.909</td>\n",
              "      <td>5º</td>\n",
              "      <td>0.736</td>\n",
              "    </tr>\n",
              "  </tbody>\n",
              "</table>\n",
              "</div>"
            ],
            "text/plain": [
              "         regiao estado  ... ranking_igm  indice_governanca\n",
              "0       SUDESTE     SP  ...          1º              0.767\n",
              "1       SUDESTE     SP  ...          2º              0.759\n",
              "2           SUL     SC  ...          3º              0.758\n",
              "3       SUDESTE     SP  ...          4º              0.756\n",
              "4  CENTRO-OESTE     DF  ...          5º              0.736\n",
              "\n",
              "[5 rows x 32 columns]"
            ]
          },
          "metadata": {
            "tags": []
          },
          "execution_count": 28
        }
      ]
    },
    {
      "cell_type": "markdown",
      "metadata": {
        "_uuid": "46b9bf473c630a704633b90ed70f45a3a5eb50e1",
        "id": "8Wckw7bKjQRZ",
        "colab_type": "text"
      },
      "source": [
        "## Outras formas de selecionar uma pequena amostra de dados:"
      ]
    },
    {
      "cell_type": "markdown",
      "metadata": {
        "_uuid": "1c8f9c21d0408c8a9caef175c336b6519b4fb7d7",
        "id": "GUyc3h3-jQRa",
        "colab_type": "text"
      },
      "source": [
        "O comando inverso ao `head()` é o `tail()`, que irá mostrar as 5 __últimas__ linhas do DataFrame por padrão:"
      ]
    },
    {
      "cell_type": "code",
      "metadata": {
        "scrolled": true,
        "trusted": true,
        "_uuid": "ac8f0bf13f6d9e08c5ff49f38d588f09f8098bb6",
        "id": "6q849rDUjQRb",
        "colab_type": "code",
        "colab": {
          "base_uri": "https://localhost:8080/",
          "height": 322
        },
        "outputId": "cd1c6b67-4b76-402e-9a5b-013e736fb726"
      },
      "source": [
        "igm.tail()"
      ],
      "execution_count": 29,
      "outputs": [
        {
          "output_type": "execute_result",
          "data": {
            "text/html": [
              "<div>\n",
              "<style scoped>\n",
              "    .dataframe tbody tr th:only-of-type {\n",
              "        vertical-align: middle;\n",
              "    }\n",
              "\n",
              "    .dataframe tbody tr th {\n",
              "        vertical-align: top;\n",
              "    }\n",
              "\n",
              "    .dataframe thead th {\n",
              "        text-align: right;\n",
              "    }\n",
              "</style>\n",
              "<table border=\"1\" class=\"dataframe\">\n",
              "  <thead>\n",
              "    <tr style=\"text-align: right;\">\n",
              "      <th></th>\n",
              "      <th>regiao</th>\n",
              "      <th>estado</th>\n",
              "      <th>municipio</th>\n",
              "      <th>codigo_mun</th>\n",
              "      <th>capital</th>\n",
              "      <th>porte</th>\n",
              "      <th>populacao</th>\n",
              "      <th>area</th>\n",
              "      <th>densidade_dem</th>\n",
              "      <th>pib</th>\n",
              "      <th>pib_pc</th>\n",
              "      <th>participacao_transf_receita</th>\n",
              "      <th>servidores</th>\n",
              "      <th>comissionados</th>\n",
              "      <th>comissionados_por_servidor</th>\n",
              "      <th>perc_pop_econ_ativa</th>\n",
              "      <th>taxa_empreendedorismo</th>\n",
              "      <th>anos_estudo_empreendedor</th>\n",
              "      <th>jornada_trabalho</th>\n",
              "      <th>gasto_pc_saude</th>\n",
              "      <th>hab_p_medico</th>\n",
              "      <th>exp_vida</th>\n",
              "      <th>gasto_pc_educacao</th>\n",
              "      <th>exp_anos_estudo</th>\n",
              "      <th>nota_ciencias</th>\n",
              "      <th>nota_humanas</th>\n",
              "      <th>nota_linguagem</th>\n",
              "      <th>nota_mat</th>\n",
              "      <th>nota_redacao</th>\n",
              "      <th>idhm</th>\n",
              "      <th>ranking_igm</th>\n",
              "      <th>indice_governanca</th>\n",
              "    </tr>\n",
              "  </thead>\n",
              "  <tbody>\n",
              "    <tr>\n",
              "      <th>5565</th>\n",
              "      <td>NORTE</td>\n",
              "      <td>TO</td>\n",
              "      <td>RIO DOS BOIS</td>\n",
              "      <td>1718709</td>\n",
              "      <td>0</td>\n",
              "      <td>Pequeno porte 1</td>\n",
              "      <td>2,787</td>\n",
              "      <td>845.07</td>\n",
              "      <td>3</td>\n",
              "      <td>27136.71</td>\n",
              "      <td>9995.11</td>\n",
              "      <td>NaN</td>\n",
              "      <td>98.0</td>\n",
              "      <td>29.0</td>\n",
              "      <td>30%</td>\n",
              "      <td>0.83</td>\n",
              "      <td>0.23</td>\n",
              "      <td>5.928716</td>\n",
              "      <td>39.776672</td>\n",
              "      <td>NaN</td>\n",
              "      <td>1370.000000</td>\n",
              "      <td>72.69</td>\n",
              "      <td>NaN</td>\n",
              "      <td>9.26</td>\n",
              "      <td>450.613333</td>\n",
              "      <td>457.100000</td>\n",
              "      <td>473.128571</td>\n",
              "      <td>458.921429</td>\n",
              "      <td>494.285714</td>\n",
              "      <td>0.413</td>\n",
              "      <td>NaN</td>\n",
              "      <td>NaN</td>\n",
              "    </tr>\n",
              "    <tr>\n",
              "      <th>5566</th>\n",
              "      <td>NORTE</td>\n",
              "      <td>TO</td>\n",
              "      <td>AXIXA DO TOCANTINS</td>\n",
              "      <td>1702901</td>\n",
              "      <td>0</td>\n",
              "      <td>Pequeno porte 1</td>\n",
              "      <td>9,741</td>\n",
              "      <td>150.21</td>\n",
              "      <td>61.8</td>\n",
              "      <td>80205.45</td>\n",
              "      <td>8326.98</td>\n",
              "      <td>NaN</td>\n",
              "      <td>429.0</td>\n",
              "      <td>56.0</td>\n",
              "      <td>13%</td>\n",
              "      <td>0.77</td>\n",
              "      <td>0.30</td>\n",
              "      <td>5.406017</td>\n",
              "      <td>39.214932</td>\n",
              "      <td>NaN</td>\n",
              "      <td>1933.800000</td>\n",
              "      <td>69.00</td>\n",
              "      <td>NaN</td>\n",
              "      <td>10.11</td>\n",
              "      <td>437.360241</td>\n",
              "      <td>470.187952</td>\n",
              "      <td>463.166667</td>\n",
              "      <td>442.091358</td>\n",
              "      <td>444.197531</td>\n",
              "      <td>0.439</td>\n",
              "      <td>NaN</td>\n",
              "      <td>NaN</td>\n",
              "    </tr>\n",
              "    <tr>\n",
              "      <th>5567</th>\n",
              "      <td>NORTE</td>\n",
              "      <td>TO</td>\n",
              "      <td>FILADELFIA</td>\n",
              "      <td>1707702</td>\n",
              "      <td>0</td>\n",
              "      <td>Pequeno porte 1</td>\n",
              "      <td>8,871</td>\n",
              "      <td>1,988.08</td>\n",
              "      <td>4.3</td>\n",
              "      <td>78500.72</td>\n",
              "      <td>8920.54</td>\n",
              "      <td>NaN</td>\n",
              "      <td>405.0</td>\n",
              "      <td>138.0</td>\n",
              "      <td>34%</td>\n",
              "      <td>0.70</td>\n",
              "      <td>0.18</td>\n",
              "      <td>5.519007</td>\n",
              "      <td>33.733080</td>\n",
              "      <td>NaN</td>\n",
              "      <td>1470.666667</td>\n",
              "      <td>72.52</td>\n",
              "      <td>NaN</td>\n",
              "      <td>9.38</td>\n",
              "      <td>431.231707</td>\n",
              "      <td>456.075610</td>\n",
              "      <td>453.890244</td>\n",
              "      <td>426.578049</td>\n",
              "      <td>399.024390</td>\n",
              "      <td>0.425</td>\n",
              "      <td>NaN</td>\n",
              "      <td>NaN</td>\n",
              "    </tr>\n",
              "    <tr>\n",
              "      <th>5568</th>\n",
              "      <td>NORTE</td>\n",
              "      <td>TO</td>\n",
              "      <td>PONTE ALTA DO TOCANTINS</td>\n",
              "      <td>1717909</td>\n",
              "      <td>0</td>\n",
              "      <td>Pequeno porte 1</td>\n",
              "      <td>7,872</td>\n",
              "      <td>6,491.13</td>\n",
              "      <td>1.1</td>\n",
              "      <td>59147.57</td>\n",
              "      <td>7754.01</td>\n",
              "      <td>NaN</td>\n",
              "      <td>167.0</td>\n",
              "      <td>40.0</td>\n",
              "      <td>24%</td>\n",
              "      <td>0.72</td>\n",
              "      <td>0.28</td>\n",
              "      <td>6.794156</td>\n",
              "      <td>40.071482</td>\n",
              "      <td>NaN</td>\n",
              "      <td>3856.000000</td>\n",
              "      <td>71.72</td>\n",
              "      <td>NaN</td>\n",
              "      <td>9.07</td>\n",
              "      <td>443.876923</td>\n",
              "      <td>480.917308</td>\n",
              "      <td>465.538462</td>\n",
              "      <td>437.482692</td>\n",
              "      <td>441.153846</td>\n",
              "      <td>0.432</td>\n",
              "      <td>NaN</td>\n",
              "      <td>NaN</td>\n",
              "    </tr>\n",
              "    <tr>\n",
              "      <th>5569</th>\n",
              "      <td>NORTE</td>\n",
              "      <td>TO</td>\n",
              "      <td>SILVANOPOLIS</td>\n",
              "      <td>1720655</td>\n",
              "      <td>0</td>\n",
              "      <td>Pequeno porte 1</td>\n",
              "      <td>5,372</td>\n",
              "      <td>1,258.83</td>\n",
              "      <td>4</td>\n",
              "      <td>77734.86</td>\n",
              "      <td>14697.46</td>\n",
              "      <td>NaN</td>\n",
              "      <td>150.0</td>\n",
              "      <td>19.0</td>\n",
              "      <td>13%</td>\n",
              "      <td>0.86</td>\n",
              "      <td>0.15</td>\n",
              "      <td>8.365326</td>\n",
              "      <td>41.886471</td>\n",
              "      <td>NaN</td>\n",
              "      <td>1772.666667</td>\n",
              "      <td>73.84</td>\n",
              "      <td>NaN</td>\n",
              "      <td>10.36</td>\n",
              "      <td>433.378571</td>\n",
              "      <td>459.132143</td>\n",
              "      <td>469.714286</td>\n",
              "      <td>407.050000</td>\n",
              "      <td>452.857143</td>\n",
              "      <td>NaN</td>\n",
              "      <td>NaN</td>\n",
              "      <td>NaN</td>\n",
              "    </tr>\n",
              "  </tbody>\n",
              "</table>\n",
              "</div>"
            ],
            "text/plain": [
              "     regiao estado  ... ranking_igm  indice_governanca\n",
              "5565  NORTE     TO  ...         NaN                NaN\n",
              "5566  NORTE     TO  ...         NaN                NaN\n",
              "5567  NORTE     TO  ...         NaN                NaN\n",
              "5568  NORTE     TO  ...         NaN                NaN\n",
              "5569  NORTE     TO  ...         NaN                NaN\n",
              "\n",
              "[5 rows x 32 columns]"
            ]
          },
          "metadata": {
            "tags": []
          },
          "execution_count": 29
        }
      ]
    },
    {
      "cell_type": "markdown",
      "metadata": {
        "_uuid": "a6edef2132d69e044403e4d1f9b10b97653765d9",
        "id": "utEznYzejQRf",
        "colab_type": "text"
      },
      "source": [
        "Apesar da convenção no Python ser utilizar o `.head()` ou o `.tail()` para olhar um DataFrame novo, algo muito mais inteligente de se fazer para ter uma ideia representativa do DataFrame é utilizar o `sample(5)`, que seleciona 5 linhas aleatórias do seu `DataFrame`. Se você executar o comando algumas vezes vai obter resultados diferentes a cada iteração."
      ]
    },
    {
      "cell_type": "code",
      "metadata": {
        "trusted": true,
        "_uuid": "23abcb30b3f89f18a2bd470e61c13ca5fc0353df",
        "id": "TqKZBj-2jQRf",
        "colab_type": "code",
        "colab": {
          "base_uri": "https://localhost:8080/",
          "height": 322
        },
        "outputId": "ba5232ed-f92f-4bd9-b5ea-b6253a39ef97"
      },
      "source": [
        "igm.sample(5)"
      ],
      "execution_count": 27,
      "outputs": [
        {
          "output_type": "execute_result",
          "data": {
            "text/html": [
              "<div>\n",
              "<style scoped>\n",
              "    .dataframe tbody tr th:only-of-type {\n",
              "        vertical-align: middle;\n",
              "    }\n",
              "\n",
              "    .dataframe tbody tr th {\n",
              "        vertical-align: top;\n",
              "    }\n",
              "\n",
              "    .dataframe thead th {\n",
              "        text-align: right;\n",
              "    }\n",
              "</style>\n",
              "<table border=\"1\" class=\"dataframe\">\n",
              "  <thead>\n",
              "    <tr style=\"text-align: right;\">\n",
              "      <th></th>\n",
              "      <th>regiao</th>\n",
              "      <th>estado</th>\n",
              "      <th>municipio</th>\n",
              "      <th>codigo_mun</th>\n",
              "      <th>capital</th>\n",
              "      <th>porte</th>\n",
              "      <th>populacao</th>\n",
              "      <th>area</th>\n",
              "      <th>densidade_dem</th>\n",
              "      <th>pib</th>\n",
              "      <th>pib_pc</th>\n",
              "      <th>participacao_transf_receita</th>\n",
              "      <th>servidores</th>\n",
              "      <th>comissionados</th>\n",
              "      <th>comissionados_por_servidor</th>\n",
              "      <th>perc_pop_econ_ativa</th>\n",
              "      <th>taxa_empreendedorismo</th>\n",
              "      <th>anos_estudo_empreendedor</th>\n",
              "      <th>jornada_trabalho</th>\n",
              "      <th>gasto_pc_saude</th>\n",
              "      <th>hab_p_medico</th>\n",
              "      <th>exp_vida</th>\n",
              "      <th>gasto_pc_educacao</th>\n",
              "      <th>exp_anos_estudo</th>\n",
              "      <th>nota_ciencias</th>\n",
              "      <th>nota_humanas</th>\n",
              "      <th>nota_linguagem</th>\n",
              "      <th>nota_mat</th>\n",
              "      <th>nota_redacao</th>\n",
              "      <th>idhm</th>\n",
              "      <th>ranking_igm</th>\n",
              "      <th>indice_governanca</th>\n",
              "    </tr>\n",
              "  </thead>\n",
              "  <tbody>\n",
              "    <tr>\n",
              "      <th>606</th>\n",
              "      <td>SUL</td>\n",
              "      <td>PR</td>\n",
              "      <td>NOVA AMERICA DA COLINA</td>\n",
              "      <td>4116604</td>\n",
              "      <td>0</td>\n",
              "      <td>Pequeno porte 1</td>\n",
              "      <td>3,549</td>\n",
              "      <td>129.48</td>\n",
              "      <td>26.9</td>\n",
              "      <td>62263.41</td>\n",
              "      <td>17489.72</td>\n",
              "      <td>89.0</td>\n",
              "      <td>176.0</td>\n",
              "      <td>31.0</td>\n",
              "      <td>18%</td>\n",
              "      <td>0.98</td>\n",
              "      <td>0.16</td>\n",
              "      <td>7.166063</td>\n",
              "      <td>44.782067</td>\n",
              "      <td>805.81</td>\n",
              "      <td>711.200000</td>\n",
              "      <td>73.53</td>\n",
              "      <td>876.74</td>\n",
              "      <td>11.87</td>\n",
              "      <td>457.820000</td>\n",
              "      <td>520.390000</td>\n",
              "      <td>497.685000</td>\n",
              "      <td>484.125000</td>\n",
              "      <td>507.000000</td>\n",
              "      <td>0.609</td>\n",
              "      <td>607º</td>\n",
              "      <td>0.582</td>\n",
              "    </tr>\n",
              "    <tr>\n",
              "      <th>1833</th>\n",
              "      <td>CENTRO-OESTE</td>\n",
              "      <td>GO</td>\n",
              "      <td>PETROLINA DE GOIAS</td>\n",
              "      <td>5216809</td>\n",
              "      <td>0</td>\n",
              "      <td>Pequeno porte 1</td>\n",
              "      <td>10,548</td>\n",
              "      <td>531.3</td>\n",
              "      <td>19.4</td>\n",
              "      <td>104229.72</td>\n",
              "      <td>9884.28</td>\n",
              "      <td>76.0</td>\n",
              "      <td>302.0</td>\n",
              "      <td>51.0</td>\n",
              "      <td>17%</td>\n",
              "      <td>1.00</td>\n",
              "      <td>0.31</td>\n",
              "      <td>6.802837</td>\n",
              "      <td>49.645722</td>\n",
              "      <td>425.25</td>\n",
              "      <td>2636.500000</td>\n",
              "      <td>75.03</td>\n",
              "      <td>482.49</td>\n",
              "      <td>10.00</td>\n",
              "      <td>460.356522</td>\n",
              "      <td>513.969565</td>\n",
              "      <td>504.095652</td>\n",
              "      <td>459.393478</td>\n",
              "      <td>486.086957</td>\n",
              "      <td>0.642</td>\n",
              "      <td>1834º</td>\n",
              "      <td>0.489</td>\n",
              "    </tr>\n",
              "    <tr>\n",
              "      <th>4281</th>\n",
              "      <td>SUDESTE</td>\n",
              "      <td>MG</td>\n",
              "      <td>SAO JOAO DO PARAISO</td>\n",
              "      <td>3162708</td>\n",
              "      <td>0</td>\n",
              "      <td>Pequeno porte 2</td>\n",
              "      <td>23,630</td>\n",
              "      <td>1,925.58</td>\n",
              "      <td>11.6</td>\n",
              "      <td>144920.53</td>\n",
              "      <td>6218.96</td>\n",
              "      <td>NaN</td>\n",
              "      <td>610.0</td>\n",
              "      <td>25.0</td>\n",
              "      <td>4%</td>\n",
              "      <td>1.10</td>\n",
              "      <td>0.17</td>\n",
              "      <td>3.848569</td>\n",
              "      <td>37.728135</td>\n",
              "      <td>NaN</td>\n",
              "      <td>NaN</td>\n",
              "      <td>73.46</td>\n",
              "      <td>NaN</td>\n",
              "      <td>8.73</td>\n",
              "      <td>460.835714</td>\n",
              "      <td>513.987143</td>\n",
              "      <td>516.017730</td>\n",
              "      <td>475.522695</td>\n",
              "      <td>515.602837</td>\n",
              "      <td>0.411</td>\n",
              "      <td>NaN</td>\n",
              "      <td>NaN</td>\n",
              "    </tr>\n",
              "    <tr>\n",
              "      <th>1299</th>\n",
              "      <td>SUL</td>\n",
              "      <td>PR</td>\n",
              "      <td>GUAPOREMA</td>\n",
              "      <td>4109104</td>\n",
              "      <td>0</td>\n",
              "      <td>Pequeno porte 1</td>\n",
              "      <td>2,291</td>\n",
              "      <td>201.15</td>\n",
              "      <td>11.1</td>\n",
              "      <td>46552.37</td>\n",
              "      <td>20337.42</td>\n",
              "      <td>86.0</td>\n",
              "      <td>179.0</td>\n",
              "      <td>5.0</td>\n",
              "      <td>3%</td>\n",
              "      <td>1.04</td>\n",
              "      <td>0.12</td>\n",
              "      <td>9.107353</td>\n",
              "      <td>45.003365</td>\n",
              "      <td>1081.17</td>\n",
              "      <td>1145.000000</td>\n",
              "      <td>73.47</td>\n",
              "      <td>1134.65</td>\n",
              "      <td>11.40</td>\n",
              "      <td>442.918182</td>\n",
              "      <td>501.554545</td>\n",
              "      <td>491.190909</td>\n",
              "      <td>429.318182</td>\n",
              "      <td>434.545455</td>\n",
              "      <td>0.659</td>\n",
              "      <td>1300º</td>\n",
              "      <td>0.531</td>\n",
              "    </tr>\n",
              "    <tr>\n",
              "      <th>2842</th>\n",
              "      <td>NORTE</td>\n",
              "      <td>RO</td>\n",
              "      <td>GUAJARA-MIRIM</td>\n",
              "      <td>1100106</td>\n",
              "      <td>0</td>\n",
              "      <td>Pequeno porte 2</td>\n",
              "      <td>47,048</td>\n",
              "      <td>24,855.72</td>\n",
              "      <td>1.7</td>\n",
              "      <td>767599.93</td>\n",
              "      <td>16774.11</td>\n",
              "      <td>81.0</td>\n",
              "      <td>995.0</td>\n",
              "      <td>98.0</td>\n",
              "      <td>10%</td>\n",
              "      <td>0.81</td>\n",
              "      <td>0.26</td>\n",
              "      <td>6.476018</td>\n",
              "      <td>37.050976</td>\n",
              "      <td>429.06</td>\n",
              "      <td>1050.068182</td>\n",
              "      <td>74.39</td>\n",
              "      <td>397.59</td>\n",
              "      <td>8.17</td>\n",
              "      <td>451.061630</td>\n",
              "      <td>497.221869</td>\n",
              "      <td>490.117382</td>\n",
              "      <td>448.375460</td>\n",
              "      <td>469.856851</td>\n",
              "      <td>0.511</td>\n",
              "      <td>2843º</td>\n",
              "      <td>0.403</td>\n",
              "    </tr>\n",
              "  </tbody>\n",
              "</table>\n",
              "</div>"
            ],
            "text/plain": [
              "            regiao estado  ... ranking_igm  indice_governanca\n",
              "606            SUL     PR  ...        607º              0.582\n",
              "1833  CENTRO-OESTE     GO  ...       1834º              0.489\n",
              "4281       SUDESTE     MG  ...         NaN                NaN\n",
              "1299           SUL     PR  ...       1300º              0.531\n",
              "2842         NORTE     RO  ...       2843º              0.403\n",
              "\n",
              "[5 rows x 32 columns]"
            ]
          },
          "metadata": {
            "tags": []
          },
          "execution_count": 27
        }
      ]
    },
    {
      "cell_type": "markdown",
      "metadata": {
        "_uuid": "80451fe4534d1e5b34cf3daa6491b1246410b1a2",
        "id": "SWjQhqi4jQRk",
        "colab_type": "text"
      },
      "source": [
        "## Melhorando a visualização da tabela"
      ]
    },
    {
      "cell_type": "markdown",
      "metadata": {
        "_uuid": "3ed3637dd43b84972e155f0821b6c829ca9b1cde",
        "id": "L3Ezhpd8jQRl",
        "colab_type": "text"
      },
      "source": [
        "Um truque para visualizar melhor os dados é invertendo as linhas pelas colunas (matrix transposta), para isso basta colocar um `.T` depois do nosso comando que gera uma visualização de DataFrame."
      ]
    },
    {
      "cell_type": "markdown",
      "metadata": {
        "_uuid": "4e3cc1dcaf1b62fb877d3de6024ff309803b1aa3",
        "id": "lyMSo-lajQRm",
        "colab_type": "text"
      },
      "source": [
        "## Encadeamento de funcionalidades"
      ]
    },
    {
      "cell_type": "markdown",
      "metadata": {
        "_uuid": "9ea2bf2735c49dc07c56cb89acf4c448165eea5c",
        "id": "WSAuydW_jQRn",
        "colab_type": "text"
      },
      "source": [
        "Podemos juntar diversos comando na mesma linha, isto é, logo após o `sample(5)`, pode usar o `.T`, e essas funcionalidades irão funcionar em cascata e de forma sequêncial, primeiro o `sample(5)`, e depois o `.T`"
      ]
    },
    {
      "cell_type": "code",
      "metadata": {
        "scrolled": true,
        "trusted": true,
        "_uuid": "0f45f710159685ca96386b523b9390409597afb4",
        "id": "c5GlLB-yjQRo",
        "colab_type": "code",
        "colab": {
          "base_uri": "https://localhost:8080/",
          "height": 1000
        },
        "outputId": "41c2fe53-36fb-404e-8bc0-751366f44ab7"
      },
      "source": [
        "igm.sample(5).T"
      ],
      "execution_count": 30,
      "outputs": [
        {
          "output_type": "execute_result",
          "data": {
            "text/html": [
              "<div>\n",
              "<style scoped>\n",
              "    .dataframe tbody tr th:only-of-type {\n",
              "        vertical-align: middle;\n",
              "    }\n",
              "\n",
              "    .dataframe tbody tr th {\n",
              "        vertical-align: top;\n",
              "    }\n",
              "\n",
              "    .dataframe thead th {\n",
              "        text-align: right;\n",
              "    }\n",
              "</style>\n",
              "<table border=\"1\" class=\"dataframe\">\n",
              "  <thead>\n",
              "    <tr style=\"text-align: right;\">\n",
              "      <th></th>\n",
              "      <th>3003</th>\n",
              "      <th>3117</th>\n",
              "      <th>4473</th>\n",
              "      <th>3684</th>\n",
              "      <th>2023</th>\n",
              "    </tr>\n",
              "  </thead>\n",
              "  <tbody>\n",
              "    <tr>\n",
              "      <th>regiao</th>\n",
              "      <td>NORDESTE</td>\n",
              "      <td>NORDESTE</td>\n",
              "      <td>NORDESTE</td>\n",
              "      <td>NORDESTE</td>\n",
              "      <td>SUL</td>\n",
              "    </tr>\n",
              "    <tr>\n",
              "      <th>estado</th>\n",
              "      <td>BA</td>\n",
              "      <td>BA</td>\n",
              "      <td>BA</td>\n",
              "      <td>PB</td>\n",
              "      <td>PR</td>\n",
              "    </tr>\n",
              "    <tr>\n",
              "      <th>municipio</th>\n",
              "      <td>NAZARE</td>\n",
              "      <td>CAMACAN</td>\n",
              "      <td>RIO DO PIRES</td>\n",
              "      <td>ITATUBA</td>\n",
              "      <td>SALTO DO ITARARE</td>\n",
              "    </tr>\n",
              "    <tr>\n",
              "      <th>codigo_mun</th>\n",
              "      <td>2922508</td>\n",
              "      <td>2905602</td>\n",
              "      <td>2926905</td>\n",
              "      <td>2507200</td>\n",
              "      <td>4122909</td>\n",
              "    </tr>\n",
              "    <tr>\n",
              "      <th>capital</th>\n",
              "      <td>0</td>\n",
              "      <td>0</td>\n",
              "      <td>0</td>\n",
              "      <td>0</td>\n",
              "      <td>0</td>\n",
              "    </tr>\n",
              "    <tr>\n",
              "      <th>porte</th>\n",
              "      <td>Pequeno porte 2</td>\n",
              "      <td>Pequeno porte 2</td>\n",
              "      <td>Pequeno porte 1</td>\n",
              "      <td>Pequeno porte 1</td>\n",
              "      <td>Pequeno porte 1</td>\n",
              "    </tr>\n",
              "    <tr>\n",
              "      <th>populacao</th>\n",
              "      <td>29,450</td>\n",
              "      <td>33,257</td>\n",
              "      <td>12,109</td>\n",
              "      <td>10,809</td>\n",
              "      <td>5,179</td>\n",
              "    </tr>\n",
              "    <tr>\n",
              "      <th>area</th>\n",
              "      <td>286.56</td>\n",
              "      <td>584.85</td>\n",
              "      <td>656.22</td>\n",
              "      <td>244.22</td>\n",
              "      <td>200.52</td>\n",
              "    </tr>\n",
              "    <tr>\n",
              "      <th>densidade_dem</th>\n",
              "      <td>107.5</td>\n",
              "      <td>50.2</td>\n",
              "      <td>14.5</td>\n",
              "      <td>41.8</td>\n",
              "      <td>25.8</td>\n",
              "    </tr>\n",
              "    <tr>\n",
              "      <th>pib</th>\n",
              "      <td>225504</td>\n",
              "      <td>246089</td>\n",
              "      <td>57727.1</td>\n",
              "      <td>76164.5</td>\n",
              "      <td>117411</td>\n",
              "    </tr>\n",
              "    <tr>\n",
              "      <th>pib_pc</th>\n",
              "      <td>7743.43</td>\n",
              "      <td>7441.9</td>\n",
              "      <td>4797.4</td>\n",
              "      <td>7192.11</td>\n",
              "      <td>22381.1</td>\n",
              "    </tr>\n",
              "    <tr>\n",
              "      <th>participacao_transf_receita</th>\n",
              "      <td>93</td>\n",
              "      <td>91</td>\n",
              "      <td>96</td>\n",
              "      <td>NaN</td>\n",
              "      <td>93</td>\n",
              "    </tr>\n",
              "    <tr>\n",
              "      <th>servidores</th>\n",
              "      <td>731</td>\n",
              "      <td>943</td>\n",
              "      <td>439</td>\n",
              "      <td>228</td>\n",
              "      <td>253</td>\n",
              "    </tr>\n",
              "    <tr>\n",
              "      <th>comissionados</th>\n",
              "      <td>83</td>\n",
              "      <td>43</td>\n",
              "      <td>37</td>\n",
              "      <td>158</td>\n",
              "      <td>0</td>\n",
              "    </tr>\n",
              "    <tr>\n",
              "      <th>comissionados_por_servidor</th>\n",
              "      <td>11%</td>\n",
              "      <td>5%</td>\n",
              "      <td>8%</td>\n",
              "      <td>69%</td>\n",
              "      <td>0%</td>\n",
              "    </tr>\n",
              "    <tr>\n",
              "      <th>perc_pop_econ_ativa</th>\n",
              "      <td>0.92</td>\n",
              "      <td>0.74</td>\n",
              "      <td>0.77</td>\n",
              "      <td>0.69</td>\n",
              "      <td>1.1</td>\n",
              "    </tr>\n",
              "    <tr>\n",
              "      <th>taxa_empreendedorismo</th>\n",
              "      <td>0.27</td>\n",
              "      <td>0.26</td>\n",
              "      <td>0.22</td>\n",
              "      <td>0.26</td>\n",
              "      <td>0.3</td>\n",
              "    </tr>\n",
              "    <tr>\n",
              "      <th>anos_estudo_empreendedor</th>\n",
              "      <td>6.46093</td>\n",
              "      <td>5.11705</td>\n",
              "      <td>3.56874</td>\n",
              "      <td>4.69417</td>\n",
              "      <td>5.54693</td>\n",
              "    </tr>\n",
              "    <tr>\n",
              "      <th>jornada_trabalho</th>\n",
              "      <td>34.2597</td>\n",
              "      <td>34.9514</td>\n",
              "      <td>36.5995</td>\n",
              "      <td>47.3853</td>\n",
              "      <td>39.749</td>\n",
              "    </tr>\n",
              "    <tr>\n",
              "      <th>gasto_pc_saude</th>\n",
              "      <td>241.38</td>\n",
              "      <td>322.32</td>\n",
              "      <td>363.59</td>\n",
              "      <td>NaN</td>\n",
              "      <td>652.33</td>\n",
              "    </tr>\n",
              "    <tr>\n",
              "      <th>hab_p_medico</th>\n",
              "      <td>2441.42</td>\n",
              "      <td>2548.85</td>\n",
              "      <td>2412</td>\n",
              "      <td>969.636</td>\n",
              "      <td>1741</td>\n",
              "    </tr>\n",
              "    <tr>\n",
              "      <th>exp_vida</th>\n",
              "      <td>71.64</td>\n",
              "      <td>71.07</td>\n",
              "      <td>71</td>\n",
              "      <td>69.51</td>\n",
              "      <td>75.15</td>\n",
              "    </tr>\n",
              "    <tr>\n",
              "      <th>gasto_pc_educacao</th>\n",
              "      <td>516.1</td>\n",
              "      <td>595.03</td>\n",
              "      <td>595.97</td>\n",
              "      <td>NaN</td>\n",
              "      <td>486.13</td>\n",
              "    </tr>\n",
              "    <tr>\n",
              "      <th>exp_anos_estudo</th>\n",
              "      <td>8.95</td>\n",
              "      <td>7.41</td>\n",
              "      <td>8.08</td>\n",
              "      <td>8.36</td>\n",
              "      <td>11.54</td>\n",
              "    </tr>\n",
              "    <tr>\n",
              "      <th>nota_ciencias</th>\n",
              "      <td>459.526</td>\n",
              "      <td>458.163</td>\n",
              "      <td>450.231</td>\n",
              "      <td>452.85</td>\n",
              "      <td>452.01</td>\n",
              "    </tr>\n",
              "    <tr>\n",
              "      <th>nota_humanas</th>\n",
              "      <td>510.192</td>\n",
              "      <td>506.193</td>\n",
              "      <td>488.539</td>\n",
              "      <td>502.991</td>\n",
              "      <td>517.44</td>\n",
              "    </tr>\n",
              "    <tr>\n",
              "      <th>nota_linguagem</th>\n",
              "      <td>487.934</td>\n",
              "      <td>484.978</td>\n",
              "      <td>477.124</td>\n",
              "      <td>490.141</td>\n",
              "      <td>483.18</td>\n",
              "    </tr>\n",
              "    <tr>\n",
              "      <th>nota_mat</th>\n",
              "      <td>453.893</td>\n",
              "      <td>468.242</td>\n",
              "      <td>451.495</td>\n",
              "      <td>449.052</td>\n",
              "      <td>438.5</td>\n",
              "    </tr>\n",
              "    <tr>\n",
              "      <th>nota_redacao</th>\n",
              "      <td>486.386</td>\n",
              "      <td>505.828</td>\n",
              "      <td>497.857</td>\n",
              "      <td>496.667</td>\n",
              "      <td>446</td>\n",
              "    </tr>\n",
              "    <tr>\n",
              "      <th>idhm</th>\n",
              "      <td>0.473</td>\n",
              "      <td>0.329</td>\n",
              "      <td>0.36</td>\n",
              "      <td>0.284</td>\n",
              "      <td>0.623</td>\n",
              "    </tr>\n",
              "    <tr>\n",
              "      <th>ranking_igm</th>\n",
              "      <td>3004º</td>\n",
              "      <td>3118º</td>\n",
              "      <td>NaN</td>\n",
              "      <td>NaN</td>\n",
              "      <td>2024º</td>\n",
              "    </tr>\n",
              "    <tr>\n",
              "      <th>indice_governanca</th>\n",
              "      <td>0.387</td>\n",
              "      <td>0.372</td>\n",
              "      <td>NaN</td>\n",
              "      <td>NaN</td>\n",
              "      <td>0.475</td>\n",
              "    </tr>\n",
              "  </tbody>\n",
              "</table>\n",
              "</div>"
            ],
            "text/plain": [
              "                                        3003  ...              2023\n",
              "regiao                              NORDESTE  ...               SUL\n",
              "estado                                    BA  ...                PR\n",
              "municipio                             NAZARE  ...  SALTO DO ITARARE\n",
              "codigo_mun                           2922508  ...           4122909\n",
              "capital                                    0  ...                 0\n",
              "porte                        Pequeno porte 2  ...   Pequeno porte 1\n",
              "populacao                             29,450  ...             5,179\n",
              "area                                  286.56  ...            200.52\n",
              "densidade_dem                          107.5  ...              25.8\n",
              "pib                                   225504  ...            117411\n",
              "pib_pc                               7743.43  ...           22381.1\n",
              "participacao_transf_receita               93  ...                93\n",
              "servidores                               731  ...               253\n",
              "comissionados                             83  ...                 0\n",
              "comissionados_por_servidor               11%  ...                0%\n",
              "perc_pop_econ_ativa                     0.92  ...               1.1\n",
              "taxa_empreendedorismo                   0.27  ...               0.3\n",
              "anos_estudo_empreendedor             6.46093  ...           5.54693\n",
              "jornada_trabalho                     34.2597  ...            39.749\n",
              "gasto_pc_saude                        241.38  ...            652.33\n",
              "hab_p_medico                         2441.42  ...              1741\n",
              "exp_vida                               71.64  ...             75.15\n",
              "gasto_pc_educacao                      516.1  ...            486.13\n",
              "exp_anos_estudo                         8.95  ...             11.54\n",
              "nota_ciencias                        459.526  ...            452.01\n",
              "nota_humanas                         510.192  ...            517.44\n",
              "nota_linguagem                       487.934  ...            483.18\n",
              "nota_mat                             453.893  ...             438.5\n",
              "nota_redacao                         486.386  ...               446\n",
              "idhm                                   0.473  ...             0.623\n",
              "ranking_igm                            3004º  ...             2024º\n",
              "indice_governanca                      0.387  ...             0.475\n",
              "\n",
              "[32 rows x 5 columns]"
            ]
          },
          "metadata": {
            "tags": []
          },
          "execution_count": 30
        }
      ]
    },
    {
      "cell_type": "markdown",
      "metadata": {
        "_uuid": "189efcc95dcc8fee819c6e92d93e6e3f22ace027",
        "id": "K3w_e142jQRs",
        "colab_type": "text"
      },
      "source": [
        "## Selecionando Linhas no pandas"
      ]
    },
    {
      "cell_type": "markdown",
      "metadata": {
        "_uuid": "854d9ab993b6dfaf1e6ca4d6082c4c376496fd9c",
        "id": "0iWY2j6njQRt",
        "colab_type": "text"
      },
      "source": [
        "Outra forma de vermos os 5 primeiros registros podemos usar o comando:"
      ]
    },
    {
      "cell_type": "code",
      "metadata": {
        "scrolled": true,
        "trusted": true,
        "_uuid": "e26653b0eff90743f4b8b5bd123fa0162087bfa5",
        "id": "VtGFJFaOjQRu",
        "colab_type": "code",
        "colab": {
          "base_uri": "https://localhost:8080/",
          "height": 1000
        },
        "outputId": "571497bf-0ae5-4413-f5e8-f1a7d90431a9"
      },
      "source": [
        "igm[0:5].T"
      ],
      "execution_count": 31,
      "outputs": [
        {
          "output_type": "execute_result",
          "data": {
            "text/html": [
              "<div>\n",
              "<style scoped>\n",
              "    .dataframe tbody tr th:only-of-type {\n",
              "        vertical-align: middle;\n",
              "    }\n",
              "\n",
              "    .dataframe tbody tr th {\n",
              "        vertical-align: top;\n",
              "    }\n",
              "\n",
              "    .dataframe thead th {\n",
              "        text-align: right;\n",
              "    }\n",
              "</style>\n",
              "<table border=\"1\" class=\"dataframe\">\n",
              "  <thead>\n",
              "    <tr style=\"text-align: right;\">\n",
              "      <th></th>\n",
              "      <th>0</th>\n",
              "      <th>1</th>\n",
              "      <th>2</th>\n",
              "      <th>3</th>\n",
              "      <th>4</th>\n",
              "    </tr>\n",
              "  </thead>\n",
              "  <tbody>\n",
              "    <tr>\n",
              "      <th>regiao</th>\n",
              "      <td>SUDESTE</td>\n",
              "      <td>SUDESTE</td>\n",
              "      <td>SUL</td>\n",
              "      <td>SUDESTE</td>\n",
              "      <td>CENTRO-OESTE</td>\n",
              "    </tr>\n",
              "    <tr>\n",
              "      <th>estado</th>\n",
              "      <td>SP</td>\n",
              "      <td>SP</td>\n",
              "      <td>SC</td>\n",
              "      <td>SP</td>\n",
              "      <td>DF</td>\n",
              "    </tr>\n",
              "    <tr>\n",
              "      <th>municipio</th>\n",
              "      <td>ILHABELA</td>\n",
              "      <td>SANTANA DE PARNAIBA</td>\n",
              "      <td>BOMBINHAS</td>\n",
              "      <td>SAO BERNARDO DO CAMPO</td>\n",
              "      <td>BRASILIA</td>\n",
              "    </tr>\n",
              "    <tr>\n",
              "      <th>codigo_mun</th>\n",
              "      <td>3520400</td>\n",
              "      <td>3547304</td>\n",
              "      <td>4202453</td>\n",
              "      <td>3548708</td>\n",
              "      <td>5300108</td>\n",
              "    </tr>\n",
              "    <tr>\n",
              "      <th>capital</th>\n",
              "      <td>0</td>\n",
              "      <td>0</td>\n",
              "      <td>0</td>\n",
              "      <td>0</td>\n",
              "      <td>1</td>\n",
              "    </tr>\n",
              "    <tr>\n",
              "      <th>porte</th>\n",
              "      <td>Pequeno porte 2</td>\n",
              "      <td>Grande porte</td>\n",
              "      <td>Pequeno porte 1</td>\n",
              "      <td>Grande porte</td>\n",
              "      <td>Grande porte</td>\n",
              "    </tr>\n",
              "    <tr>\n",
              "      <th>populacao</th>\n",
              "      <td>32,782</td>\n",
              "      <td>129,261</td>\n",
              "      <td>18,052</td>\n",
              "      <td>822,242</td>\n",
              "      <td>2,977,216</td>\n",
              "    </tr>\n",
              "    <tr>\n",
              "      <th>area</th>\n",
              "      <td>347.52</td>\n",
              "      <td>179.95</td>\n",
              "      <td>35.92</td>\n",
              "      <td>409.53</td>\n",
              "      <td>5,780.00</td>\n",
              "    </tr>\n",
              "    <tr>\n",
              "      <th>densidade_dem</th>\n",
              "      <td>81.1</td>\n",
              "      <td>604.7</td>\n",
              "      <td>398</td>\n",
              "      <td>1,869.40</td>\n",
              "      <td>444.7</td>\n",
              "    </tr>\n",
              "    <tr>\n",
              "      <th>pib</th>\n",
              "      <td>3.25671e+06</td>\n",
              "      <td>7.3736e+06</td>\n",
              "      <td>377357</td>\n",
              "      <td>4.76685e+07</td>\n",
              "      <td>1.75363e+08</td>\n",
              "    </tr>\n",
              "    <tr>\n",
              "      <th>pib_pc</th>\n",
              "      <td>105113</td>\n",
              "      <td>60939.9</td>\n",
              "      <td>23135.1</td>\n",
              "      <td>59149.8</td>\n",
              "      <td>62859.4</td>\n",
              "    </tr>\n",
              "    <tr>\n",
              "      <th>participacao_transf_receita</th>\n",
              "      <td>77</td>\n",
              "      <td>51</td>\n",
              "      <td>32</td>\n",
              "      <td>49</td>\n",
              "      <td>35</td>\n",
              "    </tr>\n",
              "    <tr>\n",
              "      <th>servidores</th>\n",
              "      <td>1495</td>\n",
              "      <td>6157</td>\n",
              "      <td>583</td>\n",
              "      <td>10673</td>\n",
              "      <td>119072</td>\n",
              "    </tr>\n",
              "    <tr>\n",
              "      <th>comissionados</th>\n",
              "      <td>74</td>\n",
              "      <td>587</td>\n",
              "      <td>48</td>\n",
              "      <td>611</td>\n",
              "      <td>6288</td>\n",
              "    </tr>\n",
              "    <tr>\n",
              "      <th>comissionados_por_servidor</th>\n",
              "      <td>5%</td>\n",
              "      <td>10%</td>\n",
              "      <td>8%</td>\n",
              "      <td>6%</td>\n",
              "      <td>5%</td>\n",
              "    </tr>\n",
              "    <tr>\n",
              "      <th>perc_pop_econ_ativa</th>\n",
              "      <td>1.18</td>\n",
              "      <td>1.04</td>\n",
              "      <td>1.09</td>\n",
              "      <td>1.09</td>\n",
              "      <td>1.1</td>\n",
              "    </tr>\n",
              "    <tr>\n",
              "      <th>taxa_empreendedorismo</th>\n",
              "      <td>0.22</td>\n",
              "      <td>0.25</td>\n",
              "      <td>0.32</td>\n",
              "      <td>0.18</td>\n",
              "      <td>0.18</td>\n",
              "    </tr>\n",
              "    <tr>\n",
              "      <th>anos_estudo_empreendedor</th>\n",
              "      <td>8.43613</td>\n",
              "      <td>10.8695</td>\n",
              "      <td>8.83668</td>\n",
              "      <td>9.65942</td>\n",
              "      <td>9.1877</td>\n",
              "    </tr>\n",
              "    <tr>\n",
              "      <th>jornada_trabalho</th>\n",
              "      <td>42.7262</td>\n",
              "      <td>42.5429</td>\n",
              "      <td>40.3143</td>\n",
              "      <td>42.6205</td>\n",
              "      <td>39.5464</td>\n",
              "    </tr>\n",
              "    <tr>\n",
              "      <th>gasto_pc_saude</th>\n",
              "      <td>1529.48</td>\n",
              "      <td>1017.67</td>\n",
              "      <td>830.7</td>\n",
              "      <td>1113.74</td>\n",
              "      <td>1982.45</td>\n",
              "    </tr>\n",
              "    <tr>\n",
              "      <th>hab_p_medico</th>\n",
              "      <td>394.988</td>\n",
              "      <td>400.728</td>\n",
              "      <td>1126.47</td>\n",
              "      <td>2459.06</td>\n",
              "      <td>572.88</td>\n",
              "    </tr>\n",
              "    <tr>\n",
              "      <th>exp_vida</th>\n",
              "      <td>75.56</td>\n",
              "      <td>75.92</td>\n",
              "      <td>76.86</td>\n",
              "      <td>76.65</td>\n",
              "      <td>77.35</td>\n",
              "    </tr>\n",
              "    <tr>\n",
              "      <th>gasto_pc_educacao</th>\n",
              "      <td>1734.52</td>\n",
              "      <td>1704.93</td>\n",
              "      <td>1370.96</td>\n",
              "      <td>770.79</td>\n",
              "      <td>2077.49</td>\n",
              "    </tr>\n",
              "    <tr>\n",
              "      <th>exp_anos_estudo</th>\n",
              "      <td>10.63</td>\n",
              "      <td>10.01</td>\n",
              "      <td>10.44</td>\n",
              "      <td>10.22</td>\n",
              "      <td>9.87</td>\n",
              "    </tr>\n",
              "    <tr>\n",
              "      <th>nota_ciencias</th>\n",
              "      <td>482.054</td>\n",
              "      <td>483.998</td>\n",
              "      <td>472.106</td>\n",
              "      <td>489.242</td>\n",
              "      <td>493.515</td>\n",
              "    </tr>\n",
              "    <tr>\n",
              "      <th>nota_humanas</th>\n",
              "      <td>541.226</td>\n",
              "      <td>542.76</td>\n",
              "      <td>541.95</td>\n",
              "      <td>552.616</td>\n",
              "      <td>551.982</td>\n",
              "    </tr>\n",
              "    <tr>\n",
              "      <th>nota_linguagem</th>\n",
              "      <td>530.651</td>\n",
              "      <td>535.765</td>\n",
              "      <td>523.252</td>\n",
              "      <td>546.174</td>\n",
              "      <td>538.367</td>\n",
              "    </tr>\n",
              "    <tr>\n",
              "      <th>nota_mat</th>\n",
              "      <td>507.953</td>\n",
              "      <td>499.911</td>\n",
              "      <td>474.507</td>\n",
              "      <td>514.204</td>\n",
              "      <td>509.206</td>\n",
              "    </tr>\n",
              "    <tr>\n",
              "      <th>nota_redacao</th>\n",
              "      <td>499.361</td>\n",
              "      <td>547.507</td>\n",
              "      <td>515</td>\n",
              "      <td>557.668</td>\n",
              "      <td>567.992</td>\n",
              "    </tr>\n",
              "    <tr>\n",
              "      <th>idhm</th>\n",
              "      <td>0.747</td>\n",
              "      <td>0.885</td>\n",
              "      <td>0.807</td>\n",
              "      <td>0.864</td>\n",
              "      <td>0.909</td>\n",
              "    </tr>\n",
              "    <tr>\n",
              "      <th>ranking_igm</th>\n",
              "      <td>1º</td>\n",
              "      <td>2º</td>\n",
              "      <td>3º</td>\n",
              "      <td>4º</td>\n",
              "      <td>5º</td>\n",
              "    </tr>\n",
              "    <tr>\n",
              "      <th>indice_governanca</th>\n",
              "      <td>0.767</td>\n",
              "      <td>0.759</td>\n",
              "      <td>0.758</td>\n",
              "      <td>0.756</td>\n",
              "      <td>0.736</td>\n",
              "    </tr>\n",
              "  </tbody>\n",
              "</table>\n",
              "</div>"
            ],
            "text/plain": [
              "                                           0  ...             4\n",
              "regiao                               SUDESTE  ...  CENTRO-OESTE\n",
              "estado                                    SP  ...            DF\n",
              "municipio                           ILHABELA  ...      BRASILIA\n",
              "codigo_mun                           3520400  ...       5300108\n",
              "capital                                    0  ...             1\n",
              "porte                        Pequeno porte 2  ...  Grande porte\n",
              "populacao                             32,782  ...     2,977,216\n",
              "area                                  347.52  ...      5,780.00\n",
              "densidade_dem                           81.1  ...         444.7\n",
              "pib                              3.25671e+06  ...   1.75363e+08\n",
              "pib_pc                                105113  ...       62859.4\n",
              "participacao_transf_receita               77  ...            35\n",
              "servidores                              1495  ...        119072\n",
              "comissionados                             74  ...          6288\n",
              "comissionados_por_servidor                5%  ...            5%\n",
              "perc_pop_econ_ativa                     1.18  ...           1.1\n",
              "taxa_empreendedorismo                   0.22  ...          0.18\n",
              "anos_estudo_empreendedor             8.43613  ...        9.1877\n",
              "jornada_trabalho                     42.7262  ...       39.5464\n",
              "gasto_pc_saude                       1529.48  ...       1982.45\n",
              "hab_p_medico                         394.988  ...        572.88\n",
              "exp_vida                               75.56  ...         77.35\n",
              "gasto_pc_educacao                    1734.52  ...       2077.49\n",
              "exp_anos_estudo                        10.63  ...          9.87\n",
              "nota_ciencias                        482.054  ...       493.515\n",
              "nota_humanas                         541.226  ...       551.982\n",
              "nota_linguagem                       530.651  ...       538.367\n",
              "nota_mat                             507.953  ...       509.206\n",
              "nota_redacao                         499.361  ...       567.992\n",
              "idhm                                   0.747  ...         0.909\n",
              "ranking_igm                               1º  ...            5º\n",
              "indice_governanca                      0.767  ...         0.736\n",
              "\n",
              "[32 rows x 5 columns]"
            ]
          },
          "metadata": {
            "tags": []
          },
          "execution_count": 31
        }
      ]
    },
    {
      "cell_type": "markdown",
      "metadata": {
        "_uuid": "a625d9fc5d4ddccc347b704c2bd679c185e94dc0",
        "id": "_6ju0U2kjQRy",
        "colab_type": "text"
      },
      "source": [
        "Outra forma de vermos os cinco últimos comandos é:"
      ]
    },
    {
      "cell_type": "code",
      "metadata": {
        "scrolled": true,
        "trusted": true,
        "_uuid": "9e851abfdde4afebb3223a7e411897af7ab9e965",
        "id": "vr2BppApjQRz",
        "colab_type": "code",
        "colab": {
          "base_uri": "https://localhost:8080/",
          "height": 1000
        },
        "outputId": "ac58a60f-364b-4f69-ffbf-4dccc1e06435"
      },
      "source": [
        "igm[-5:].T"
      ],
      "execution_count": 134,
      "outputs": [
        {
          "output_type": "execute_result",
          "data": {
            "text/html": [
              "<div>\n",
              "<style scoped>\n",
              "    .dataframe tbody tr th:only-of-type {\n",
              "        vertical-align: middle;\n",
              "    }\n",
              "\n",
              "    .dataframe tbody tr th {\n",
              "        vertical-align: top;\n",
              "    }\n",
              "\n",
              "    .dataframe thead th {\n",
              "        text-align: right;\n",
              "    }\n",
              "</style>\n",
              "<table border=\"1\" class=\"dataframe\">\n",
              "  <thead>\n",
              "    <tr style=\"text-align: right;\">\n",
              "      <th></th>\n",
              "      <th>5565</th>\n",
              "      <th>5566</th>\n",
              "      <th>5567</th>\n",
              "      <th>5568</th>\n",
              "      <th>5569</th>\n",
              "    </tr>\n",
              "  </thead>\n",
              "  <tbody>\n",
              "    <tr>\n",
              "      <th>regiao</th>\n",
              "      <td>NORTE</td>\n",
              "      <td>NORTE</td>\n",
              "      <td>NORTE</td>\n",
              "      <td>NORTE</td>\n",
              "      <td>NORTE</td>\n",
              "    </tr>\n",
              "    <tr>\n",
              "      <th>estado</th>\n",
              "      <td>TO</td>\n",
              "      <td>TO</td>\n",
              "      <td>TO</td>\n",
              "      <td>TO</td>\n",
              "      <td>TO</td>\n",
              "    </tr>\n",
              "    <tr>\n",
              "      <th>municipio</th>\n",
              "      <td>RIO DOS BOIS</td>\n",
              "      <td>AXIXA DO TOCANTINS</td>\n",
              "      <td>FILADELFIA</td>\n",
              "      <td>PONTE ALTA DO TOCANTINS</td>\n",
              "      <td>SILVANOPOLIS</td>\n",
              "    </tr>\n",
              "    <tr>\n",
              "      <th>codigo_mun</th>\n",
              "      <td>1718709</td>\n",
              "      <td>1702901</td>\n",
              "      <td>1707702</td>\n",
              "      <td>1717909</td>\n",
              "      <td>1720655</td>\n",
              "    </tr>\n",
              "    <tr>\n",
              "      <th>capital</th>\n",
              "      <td>0</td>\n",
              "      <td>0</td>\n",
              "      <td>0</td>\n",
              "      <td>0</td>\n",
              "      <td>0</td>\n",
              "    </tr>\n",
              "    <tr>\n",
              "      <th>porte</th>\n",
              "      <td>Pequeno porte 1</td>\n",
              "      <td>Pequeno porte 1</td>\n",
              "      <td>Pequeno porte 1</td>\n",
              "      <td>Pequeno porte 1</td>\n",
              "      <td>Pequeno porte 1</td>\n",
              "    </tr>\n",
              "    <tr>\n",
              "      <th>populacao</th>\n",
              "      <td>2,787</td>\n",
              "      <td>9,741</td>\n",
              "      <td>8,871</td>\n",
              "      <td>7,872</td>\n",
              "      <td>5,372</td>\n",
              "    </tr>\n",
              "    <tr>\n",
              "      <th>area</th>\n",
              "      <td>845.07</td>\n",
              "      <td>150.21</td>\n",
              "      <td>1,988.08</td>\n",
              "      <td>6,491.13</td>\n",
              "      <td>1,258.83</td>\n",
              "    </tr>\n",
              "    <tr>\n",
              "      <th>densidade_dem</th>\n",
              "      <td>3</td>\n",
              "      <td>61.8</td>\n",
              "      <td>4.3</td>\n",
              "      <td>1.1</td>\n",
              "      <td>4</td>\n",
              "    </tr>\n",
              "    <tr>\n",
              "      <th>pib</th>\n",
              "      <td>27136.7</td>\n",
              "      <td>80205.4</td>\n",
              "      <td>78500.7</td>\n",
              "      <td>59147.6</td>\n",
              "      <td>77734.9</td>\n",
              "    </tr>\n",
              "    <tr>\n",
              "      <th>pib_pc</th>\n",
              "      <td>9995.11</td>\n",
              "      <td>8326.98</td>\n",
              "      <td>8920.54</td>\n",
              "      <td>7754.01</td>\n",
              "      <td>14697.5</td>\n",
              "    </tr>\n",
              "    <tr>\n",
              "      <th>participacao_transf_receita</th>\n",
              "      <td>NaN</td>\n",
              "      <td>NaN</td>\n",
              "      <td>NaN</td>\n",
              "      <td>NaN</td>\n",
              "      <td>NaN</td>\n",
              "    </tr>\n",
              "    <tr>\n",
              "      <th>servidores</th>\n",
              "      <td>98</td>\n",
              "      <td>429</td>\n",
              "      <td>405</td>\n",
              "      <td>167</td>\n",
              "      <td>150</td>\n",
              "    </tr>\n",
              "    <tr>\n",
              "      <th>comissionados</th>\n",
              "      <td>29</td>\n",
              "      <td>56</td>\n",
              "      <td>138</td>\n",
              "      <td>40</td>\n",
              "      <td>19</td>\n",
              "    </tr>\n",
              "    <tr>\n",
              "      <th>comissionados_por_servidor</th>\n",
              "      <td>30%</td>\n",
              "      <td>13%</td>\n",
              "      <td>34%</td>\n",
              "      <td>24%</td>\n",
              "      <td>13%</td>\n",
              "    </tr>\n",
              "    <tr>\n",
              "      <th>perc_pop_econ_ativa</th>\n",
              "      <td>0.83</td>\n",
              "      <td>0.77</td>\n",
              "      <td>0.7</td>\n",
              "      <td>0.72</td>\n",
              "      <td>0.86</td>\n",
              "    </tr>\n",
              "    <tr>\n",
              "      <th>taxa_empreendedorismo</th>\n",
              "      <td>0.23</td>\n",
              "      <td>0.3</td>\n",
              "      <td>0.18</td>\n",
              "      <td>0.28</td>\n",
              "      <td>0.15</td>\n",
              "    </tr>\n",
              "    <tr>\n",
              "      <th>anos_estudo_empreendedor</th>\n",
              "      <td>5.92872</td>\n",
              "      <td>5.40602</td>\n",
              "      <td>5.51901</td>\n",
              "      <td>6.79416</td>\n",
              "      <td>8.36533</td>\n",
              "    </tr>\n",
              "    <tr>\n",
              "      <th>jornada_trabalho</th>\n",
              "      <td>39.7767</td>\n",
              "      <td>39.2149</td>\n",
              "      <td>33.7331</td>\n",
              "      <td>40.0715</td>\n",
              "      <td>41.8865</td>\n",
              "    </tr>\n",
              "    <tr>\n",
              "      <th>gasto_pc_saude</th>\n",
              "      <td>NaN</td>\n",
              "      <td>NaN</td>\n",
              "      <td>NaN</td>\n",
              "      <td>NaN</td>\n",
              "      <td>NaN</td>\n",
              "    </tr>\n",
              "    <tr>\n",
              "      <th>hab_p_medico</th>\n",
              "      <td>1370</td>\n",
              "      <td>1933.8</td>\n",
              "      <td>1470.67</td>\n",
              "      <td>3856</td>\n",
              "      <td>1772.67</td>\n",
              "    </tr>\n",
              "    <tr>\n",
              "      <th>exp_vida</th>\n",
              "      <td>72.69</td>\n",
              "      <td>69</td>\n",
              "      <td>72.52</td>\n",
              "      <td>71.72</td>\n",
              "      <td>73.84</td>\n",
              "    </tr>\n",
              "    <tr>\n",
              "      <th>gasto_pc_educacao</th>\n",
              "      <td>NaN</td>\n",
              "      <td>NaN</td>\n",
              "      <td>NaN</td>\n",
              "      <td>NaN</td>\n",
              "      <td>NaN</td>\n",
              "    </tr>\n",
              "    <tr>\n",
              "      <th>exp_anos_estudo</th>\n",
              "      <td>9.26</td>\n",
              "      <td>10.11</td>\n",
              "      <td>9.38</td>\n",
              "      <td>9.07</td>\n",
              "      <td>10.36</td>\n",
              "    </tr>\n",
              "    <tr>\n",
              "      <th>nota_ciencias</th>\n",
              "      <td>450.613</td>\n",
              "      <td>437.36</td>\n",
              "      <td>431.232</td>\n",
              "      <td>443.877</td>\n",
              "      <td>433.379</td>\n",
              "    </tr>\n",
              "    <tr>\n",
              "      <th>nota_humanas</th>\n",
              "      <td>457.1</td>\n",
              "      <td>470.188</td>\n",
              "      <td>456.076</td>\n",
              "      <td>480.917</td>\n",
              "      <td>459.132</td>\n",
              "    </tr>\n",
              "    <tr>\n",
              "      <th>nota_linguagem</th>\n",
              "      <td>473.129</td>\n",
              "      <td>463.167</td>\n",
              "      <td>453.89</td>\n",
              "      <td>465.538</td>\n",
              "      <td>469.714</td>\n",
              "    </tr>\n",
              "    <tr>\n",
              "      <th>nota_mat</th>\n",
              "      <td>458.921</td>\n",
              "      <td>442.091</td>\n",
              "      <td>426.578</td>\n",
              "      <td>437.483</td>\n",
              "      <td>407.05</td>\n",
              "    </tr>\n",
              "    <tr>\n",
              "      <th>nota_redacao</th>\n",
              "      <td>494.286</td>\n",
              "      <td>444.198</td>\n",
              "      <td>399.024</td>\n",
              "      <td>441.154</td>\n",
              "      <td>452.857</td>\n",
              "    </tr>\n",
              "    <tr>\n",
              "      <th>idhm</th>\n",
              "      <td>0.413</td>\n",
              "      <td>0.439</td>\n",
              "      <td>0.425</td>\n",
              "      <td>0.432</td>\n",
              "      <td>NaN</td>\n",
              "    </tr>\n",
              "    <tr>\n",
              "      <th>ranking_igm</th>\n",
              "      <td>NaN</td>\n",
              "      <td>NaN</td>\n",
              "      <td>NaN</td>\n",
              "      <td>NaN</td>\n",
              "      <td>NaN</td>\n",
              "    </tr>\n",
              "    <tr>\n",
              "      <th>indice_governanca</th>\n",
              "      <td>NaN</td>\n",
              "      <td>NaN</td>\n",
              "      <td>NaN</td>\n",
              "      <td>NaN</td>\n",
              "      <td>NaN</td>\n",
              "    </tr>\n",
              "  </tbody>\n",
              "</table>\n",
              "</div>"
            ],
            "text/plain": [
              "                                        5565  ...             5569\n",
              "regiao                                 NORTE  ...            NORTE\n",
              "estado                                    TO  ...               TO\n",
              "municipio                       RIO DOS BOIS  ...     SILVANOPOLIS\n",
              "codigo_mun                           1718709  ...          1720655\n",
              "capital                                    0  ...                0\n",
              "porte                        Pequeno porte 1  ...  Pequeno porte 1\n",
              "populacao                              2,787  ...            5,372\n",
              "area                                  845.07  ...         1,258.83\n",
              "densidade_dem                              3  ...                4\n",
              "pib                                  27136.7  ...          77734.9\n",
              "pib_pc                               9995.11  ...          14697.5\n",
              "participacao_transf_receita              NaN  ...              NaN\n",
              "servidores                                98  ...              150\n",
              "comissionados                             29  ...               19\n",
              "comissionados_por_servidor               30%  ...              13%\n",
              "perc_pop_econ_ativa                     0.83  ...             0.86\n",
              "taxa_empreendedorismo                   0.23  ...             0.15\n",
              "anos_estudo_empreendedor             5.92872  ...          8.36533\n",
              "jornada_trabalho                     39.7767  ...          41.8865\n",
              "gasto_pc_saude                           NaN  ...              NaN\n",
              "hab_p_medico                            1370  ...          1772.67\n",
              "exp_vida                               72.69  ...            73.84\n",
              "gasto_pc_educacao                        NaN  ...              NaN\n",
              "exp_anos_estudo                         9.26  ...            10.36\n",
              "nota_ciencias                        450.613  ...          433.379\n",
              "nota_humanas                           457.1  ...          459.132\n",
              "nota_linguagem                       473.129  ...          469.714\n",
              "nota_mat                             458.921  ...           407.05\n",
              "nota_redacao                         494.286  ...          452.857\n",
              "idhm                                   0.413  ...              NaN\n",
              "ranking_igm                              NaN  ...              NaN\n",
              "indice_governanca                        NaN  ...              NaN\n",
              "\n",
              "[32 rows x 5 columns]"
            ]
          },
          "metadata": {
            "tags": []
          },
          "execution_count": 134
        }
      ]
    },
    {
      "cell_type": "markdown",
      "metadata": {
        "_uuid": "39fef50b757ea7a779d24e58e96bf1d27a2b7d8b",
        "id": "UiV9_t9MjQR3",
        "colab_type": "text"
      },
      "source": [
        "A vantagem da forma explicitada acima é que podemos selecionar qualquer local da tabela, não estando restritos as primeiras linhas. Por exemplo, o comando a seguir seleciona as linhas 20 até 29:"
      ]
    },
    {
      "cell_type": "code",
      "metadata": {
        "scrolled": true,
        "trusted": true,
        "_uuid": "e1c1209ea25fa37afd3aac62e3885112fe22caf3",
        "id": "iuZp6IcWjQR4",
        "colab_type": "code",
        "colab": {
          "base_uri": "https://localhost:8080/",
          "height": 1000
        },
        "outputId": "4efe12ae-6228-48cc-cfd4-cf59e353efba"
      },
      "source": [
        "igm[20:30].T"
      ],
      "execution_count": 33,
      "outputs": [
        {
          "output_type": "execute_result",
          "data": {
            "text/html": [
              "<div>\n",
              "<style scoped>\n",
              "    .dataframe tbody tr th:only-of-type {\n",
              "        vertical-align: middle;\n",
              "    }\n",
              "\n",
              "    .dataframe tbody tr th {\n",
              "        vertical-align: top;\n",
              "    }\n",
              "\n",
              "    .dataframe thead th {\n",
              "        text-align: right;\n",
              "    }\n",
              "</style>\n",
              "<table border=\"1\" class=\"dataframe\">\n",
              "  <thead>\n",
              "    <tr style=\"text-align: right;\">\n",
              "      <th></th>\n",
              "      <th>20</th>\n",
              "      <th>21</th>\n",
              "      <th>22</th>\n",
              "      <th>23</th>\n",
              "      <th>24</th>\n",
              "      <th>25</th>\n",
              "      <th>26</th>\n",
              "      <th>27</th>\n",
              "      <th>28</th>\n",
              "      <th>29</th>\n",
              "    </tr>\n",
              "  </thead>\n",
              "  <tbody>\n",
              "    <tr>\n",
              "      <th>regiao</th>\n",
              "      <td>SUL</td>\n",
              "      <td>SUDESTE</td>\n",
              "      <td>CENTRO-OESTE</td>\n",
              "      <td>SUDESTE</td>\n",
              "      <td>SUL</td>\n",
              "      <td>SUDESTE</td>\n",
              "      <td>SUDESTE</td>\n",
              "      <td>SUL</td>\n",
              "      <td>SUDESTE</td>\n",
              "      <td>CENTRO-OESTE</td>\n",
              "    </tr>\n",
              "    <tr>\n",
              "      <th>estado</th>\n",
              "      <td>RS</td>\n",
              "      <td>RJ</td>\n",
              "      <td>GO</td>\n",
              "      <td>SP</td>\n",
              "      <td>PR</td>\n",
              "      <td>RJ</td>\n",
              "      <td>SP</td>\n",
              "      <td>RS</td>\n",
              "      <td>SP</td>\n",
              "      <td>MS</td>\n",
              "    </tr>\n",
              "    <tr>\n",
              "      <th>municipio</th>\n",
              "      <td>TUPANDI</td>\n",
              "      <td>NITEROI</td>\n",
              "      <td>CHAPADAO DO CEU</td>\n",
              "      <td>SOROCABA</td>\n",
              "      <td>SANTA HELENA</td>\n",
              "      <td>CASIMIRO DE ABREU</td>\n",
              "      <td>BARRETOS</td>\n",
              "      <td>CARLOS BARBOSA</td>\n",
              "      <td>BURITIZAL</td>\n",
              "      <td>BATAGUASSU</td>\n",
              "    </tr>\n",
              "    <tr>\n",
              "      <th>codigo_mun</th>\n",
              "      <td>4322251</td>\n",
              "      <td>3303302</td>\n",
              "      <td>5205471</td>\n",
              "      <td>3552205</td>\n",
              "      <td>4123501</td>\n",
              "      <td>3301306</td>\n",
              "      <td>3505500</td>\n",
              "      <td>4304804</td>\n",
              "      <td>3508207</td>\n",
              "      <td>5001904</td>\n",
              "    </tr>\n",
              "    <tr>\n",
              "      <th>capital</th>\n",
              "      <td>0</td>\n",
              "      <td>0</td>\n",
              "      <td>0</td>\n",
              "      <td>0</td>\n",
              "      <td>0</td>\n",
              "      <td>0</td>\n",
              "      <td>0</td>\n",
              "      <td>0</td>\n",
              "      <td>0</td>\n",
              "      <td>0</td>\n",
              "    </tr>\n",
              "    <tr>\n",
              "      <th>porte</th>\n",
              "      <td>Pequeno porte 1</td>\n",
              "      <td>Grande porte</td>\n",
              "      <td>Pequeno porte 1</td>\n",
              "      <td>Grande porte</td>\n",
              "      <td>Pequeno porte 2</td>\n",
              "      <td>Pequeno porte 2</td>\n",
              "      <td>Grande porte</td>\n",
              "      <td>Pequeno porte 2</td>\n",
              "      <td>Pequeno porte 1</td>\n",
              "      <td>Pequeno porte 2</td>\n",
              "    </tr>\n",
              "    <tr>\n",
              "      <th>populacao</th>\n",
              "      <td>4,421</td>\n",
              "      <td>497,883</td>\n",
              "      <td>8,853</td>\n",
              "      <td>652,481</td>\n",
              "      <td>25,665</td>\n",
              "      <td>41,167</td>\n",
              "      <td>119,948</td>\n",
              "      <td>27,835</td>\n",
              "      <td>4,377</td>\n",
              "      <td>22,084</td>\n",
              "    </tr>\n",
              "    <tr>\n",
              "      <th>area</th>\n",
              "      <td>59.54</td>\n",
              "      <td>133.92</td>\n",
              "      <td>2,185.12</td>\n",
              "      <td>450.38</td>\n",
              "      <td>758.23</td>\n",
              "      <td>460.77</td>\n",
              "      <td>1,566.16</td>\n",
              "      <td>229.99</td>\n",
              "      <td>266.42</td>\n",
              "      <td>2,417.60</td>\n",
              "    </tr>\n",
              "    <tr>\n",
              "      <th>densidade_dem</th>\n",
              "      <td>65.9</td>\n",
              "      <td>3,640.80</td>\n",
              "      <td>3.2</td>\n",
              "      <td>1,304.20</td>\n",
              "      <td>30.9</td>\n",
              "      <td>76.7</td>\n",
              "      <td>71.6</td>\n",
              "      <td>110.2</td>\n",
              "      <td>15.2</td>\n",
              "      <td>8.2</td>\n",
              "    </tr>\n",
              "    <tr>\n",
              "      <th>pib</th>\n",
              "      <td>315220</td>\n",
              "      <td>1.99085e+07</td>\n",
              "      <td>920448</td>\n",
              "      <td>2.69089e+07</td>\n",
              "      <td>626157</td>\n",
              "      <td>4.06838e+06</td>\n",
              "      <td>3.34712e+06</td>\n",
              "      <td>1.46242e+06</td>\n",
              "      <td>251011</td>\n",
              "      <td>492873</td>\n",
              "    </tr>\n",
              "    <tr>\n",
              "      <th>pib_pc</th>\n",
              "      <td>74204.2</td>\n",
              "      <td>40284.3</td>\n",
              "      <td>114455</td>\n",
              "      <td>42764.7</td>\n",
              "      <td>25151.9</td>\n",
              "      <td>105694</td>\n",
              "      <td>28418.7</td>\n",
              "      <td>54211.9</td>\n",
              "      <td>58661.1</td>\n",
              "      <td>23312.5</td>\n",
              "    </tr>\n",
              "    <tr>\n",
              "      <th>participacao_transf_receita</th>\n",
              "      <td>83</td>\n",
              "      <td>44</td>\n",
              "      <td>69</td>\n",
              "      <td>41</td>\n",
              "      <td>38</td>\n",
              "      <td>71</td>\n",
              "      <td>54</td>\n",
              "      <td>59</td>\n",
              "      <td>85</td>\n",
              "      <td>61</td>\n",
              "    </tr>\n",
              "    <tr>\n",
              "      <th>servidores</th>\n",
              "      <td>211</td>\n",
              "      <td>8069</td>\n",
              "      <td>319</td>\n",
              "      <td>10260</td>\n",
              "      <td>530</td>\n",
              "      <td>2010</td>\n",
              "      <td>2751</td>\n",
              "      <td>418</td>\n",
              "      <td>98</td>\n",
              "      <td>493</td>\n",
              "    </tr>\n",
              "    <tr>\n",
              "      <th>comissionados</th>\n",
              "      <td>47</td>\n",
              "      <td>2313</td>\n",
              "      <td>152</td>\n",
              "      <td>192</td>\n",
              "      <td>87</td>\n",
              "      <td>442</td>\n",
              "      <td>104</td>\n",
              "      <td>81</td>\n",
              "      <td>24</td>\n",
              "      <td>39</td>\n",
              "    </tr>\n",
              "    <tr>\n",
              "      <th>comissionados_por_servidor</th>\n",
              "      <td>22%</td>\n",
              "      <td>29%</td>\n",
              "      <td>48%</td>\n",
              "      <td>2%</td>\n",
              "      <td>16%</td>\n",
              "      <td>22%</td>\n",
              "      <td>4%</td>\n",
              "      <td>19%</td>\n",
              "      <td>24%</td>\n",
              "      <td>8%</td>\n",
              "    </tr>\n",
              "    <tr>\n",
              "      <th>perc_pop_econ_ativa</th>\n",
              "      <td>1.37</td>\n",
              "      <td>1.04</td>\n",
              "      <td>1.13</td>\n",
              "      <td>1.05</td>\n",
              "      <td>1.16</td>\n",
              "      <td>1.07</td>\n",
              "      <td>1.08</td>\n",
              "      <td>1.4</td>\n",
              "      <td>1.05</td>\n",
              "      <td>1.05</td>\n",
              "    </tr>\n",
              "    <tr>\n",
              "      <th>taxa_empreendedorismo</th>\n",
              "      <td>0.32</td>\n",
              "      <td>0.23</td>\n",
              "      <td>0.17</td>\n",
              "      <td>0.22</td>\n",
              "      <td>0.34</td>\n",
              "      <td>0.18</td>\n",
              "      <td>0.2</td>\n",
              "      <td>0.24</td>\n",
              "      <td>0.19</td>\n",
              "      <td>0.19</td>\n",
              "    </tr>\n",
              "    <tr>\n",
              "      <th>anos_estudo_empreendedor</th>\n",
              "      <td>6.07866</td>\n",
              "      <td>11.4691</td>\n",
              "      <td>7.67473</td>\n",
              "      <td>9.3284</td>\n",
              "      <td>7.52756</td>\n",
              "      <td>7.24578</td>\n",
              "      <td>9.18135</td>\n",
              "      <td>7.80399</td>\n",
              "      <td>7.31473</td>\n",
              "      <td>7.00806</td>\n",
              "    </tr>\n",
              "    <tr>\n",
              "      <th>jornada_trabalho</th>\n",
              "      <td>48.1071</td>\n",
              "      <td>39.6601</td>\n",
              "      <td>41.4746</td>\n",
              "      <td>40.2415</td>\n",
              "      <td>41.3559</td>\n",
              "      <td>43.0895</td>\n",
              "      <td>41.7658</td>\n",
              "      <td>45.5934</td>\n",
              "      <td>47.1276</td>\n",
              "      <td>43.6653</td>\n",
              "    </tr>\n",
              "    <tr>\n",
              "      <th>gasto_pc_saude</th>\n",
              "      <td>1051.32</td>\n",
              "      <td>387.87</td>\n",
              "      <td>1166.68</td>\n",
              "      <td>801.42</td>\n",
              "      <td>624.9</td>\n",
              "      <td>1575.51</td>\n",
              "      <td>753.99</td>\n",
              "      <td>579.3</td>\n",
              "      <td>1055.21</td>\n",
              "      <td>664.85</td>\n",
              "    </tr>\n",
              "    <tr>\n",
              "      <th>hab_p_medico</th>\n",
              "      <td>430.9</td>\n",
              "      <td>1182.51</td>\n",
              "      <td>1039.75</td>\n",
              "      <td>1092.95</td>\n",
              "      <td>1397.72</td>\n",
              "      <td>555.127</td>\n",
              "      <td>1058.22</td>\n",
              "      <td>1239.95</td>\n",
              "      <td>392.091</td>\n",
              "      <td>1788.58</td>\n",
              "    </tr>\n",
              "    <tr>\n",
              "      <th>exp_vida</th>\n",
              "      <td>75.18</td>\n",
              "      <td>76.23</td>\n",
              "      <td>75.2</td>\n",
              "      <td>75.59</td>\n",
              "      <td>74.38</td>\n",
              "      <td>73.64</td>\n",
              "      <td>77.5</td>\n",
              "      <td>75.07</td>\n",
              "      <td>74.79</td>\n",
              "      <td>75.8</td>\n",
              "    </tr>\n",
              "    <tr>\n",
              "      <th>gasto_pc_educacao</th>\n",
              "      <td>1515.19</td>\n",
              "      <td>315.29</td>\n",
              "      <td>1435.33</td>\n",
              "      <td>737.82</td>\n",
              "      <td>1053.08</td>\n",
              "      <td>1088.23</td>\n",
              "      <td>735.94</td>\n",
              "      <td>694.25</td>\n",
              "      <td>1675.78</td>\n",
              "      <td>745.24</td>\n",
              "    </tr>\n",
              "    <tr>\n",
              "      <th>exp_anos_estudo</th>\n",
              "      <td>8.73</td>\n",
              "      <td>9.68</td>\n",
              "      <td>9.45</td>\n",
              "      <td>10.59</td>\n",
              "      <td>10.89</td>\n",
              "      <td>9.04</td>\n",
              "      <td>10.42</td>\n",
              "      <td>10.97</td>\n",
              "      <td>10.03</td>\n",
              "      <td>9.82</td>\n",
              "    </tr>\n",
              "    <tr>\n",
              "      <th>nota_ciencias</th>\n",
              "      <td>489.912</td>\n",
              "      <td>525.791</td>\n",
              "      <td>464.188</td>\n",
              "      <td>490.12</td>\n",
              "      <td>476.692</td>\n",
              "      <td>475.88</td>\n",
              "      <td>482.185</td>\n",
              "      <td>502.051</td>\n",
              "      <td>448.553</td>\n",
              "      <td>455.683</td>\n",
              "    </tr>\n",
              "    <tr>\n",
              "      <th>nota_humanas</th>\n",
              "      <td>557.019</td>\n",
              "      <td>583.141</td>\n",
              "      <td>511.89</td>\n",
              "      <td>553.714</td>\n",
              "      <td>532.951</td>\n",
              "      <td>533.459</td>\n",
              "      <td>537.319</td>\n",
              "      <td>548.58</td>\n",
              "      <td>518.621</td>\n",
              "      <td>506.394</td>\n",
              "    </tr>\n",
              "    <tr>\n",
              "      <th>nota_linguagem</th>\n",
              "      <td>541.564</td>\n",
              "      <td>554.622</td>\n",
              "      <td>506.294</td>\n",
              "      <td>544.189</td>\n",
              "      <td>520.768</td>\n",
              "      <td>522.019</td>\n",
              "      <td>526.336</td>\n",
              "      <td>537.693</td>\n",
              "      <td>516.511</td>\n",
              "      <td>496.972</td>\n",
              "    </tr>\n",
              "    <tr>\n",
              "      <th>nota_mat</th>\n",
              "      <td>544.64</td>\n",
              "      <td>555.132</td>\n",
              "      <td>484.97</td>\n",
              "      <td>516.983</td>\n",
              "      <td>485.247</td>\n",
              "      <td>484.51</td>\n",
              "      <td>497.487</td>\n",
              "      <td>533.224</td>\n",
              "      <td>484.105</td>\n",
              "      <td>457.502</td>\n",
              "    </tr>\n",
              "    <tr>\n",
              "      <th>nota_redacao</th>\n",
              "      <td>549.6</td>\n",
              "      <td>639.916</td>\n",
              "      <td>480</td>\n",
              "      <td>554.441</td>\n",
              "      <td>515.978</td>\n",
              "      <td>549.443</td>\n",
              "      <td>541.577</td>\n",
              "      <td>550.76</td>\n",
              "      <td>530.526</td>\n",
              "      <td>493.095</td>\n",
              "    </tr>\n",
              "    <tr>\n",
              "      <th>idhm</th>\n",
              "      <td>0.656</td>\n",
              "      <td>0.94</td>\n",
              "      <td>0.714</td>\n",
              "      <td>0.847</td>\n",
              "      <td>0.718</td>\n",
              "      <td>0.675</td>\n",
              "      <td>0.826</td>\n",
              "      <td>0.842</td>\n",
              "      <td>0.697</td>\n",
              "      <td>0.637</td>\n",
              "    </tr>\n",
              "    <tr>\n",
              "      <th>ranking_igm</th>\n",
              "      <td>21º</td>\n",
              "      <td>22º</td>\n",
              "      <td>23º</td>\n",
              "      <td>24º</td>\n",
              "      <td>25º</td>\n",
              "      <td>26º</td>\n",
              "      <td>27º</td>\n",
              "      <td>28º</td>\n",
              "      <td>29º</td>\n",
              "      <td>30º</td>\n",
              "    </tr>\n",
              "    <tr>\n",
              "      <th>indice_governanca</th>\n",
              "      <td>0.693</td>\n",
              "      <td>0.693</td>\n",
              "      <td>0.691</td>\n",
              "      <td>0.691</td>\n",
              "      <td>0.69</td>\n",
              "      <td>0.689</td>\n",
              "      <td>0.689</td>\n",
              "      <td>0.688</td>\n",
              "      <td>0.688</td>\n",
              "      <td>0.685</td>\n",
              "    </tr>\n",
              "  </tbody>\n",
              "</table>\n",
              "</div>"
            ],
            "text/plain": [
              "                                          20  ...               29\n",
              "regiao                                   SUL  ...     CENTRO-OESTE\n",
              "estado                                    RS  ...               MS\n",
              "municipio                            TUPANDI  ...       BATAGUASSU\n",
              "codigo_mun                           4322251  ...          5001904\n",
              "capital                                    0  ...                0\n",
              "porte                        Pequeno porte 1  ...  Pequeno porte 2\n",
              "populacao                              4,421  ...           22,084\n",
              "area                                   59.54  ...         2,417.60\n",
              "densidade_dem                           65.9  ...              8.2\n",
              "pib                                   315220  ...           492873\n",
              "pib_pc                               74204.2  ...          23312.5\n",
              "participacao_transf_receita               83  ...               61\n",
              "servidores                               211  ...              493\n",
              "comissionados                             47  ...               39\n",
              "comissionados_por_servidor               22%  ...               8%\n",
              "perc_pop_econ_ativa                     1.37  ...             1.05\n",
              "taxa_empreendedorismo                   0.32  ...             0.19\n",
              "anos_estudo_empreendedor             6.07866  ...          7.00806\n",
              "jornada_trabalho                     48.1071  ...          43.6653\n",
              "gasto_pc_saude                       1051.32  ...           664.85\n",
              "hab_p_medico                           430.9  ...          1788.58\n",
              "exp_vida                               75.18  ...             75.8\n",
              "gasto_pc_educacao                    1515.19  ...           745.24\n",
              "exp_anos_estudo                         8.73  ...             9.82\n",
              "nota_ciencias                        489.912  ...          455.683\n",
              "nota_humanas                         557.019  ...          506.394\n",
              "nota_linguagem                       541.564  ...          496.972\n",
              "nota_mat                              544.64  ...          457.502\n",
              "nota_redacao                           549.6  ...          493.095\n",
              "idhm                                   0.656  ...            0.637\n",
              "ranking_igm                              21º  ...              30º\n",
              "indice_governanca                      0.693  ...            0.685\n",
              "\n",
              "[32 rows x 10 columns]"
            ]
          },
          "metadata": {
            "tags": []
          },
          "execution_count": 33
        }
      ]
    },
    {
      "cell_type": "markdown",
      "metadata": {
        "_uuid": "0369a8ab49400bea7922221b42c6a2c2dc585c7f",
        "id": "IImf14KKjQR-",
        "colab_type": "text"
      },
      "source": [
        "## Slicing no Pandas"
      ]
    },
    {
      "cell_type": "markdown",
      "metadata": {
        "_uuid": "d9240b0c38420fc928479e63fd18af307df2f8d1",
        "id": "5w5wakUnjQR-",
        "colab_type": "text"
      },
      "source": [
        "O nome dessa operação de colocar algo entre colchetes é slicing, e isso como convenção geral é uma forma de selecionar um subconjunto de dados."
      ]
    },
    {
      "cell_type": "markdown",
      "metadata": {
        "_uuid": "4859ff39c7e1e7c67c4a16606302970cb70e0f93",
        "id": "vnG_pWcbjQR_",
        "colab_type": "text"
      },
      "source": [
        "[20:30] vai selecionar exatamente 10 elementos (30 - 20). O número da direita menos o número da esquerda é sempre o total de elementos que serão selecionados, e isso é uma convenção no Python.\n",
        "\n",
        "O número 20 é selecionado por ser um intervalo fechado na esquerda, e o número 30 não é selecionado por ser um intervalo aberto na direita. O que é outra convenção do Python."
      ]
    },
    {
      "cell_type": "markdown",
      "metadata": {
        "_uuid": "ae040e36cc317d2e4142b29011d94bff63494f7c",
        "id": "sRbaaaQMjQSB",
        "colab_type": "text"
      },
      "source": [
        "## Selecionando colunas"
      ]
    },
    {
      "cell_type": "markdown",
      "metadata": {
        "_uuid": "a3e3d7013d8980550152d55d336b6cddfc03945d",
        "id": "Il8_ForFjQSB",
        "colab_type": "text"
      },
      "source": [
        "Para selecionarmos colunas no pandas, basta dizermos o nome do DataFrame seguido por colchetes com o nome da coluna dentro:\n",
        "\n",
        "__Nome do Dataframe:__ `igm`\n",
        "\n",
        "__Colchetes com a coluna dentro:__ `['Porte do Município']`\n",
        "\n",
        "__Comando completo:__ `igm['Porte do Município']`"
      ]
    },
    {
      "cell_type": "code",
      "metadata": {
        "scrolled": true,
        "trusted": true,
        "_uuid": "bda5293dc48733d8b40786d992539fe11a0c7283",
        "id": "KCO3Gpc7jQSC",
        "colab_type": "code",
        "colab": {
          "base_uri": "https://localhost:8080/",
          "height": 235
        },
        "outputId": "37f5c04a-03ad-4a8a-e0b2-f951f36d9e55"
      },
      "source": [
        "igm['porte']"
      ],
      "execution_count": 34,
      "outputs": [
        {
          "output_type": "execute_result",
          "data": {
            "text/plain": [
              "0       Pequeno porte 2\n",
              "1          Grande porte\n",
              "2       Pequeno porte 1\n",
              "3          Grande porte\n",
              "4          Grande porte\n",
              "             ...       \n",
              "5565    Pequeno porte 1\n",
              "5566    Pequeno porte 1\n",
              "5567    Pequeno porte 1\n",
              "5568    Pequeno porte 1\n",
              "5569    Pequeno porte 1\n",
              "Name: porte, Length: 5570, dtype: object"
            ]
          },
          "metadata": {
            "tags": []
          },
          "execution_count": 34
        }
      ]
    },
    {
      "cell_type": "markdown",
      "metadata": {
        "_uuid": "a77915c09efac968950a655a43ca5cc64c458de1",
        "id": "3yjqZ9DyjQSF",
        "colab_type": "text"
      },
      "source": [
        "## Selecionando Múltiplas Colunas"
      ]
    },
    {
      "cell_type": "markdown",
      "metadata": {
        "_uuid": "dfe96d5c984fc3c0010d812b9cf4e197a6719172",
        "id": "kOvTA7DPjQSG",
        "colab_type": "text"
      },
      "source": [
        "Podemos selecionar multiplas colunas com o comando `igm[['municipio', 'indice_governanca']]`:"
      ]
    },
    {
      "cell_type": "code",
      "metadata": {
        "scrolled": true,
        "trusted": true,
        "_uuid": "cd861f29244a52bf92ee27669efcd48c5c58c7e6",
        "id": "ZlLsdcKzjQSH",
        "colab_type": "code",
        "colab": {
          "base_uri": "https://localhost:8080/",
          "height": 407
        },
        "outputId": "3daed658-12fa-40a5-bf45-2b18ea93f1d9"
      },
      "source": [
        "igm[['municipio', 'indice_governanca']]"
      ],
      "execution_count": 35,
      "outputs": [
        {
          "output_type": "execute_result",
          "data": {
            "text/html": [
              "<div>\n",
              "<style scoped>\n",
              "    .dataframe tbody tr th:only-of-type {\n",
              "        vertical-align: middle;\n",
              "    }\n",
              "\n",
              "    .dataframe tbody tr th {\n",
              "        vertical-align: top;\n",
              "    }\n",
              "\n",
              "    .dataframe thead th {\n",
              "        text-align: right;\n",
              "    }\n",
              "</style>\n",
              "<table border=\"1\" class=\"dataframe\">\n",
              "  <thead>\n",
              "    <tr style=\"text-align: right;\">\n",
              "      <th></th>\n",
              "      <th>municipio</th>\n",
              "      <th>indice_governanca</th>\n",
              "    </tr>\n",
              "  </thead>\n",
              "  <tbody>\n",
              "    <tr>\n",
              "      <th>0</th>\n",
              "      <td>ILHABELA</td>\n",
              "      <td>0.767</td>\n",
              "    </tr>\n",
              "    <tr>\n",
              "      <th>1</th>\n",
              "      <td>SANTANA DE PARNAIBA</td>\n",
              "      <td>0.759</td>\n",
              "    </tr>\n",
              "    <tr>\n",
              "      <th>2</th>\n",
              "      <td>BOMBINHAS</td>\n",
              "      <td>0.758</td>\n",
              "    </tr>\n",
              "    <tr>\n",
              "      <th>3</th>\n",
              "      <td>SAO BERNARDO DO CAMPO</td>\n",
              "      <td>0.756</td>\n",
              "    </tr>\n",
              "    <tr>\n",
              "      <th>4</th>\n",
              "      <td>BRASILIA</td>\n",
              "      <td>0.736</td>\n",
              "    </tr>\n",
              "    <tr>\n",
              "      <th>...</th>\n",
              "      <td>...</td>\n",
              "      <td>...</td>\n",
              "    </tr>\n",
              "    <tr>\n",
              "      <th>5565</th>\n",
              "      <td>RIO DOS BOIS</td>\n",
              "      <td>NaN</td>\n",
              "    </tr>\n",
              "    <tr>\n",
              "      <th>5566</th>\n",
              "      <td>AXIXA DO TOCANTINS</td>\n",
              "      <td>NaN</td>\n",
              "    </tr>\n",
              "    <tr>\n",
              "      <th>5567</th>\n",
              "      <td>FILADELFIA</td>\n",
              "      <td>NaN</td>\n",
              "    </tr>\n",
              "    <tr>\n",
              "      <th>5568</th>\n",
              "      <td>PONTE ALTA DO TOCANTINS</td>\n",
              "      <td>NaN</td>\n",
              "    </tr>\n",
              "    <tr>\n",
              "      <th>5569</th>\n",
              "      <td>SILVANOPOLIS</td>\n",
              "      <td>NaN</td>\n",
              "    </tr>\n",
              "  </tbody>\n",
              "</table>\n",
              "<p>5570 rows × 2 columns</p>\n",
              "</div>"
            ],
            "text/plain": [
              "                    municipio  indice_governanca\n",
              "0                    ILHABELA              0.767\n",
              "1         SANTANA DE PARNAIBA              0.759\n",
              "2                   BOMBINHAS              0.758\n",
              "3       SAO BERNARDO DO CAMPO              0.756\n",
              "4                    BRASILIA              0.736\n",
              "...                       ...                ...\n",
              "5565             RIO DOS BOIS                NaN\n",
              "5566       AXIXA DO TOCANTINS                NaN\n",
              "5567               FILADELFIA                NaN\n",
              "5568  PONTE ALTA DO TOCANTINS                NaN\n",
              "5569             SILVANOPOLIS                NaN\n",
              "\n",
              "[5570 rows x 2 columns]"
            ]
          },
          "metadata": {
            "tags": []
          },
          "execution_count": 35
        }
      ]
    },
    {
      "cell_type": "markdown",
      "metadata": {
        "_uuid": "7f853685aabfe08e06127a9d54022c6bf4625fca",
        "id": "J97I4nYYjQSL",
        "colab_type": "text"
      },
      "source": [
        "##  `Exercícios: Seleções Básicas`"
      ]
    },
    {
      "cell_type": "markdown",
      "metadata": {
        "_uuid": "09722390bac0cb572cc1bdda8eb6e2e86125ee0d",
        "id": "5k2GNft_jQSM",
        "colab_type": "text"
      },
      "source": [
        "1. Selecionar as 10 primeiras linhas mostrando as colunas `municipio`, `estado` e `idhm`.\n",
        "2. Selecionar das linhas 15 a 24 os valores da coluna `municipio`"
      ]
    },
    {
      "cell_type": "markdown",
      "metadata": {
        "_uuid": "02b145153f40f44e409ccb9d4617bf63afe69ebd",
        "id": "RhAtJbg6jQSN",
        "colab_type": "text"
      },
      "source": [
        "## Dissecando Series (Tipo de Dados)"
      ]
    },
    {
      "cell_type": "code",
      "metadata": {
        "trusted": true,
        "_uuid": "778b26cb2fe151fa358d1c1307b86d5bcb2e6450",
        "id": "1_f6D_wijQSN",
        "colab_type": "code",
        "colab": {
          "base_uri": "https://localhost:8080/",
          "height": 35
        },
        "outputId": "5f6198c1-0197-4562-9212-b45e9f51108c"
      },
      "source": [
        "type(igm['porte'])"
      ],
      "execution_count": 36,
      "outputs": [
        {
          "output_type": "execute_result",
          "data": {
            "text/plain": [
              "pandas.core.series.Series"
            ]
          },
          "metadata": {
            "tags": []
          },
          "execution_count": 36
        }
      ]
    },
    {
      "cell_type": "markdown",
      "metadata": {
        "_uuid": "c0ecf3056e378e725bc560ef204bbb79a8e6b82c",
        "id": "dLQL-GwWjQSR",
        "colab_type": "text"
      },
      "source": [
        "Quando selecionamos uma coluna, o nosso resultado é um objeto do tipo `Series`, que é basicamente a forma do pandas representar uma coluna. Uma `Series` é composta pelos seguintes elementos:\n",
        "    1. Index\n",
        "    2. Index label\n",
        "    3. Hidden values\n",
        "    4. Series Name\n",
        "    5. Lenght\n",
        "    6. dtype"
      ]
    },
    {
      "cell_type": "markdown",
      "metadata": {
        "_uuid": "27c519b2e63884918249ddd1e4653737f9015181",
        "id": "jNhA5FMOjQSR",
        "colab_type": "text"
      },
      "source": [
        "# Fazendo Operações de Agregamento:"
      ]
    },
    {
      "cell_type": "markdown",
      "metadata": {
        "_uuid": "a7341273c9976510e4e543bc88a91de8c5f49e1b",
        "id": "fL0T9hxojQSV",
        "colab_type": "text"
      },
      "source": [
        "Vamos contar quantos valores da coluna `porte` temos para cada tipo com o comando `value_counts()`:"
      ]
    },
    {
      "cell_type": "code",
      "metadata": {
        "trusted": true,
        "_uuid": "3ffe229c50ca8cc12fd8d3438b80ad6a3917d6cb",
        "id": "-KFqb_XjjQSV",
        "colab_type": "code",
        "colab": {}
      },
      "source": [
        "igm['porte'].value_counts()"
      ],
      "execution_count": null,
      "outputs": []
    },
    {
      "cell_type": "markdown",
      "metadata": {
        "_uuid": "61df9112fc880a287fa2df6116cabfc1a2065787",
        "id": "Rr2QReqKjQSZ",
        "colab_type": "text"
      },
      "source": [
        "## Plotando Nosso Primeiro Gráfico"
      ]
    },
    {
      "cell_type": "markdown",
      "metadata": {
        "_uuid": "f9a5cf1def16ab0785c9d401e2e53a186add96e1",
        "id": "es_bob1mjQSa",
        "colab_type": "text"
      },
      "source": [
        "Para garantir que nossos gráficos vão ser plotados em todas as versões do `Jupyter Notebook` precisamos rodar o comando abaixo:"
      ]
    },
    {
      "cell_type": "code",
      "metadata": {
        "trusted": true,
        "_uuid": "25a46005388e5fccd33cba7aba4bc9ff9823044d",
        "id": "3NWnp2UdjQSb",
        "colab_type": "code",
        "colab": {}
      },
      "source": [
        "%matplotlib inline"
      ],
      "execution_count": 37,
      "outputs": []
    },
    {
      "cell_type": "markdown",
      "metadata": {
        "_uuid": "cb5a073e25f13253c5846193b6f3e12b5f8e2eec",
        "id": "c5jbwGsojQSe",
        "colab_type": "text"
      },
      "source": [
        "Com bastante facilidade podemos plotar um gráfico com os valores acima, basta colocar `.plot.bar()` na sequência."
      ]
    },
    {
      "cell_type": "code",
      "metadata": {
        "scrolled": false,
        "trusted": true,
        "_uuid": "83bfddcc73b879379d9be3020e25ca307d1c7910",
        "id": "gz-agTbNjQSf",
        "colab_type": "code",
        "colab": {
          "base_uri": "https://localhost:8080/",
          "height": 359
        },
        "outputId": "847d82c0-9d84-44ef-82a4-cc92d4fc01d3"
      },
      "source": [
        "igm['porte'].value_counts().plot.bar()"
      ],
      "execution_count": 38,
      "outputs": [
        {
          "output_type": "execute_result",
          "data": {
            "text/plain": [
              "<matplotlib.axes._subplots.AxesSubplot at 0x7f9e07fde0f0>"
            ]
          },
          "metadata": {
            "tags": []
          },
          "execution_count": 38
        },
        {
          "output_type": "display_data",
          "data": {
            "image/png": "[encoded data removed]",
            "text/plain": [
              "<Figure size 432x288 with 1 Axes>"
            ]
          },
          "metadata": {
            "tags": [],
            "needs_background": "light"
          }
        }
      ]
    },
    {
      "cell_type": "markdown",
      "metadata": {
        "_uuid": "dd1d097e114ed519ab1b81439d0169c392198042",
        "id": "kXojvqLfjQSi",
        "colab_type": "text"
      },
      "source": [
        "##  `Exercícios: Series`"
      ]
    },
    {
      "cell_type": "markdown",
      "metadata": {
        "_uuid": "de87944c02a4142c3b0f0167da7b7a8b626e9a6e",
        "id": "woTdUprWjQSi",
        "colab_type": "text"
      },
      "source": [
        "1. Contar o número de munícipios por estado\n",
        "2. Plotar gráfico de número de munícipios por estado"
      ]
    },
    {
      "cell_type": "markdown",
      "metadata": {
        "_uuid": "50c7035abbb62a5b9ecb8d65e95e1a08edae9bec",
        "id": "sCLBYVVBjQSj",
        "colab_type": "text"
      },
      "source": [
        "## Operações de Agregamento Numéricas\n"
      ]
    },
    {
      "cell_type": "markdown",
      "metadata": {
        "_uuid": "d086a745795a16fc1328cbba872b1ebc24a83d72",
        "id": "2e6jlo0JjQSk",
        "colab_type": "text"
      },
      "source": [
        "Vamos criar uma variável chamada `ind_des` para guarda a nossa `Series` relativa a coluna `indice_governanca`"
      ]
    },
    {
      "cell_type": "code",
      "metadata": {
        "trusted": true,
        "_uuid": "ca52503e6f033fd428ca42d7afd01ccfac66993f",
        "id": "oMEP5hfbjQSk",
        "colab_type": "code",
        "colab": {}
      },
      "source": [
        "ind_des = igm['indice_governanca']"
      ],
      "execution_count": 114,
      "outputs": []
    },
    {
      "cell_type": "markdown",
      "metadata": {
        "_uuid": "fd14dcf9878034267d8320dae2b42eb1f3b7b6fc",
        "id": "IDBA3XJ1jQSo",
        "colab_type": "text"
      },
      "source": [
        "Vamos contar a quantidade de elementos em `ind_des`"
      ]
    },
    {
      "cell_type": "markdown",
      "metadata": {
        "_uuid": "73ca849c84d7eb2426be0f8af3bf260ee58f45f7",
        "id": "7WgSvWMujQSp",
        "colab_type": "text"
      },
      "source": [
        "Para verificarmos quais são os valores em branco podemos usar o `isnull()`, que nos retornar uma `Series` com valores `True` ou `False` de acordo com se os valores estiverem em branco ou não."
      ]
    },
    {
      "cell_type": "code",
      "metadata": {
        "scrolled": false,
        "trusted": true,
        "_uuid": "1173b26fbc84edb0aeb3209e6a61951060a4c844",
        "id": "oMv6JATqjQSq",
        "colab_type": "code",
        "colab": {
          "base_uri": "https://localhost:8080/",
          "height": 35
        },
        "outputId": "234fdda9-3581-45ab-9729-278228eba16b"
      },
      "source": [
        "ind_des.count()"
      ],
      "execution_count": 115,
      "outputs": [
        {
          "output_type": "execute_result",
          "data": {
            "text/plain": [
              "3303"
            ]
          },
          "metadata": {
            "tags": []
          },
          "execution_count": 115
        }
      ]
    },
    {
      "cell_type": "markdown",
      "metadata": {
        "_uuid": "e56d679825fc02ca8aa73cd2dff60ea1cb5b0a18",
        "id": "GfG0uHomjQSu",
        "colab_type": "text"
      },
      "source": [
        "Note que o `.count()` não contabiliza valores em branco, se quisermos ver os valores em branco temos que usar o atributo `.size`, que não tem paranteses"
      ]
    },
    {
      "cell_type": "code",
      "metadata": {
        "trusted": true,
        "_uuid": "55d2003b76baf3c7bcb383e4405bf0e9430ebdda",
        "id": "EgAZCyQsjQSv",
        "colab_type": "code",
        "colab": {
          "base_uri": "https://localhost:8080/",
          "height": 35
        },
        "outputId": "8b62daab-1dea-4826-adb1-7a7aa58c4e0a"
      },
      "source": [
        "ind_des.size"
      ],
      "execution_count": 116,
      "outputs": [
        {
          "output_type": "execute_result",
          "data": {
            "text/plain": [
              "3303"
            ]
          },
          "metadata": {
            "tags": []
          },
          "execution_count": 116
        }
      ]
    },
    {
      "cell_type": "code",
      "metadata": {
        "scrolled": true,
        "trusted": true,
        "_uuid": "5e20d661426900a6f7289910b7e1366339d6517d",
        "id": "m5_GXR5BjQSy",
        "colab_type": "code",
        "colab": {
          "base_uri": "https://localhost:8080/",
          "height": 235
        },
        "outputId": "4b92eef4-6dcb-414d-925d-71443d5acce6"
      },
      "source": [
        "ind_des.isnull()"
      ],
      "execution_count": 117,
      "outputs": [
        {
          "output_type": "execute_result",
          "data": {
            "text/plain": [
              "0       False\n",
              "1       False\n",
              "2       False\n",
              "3       False\n",
              "4       False\n",
              "        ...  \n",
              "3298    False\n",
              "3299    False\n",
              "3300    False\n",
              "3301    False\n",
              "3302    False\n",
              "Name: indice_governanca, Length: 3303, dtype: bool"
            ]
          },
          "metadata": {
            "tags": []
          },
          "execution_count": 117
        }
      ]
    },
    {
      "cell_type": "markdown",
      "metadata": {
        "_uuid": "79f1323663cfb24fcddd69ee78aa2df64fc05130",
        "id": "bmYSy3UIjQS0",
        "colab_type": "text"
      },
      "source": [
        "Uma forma de melhor utilizarmos essa informação é contabilizando o total de valores em branco, note que `True` tem valor `1` e `False` tem valor `0`, portanto se somarmos todos os elementos, teremos o total de valores em branco."
      ]
    },
    {
      "cell_type": "code",
      "metadata": {
        "scrolled": true,
        "trusted": true,
        "_uuid": "ef00232c41592db8523052b917d33ae817903736",
        "id": "i4g1_xuijQS1",
        "colab_type": "code",
        "colab": {
          "base_uri": "https://localhost:8080/",
          "height": 35
        },
        "outputId": "d2ed84c6-2cf4-4186-fcb9-c124b430d2b9"
      },
      "source": [
        "ind_des.isnull().sum()"
      ],
      "execution_count": 118,
      "outputs": [
        {
          "output_type": "execute_result",
          "data": {
            "text/plain": [
              "0"
            ]
          },
          "metadata": {
            "tags": []
          },
          "execution_count": 118
        }
      ]
    },
    {
      "cell_type": "markdown",
      "metadata": {
        "_uuid": "a3570591fe6d0323c7d6944b3b503b38a669e0ab",
        "id": "2_9i3QCCjQS3",
        "colab_type": "text"
      },
      "source": [
        "Podemos remover esses valores em branco com um simples comando, o `dropna()`."
      ]
    },
    {
      "cell_type": "code",
      "metadata": {
        "scrolled": true,
        "trusted": true,
        "_uuid": "73297a40bc3fef18b503a7111342d33d72e517f4",
        "id": "ah9VQZYHjQS4",
        "colab_type": "code",
        "colab": {
          "base_uri": "https://localhost:8080/",
          "height": 235
        },
        "outputId": "d20837b2-4501-4fb6-8eb2-6eb983b5bdb3"
      },
      "source": [
        "ind_des.dropna()"
      ],
      "execution_count": 119,
      "outputs": [
        {
          "output_type": "execute_result",
          "data": {
            "text/plain": [
              "0       0.767\n",
              "1       0.759\n",
              "2       0.758\n",
              "3       0.756\n",
              "4       0.736\n",
              "        ...  \n",
              "3298    0.296\n",
              "3299    0.282\n",
              "3300    0.279\n",
              "3301    0.278\n",
              "3302    0.258\n",
              "Name: indice_governanca, Length: 3303, dtype: float64"
            ]
          },
          "metadata": {
            "tags": []
          },
          "execution_count": 119
        }
      ]
    },
    {
      "cell_type": "markdown",
      "metadata": {
        "_uuid": "f80d22eebbe391562380ca0fe4eba6eda9d441c4",
        "id": "DHjqsiowjQS8",
        "colab_type": "text"
      },
      "source": [
        "Ele retornou os valores, e podemos ver que não tem nenhum valor em branco, mas vamos verificar de fato para ver se mudamos os nossos valores:"
      ]
    },
    {
      "cell_type": "code",
      "metadata": {
        "trusted": true,
        "_uuid": "713c5026212ccd625d4e709eade1f24a46ce2d7f",
        "id": "aa2KYxA-jQS8",
        "colab_type": "code",
        "colab": {
          "base_uri": "https://localhost:8080/",
          "height": 35
        },
        "outputId": "22d0c359-a5ea-46f5-f32a-b335c6ad9cf7"
      },
      "source": [
        "ind_des.isnull().sum()"
      ],
      "execution_count": 120,
      "outputs": [
        {
          "output_type": "execute_result",
          "data": {
            "text/plain": [
              "0"
            ]
          },
          "metadata": {
            "tags": []
          },
          "execution_count": 120
        }
      ]
    },
    {
      "cell_type": "markdown",
      "metadata": {
        "_uuid": "6a56a522de1591483574616ced9d2fa268265dff",
        "id": "yPoQIVWhjQTB",
        "colab_type": "text"
      },
      "source": [
        "Não mudou, por que isso aconteceu? Uma série de funções no pandas não alteram o objeto em questão, porque muitas vezes estamos fazendo transformações temporárias para gerar uma visualização ou análise, para mudar o objeto temos que passar um parâmetro a mais que é o `inplace=True`."
      ]
    },
    {
      "cell_type": "code",
      "metadata": {
        "trusted": true,
        "_uuid": "9a73d782a493e29ee59adda8cf9ed7f570eba1a6",
        "id": "ECk4H1SsjQTB",
        "colab_type": "code",
        "colab": {}
      },
      "source": [
        "ind_des.dropna(inplace=True)"
      ],
      "execution_count": 121,
      "outputs": []
    },
    {
      "cell_type": "markdown",
      "metadata": {
        "_uuid": "2f4e8ad10c97fba23285fed39ccbb7737af8cb02",
        "id": "H3SmP_oHjQTG",
        "colab_type": "text"
      },
      "source": [
        "Vamos verificar novamente se temos valores em branco no nosso conjunto de dados:"
      ]
    },
    {
      "cell_type": "code",
      "metadata": {
        "scrolled": true,
        "trusted": true,
        "_uuid": "8e5bf10cacd06618184819ba3e77f5d9591e0597",
        "id": "oFry4IGwjQTH",
        "colab_type": "code",
        "colab": {
          "base_uri": "https://localhost:8080/",
          "height": 35
        },
        "outputId": "1541bd9c-b4f0-4fa4-d2a6-c32f075e2644"
      },
      "source": [
        "ind_des.isnull().sum()"
      ],
      "execution_count": 122,
      "outputs": [
        {
          "output_type": "execute_result",
          "data": {
            "text/plain": [
              "0"
            ]
          },
          "metadata": {
            "tags": []
          },
          "execution_count": 122
        }
      ]
    },
    {
      "cell_type": "markdown",
      "metadata": {
        "_uuid": "8c72ca3138bfe54db61a64e2419b2d250007cdda",
        "id": "YoKNt5RyjQTK",
        "colab_type": "text"
      },
      "source": [
        "Selecionando o valor mínimo do índice de desempenho"
      ]
    },
    {
      "cell_type": "code",
      "metadata": {
        "scrolled": true,
        "trusted": true,
        "_uuid": "a18cfe34e9bdd2d6aa4ecadfc3de803787fe1843",
        "id": "n-T_wCH7jQTL",
        "colab_type": "code",
        "colab": {
          "base_uri": "https://localhost:8080/",
          "height": 35
        },
        "outputId": "11d4dee9-2eaf-47b3-8287-271bed4d7884"
      },
      "source": [
        "ind_des.min()"
      ],
      "execution_count": 123,
      "outputs": [
        {
          "output_type": "execute_result",
          "data": {
            "text/plain": [
              "0.258"
            ]
          },
          "metadata": {
            "tags": []
          },
          "execution_count": 123
        }
      ]
    },
    {
      "cell_type": "markdown",
      "metadata": {
        "_uuid": "7d7ca90c7a57844eeb3c1cefaae2ad7965926e8c",
        "id": "YBAvNqDGjQTN",
        "colab_type": "text"
      },
      "source": [
        "Selecionando o valor máximo do índice de desempenho"
      ]
    },
    {
      "cell_type": "code",
      "metadata": {
        "scrolled": false,
        "trusted": true,
        "_uuid": "b55738c76488eaaf0131158a7aab69e23a262bd5",
        "id": "a96b43oEjQTO",
        "colab_type": "code",
        "colab": {
          "base_uri": "https://localhost:8080/",
          "height": 35
        },
        "outputId": "e85a2cf1-5d41-45ea-85e7-fe096016106c"
      },
      "source": [
        "ind_des.max()"
      ],
      "execution_count": 124,
      "outputs": [
        {
          "output_type": "execute_result",
          "data": {
            "text/plain": [
              "0.767"
            ]
          },
          "metadata": {
            "tags": []
          },
          "execution_count": 124
        }
      ]
    },
    {
      "cell_type": "markdown",
      "metadata": {
        "_uuid": "cf14292f4d81087035ef0f4c11a908ab31890aeb",
        "id": "l-BTCSNZjQTR",
        "colab_type": "text"
      },
      "source": [
        "Olhando a média dos valores:"
      ]
    },
    {
      "cell_type": "code",
      "metadata": {
        "trusted": true,
        "_uuid": "28f5f93d540df279fa0777505e2785a53141db6d",
        "id": "DEY3aSR6jQTS",
        "colab_type": "code",
        "colab": {
          "base_uri": "https://localhost:8080/",
          "height": 35
        },
        "outputId": "77638fef-886b-4eee-8d3a-2567a42d8ed6"
      },
      "source": [
        "ind_des.mean()"
      ],
      "execution_count": 125,
      "outputs": [
        {
          "output_type": "execute_result",
          "data": {
            "text/plain": [
              "0.5019585225552526"
            ]
          },
          "metadata": {
            "tags": []
          },
          "execution_count": 125
        }
      ]
    },
    {
      "cell_type": "markdown",
      "metadata": {
        "_uuid": "75c778476f46fc765b4d86e8d2bb0fdc9ba4936a",
        "id": "VfyftCNSjQTV",
        "colab_type": "text"
      },
      "source": [
        "Olhando o desvio padrão dos valores:"
      ]
    },
    {
      "cell_type": "code",
      "metadata": {
        "trusted": true,
        "_uuid": "58bbc314807978c4f768978755e37c262d2b47cc",
        "id": "o-vcqRCFjQTV",
        "colab_type": "code",
        "colab": {
          "base_uri": "https://localhost:8080/",
          "height": 35
        },
        "outputId": "1223eaa3-e6e6-4858-df49-3d3f8ff88a37"
      },
      "source": [
        "ind_des.std()"
      ],
      "execution_count": 126,
      "outputs": [
        {
          "output_type": "execute_result",
          "data": {
            "text/plain": [
              "0.08370404317359417"
            ]
          },
          "metadata": {
            "tags": []
          },
          "execution_count": 126
        }
      ]
    },
    {
      "cell_type": "markdown",
      "metadata": {
        "_uuid": "3251d2031eff8779924e872c40d3af6bff0b63c9",
        "id": "-TpxFzcmjQTZ",
        "colab_type": "text"
      },
      "source": [
        "## Tendo uma visão geral do Índice de Governança"
      ]
    },
    {
      "cell_type": "markdown",
      "metadata": {
        "_uuid": "a329fa0735b636179548ec8db46a35e0a450c7ea",
        "id": "upXcYlLCjQTZ",
        "colab_type": "text"
      },
      "source": [
        "Um comando muito útil para avaliar uma `Series` é o `.describe()`, que irá calcular os quartis, valores máximo, mínimo, a média e o desvio padrão."
      ]
    },
    {
      "cell_type": "code",
      "metadata": {
        "scrolled": true,
        "trusted": true,
        "_uuid": "e6a2d660a33d260e9adee7cc66f57d792b5e5d3b",
        "id": "t59sGL2HjQTa",
        "colab_type": "code",
        "colab": {
          "base_uri": "https://localhost:8080/",
          "height": 181
        },
        "outputId": "859aa50b-9c15-46ba-d8d6-8cce2462f1d3"
      },
      "source": [
        "ind_des.describe()"
      ],
      "execution_count": 128,
      "outputs": [
        {
          "output_type": "execute_result",
          "data": {
            "text/plain": [
              "count    3303.000000\n",
              "mean        0.501959\n",
              "std         0.083704\n",
              "min         0.258000\n",
              "25%         0.438000\n",
              "50%         0.504000\n",
              "75%         0.566000\n",
              "max         0.767000\n",
              "Name: indice_governanca, dtype: float64"
            ]
          },
          "metadata": {
            "tags": []
          },
          "execution_count": 128
        }
      ]
    },
    {
      "cell_type": "markdown",
      "metadata": {
        "_uuid": "a06de4aa06e42ce6917d6a299085b81832bc5fae",
        "id": "PaAS3IUdjQTd",
        "colab_type": "text"
      },
      "source": [
        "## Usando o .describe() em um DataFrame"
      ]
    },
    {
      "cell_type": "markdown",
      "metadata": {
        "_uuid": "f49c8aa0918e8a7427688f616a9b1fbe8fae77d1",
        "id": "bqE2XFApjQTe",
        "colab_type": "text"
      },
      "source": [
        "O bom é que o `describe()` também funciona em um `DataFrame`, e por padrão apenas para as colunas numéricas:"
      ]
    },
    {
      "cell_type": "code",
      "metadata": {
        "trusted": true,
        "_uuid": "f9cb5db0ca1af4ca7cfb1955d55bcff4d63dea7a",
        "id": "PFcjrv3VjQTe",
        "colab_type": "code",
        "colab": {
          "base_uri": "https://localhost:8080/",
          "height": 308
        },
        "outputId": "3b43ec8d-9905-412f-841e-4bb7b305fdd9"
      },
      "source": [
        "igm.describe()"
      ],
      "execution_count": 132,
      "outputs": [
        {
          "output_type": "execute_result",
          "data": {
            "text/html": [
              "<div>\n",
              "<style scoped>\n",
              "    .dataframe tbody tr th:only-of-type {\n",
              "        vertical-align: middle;\n",
              "    }\n",
              "\n",
              "    .dataframe tbody tr th {\n",
              "        vertical-align: top;\n",
              "    }\n",
              "\n",
              "    .dataframe thead th {\n",
              "        text-align: right;\n",
              "    }\n",
              "</style>\n",
              "<table border=\"1\" class=\"dataframe\">\n",
              "  <thead>\n",
              "    <tr style=\"text-align: right;\">\n",
              "      <th></th>\n",
              "      <th>codigo_mun</th>\n",
              "      <th>capital</th>\n",
              "      <th>pib</th>\n",
              "      <th>pib_pc</th>\n",
              "      <th>participacao_transf_receita</th>\n",
              "      <th>servidores</th>\n",
              "      <th>comissionados</th>\n",
              "      <th>perc_pop_econ_ativa</th>\n",
              "      <th>taxa_empreendedorismo</th>\n",
              "      <th>anos_estudo_empreendedor</th>\n",
              "      <th>jornada_trabalho</th>\n",
              "      <th>gasto_pc_saude</th>\n",
              "      <th>hab_p_medico</th>\n",
              "      <th>exp_vida</th>\n",
              "      <th>gasto_pc_educacao</th>\n",
              "      <th>exp_anos_estudo</th>\n",
              "      <th>nota_ciencias</th>\n",
              "      <th>nota_humanas</th>\n",
              "      <th>nota_linguagem</th>\n",
              "      <th>nota_mat</th>\n",
              "      <th>nota_redacao</th>\n",
              "      <th>idhm</th>\n",
              "      <th>indice_governanca</th>\n",
              "    </tr>\n",
              "  </thead>\n",
              "  <tbody>\n",
              "    <tr>\n",
              "      <th>count</th>\n",
              "      <td>5.570000e+03</td>\n",
              "      <td>5570.000000</td>\n",
              "      <td>5.570000e+03</td>\n",
              "      <td>5570.000000</td>\n",
              "      <td>4893.000000</td>\n",
              "      <td>5233.000000</td>\n",
              "      <td>5570.000000</td>\n",
              "      <td>5565.000000</td>\n",
              "      <td>5570.000000</td>\n",
              "      <td>5570.000000</td>\n",
              "      <td>5570.000000</td>\n",
              "      <td>4881.000000</td>\n",
              "      <td>4951.000000</td>\n",
              "      <td>5565.000000</td>\n",
              "      <td>4880.000000</td>\n",
              "      <td>5565.000000</td>\n",
              "      <td>5558.000000</td>\n",
              "      <td>5558.000000</td>\n",
              "      <td>5557.000000</td>\n",
              "      <td>5557.000000</td>\n",
              "      <td>5557.000000</td>\n",
              "      <td>4986.000000</td>\n",
              "      <td>3303.000000</td>\n",
              "    </tr>\n",
              "    <tr>\n",
              "      <th>mean</th>\n",
              "      <td>3.253591e+06</td>\n",
              "      <td>0.004847</td>\n",
              "      <td>9.544801e+05</td>\n",
              "      <td>17374.483108</td>\n",
              "      <td>82.316575</td>\n",
              "      <td>771.324861</td>\n",
              "      <td>96.371275</td>\n",
              "      <td>0.936503</td>\n",
              "      <td>0.250939</td>\n",
              "      <td>6.124378</td>\n",
              "      <td>41.414005</td>\n",
              "      <td>604.508021</td>\n",
              "      <td>1801.408820</td>\n",
              "      <td>73.088996</td>\n",
              "      <td>769.775533</td>\n",
              "      <td>9.463639</td>\n",
              "      <td>460.124417</td>\n",
              "      <td>509.526944</td>\n",
              "      <td>499.286922</td>\n",
              "      <td>465.007784</td>\n",
              "      <td>501.840952</td>\n",
              "      <td>0.518626</td>\n",
              "      <td>0.501959</td>\n",
              "    </tr>\n",
              "    <tr>\n",
              "      <th>std</th>\n",
              "      <td>9.849103e+05</td>\n",
              "      <td>0.069461</td>\n",
              "      <td>9.502661e+06</td>\n",
              "      <td>20133.341193</td>\n",
              "      <td>11.272136</td>\n",
              "      <td>3209.755931</td>\n",
              "      <td>234.994469</td>\n",
              "      <td>0.178640</td>\n",
              "      <td>0.098014</td>\n",
              "      <td>1.462946</td>\n",
              "      <td>5.193799</td>\n",
              "      <td>282.184671</td>\n",
              "      <td>2203.553117</td>\n",
              "      <td>2.680715</td>\n",
              "      <td>277.841845</td>\n",
              "      <td>1.098269</td>\n",
              "      <td>19.275298</td>\n",
              "      <td>23.816077</td>\n",
              "      <td>22.056169</td>\n",
              "      <td>28.496300</td>\n",
              "      <td>44.904955</td>\n",
              "      <td>0.171847</td>\n",
              "      <td>0.083704</td>\n",
              "    </tr>\n",
              "    <tr>\n",
              "      <th>min</th>\n",
              "      <td>1.100015e+06</td>\n",
              "      <td>0.000000</td>\n",
              "      <td>9.678440e+03</td>\n",
              "      <td>3241.290000</td>\n",
              "      <td>0.000000</td>\n",
              "      <td>1.000000</td>\n",
              "      <td>0.000000</td>\n",
              "      <td>0.290000</td>\n",
              "      <td>0.000000</td>\n",
              "      <td>0.000000</td>\n",
              "      <td>0.000000</td>\n",
              "      <td>3.800000</td>\n",
              "      <td>85.746835</td>\n",
              "      <td>65.300000</td>\n",
              "      <td>56.600000</td>\n",
              "      <td>4.340000</td>\n",
              "      <td>385.000000</td>\n",
              "      <td>373.800000</td>\n",
              "      <td>404.000000</td>\n",
              "      <td>369.275000</td>\n",
              "      <td>320.000000</td>\n",
              "      <td>0.000000</td>\n",
              "      <td>0.258000</td>\n",
              "    </tr>\n",
              "    <tr>\n",
              "      <th>25%</th>\n",
              "      <td>2.512126e+06</td>\n",
              "      <td>0.000000</td>\n",
              "      <td>5.922529e+04</td>\n",
              "      <td>7077.357500</td>\n",
              "      <td>77.000000</td>\n",
              "      <td>190.000000</td>\n",
              "      <td>24.000000</td>\n",
              "      <td>0.810000</td>\n",
              "      <td>0.190000</td>\n",
              "      <td>5.039926</td>\n",
              "      <td>38.151867</td>\n",
              "      <td>416.930000</td>\n",
              "      <td>967.636243</td>\n",
              "      <td>71.150000</td>\n",
              "      <td>585.892500</td>\n",
              "      <td>8.750000</td>\n",
              "      <td>446.324306</td>\n",
              "      <td>492.975737</td>\n",
              "      <td>483.454286</td>\n",
              "      <td>443.078082</td>\n",
              "      <td>473.125000</td>\n",
              "      <td>0.375000</td>\n",
              "      <td>0.438000</td>\n",
              "    </tr>\n",
              "    <tr>\n",
              "      <th>50%</th>\n",
              "      <td>3.146280e+06</td>\n",
              "      <td>0.000000</td>\n",
              "      <td>1.301531e+05</td>\n",
              "      <td>12621.810000</td>\n",
              "      <td>85.000000</td>\n",
              "      <td>329.000000</td>\n",
              "      <td>45.000000</td>\n",
              "      <td>0.940000</td>\n",
              "      <td>0.230000</td>\n",
              "      <td>6.049990</td>\n",
              "      <td>41.718024</td>\n",
              "      <td>537.480000</td>\n",
              "      <td>1457.062500</td>\n",
              "      <td>73.470000</td>\n",
              "      <td>731.825000</td>\n",
              "      <td>9.470000</td>\n",
              "      <td>457.549922</td>\n",
              "      <td>508.987016</td>\n",
              "      <td>499.105769</td>\n",
              "      <td>461.261538</td>\n",
              "      <td>502.406015</td>\n",
              "      <td>0.535000</td>\n",
              "      <td>0.504000</td>\n",
              "    </tr>\n",
              "    <tr>\n",
              "      <th>75%</th>\n",
              "      <td>4.119190e+06</td>\n",
              "      <td>0.000000</td>\n",
              "      <td>3.426808e+05</td>\n",
              "      <td>21262.387500</td>\n",
              "      <td>91.000000</td>\n",
              "      <td>663.000000</td>\n",
              "      <td>92.000000</td>\n",
              "      <td>1.050000</td>\n",
              "      <td>0.290000</td>\n",
              "      <td>7.175247</td>\n",
              "      <td>44.682323</td>\n",
              "      <td>717.760000</td>\n",
              "      <td>2119.679487</td>\n",
              "      <td>75.160000</td>\n",
              "      <td>898.625000</td>\n",
              "      <td>10.210000</td>\n",
              "      <td>471.752760</td>\n",
              "      <td>526.405985</td>\n",
              "      <td>515.125917</td>\n",
              "      <td>483.773196</td>\n",
              "      <td>532.173913</td>\n",
              "      <td>0.659000</td>\n",
              "      <td>0.566000</td>\n",
              "    </tr>\n",
              "    <tr>\n",
              "      <th>max</th>\n",
              "      <td>5.300108e+06</td>\n",
              "      <td>1.000000</td>\n",
              "      <td>5.707062e+08</td>\n",
              "      <td>715193.700000</td>\n",
              "      <td>100.000000</td>\n",
              "      <td>134273.000000</td>\n",
              "      <td>7240.000000</td>\n",
              "      <td>1.640000</td>\n",
              "      <td>0.770000</td>\n",
              "      <td>11.553164</td>\n",
              "      <td>68.528406</td>\n",
              "      <td>3066.740000</td>\n",
              "      <td>78464.666667</td>\n",
              "      <td>78.640000</td>\n",
              "      <td>3695.930000</td>\n",
              "      <td>12.830000</td>\n",
              "      <td>550.566667</td>\n",
              "      <td>595.160000</td>\n",
              "      <td>571.659503</td>\n",
              "      <td>603.415000</td>\n",
              "      <td>668.000000</td>\n",
              "      <td>1.000000</td>\n",
              "      <td>0.767000</td>\n",
              "    </tr>\n",
              "  </tbody>\n",
              "</table>\n",
              "</div>"
            ],
            "text/plain": [
              "         codigo_mun      capital  ...         idhm  indice_governanca\n",
              "count  5.570000e+03  5570.000000  ...  4986.000000        3303.000000\n",
              "mean   3.253591e+06     0.004847  ...     0.518626           0.501959\n",
              "std    9.849103e+05     0.069461  ...     0.171847           0.083704\n",
              "min    1.100015e+06     0.000000  ...     0.000000           0.258000\n",
              "25%    2.512126e+06     0.000000  ...     0.375000           0.438000\n",
              "50%    3.146280e+06     0.000000  ...     0.535000           0.504000\n",
              "75%    4.119190e+06     0.000000  ...     0.659000           0.566000\n",
              "max    5.300108e+06     1.000000  ...     1.000000           0.767000\n",
              "\n",
              "[8 rows x 23 columns]"
            ]
          },
          "metadata": {
            "tags": []
          },
          "execution_count": 132
        }
      ]
    },
    {
      "cell_type": "markdown",
      "metadata": {
        "_uuid": "c6aaa4267f4b30b13552cf69004a30ed63d5984e",
        "id": "-SNFxQXsjQTh",
        "colab_type": "text"
      },
      "source": [
        "##  `Exercícios: Agregações Númericas`"
      ]
    },
    {
      "cell_type": "markdown",
      "metadata": {
        "_uuid": "992b267b46863808f6808bcad37fb96b957d007e",
        "id": "GrNF7JdVjQTh",
        "colab_type": "text"
      },
      "source": [
        "1. Utilize o `.min()`, `.max()`, e `.mean()` para avaliar os dados da coluna `exp_vida`\n",
        "2. Utilize o `.describe()` para avaliar os dados da coluna `idhm`"
      ]
    },
    {
      "cell_type": "markdown",
      "metadata": {
        "_uuid": "51df382d93177201f781aaa8c03bf9b0136e221c",
        "id": "XTaDawkdjQTi",
        "colab_type": "text"
      },
      "source": [
        "## Plotando um Histograma do Índice de Governança"
      ]
    },
    {
      "cell_type": "code",
      "metadata": {
        "scrolled": true,
        "trusted": true,
        "_uuid": "0b3a49152d8c2bd6069443443e07e804432138de",
        "id": "pF-uAoQ6jQTl",
        "colab_type": "code",
        "colab": {
          "base_uri": "https://localhost:8080/",
          "height": 171
        },
        "outputId": "4768a35a-ee19-407e-998b-06d5774e27a5"
      },
      "source": [
        "gasto_pc_educacao.hist()"
      ],
      "execution_count": 133,
      "outputs": [
        {
          "output_type": "error",
          "ename": "NameError",
          "evalue": "ignored",
          "traceback": [
            "\u001b[0;31m---------------------------------------------------------------------------\u001b[0m",
            "\u001b[0;31mNameError\u001b[0m                                 Traceback (most recent call last)",
            "\u001b[0;32m<ipython-input-133-8be66f9933e4>\u001b[0m in \u001b[0;36m<module>\u001b[0;34m()\u001b[0m\n\u001b[0;32m----> 1\u001b[0;31m \u001b[0mgasto_pc_educacao\u001b[0m\u001b[0;34m.\u001b[0m\u001b[0mhist\u001b[0m\u001b[0;34m(\u001b[0m\u001b[0;34m)\u001b[0m\u001b[0;34m\u001b[0m\u001b[0;34m\u001b[0m\u001b[0m\n\u001b[0m",
            "\u001b[0;31mNameError\u001b[0m: name 'gasto_pc_educacao' is not defined"
          ]
        }
      ]
    },
    {
      "cell_type": "markdown",
      "metadata": {
        "_uuid": "4cc09e23a4fe9b24e2d2c6d7217c9897fe594503",
        "id": "pvCIQfo2jQTo",
        "colab_type": "text"
      },
      "source": [
        "# Primeiros Gráficos com o Seaborn\n",
        "\n",
        "O Python tem diversas ferramentas para plotar gráficos, uma das mais fáceis e poderosas de usar é o __seaborn__ que foi importado no começo do nosso código com o comando <i>import seaborn as sns</i>."
      ]
    },
    {
      "cell_type": "code",
      "metadata": {
        "trusted": true,
        "_uuid": "f2835c26ddb94a849d66a00d97c4b6845406f1a9",
        "id": "sAMTbtAtjQTo",
        "colab_type": "code",
        "colab": {
          "base_uri": "https://localhost:8080/",
          "height": 568
        },
        "outputId": "2cbb8c8f-6da8-41b7-946a-8c753e617c69"
      },
      "source": [
        "sns.kdeplot()\n"
      ],
      "execution_count": 89,
      "outputs": [
        {
          "output_type": "error",
          "ename": "AttributeError",
          "evalue": "ignored",
          "traceback": [
            "\u001b[0;31m---------------------------------------------------------------------------\u001b[0m",
            "\u001b[0;31mAttributeError\u001b[0m                            Traceback (most recent call last)",
            "\u001b[0;32m<ipython-input-89-120d6f6082d5>\u001b[0m in \u001b[0;36m<module>\u001b[0;34m()\u001b[0m\n\u001b[0;32m----> 1\u001b[0;31m \u001b[0msns\u001b[0m\u001b[0;34m.\u001b[0m\u001b[0mkdeplot\u001b[0m\u001b[0;34m(\u001b[0m\u001b[0;34m'gasto_pc_educacao'\u001b[0m\u001b[0;34m)\u001b[0m\u001b[0;34m\u001b[0m\u001b[0;34m\u001b[0m\u001b[0m\n\u001b[0m",
            "\u001b[0;32m/usr/local/lib/python3.6/dist-packages/seaborn/distributions.py\u001b[0m in \u001b[0;36mkdeplot\u001b[0;34m(data, data2, shade, vertical, kernel, bw, gridsize, cut, clip, legend, cumulative, shade_lowest, cbar, cbar_ax, cbar_kws, ax, **kwargs)\u001b[0m\n\u001b[1;32m    662\u001b[0m         \u001b[0;32mreturn\u001b[0m \u001b[0max\u001b[0m\u001b[0;34m\u001b[0m\u001b[0;34m\u001b[0m\u001b[0m\n\u001b[1;32m    663\u001b[0m \u001b[0;34m\u001b[0m\u001b[0m\n\u001b[0;32m--> 664\u001b[0;31m     \u001b[0mdata\u001b[0m \u001b[0;34m=\u001b[0m \u001b[0mdata\u001b[0m\u001b[0;34m.\u001b[0m\u001b[0mastype\u001b[0m\u001b[0;34m(\u001b[0m\u001b[0mnp\u001b[0m\u001b[0;34m.\u001b[0m\u001b[0mfloat64\u001b[0m\u001b[0;34m)\u001b[0m\u001b[0;34m\u001b[0m\u001b[0;34m\u001b[0m\u001b[0m\n\u001b[0m\u001b[1;32m    665\u001b[0m     \u001b[0;32mif\u001b[0m \u001b[0mdata2\u001b[0m \u001b[0;32mis\u001b[0m \u001b[0;32mnot\u001b[0m \u001b[0;32mNone\u001b[0m\u001b[0;34m:\u001b[0m\u001b[0;34m\u001b[0m\u001b[0;34m\u001b[0m\u001b[0m\n\u001b[1;32m    666\u001b[0m         \u001b[0;32mif\u001b[0m \u001b[0misinstance\u001b[0m\u001b[0;34m(\u001b[0m\u001b[0mdata2\u001b[0m\u001b[0;34m,\u001b[0m \u001b[0mlist\u001b[0m\u001b[0;34m)\u001b[0m\u001b[0;34m:\u001b[0m\u001b[0;34m\u001b[0m\u001b[0;34m\u001b[0m\u001b[0m\n",
            "\u001b[0;31mAttributeError\u001b[0m: 'str' object has no attribute 'astype'"
          ]
        },
        {
          "output_type": "display_data",
          "data": {
            "image/png": "[encoded data removed]",
            "text/plain": [
              "<Figure size 432x288 with 1 Axes>"
            ]
          },
          "metadata": {
            "tags": [],
            "needs_background": "light"
          }
        }
      ]
    },
    {
      "cell_type": "markdown",
      "metadata": {
        "_uuid": "b9fe715666a121d2e116028cdfaf26bdf3fb37b7",
        "id": "5v-AspecjQTr",
        "colab_type": "text"
      },
      "source": [
        "Um gráfico ligeiramente diferente, mas que a além da linha plota as `bins` do histograma."
      ]
    },
    {
      "cell_type": "code",
      "metadata": {
        "trusted": true,
        "_uuid": "ee207beabe11df88ea019293a39499421ef9a050",
        "id": "sXdq3C7GjQTr",
        "colab_type": "code",
        "colab": {
          "base_uri": "https://localhost:8080/",
          "height": 298
        },
        "outputId": "e82ef789-5508-4434-f848-2893d3f9ec3e"
      },
      "source": [
        "sns.distplot(ind_des.dropna())\n"
      ],
      "execution_count": 90,
      "outputs": [
        {
          "output_type": "execute_result",
          "data": {
            "text/plain": [
              "<matplotlib.axes._subplots.AxesSubplot at 0x7f9e058aadd8>"
            ]
          },
          "metadata": {
            "tags": []
          },
          "execution_count": 90
        },
        {
          "output_type": "display_data",
          "data": {
            "image/png": "[encoded data removed]",
            "text/plain": [
              "<Figure size 432x288 with 1 Axes>"
            ]
          },
          "metadata": {
            "tags": [],
            "needs_background": "light"
          }
        }
      ]
    },
    {
      "cell_type": "markdown",
      "metadata": {
        "_uuid": "de96a82b5fc336d98d95cdb796397005e36980fe",
        "id": "sKkQUV9UjQTy",
        "colab_type": "text"
      },
      "source": [
        "##  `Exercícios: Histogramas`"
      ]
    },
    {
      "cell_type": "markdown",
      "metadata": {
        "_uuid": "2d3cc5471c9a71d75588c7451a700ed79f4859d7",
        "id": "hUt-A90qjQTz",
        "colab_type": "text"
      },
      "source": [
        "1. Plote um histograma do `gasto_pc_educacao`\n",
        "2. Plote um `sns.kdeplot()` do `gasto_pc_educacao`\n",
        "3. Plote um `sns.distplot()` do `gasto_pc_educacao`\n",
        "4. Utilize o `.describe()` para ver os valores numéricos do `gasto_pc_educacao`"
      ]
    },
    {
      "cell_type": "markdown",
      "metadata": {
        "_uuid": "1f63d49ffee5cea1f81b28adc8641a0f04ed6616",
        "id": "2dRLsh7mjQTz",
        "colab_type": "text"
      },
      "source": [
        "## Fazendo Filtros"
      ]
    },
    {
      "cell_type": "markdown",
      "metadata": {
        "_uuid": "85bb564439f59f6fb27b6fbd2c84e5b59b2b615e",
        "id": "yNUP6p1-jQTz",
        "colab_type": "text"
      },
      "source": [
        "Tem alguns jeitos de selecionar subconjuntos, podemos escolher todas as cidades que pertençam a região nordeste utilizando o comando abaixo:"
      ]
    },
    {
      "cell_type": "code",
      "metadata": {
        "trusted": true,
        "_uuid": "227e3debe76819029553108e64aab203681f0012",
        "id": "cx6ZbacPjQT0",
        "colab_type": "code",
        "colab": {
          "base_uri": "https://localhost:8080/",
          "height": 635
        },
        "outputId": "efc887f5-4fd8-43d5-94df-94395f8e3b40"
      },
      "source": [
        "igm[igm['regiao']=='NORDESTE']"
      ],
      "execution_count": 135,
      "outputs": [
        {
          "output_type": "execute_result",
          "data": {
            "text/html": [
              "<div>\n",
              "<style scoped>\n",
              "    .dataframe tbody tr th:only-of-type {\n",
              "        vertical-align: middle;\n",
              "    }\n",
              "\n",
              "    .dataframe tbody tr th {\n",
              "        vertical-align: top;\n",
              "    }\n",
              "\n",
              "    .dataframe thead th {\n",
              "        text-align: right;\n",
              "    }\n",
              "</style>\n",
              "<table border=\"1\" class=\"dataframe\">\n",
              "  <thead>\n",
              "    <tr style=\"text-align: right;\">\n",
              "      <th></th>\n",
              "      <th>regiao</th>\n",
              "      <th>estado</th>\n",
              "      <th>municipio</th>\n",
              "      <th>codigo_mun</th>\n",
              "      <th>capital</th>\n",
              "      <th>porte</th>\n",
              "      <th>populacao</th>\n",
              "      <th>area</th>\n",
              "      <th>densidade_dem</th>\n",
              "      <th>pib</th>\n",
              "      <th>pib_pc</th>\n",
              "      <th>participacao_transf_receita</th>\n",
              "      <th>servidores</th>\n",
              "      <th>comissionados</th>\n",
              "      <th>comissionados_por_servidor</th>\n",
              "      <th>perc_pop_econ_ativa</th>\n",
              "      <th>taxa_empreendedorismo</th>\n",
              "      <th>anos_estudo_empreendedor</th>\n",
              "      <th>jornada_trabalho</th>\n",
              "      <th>gasto_pc_saude</th>\n",
              "      <th>hab_p_medico</th>\n",
              "      <th>exp_vida</th>\n",
              "      <th>gasto_pc_educacao</th>\n",
              "      <th>exp_anos_estudo</th>\n",
              "      <th>nota_ciencias</th>\n",
              "      <th>nota_humanas</th>\n",
              "      <th>nota_linguagem</th>\n",
              "      <th>nota_mat</th>\n",
              "      <th>nota_redacao</th>\n",
              "      <th>idhm</th>\n",
              "      <th>ranking_igm</th>\n",
              "      <th>indice_governanca</th>\n",
              "    </tr>\n",
              "  </thead>\n",
              "  <tbody>\n",
              "    <tr>\n",
              "      <th>67</th>\n",
              "      <td>NORDESTE</td>\n",
              "      <td>PE</td>\n",
              "      <td>IPOJUCA</td>\n",
              "      <td>2607208</td>\n",
              "      <td>0</td>\n",
              "      <td>Médio porte</td>\n",
              "      <td>92,965</td>\n",
              "      <td>527.11</td>\n",
              "      <td>153</td>\n",
              "      <td>8411558.28</td>\n",
              "      <td>95666.34</td>\n",
              "      <td>67.0</td>\n",
              "      <td>2662.0</td>\n",
              "      <td>1907.0</td>\n",
              "      <td>72%</td>\n",
              "      <td>0.82</td>\n",
              "      <td>0.16</td>\n",
              "      <td>6.346311</td>\n",
              "      <td>43.826898</td>\n",
              "      <td>1208.11</td>\n",
              "      <td>521.279070</td>\n",
              "      <td>71.44</td>\n",
              "      <td>1779.61</td>\n",
              "      <td>8.65</td>\n",
              "      <td>463.458278</td>\n",
              "      <td>505.182119</td>\n",
              "      <td>503.076629</td>\n",
              "      <td>449.237753</td>\n",
              "      <td>480.988764</td>\n",
              "      <td>0.420</td>\n",
              "      <td>68º</td>\n",
              "      <td>0.659</td>\n",
              "    </tr>\n",
              "    <tr>\n",
              "      <th>77</th>\n",
              "      <td>NORDESTE</td>\n",
              "      <td>CE</td>\n",
              "      <td>FORTALEZA</td>\n",
              "      <td>2304400</td>\n",
              "      <td>1</td>\n",
              "      <td>Grande porte</td>\n",
              "      <td>2,609,716</td>\n",
              "      <td>314.93</td>\n",
              "      <td>7,786.40</td>\n",
              "      <td>49745920.35</td>\n",
              "      <td>19494.40</td>\n",
              "      <td>53.0</td>\n",
              "      <td>27093.0</td>\n",
              "      <td>2201.0</td>\n",
              "      <td>8%</td>\n",
              "      <td>1.00</td>\n",
              "      <td>0.22</td>\n",
              "      <td>8.579938</td>\n",
              "      <td>39.916316</td>\n",
              "      <td>620.43</td>\n",
              "      <td>NaN</td>\n",
              "      <td>74.41</td>\n",
              "      <td>382.80</td>\n",
              "      <td>10.04</td>\n",
              "      <td>492.416843</td>\n",
              "      <td>542.762946</td>\n",
              "      <td>525.144742</td>\n",
              "      <td>500.962286</td>\n",
              "      <td>574.679852</td>\n",
              "      <td>0.742</td>\n",
              "      <td>78º</td>\n",
              "      <td>0.656</td>\n",
              "    </tr>\n",
              "    <tr>\n",
              "      <th>236</th>\n",
              "      <td>NORDESTE</td>\n",
              "      <td>BA</td>\n",
              "      <td>MATA DE SAO JOAO</td>\n",
              "      <td>2921005</td>\n",
              "      <td>0</td>\n",
              "      <td>Pequeno porte 2</td>\n",
              "      <td>46,392</td>\n",
              "      <td>633.2</td>\n",
              "      <td>63.5</td>\n",
              "      <td>981822.66</td>\n",
              "      <td>22044.61</td>\n",
              "      <td>51.0</td>\n",
              "      <td>1200.0</td>\n",
              "      <td>458.0</td>\n",
              "      <td>38%</td>\n",
              "      <td>0.88</td>\n",
              "      <td>0.20</td>\n",
              "      <td>7.803896</td>\n",
              "      <td>38.495069</td>\n",
              "      <td>602.14</td>\n",
              "      <td>766.000000</td>\n",
              "      <td>74.09</td>\n",
              "      <td>1232.37</td>\n",
              "      <td>8.65</td>\n",
              "      <td>448.619011</td>\n",
              "      <td>508.202281</td>\n",
              "      <td>493.710305</td>\n",
              "      <td>442.017176</td>\n",
              "      <td>472.366412</td>\n",
              "      <td>0.537</td>\n",
              "      <td>237º</td>\n",
              "      <td>0.622</td>\n",
              "    </tr>\n",
              "    <tr>\n",
              "      <th>241</th>\n",
              "      <td>NORDESTE</td>\n",
              "      <td>PB</td>\n",
              "      <td>JOAO PESSOA</td>\n",
              "      <td>2507507</td>\n",
              "      <td>1</td>\n",
              "      <td>Grande porte</td>\n",
              "      <td>801,718</td>\n",
              "      <td>211.48</td>\n",
              "      <td>3,421.30</td>\n",
              "      <td>14841805.03</td>\n",
              "      <td>19284.91</td>\n",
              "      <td>64.0</td>\n",
              "      <td>9668.0</td>\n",
              "      <td>1142.0</td>\n",
              "      <td>12%</td>\n",
              "      <td>0.99</td>\n",
              "      <td>0.13</td>\n",
              "      <td>5.344429</td>\n",
              "      <td>35.112496</td>\n",
              "      <td>486.34</td>\n",
              "      <td>617.184190</td>\n",
              "      <td>74.89</td>\n",
              "      <td>428.25</td>\n",
              "      <td>9.87</td>\n",
              "      <td>497.310587</td>\n",
              "      <td>548.607283</td>\n",
              "      <td>529.736787</td>\n",
              "      <td>507.429430</td>\n",
              "      <td>594.096408</td>\n",
              "      <td>0.764</td>\n",
              "      <td>242º</td>\n",
              "      <td>0.622</td>\n",
              "    </tr>\n",
              "    <tr>\n",
              "      <th>261</th>\n",
              "      <td>NORDESTE</td>\n",
              "      <td>CE</td>\n",
              "      <td>EUSEBIO</td>\n",
              "      <td>2304285</td>\n",
              "      <td>0</td>\n",
              "      <td>Médio porte</td>\n",
              "      <td>51,913</td>\n",
              "      <td>79.01</td>\n",
              "      <td>582.7</td>\n",
              "      <td>2077064.42</td>\n",
              "      <td>41999.08</td>\n",
              "      <td>55.0</td>\n",
              "      <td>1351.0</td>\n",
              "      <td>629.0</td>\n",
              "      <td>47%</td>\n",
              "      <td>0.94</td>\n",
              "      <td>0.18</td>\n",
              "      <td>7.775028</td>\n",
              "      <td>38.457155</td>\n",
              "      <td>926.89</td>\n",
              "      <td>393.031250</td>\n",
              "      <td>72.66</td>\n",
              "      <td>1112.71</td>\n",
              "      <td>10.13</td>\n",
              "      <td>479.490850</td>\n",
              "      <td>521.400000</td>\n",
              "      <td>507.040535</td>\n",
              "      <td>480.173051</td>\n",
              "      <td>515.209354</td>\n",
              "      <td>0.616</td>\n",
              "      <td>262º</td>\n",
              "      <td>0.619</td>\n",
              "    </tr>\n",
              "    <tr>\n",
              "      <th>...</th>\n",
              "      <td>...</td>\n",
              "      <td>...</td>\n",
              "      <td>...</td>\n",
              "      <td>...</td>\n",
              "      <td>...</td>\n",
              "      <td>...</td>\n",
              "      <td>...</td>\n",
              "      <td>...</td>\n",
              "      <td>...</td>\n",
              "      <td>...</td>\n",
              "      <td>...</td>\n",
              "      <td>...</td>\n",
              "      <td>...</td>\n",
              "      <td>...</td>\n",
              "      <td>...</td>\n",
              "      <td>...</td>\n",
              "      <td>...</td>\n",
              "      <td>...</td>\n",
              "      <td>...</td>\n",
              "      <td>...</td>\n",
              "      <td>...</td>\n",
              "      <td>...</td>\n",
              "      <td>...</td>\n",
              "      <td>...</td>\n",
              "      <td>...</td>\n",
              "      <td>...</td>\n",
              "      <td>...</td>\n",
              "      <td>...</td>\n",
              "      <td>...</td>\n",
              "      <td>...</td>\n",
              "      <td>...</td>\n",
              "      <td>...</td>\n",
              "    </tr>\n",
              "    <tr>\n",
              "      <th>5245</th>\n",
              "      <td>NORDESTE</td>\n",
              "      <td>SE</td>\n",
              "      <td>SAO DOMINGOS</td>\n",
              "      <td>2806800</td>\n",
              "      <td>0</td>\n",
              "      <td>Pequeno porte 1</td>\n",
              "      <td>11,053</td>\n",
              "      <td>102</td>\n",
              "      <td>100.2</td>\n",
              "      <td>93161.64</td>\n",
              "      <td>8625.28</td>\n",
              "      <td>97.0</td>\n",
              "      <td>265.0</td>\n",
              "      <td>120.0</td>\n",
              "      <td>45%</td>\n",
              "      <td>1.02</td>\n",
              "      <td>0.27</td>\n",
              "      <td>4.725770</td>\n",
              "      <td>32.120295</td>\n",
              "      <td>319.32</td>\n",
              "      <td>2177.400000</td>\n",
              "      <td>70.36</td>\n",
              "      <td>686.34</td>\n",
              "      <td>9.06</td>\n",
              "      <td>465.242000</td>\n",
              "      <td>501.113000</td>\n",
              "      <td>485.569697</td>\n",
              "      <td>459.546465</td>\n",
              "      <td>517.979798</td>\n",
              "      <td>0.346</td>\n",
              "      <td>NaN</td>\n",
              "      <td>NaN</td>\n",
              "    </tr>\n",
              "    <tr>\n",
              "      <th>5246</th>\n",
              "      <td>NORDESTE</td>\n",
              "      <td>SE</td>\n",
              "      <td>CEDRO DE SAO JOAO</td>\n",
              "      <td>2801603</td>\n",
              "      <td>0</td>\n",
              "      <td>Pequeno porte 1</td>\n",
              "      <td>5,912</td>\n",
              "      <td>83.71</td>\n",
              "      <td>67.3</td>\n",
              "      <td>38902.98</td>\n",
              "      <td>6654.63</td>\n",
              "      <td>92.0</td>\n",
              "      <td>203.0</td>\n",
              "      <td>89.0</td>\n",
              "      <td>44%</td>\n",
              "      <td>0.77</td>\n",
              "      <td>0.35</td>\n",
              "      <td>6.351568</td>\n",
              "      <td>35.731140</td>\n",
              "      <td>461.83</td>\n",
              "      <td>652.000000</td>\n",
              "      <td>68.83</td>\n",
              "      <td>613.36</td>\n",
              "      <td>9.08</td>\n",
              "      <td>461.052381</td>\n",
              "      <td>509.559524</td>\n",
              "      <td>487.254762</td>\n",
              "      <td>442.495238</td>\n",
              "      <td>578.571429</td>\n",
              "      <td>0.430</td>\n",
              "      <td>NaN</td>\n",
              "      <td>NaN</td>\n",
              "    </tr>\n",
              "    <tr>\n",
              "      <th>5247</th>\n",
              "      <td>NORDESTE</td>\n",
              "      <td>SE</td>\n",
              "      <td>POCO VERDE</td>\n",
              "      <td>2805505</td>\n",
              "      <td>0</td>\n",
              "      <td>Pequeno porte 2</td>\n",
              "      <td>23,580</td>\n",
              "      <td>439.84</td>\n",
              "      <td>50</td>\n",
              "      <td>185982.88</td>\n",
              "      <td>8058.88</td>\n",
              "      <td>92.0</td>\n",
              "      <td>623.0</td>\n",
              "      <td>130.0</td>\n",
              "      <td>21%</td>\n",
              "      <td>0.86</td>\n",
              "      <td>0.23</td>\n",
              "      <td>4.741037</td>\n",
              "      <td>34.777215</td>\n",
              "      <td>310.39</td>\n",
              "      <td>2113.545455</td>\n",
              "      <td>70.08</td>\n",
              "      <td>645.33</td>\n",
              "      <td>8.98</td>\n",
              "      <td>463.451337</td>\n",
              "      <td>506.520321</td>\n",
              "      <td>496.670430</td>\n",
              "      <td>453.449462</td>\n",
              "      <td>529.677419</td>\n",
              "      <td>NaN</td>\n",
              "      <td>NaN</td>\n",
              "      <td>NaN</td>\n",
              "    </tr>\n",
              "    <tr>\n",
              "      <th>5248</th>\n",
              "      <td>NORDESTE</td>\n",
              "      <td>SE</td>\n",
              "      <td>NOSSA SENHORA DE LOURDES</td>\n",
              "      <td>2804706</td>\n",
              "      <td>0</td>\n",
              "      <td>Pequeno porte 1</td>\n",
              "      <td>6,512</td>\n",
              "      <td>81.06</td>\n",
              "      <td>77</td>\n",
              "      <td>48201.34</td>\n",
              "      <td>7466.13</td>\n",
              "      <td>NaN</td>\n",
              "      <td>236.0</td>\n",
              "      <td>22.0</td>\n",
              "      <td>9%</td>\n",
              "      <td>0.79</td>\n",
              "      <td>0.32</td>\n",
              "      <td>5.141976</td>\n",
              "      <td>39.708468</td>\n",
              "      <td>NaN</td>\n",
              "      <td>1618.750000</td>\n",
              "      <td>68.13</td>\n",
              "      <td>NaN</td>\n",
              "      <td>9.30</td>\n",
              "      <td>445.827184</td>\n",
              "      <td>500.052427</td>\n",
              "      <td>485.945098</td>\n",
              "      <td>441.245098</td>\n",
              "      <td>475.882353</td>\n",
              "      <td>0.370</td>\n",
              "      <td>NaN</td>\n",
              "      <td>NaN</td>\n",
              "    </tr>\n",
              "    <tr>\n",
              "      <th>5249</th>\n",
              "      <td>NORDESTE</td>\n",
              "      <td>SE</td>\n",
              "      <td>ITABI</td>\n",
              "      <td>2803104</td>\n",
              "      <td>0</td>\n",
              "      <td>Pequeno porte 1</td>\n",
              "      <td>5,002</td>\n",
              "      <td>184.42</td>\n",
              "      <td>27</td>\n",
              "      <td>38696.88</td>\n",
              "      <td>7665.78</td>\n",
              "      <td>NaN</td>\n",
              "      <td>203.0</td>\n",
              "      <td>14.0</td>\n",
              "      <td>7%</td>\n",
              "      <td>0.78</td>\n",
              "      <td>0.26</td>\n",
              "      <td>4.696560</td>\n",
              "      <td>38.371606</td>\n",
              "      <td>NaN</td>\n",
              "      <td>2516.000000</td>\n",
              "      <td>69.86</td>\n",
              "      <td>NaN</td>\n",
              "      <td>9.91</td>\n",
              "      <td>468.687805</td>\n",
              "      <td>494.790244</td>\n",
              "      <td>500.912195</td>\n",
              "      <td>469.095122</td>\n",
              "      <td>488.780488</td>\n",
              "      <td>NaN</td>\n",
              "      <td>NaN</td>\n",
              "      <td>NaN</td>\n",
              "    </tr>\n",
              "  </tbody>\n",
              "</table>\n",
              "<p>1794 rows × 32 columns</p>\n",
              "</div>"
            ],
            "text/plain": [
              "        regiao estado  ... ranking_igm  indice_governanca\n",
              "67    NORDESTE     PE  ...         68º              0.659\n",
              "77    NORDESTE     CE  ...         78º              0.656\n",
              "236   NORDESTE     BA  ...        237º              0.622\n",
              "241   NORDESTE     PB  ...        242º              0.622\n",
              "261   NORDESTE     CE  ...        262º              0.619\n",
              "...        ...    ...  ...         ...                ...\n",
              "5245  NORDESTE     SE  ...         NaN                NaN\n",
              "5246  NORDESTE     SE  ...         NaN                NaN\n",
              "5247  NORDESTE     SE  ...         NaN                NaN\n",
              "5248  NORDESTE     SE  ...         NaN                NaN\n",
              "5249  NORDESTE     SE  ...         NaN                NaN\n",
              "\n",
              "[1794 rows x 32 columns]"
            ]
          },
          "metadata": {
            "tags": []
          },
          "execution_count": 135
        }
      ]
    },
    {
      "cell_type": "markdown",
      "metadata": {
        "_uuid": "314c76543c5da644040e152ffaaae11075c30edb",
        "id": "LwPyVI9ajQT7",
        "colab_type": "text"
      },
      "source": [
        "Quando rodamos o comando _igm['Região']=='NORDESTE'_ temos um resultado (em forma de Series) de _True_ (Verdadeiro) ou _False_ (Falso) de acordo com o índice do elemento."
      ]
    },
    {
      "cell_type": "code",
      "metadata": {
        "scrolled": true,
        "trusted": true,
        "_uuid": "528b419ca0a1f05f55a31d928c7880caa565a92a",
        "id": "-o5XHKPxjQT7",
        "colab_type": "code",
        "colab": {
          "base_uri": "https://localhost:8080/",
          "height": 235
        },
        "outputId": "cfe51191-7e8b-4d1d-a6ae-ce9ff2afe2ef"
      },
      "source": [
        "igm['regiao']=='NORDESTE'"
      ],
      "execution_count": 92,
      "outputs": [
        {
          "output_type": "execute_result",
          "data": {
            "text/plain": [
              "0       False\n",
              "1       False\n",
              "2       False\n",
              "3       False\n",
              "4       False\n",
              "        ...  \n",
              "5565    False\n",
              "5566    False\n",
              "5567    False\n",
              "5568    False\n",
              "5569    False\n",
              "Name: regiao, Length: 5570, dtype: bool"
            ]
          },
          "metadata": {
            "tags": []
          },
          "execution_count": 92
        }
      ]
    },
    {
      "cell_type": "markdown",
      "metadata": {
        "_uuid": "c7af168083c3fd3e73cfee7c9c0866a7f3ac9730",
        "id": "B9_APad0jQT-",
        "colab_type": "text"
      },
      "source": [
        "Podemos guardar esse resultado dentro de uma variável:"
      ]
    },
    {
      "cell_type": "code",
      "metadata": {
        "trusted": true,
        "_uuid": "12980c2649606ffcf0a2efa9e70c42306e52b91b",
        "id": "NGMtuOcKjQT-",
        "colab_type": "code",
        "colab": {}
      },
      "source": [
        "filtro = igm['regiao']=='NORDESTE'"
      ],
      "execution_count": 137,
      "outputs": []
    },
    {
      "cell_type": "markdown",
      "metadata": {
        "_uuid": "1206791f8b5de80cf37cc5516ef52fa3b6ee1d8e",
        "id": "7Po81HWRjQUB",
        "colab_type": "text"
      },
      "source": [
        "E executar o filtro em seguida:"
      ]
    },
    {
      "cell_type": "code",
      "metadata": {
        "scrolled": true,
        "trusted": true,
        "_uuid": "1d57120b2ef972c929d2a660c1dc4547d3336773",
        "id": "hqtQSwK5jQUC",
        "colab_type": "code",
        "colab": {
          "base_uri": "https://localhost:8080/",
          "height": 1000
        },
        "outputId": "45e51e57-b0f3-4660-f6e4-ba111ba9dbdf"
      },
      "source": [
        "igm[filtro].T"
      ],
      "execution_count": 138,
      "outputs": [
        {
          "output_type": "execute_result",
          "data": {
            "text/html": [
              "<div>\n",
              "<style scoped>\n",
              "    .dataframe tbody tr th:only-of-type {\n",
              "        vertical-align: middle;\n",
              "    }\n",
              "\n",
              "    .dataframe tbody tr th {\n",
              "        vertical-align: top;\n",
              "    }\n",
              "\n",
              "    .dataframe thead th {\n",
              "        text-align: right;\n",
              "    }\n",
              "</style>\n",
              "<table border=\"1\" class=\"dataframe\">\n",
              "  <thead>\n",
              "    <tr style=\"text-align: right;\">\n",
              "      <th></th>\n",
              "      <th>67</th>\n",
              "      <th>77</th>\n",
              "      <th>236</th>\n",
              "      <th>241</th>\n",
              "      <th>261</th>\n",
              "      <th>308</th>\n",
              "      <th>319</th>\n",
              "      <th>354</th>\n",
              "      <th>396</th>\n",
              "      <th>404</th>\n",
              "      <th>410</th>\n",
              "      <th>441</th>\n",
              "      <th>453</th>\n",
              "      <th>481</th>\n",
              "      <th>566</th>\n",
              "      <th>567</th>\n",
              "      <th>598</th>\n",
              "      <th>680</th>\n",
              "      <th>749</th>\n",
              "      <th>826</th>\n",
              "      <th>837</th>\n",
              "      <th>874</th>\n",
              "      <th>906</th>\n",
              "      <th>972</th>\n",
              "      <th>994</th>\n",
              "      <th>1002</th>\n",
              "      <th>1028</th>\n",
              "      <th>1029</th>\n",
              "      <th>1061</th>\n",
              "      <th>1130</th>\n",
              "      <th>1159</th>\n",
              "      <th>1177</th>\n",
              "      <th>1193</th>\n",
              "      <th>1223</th>\n",
              "      <th>1225</th>\n",
              "      <th>1230</th>\n",
              "      <th>1261</th>\n",
              "      <th>1270</th>\n",
              "      <th>1275</th>\n",
              "      <th>1284</th>\n",
              "      <th>...</th>\n",
              "      <th>5144</th>\n",
              "      <th>5145</th>\n",
              "      <th>5146</th>\n",
              "      <th>5147</th>\n",
              "      <th>5148</th>\n",
              "      <th>5149</th>\n",
              "      <th>5150</th>\n",
              "      <th>5151</th>\n",
              "      <th>5152</th>\n",
              "      <th>5153</th>\n",
              "      <th>5154</th>\n",
              "      <th>5155</th>\n",
              "      <th>5156</th>\n",
              "      <th>5157</th>\n",
              "      <th>5158</th>\n",
              "      <th>5159</th>\n",
              "      <th>5160</th>\n",
              "      <th>5227</th>\n",
              "      <th>5228</th>\n",
              "      <th>5229</th>\n",
              "      <th>5230</th>\n",
              "      <th>5231</th>\n",
              "      <th>5232</th>\n",
              "      <th>5233</th>\n",
              "      <th>5234</th>\n",
              "      <th>5235</th>\n",
              "      <th>5236</th>\n",
              "      <th>5237</th>\n",
              "      <th>5238</th>\n",
              "      <th>5239</th>\n",
              "      <th>5240</th>\n",
              "      <th>5241</th>\n",
              "      <th>5242</th>\n",
              "      <th>5243</th>\n",
              "      <th>5244</th>\n",
              "      <th>5245</th>\n",
              "      <th>5246</th>\n",
              "      <th>5247</th>\n",
              "      <th>5248</th>\n",
              "      <th>5249</th>\n",
              "    </tr>\n",
              "  </thead>\n",
              "  <tbody>\n",
              "    <tr>\n",
              "      <th>regiao</th>\n",
              "      <td>NORDESTE</td>\n",
              "      <td>NORDESTE</td>\n",
              "      <td>NORDESTE</td>\n",
              "      <td>NORDESTE</td>\n",
              "      <td>NORDESTE</td>\n",
              "      <td>NORDESTE</td>\n",
              "      <td>NORDESTE</td>\n",
              "      <td>NORDESTE</td>\n",
              "      <td>NORDESTE</td>\n",
              "      <td>NORDESTE</td>\n",
              "      <td>NORDESTE</td>\n",
              "      <td>NORDESTE</td>\n",
              "      <td>NORDESTE</td>\n",
              "      <td>NORDESTE</td>\n",
              "      <td>NORDESTE</td>\n",
              "      <td>NORDESTE</td>\n",
              "      <td>NORDESTE</td>\n",
              "      <td>NORDESTE</td>\n",
              "      <td>NORDESTE</td>\n",
              "      <td>NORDESTE</td>\n",
              "      <td>NORDESTE</td>\n",
              "      <td>NORDESTE</td>\n",
              "      <td>NORDESTE</td>\n",
              "      <td>NORDESTE</td>\n",
              "      <td>NORDESTE</td>\n",
              "      <td>NORDESTE</td>\n",
              "      <td>NORDESTE</td>\n",
              "      <td>NORDESTE</td>\n",
              "      <td>NORDESTE</td>\n",
              "      <td>NORDESTE</td>\n",
              "      <td>NORDESTE</td>\n",
              "      <td>NORDESTE</td>\n",
              "      <td>NORDESTE</td>\n",
              "      <td>NORDESTE</td>\n",
              "      <td>NORDESTE</td>\n",
              "      <td>NORDESTE</td>\n",
              "      <td>NORDESTE</td>\n",
              "      <td>NORDESTE</td>\n",
              "      <td>NORDESTE</td>\n",
              "      <td>NORDESTE</td>\n",
              "      <td>...</td>\n",
              "      <td>NORDESTE</td>\n",
              "      <td>NORDESTE</td>\n",
              "      <td>NORDESTE</td>\n",
              "      <td>NORDESTE</td>\n",
              "      <td>NORDESTE</td>\n",
              "      <td>NORDESTE</td>\n",
              "      <td>NORDESTE</td>\n",
              "      <td>NORDESTE</td>\n",
              "      <td>NORDESTE</td>\n",
              "      <td>NORDESTE</td>\n",
              "      <td>NORDESTE</td>\n",
              "      <td>NORDESTE</td>\n",
              "      <td>NORDESTE</td>\n",
              "      <td>NORDESTE</td>\n",
              "      <td>NORDESTE</td>\n",
              "      <td>NORDESTE</td>\n",
              "      <td>NORDESTE</td>\n",
              "      <td>NORDESTE</td>\n",
              "      <td>NORDESTE</td>\n",
              "      <td>NORDESTE</td>\n",
              "      <td>NORDESTE</td>\n",
              "      <td>NORDESTE</td>\n",
              "      <td>NORDESTE</td>\n",
              "      <td>NORDESTE</td>\n",
              "      <td>NORDESTE</td>\n",
              "      <td>NORDESTE</td>\n",
              "      <td>NORDESTE</td>\n",
              "      <td>NORDESTE</td>\n",
              "      <td>NORDESTE</td>\n",
              "      <td>NORDESTE</td>\n",
              "      <td>NORDESTE</td>\n",
              "      <td>NORDESTE</td>\n",
              "      <td>NORDESTE</td>\n",
              "      <td>NORDESTE</td>\n",
              "      <td>NORDESTE</td>\n",
              "      <td>NORDESTE</td>\n",
              "      <td>NORDESTE</td>\n",
              "      <td>NORDESTE</td>\n",
              "      <td>NORDESTE</td>\n",
              "      <td>NORDESTE</td>\n",
              "    </tr>\n",
              "    <tr>\n",
              "      <th>estado</th>\n",
              "      <td>PE</td>\n",
              "      <td>CE</td>\n",
              "      <td>BA</td>\n",
              "      <td>PB</td>\n",
              "      <td>CE</td>\n",
              "      <td>PI</td>\n",
              "      <td>SE</td>\n",
              "      <td>BA</td>\n",
              "      <td>PE</td>\n",
              "      <td>BA</td>\n",
              "      <td>MA</td>\n",
              "      <td>RN</td>\n",
              "      <td>CE</td>\n",
              "      <td>PB</td>\n",
              "      <td>BA</td>\n",
              "      <td>CE</td>\n",
              "      <td>CE</td>\n",
              "      <td>CE</td>\n",
              "      <td>RN</td>\n",
              "      <td>BA</td>\n",
              "      <td>BA</td>\n",
              "      <td>BA</td>\n",
              "      <td>RN</td>\n",
              "      <td>PI</td>\n",
              "      <td>BA</td>\n",
              "      <td>CE</td>\n",
              "      <td>SE</td>\n",
              "      <td>BA</td>\n",
              "      <td>PE</td>\n",
              "      <td>AL</td>\n",
              "      <td>CE</td>\n",
              "      <td>PI</td>\n",
              "      <td>CE</td>\n",
              "      <td>BA</td>\n",
              "      <td>RN</td>\n",
              "      <td>BA</td>\n",
              "      <td>AL</td>\n",
              "      <td>CE</td>\n",
              "      <td>BA</td>\n",
              "      <td>RN</td>\n",
              "      <td>...</td>\n",
              "      <td>RN</td>\n",
              "      <td>RN</td>\n",
              "      <td>RN</td>\n",
              "      <td>RN</td>\n",
              "      <td>RN</td>\n",
              "      <td>RN</td>\n",
              "      <td>RN</td>\n",
              "      <td>RN</td>\n",
              "      <td>RN</td>\n",
              "      <td>RN</td>\n",
              "      <td>RN</td>\n",
              "      <td>RN</td>\n",
              "      <td>RN</td>\n",
              "      <td>RN</td>\n",
              "      <td>RN</td>\n",
              "      <td>RN</td>\n",
              "      <td>RN</td>\n",
              "      <td>SE</td>\n",
              "      <td>SE</td>\n",
              "      <td>SE</td>\n",
              "      <td>SE</td>\n",
              "      <td>SE</td>\n",
              "      <td>SE</td>\n",
              "      <td>SE</td>\n",
              "      <td>SE</td>\n",
              "      <td>SE</td>\n",
              "      <td>SE</td>\n",
              "      <td>SE</td>\n",
              "      <td>SE</td>\n",
              "      <td>SE</td>\n",
              "      <td>SE</td>\n",
              "      <td>SE</td>\n",
              "      <td>SE</td>\n",
              "      <td>SE</td>\n",
              "      <td>SE</td>\n",
              "      <td>SE</td>\n",
              "      <td>SE</td>\n",
              "      <td>SE</td>\n",
              "      <td>SE</td>\n",
              "      <td>SE</td>\n",
              "    </tr>\n",
              "    <tr>\n",
              "      <th>municipio</th>\n",
              "      <td>IPOJUCA</td>\n",
              "      <td>FORTALEZA</td>\n",
              "      <td>MATA DE SAO JOAO</td>\n",
              "      <td>JOAO PESSOA</td>\n",
              "      <td>EUSEBIO</td>\n",
              "      <td>TERESINA</td>\n",
              "      <td>ARACAJU</td>\n",
              "      <td>SALVADOR</td>\n",
              "      <td>RECIFE</td>\n",
              "      <td>MAETINGA</td>\n",
              "      <td>SAO LUIS</td>\n",
              "      <td>NATAL</td>\n",
              "      <td>SOBRAL</td>\n",
              "      <td>CABEDELO</td>\n",
              "      <td>CAIRU</td>\n",
              "      <td>MARACANAU</td>\n",
              "      <td>HORIZONTE</td>\n",
              "      <td>JUAZEIRO DO NORTE</td>\n",
              "      <td>SAO GONCALO DO AMARANTE</td>\n",
              "      <td>LUIS EDUARDO MAGALHAES</td>\n",
              "      <td>FEIRA DE SANTANA</td>\n",
              "      <td>CAMACARI</td>\n",
              "      <td>EXTREMOZ</td>\n",
              "      <td>AGUA BRANCA</td>\n",
              "      <td>MADRE DE DEUS</td>\n",
              "      <td>BEBERIBE</td>\n",
              "      <td>BARRA DOS COQUEIROS</td>\n",
              "      <td>MARACAS</td>\n",
              "      <td>TRIUNFO</td>\n",
              "      <td>ARAPIRACA</td>\n",
              "      <td>TAUA</td>\n",
              "      <td>SAO PEDRO DO PIAUI</td>\n",
              "      <td>AQUIRAZ</td>\n",
              "      <td>VITORIA DA CONQUISTA</td>\n",
              "      <td>MACAIBA</td>\n",
              "      <td>PAULO AFONSO</td>\n",
              "      <td>MACEIO</td>\n",
              "      <td>CAUCAIA</td>\n",
              "      <td>LAPAO</td>\n",
              "      <td>SANTA CRUZ</td>\n",
              "      <td>...</td>\n",
              "      <td>SERRINHA DOS PINTOS</td>\n",
              "      <td>PUREZA</td>\n",
              "      <td>CORONEL EZEQUIEL</td>\n",
              "      <td>PAU DOS FERROS</td>\n",
              "      <td>PEDRO AVELINO</td>\n",
              "      <td>CARNAUBA DOS DANTAS</td>\n",
              "      <td>ITAJA</td>\n",
              "      <td>UPANEMA</td>\n",
              "      <td>JACANA</td>\n",
              "      <td>MARCELINO VIEIRA</td>\n",
              "      <td>ANGICOS</td>\n",
              "      <td>LAGOA D'ANTA</td>\n",
              "      <td>LUIS GOMES</td>\n",
              "      <td>GUAMARE</td>\n",
              "      <td>MONTE ALEGRE</td>\n",
              "      <td>RAFAEL FERNANDES</td>\n",
              "      <td>RAFAEL GODEIRO</td>\n",
              "      <td>PEDRA MOLE</td>\n",
              "      <td>CUMBE</td>\n",
              "      <td>LARANJEIRAS</td>\n",
              "      <td>MALHADOR</td>\n",
              "      <td>MURIBECA</td>\n",
              "      <td>SIMAO DIAS</td>\n",
              "      <td>SANTA ROSA DE LIMA</td>\n",
              "      <td>CANHOBA</td>\n",
              "      <td>ILHA DAS FLORES</td>\n",
              "      <td>SAO FRANCISCO</td>\n",
              "      <td>SAO MIGUEL DO ALEIXO</td>\n",
              "      <td>MACAMBIRA</td>\n",
              "      <td>MALHADA DOS BOIS</td>\n",
              "      <td>BREJO GRANDE</td>\n",
              "      <td>RIACHAO DO DANTAS</td>\n",
              "      <td>SALGADO</td>\n",
              "      <td>CAPELA</td>\n",
              "      <td>ITABAIANA</td>\n",
              "      <td>SAO DOMINGOS</td>\n",
              "      <td>CEDRO DE SAO JOAO</td>\n",
              "      <td>POCO VERDE</td>\n",
              "      <td>NOSSA SENHORA DE LOURDES</td>\n",
              "      <td>ITABI</td>\n",
              "    </tr>\n",
              "    <tr>\n",
              "      <th>codigo_mun</th>\n",
              "      <td>2607208</td>\n",
              "      <td>2304400</td>\n",
              "      <td>2921005</td>\n",
              "      <td>2507507</td>\n",
              "      <td>2304285</td>\n",
              "      <td>2211001</td>\n",
              "      <td>2800308</td>\n",
              "      <td>2927408</td>\n",
              "      <td>2611606</td>\n",
              "      <td>2919959</td>\n",
              "      <td>2111300</td>\n",
              "      <td>2408102</td>\n",
              "      <td>2312908</td>\n",
              "      <td>2503209</td>\n",
              "      <td>2905404</td>\n",
              "      <td>2307650</td>\n",
              "      <td>2305233</td>\n",
              "      <td>2307304</td>\n",
              "      <td>2412005</td>\n",
              "      <td>2919553</td>\n",
              "      <td>2910800</td>\n",
              "      <td>2905701</td>\n",
              "      <td>2403608</td>\n",
              "      <td>2200202</td>\n",
              "      <td>2919926</td>\n",
              "      <td>2302206</td>\n",
              "      <td>2800605</td>\n",
              "      <td>2920502</td>\n",
              "      <td>2615706</td>\n",
              "      <td>2700300</td>\n",
              "      <td>2313302</td>\n",
              "      <td>2210508</td>\n",
              "      <td>2301000</td>\n",
              "      <td>2933307</td>\n",
              "      <td>2407104</td>\n",
              "      <td>2924009</td>\n",
              "      <td>2704302</td>\n",
              "      <td>2303709</td>\n",
              "      <td>2919157</td>\n",
              "      <td>2411205</td>\n",
              "      <td>...</td>\n",
              "      <td>2413557</td>\n",
              "      <td>2410405</td>\n",
              "      <td>2402808</td>\n",
              "      <td>2409407</td>\n",
              "      <td>2409704</td>\n",
              "      <td>2402402</td>\n",
              "      <td>2404853</td>\n",
              "      <td>2414605</td>\n",
              "      <td>2405009</td>\n",
              "      <td>2407302</td>\n",
              "      <td>2400802</td>\n",
              "      <td>2406205</td>\n",
              "      <td>2407005</td>\n",
              "      <td>2404507</td>\n",
              "      <td>2407807</td>\n",
              "      <td>2410504</td>\n",
              "      <td>2410603</td>\n",
              "      <td>2805000</td>\n",
              "      <td>2801900</td>\n",
              "      <td>2803609</td>\n",
              "      <td>2803906</td>\n",
              "      <td>2804300</td>\n",
              "      <td>2807105</td>\n",
              "      <td>2806503</td>\n",
              "      <td>2801108</td>\n",
              "      <td>2802700</td>\n",
              "      <td>2806909</td>\n",
              "      <td>2807006</td>\n",
              "      <td>2803708</td>\n",
              "      <td>2803807</td>\n",
              "      <td>2800704</td>\n",
              "      <td>2805802</td>\n",
              "      <td>2806206</td>\n",
              "      <td>2801306</td>\n",
              "      <td>2802908</td>\n",
              "      <td>2806800</td>\n",
              "      <td>2801603</td>\n",
              "      <td>2805505</td>\n",
              "      <td>2804706</td>\n",
              "      <td>2803104</td>\n",
              "    </tr>\n",
              "    <tr>\n",
              "      <th>capital</th>\n",
              "      <td>0</td>\n",
              "      <td>1</td>\n",
              "      <td>0</td>\n",
              "      <td>1</td>\n",
              "      <td>0</td>\n",
              "      <td>1</td>\n",
              "      <td>1</td>\n",
              "      <td>1</td>\n",
              "      <td>1</td>\n",
              "      <td>0</td>\n",
              "      <td>1</td>\n",
              "      <td>1</td>\n",
              "      <td>0</td>\n",
              "      <td>0</td>\n",
              "      <td>0</td>\n",
              "      <td>0</td>\n",
              "      <td>0</td>\n",
              "      <td>0</td>\n",
              "      <td>0</td>\n",
              "      <td>0</td>\n",
              "      <td>0</td>\n",
              "      <td>0</td>\n",
              "      <td>0</td>\n",
              "      <td>0</td>\n",
              "      <td>0</td>\n",
              "      <td>0</td>\n",
              "      <td>0</td>\n",
              "      <td>0</td>\n",
              "      <td>0</td>\n",
              "      <td>0</td>\n",
              "      <td>0</td>\n",
              "      <td>0</td>\n",
              "      <td>0</td>\n",
              "      <td>0</td>\n",
              "      <td>0</td>\n",
              "      <td>0</td>\n",
              "      <td>1</td>\n",
              "      <td>0</td>\n",
              "      <td>0</td>\n",
              "      <td>0</td>\n",
              "      <td>...</td>\n",
              "      <td>0</td>\n",
              "      <td>0</td>\n",
              "      <td>0</td>\n",
              "      <td>0</td>\n",
              "      <td>0</td>\n",
              "      <td>0</td>\n",
              "      <td>0</td>\n",
              "      <td>0</td>\n",
              "      <td>0</td>\n",
              "      <td>0</td>\n",
              "      <td>0</td>\n",
              "      <td>0</td>\n",
              "      <td>0</td>\n",
              "      <td>0</td>\n",
              "      <td>0</td>\n",
              "      <td>0</td>\n",
              "      <td>0</td>\n",
              "      <td>0</td>\n",
              "      <td>0</td>\n",
              "      <td>0</td>\n",
              "      <td>0</td>\n",
              "      <td>0</td>\n",
              "      <td>0</td>\n",
              "      <td>0</td>\n",
              "      <td>0</td>\n",
              "      <td>0</td>\n",
              "      <td>0</td>\n",
              "      <td>0</td>\n",
              "      <td>0</td>\n",
              "      <td>0</td>\n",
              "      <td>0</td>\n",
              "      <td>0</td>\n",
              "      <td>0</td>\n",
              "      <td>0</td>\n",
              "      <td>0</td>\n",
              "      <td>0</td>\n",
              "      <td>0</td>\n",
              "      <td>0</td>\n",
              "      <td>0</td>\n",
              "      <td>0</td>\n",
              "    </tr>\n",
              "    <tr>\n",
              "      <th>porte</th>\n",
              "      <td>Médio porte</td>\n",
              "      <td>Grande porte</td>\n",
              "      <td>Pequeno porte 2</td>\n",
              "      <td>Grande porte</td>\n",
              "      <td>Médio porte</td>\n",
              "      <td>Grande porte</td>\n",
              "      <td>Grande porte</td>\n",
              "      <td>Grande porte</td>\n",
              "      <td>Grande porte</td>\n",
              "      <td>Pequeno porte 1</td>\n",
              "      <td>Grande porte</td>\n",
              "      <td>Grande porte</td>\n",
              "      <td>Grande porte</td>\n",
              "      <td>Médio porte</td>\n",
              "      <td>Pequeno porte 1</td>\n",
              "      <td>Grande porte</td>\n",
              "      <td>Médio porte</td>\n",
              "      <td>Grande porte</td>\n",
              "      <td>Médio porte</td>\n",
              "      <td>Médio porte</td>\n",
              "      <td>Grande porte</td>\n",
              "      <td>Grande porte</td>\n",
              "      <td>Pequeno porte 2</td>\n",
              "      <td>Pequeno porte 1</td>\n",
              "      <td>Pequeno porte 2</td>\n",
              "      <td>Médio porte</td>\n",
              "      <td>Pequeno porte 2</td>\n",
              "      <td>Pequeno porte 2</td>\n",
              "      <td>Pequeno porte 1</td>\n",
              "      <td>Grande porte</td>\n",
              "      <td>Médio porte</td>\n",
              "      <td>Pequeno porte 1</td>\n",
              "      <td>Médio porte</td>\n",
              "      <td>Grande porte</td>\n",
              "      <td>Médio porte</td>\n",
              "      <td>Grande porte</td>\n",
              "      <td>Grande porte</td>\n",
              "      <td>Grande porte</td>\n",
              "      <td>Pequeno porte 2</td>\n",
              "      <td>Pequeno porte 2</td>\n",
              "      <td>...</td>\n",
              "      <td>Pequeno porte 1</td>\n",
              "      <td>Pequeno porte 1</td>\n",
              "      <td>Pequeno porte 1</td>\n",
              "      <td>Pequeno porte 2</td>\n",
              "      <td>Pequeno porte 1</td>\n",
              "      <td>Pequeno porte 1</td>\n",
              "      <td>Pequeno porte 1</td>\n",
              "      <td>Pequeno porte 1</td>\n",
              "      <td>Pequeno porte 1</td>\n",
              "      <td>Pequeno porte 1</td>\n",
              "      <td>Pequeno porte 1</td>\n",
              "      <td>Pequeno porte 1</td>\n",
              "      <td>Pequeno porte 1</td>\n",
              "      <td>Pequeno porte 1</td>\n",
              "      <td>Pequeno porte 2</td>\n",
              "      <td>Pequeno porte 1</td>\n",
              "      <td>Pequeno porte 1</td>\n",
              "      <td>Pequeno porte 1</td>\n",
              "      <td>Pequeno porte 1</td>\n",
              "      <td>Pequeno porte 2</td>\n",
              "      <td>Pequeno porte 1</td>\n",
              "      <td>Pequeno porte 1</td>\n",
              "      <td>Pequeno porte 2</td>\n",
              "      <td>Pequeno porte 1</td>\n",
              "      <td>Pequeno porte 1</td>\n",
              "      <td>Pequeno porte 1</td>\n",
              "      <td>Pequeno porte 1</td>\n",
              "      <td>Pequeno porte 1</td>\n",
              "      <td>Pequeno porte 1</td>\n",
              "      <td>Pequeno porte 1</td>\n",
              "      <td>Pequeno porte 1</td>\n",
              "      <td>Pequeno porte 1</td>\n",
              "      <td>Pequeno porte 2</td>\n",
              "      <td>Pequeno porte 2</td>\n",
              "      <td>Médio porte</td>\n",
              "      <td>Pequeno porte 1</td>\n",
              "      <td>Pequeno porte 1</td>\n",
              "      <td>Pequeno porte 2</td>\n",
              "      <td>Pequeno porte 1</td>\n",
              "      <td>Pequeno porte 1</td>\n",
              "    </tr>\n",
              "    <tr>\n",
              "      <th>populacao</th>\n",
              "      <td>92,965</td>\n",
              "      <td>2,609,716</td>\n",
              "      <td>46,392</td>\n",
              "      <td>801,718</td>\n",
              "      <td>51,913</td>\n",
              "      <td>847,430</td>\n",
              "      <td>641,523</td>\n",
              "      <td>2,938,092</td>\n",
              "      <td>1,625,583</td>\n",
              "      <td>4,796</td>\n",
              "      <td>1,082,935</td>\n",
              "      <td>877,662</td>\n",
              "      <td>203,682</td>\n",
              "      <td>66,858</td>\n",
              "      <td>17,985</td>\n",
              "      <td>223,188</td>\n",
              "      <td>64,673</td>\n",
              "      <td>268,248</td>\n",
              "      <td>99,724</td>\n",
              "      <td>81,730</td>\n",
              "      <td>622,639</td>\n",
              "      <td>292,074</td>\n",
              "      <td>27,933</td>\n",
              "      <td>17,068</td>\n",
              "      <td>20,689</td>\n",
              "      <td>52,719</td>\n",
              "      <td>29,248</td>\n",
              "      <td>23,373</td>\n",
              "      <td>15,235</td>\n",
              "      <td>232,671</td>\n",
              "      <td>57,914</td>\n",
              "      <td>14,027</td>\n",
              "      <td>78,438</td>\n",
              "      <td>346,069</td>\n",
              "      <td>79,211</td>\n",
              "      <td>119,930</td>\n",
              "      <td>1,021,709</td>\n",
              "      <td>358,164</td>\n",
              "      <td>28,166</td>\n",
              "      <td>39,300</td>\n",
              "      <td>...</td>\n",
              "      <td>4,819</td>\n",
              "      <td>9,451</td>\n",
              "      <td>5,590</td>\n",
              "      <td>30,206</td>\n",
              "      <td>6,998</td>\n",
              "      <td>8,117</td>\n",
              "      <td>7,515</td>\n",
              "      <td>14,448</td>\n",
              "      <td>8,949</td>\n",
              "      <td>8,495</td>\n",
              "      <td>11,908</td>\n",
              "      <td>6,743</td>\n",
              "      <td>10,171</td>\n",
              "      <td>14,975</td>\n",
              "      <td>22,311</td>\n",
              "      <td>5,078</td>\n",
              "      <td>3,224</td>\n",
              "      <td>3,227</td>\n",
              "      <td>3,999</td>\n",
              "      <td>29,418</td>\n",
              "      <td>12,645</td>\n",
              "      <td>7,662</td>\n",
              "      <td>40,684</td>\n",
              "      <td>3,926</td>\n",
              "      <td>4,057</td>\n",
              "      <td>8,604</td>\n",
              "      <td>3,916</td>\n",
              "      <td>3,923</td>\n",
              "      <td>6,873</td>\n",
              "      <td>3,673</td>\n",
              "      <td>8,271</td>\n",
              "      <td>19,995</td>\n",
              "      <td>20,126</td>\n",
              "      <td>33,715</td>\n",
              "      <td>94,393</td>\n",
              "      <td>11,053</td>\n",
              "      <td>5,912</td>\n",
              "      <td>23,580</td>\n",
              "      <td>6,512</td>\n",
              "      <td>5,002</td>\n",
              "    </tr>\n",
              "    <tr>\n",
              "      <th>area</th>\n",
              "      <td>527.11</td>\n",
              "      <td>314.93</td>\n",
              "      <td>633.2</td>\n",
              "      <td>211.48</td>\n",
              "      <td>79.01</td>\n",
              "      <td>1,391.98</td>\n",
              "      <td>181.86</td>\n",
              "      <td>692.82</td>\n",
              "      <td>218.44</td>\n",
              "      <td>630.08</td>\n",
              "      <td>834.79</td>\n",
              "      <td>167.26</td>\n",
              "      <td>2,122.90</td>\n",
              "      <td>31.92</td>\n",
              "      <td>463.34</td>\n",
              "      <td>106.65</td>\n",
              "      <td>159.98</td>\n",
              "      <td>248.83</td>\n",
              "      <td>249.12</td>\n",
              "      <td>4,245.05</td>\n",
              "      <td>1,337.99</td>\n",
              "      <td>784.66</td>\n",
              "      <td>139.58</td>\n",
              "      <td>97.04</td>\n",
              "      <td>32.2</td>\n",
              "      <td>1,623.88</td>\n",
              "      <td>89.6</td>\n",
              "      <td>2,413.26</td>\n",
              "      <td>191.52</td>\n",
              "      <td>345.66</td>\n",
              "      <td>4,018.16</td>\n",
              "      <td>518.29</td>\n",
              "      <td>482.38</td>\n",
              "      <td>3,704.02</td>\n",
              "      <td>510.77</td>\n",
              "      <td>1,579.72</td>\n",
              "      <td>509.55</td>\n",
              "      <td>1,228.51</td>\n",
              "      <td>605.08</td>\n",
              "      <td>624.36</td>\n",
              "      <td>...</td>\n",
              "      <td>122.38</td>\n",
              "      <td>504.3</td>\n",
              "      <td>185.75</td>\n",
              "      <td>259.96</td>\n",
              "      <td>952.75</td>\n",
              "      <td>246.31</td>\n",
              "      <td>203.62</td>\n",
              "      <td>836.08</td>\n",
              "      <td>54.56</td>\n",
              "      <td>345.71</td>\n",
              "      <td>741.58</td>\n",
              "      <td>105.65</td>\n",
              "      <td>166.64</td>\n",
              "      <td>258.96</td>\n",
              "      <td>210.92</td>\n",
              "      <td>78.23</td>\n",
              "      <td>100.07</td>\n",
              "      <td>82.05</td>\n",
              "      <td>128.39</td>\n",
              "      <td>162.27</td>\n",
              "      <td>101.89</td>\n",
              "      <td>75.86</td>\n",
              "      <td>564.36</td>\n",
              "      <td>45.62</td>\n",
              "      <td>170.26</td>\n",
              "      <td>54.64</td>\n",
              "      <td>83.85</td>\n",
              "      <td>144.57</td>\n",
              "      <td>137.53</td>\n",
              "      <td>63.2</td>\n",
              "      <td>148.86</td>\n",
              "      <td>531.7</td>\n",
              "      <td>247.58</td>\n",
              "      <td>442.46</td>\n",
              "      <td>335.76</td>\n",
              "      <td>102</td>\n",
              "      <td>83.71</td>\n",
              "      <td>439.84</td>\n",
              "      <td>81.06</td>\n",
              "      <td>184.42</td>\n",
              "    </tr>\n",
              "    <tr>\n",
              "      <th>densidade_dem</th>\n",
              "      <td>153</td>\n",
              "      <td>7,786.40</td>\n",
              "      <td>63.5</td>\n",
              "      <td>3,421.30</td>\n",
              "      <td>582.7</td>\n",
              "      <td>584.9</td>\n",
              "      <td>3,140.70</td>\n",
              "      <td>3,859.40</td>\n",
              "      <td>7,039.60</td>\n",
              "      <td>10.3</td>\n",
              "      <td>1,215.70</td>\n",
              "      <td>4,805.20</td>\n",
              "      <td>88.7</td>\n",
              "      <td>1,815.60</td>\n",
              "      <td>33.4</td>\n",
              "      <td>1,960.30</td>\n",
              "      <td>345</td>\n",
              "      <td>1,004.50</td>\n",
              "      <td>351.9</td>\n",
              "      <td>15.3</td>\n",
              "      <td>416</td>\n",
              "      <td>309.7</td>\n",
              "      <td>176</td>\n",
              "      <td>169.5</td>\n",
              "      <td>539.6</td>\n",
              "      <td>30.4</td>\n",
              "      <td>276.5</td>\n",
              "      <td>10.9</td>\n",
              "      <td>78.4</td>\n",
              "      <td>600.8</td>\n",
              "      <td>13.9</td>\n",
              "      <td>26.3</td>\n",
              "      <td>150.5</td>\n",
              "      <td>91.4</td>\n",
              "      <td>136</td>\n",
              "      <td>68.6</td>\n",
              "      <td>1,854.10</td>\n",
              "      <td>264.9</td>\n",
              "      <td>42.4</td>\n",
              "      <td>57.3</td>\n",
              "      <td>...</td>\n",
              "      <td>37</td>\n",
              "      <td>16.7</td>\n",
              "      <td>29.1</td>\n",
              "      <td>106.7</td>\n",
              "      <td>7.5</td>\n",
              "      <td>30.2</td>\n",
              "      <td>34</td>\n",
              "      <td>14.9</td>\n",
              "      <td>145.3</td>\n",
              "      <td>23.9</td>\n",
              "      <td>15.6</td>\n",
              "      <td>58.9</td>\n",
              "      <td>57.7</td>\n",
              "      <td>47.9</td>\n",
              "      <td>98.1</td>\n",
              "      <td>60</td>\n",
              "      <td>30.6</td>\n",
              "      <td>36.3</td>\n",
              "      <td>29.7</td>\n",
              "      <td>165.8</td>\n",
              "      <td>119.3</td>\n",
              "      <td>96.8</td>\n",
              "      <td>68.5</td>\n",
              "      <td>154.3</td>\n",
              "      <td>23.2</td>\n",
              "      <td>152.8</td>\n",
              "      <td>40.5</td>\n",
              "      <td>25.7</td>\n",
              "      <td>46.7</td>\n",
              "      <td>54.7</td>\n",
              "      <td>52</td>\n",
              "      <td>36.5</td>\n",
              "      <td>78.1</td>\n",
              "      <td>69.5</td>\n",
              "      <td>258.3</td>\n",
              "      <td>100.2</td>\n",
              "      <td>67.3</td>\n",
              "      <td>50</td>\n",
              "      <td>77</td>\n",
              "      <td>27</td>\n",
              "    </tr>\n",
              "    <tr>\n",
              "      <th>pib</th>\n",
              "      <td>8.41156e+06</td>\n",
              "      <td>4.97459e+07</td>\n",
              "      <td>981823</td>\n",
              "      <td>1.48418e+07</td>\n",
              "      <td>2.07706e+06</td>\n",
              "      <td>1.48036e+07</td>\n",
              "      <td>1.39181e+07</td>\n",
              "      <td>5.26679e+07</td>\n",
              "      <td>4.64453e+07</td>\n",
              "      <td>35932.8</td>\n",
              "      <td>2.31323e+07</td>\n",
              "      <td>1.99926e+07</td>\n",
              "      <td>3.3876e+06</td>\n",
              "      <td>2.07872e+06</td>\n",
              "      <td>2.71983e+06</td>\n",
              "      <td>6.25929e+06</td>\n",
              "      <td>1.20341e+06</td>\n",
              "      <td>3.22111e+06</td>\n",
              "      <td>1.10365e+06</td>\n",
              "      <td>3.36501e+06</td>\n",
              "      <td>1.08406e+07</td>\n",
              "      <td>1.47024e+07</td>\n",
              "      <td>294340</td>\n",
              "      <td>123579</td>\n",
              "      <td>405724</td>\n",
              "      <td>488006</td>\n",
              "      <td>393682</td>\n",
              "      <td>175374</td>\n",
              "      <td>100824</td>\n",
              "      <td>2.95586e+06</td>\n",
              "      <td>389676</td>\n",
              "      <td>75436.5</td>\n",
              "      <td>1.4284e+06</td>\n",
              "      <td>4.93591e+06</td>\n",
              "      <td>1.15286e+06</td>\n",
              "      <td>1.44693e+06</td>\n",
              "      <td>1.63858e+07</td>\n",
              "      <td>4.55746e+06</td>\n",
              "      <td>133370</td>\n",
              "      <td>261921</td>\n",
              "      <td>...</td>\n",
              "      <td>27216.5</td>\n",
              "      <td>64365.9</td>\n",
              "      <td>33883.9</td>\n",
              "      <td>318369</td>\n",
              "      <td>42442.7</td>\n",
              "      <td>66568.4</td>\n",
              "      <td>57286.3</td>\n",
              "      <td>149937</td>\n",
              "      <td>48621.4</td>\n",
              "      <td>51625.2</td>\n",
              "      <td>90945.1</td>\n",
              "      <td>38841.3</td>\n",
              "      <td>54572.6</td>\n",
              "      <td>52826</td>\n",
              "      <td>148716</td>\n",
              "      <td>30808.8</td>\n",
              "      <td>20874.7</td>\n",
              "      <td>28757.5</td>\n",
              "      <td>32897.5</td>\n",
              "      <td>975237</td>\n",
              "      <td>104615</td>\n",
              "      <td>108009</td>\n",
              "      <td>458463</td>\n",
              "      <td>41984.7</td>\n",
              "      <td>36483</td>\n",
              "      <td>54327.1</td>\n",
              "      <td>27982.8</td>\n",
              "      <td>30365.5</td>\n",
              "      <td>50942</td>\n",
              "      <td>39980.2</td>\n",
              "      <td>67495.7</td>\n",
              "      <td>154649</td>\n",
              "      <td>150037</td>\n",
              "      <td>265039</td>\n",
              "      <td>1.2651e+06</td>\n",
              "      <td>93161.6</td>\n",
              "      <td>38903</td>\n",
              "      <td>185983</td>\n",
              "      <td>48201.3</td>\n",
              "      <td>38696.9</td>\n",
              "    </tr>\n",
              "    <tr>\n",
              "      <th>pib_pc</th>\n",
              "      <td>95666.3</td>\n",
              "      <td>19494.4</td>\n",
              "      <td>22044.6</td>\n",
              "      <td>19284.9</td>\n",
              "      <td>41999.1</td>\n",
              "      <td>17697.6</td>\n",
              "      <td>22646.7</td>\n",
              "      <td>18264.1</td>\n",
              "      <td>29037.2</td>\n",
              "      <td>6016.88</td>\n",
              "      <td>21948.8</td>\n",
              "      <td>23412.5</td>\n",
              "      <td>17138.3</td>\n",
              "      <td>32977.2</td>\n",
              "      <td>158425</td>\n",
              "      <td>28722.6</td>\n",
              "      <td>19863.6</td>\n",
              "      <td>12327.8</td>\n",
              "      <td>11590.8</td>\n",
              "      <td>46057.6</td>\n",
              "      <td>17884.6</td>\n",
              "      <td>53351.9</td>\n",
              "      <td>11033.5</td>\n",
              "      <td>7325.79</td>\n",
              "      <td>20700.2</td>\n",
              "      <td>9486.52</td>\n",
              "      <td>14318.3</td>\n",
              "      <td>7160.75</td>\n",
              "      <td>6598.46</td>\n",
              "      <td>12984.8</td>\n",
              "      <td>6807.04</td>\n",
              "      <td>5422.02</td>\n",
              "      <td>18748.9</td>\n",
              "      <td>14647.2</td>\n",
              "      <td>15259.9</td>\n",
              "      <td>12327.2</td>\n",
              "      <td>16439.5</td>\n",
              "      <td>13212.5</td>\n",
              "      <td>4878.57</td>\n",
              "      <td>6866.99</td>\n",
              "      <td>...</td>\n",
              "      <td>5727.39</td>\n",
              "      <td>7087.98</td>\n",
              "      <td>6072.38</td>\n",
              "      <td>10817.8</td>\n",
              "      <td>5906.31</td>\n",
              "      <td>8430.65</td>\n",
              "      <td>7808.92</td>\n",
              "      <td>10756.7</td>\n",
              "      <td>5671.46</td>\n",
              "      <td>6069.27</td>\n",
              "      <td>7639.24</td>\n",
              "      <td>5896.67</td>\n",
              "      <td>5434.44</td>\n",
              "      <td>3794.42</td>\n",
              "      <td>6811.5</td>\n",
              "      <td>6210.19</td>\n",
              "      <td>6541.73</td>\n",
              "      <td>9155.51</td>\n",
              "      <td>8317.94</td>\n",
              "      <td>34179.3</td>\n",
              "      <td>8368.53</td>\n",
              "      <td>14215.4</td>\n",
              "      <td>11404.8</td>\n",
              "      <td>10804.1</td>\n",
              "      <td>8992.6</td>\n",
              "      <td>6330.35</td>\n",
              "      <td>7552.71</td>\n",
              "      <td>7868.76</td>\n",
              "      <td>7577.27</td>\n",
              "      <td>11074.8</td>\n",
              "      <td>8322.53</td>\n",
              "      <td>7756.89</td>\n",
              "      <td>7504.09</td>\n",
              "      <td>8113.59</td>\n",
              "      <td>13770.1</td>\n",
              "      <td>8625.28</td>\n",
              "      <td>6654.63</td>\n",
              "      <td>8058.88</td>\n",
              "      <td>7466.13</td>\n",
              "      <td>7665.78</td>\n",
              "    </tr>\n",
              "    <tr>\n",
              "      <th>participacao_transf_receita</th>\n",
              "      <td>67</td>\n",
              "      <td>53</td>\n",
              "      <td>51</td>\n",
              "      <td>64</td>\n",
              "      <td>55</td>\n",
              "      <td>63</td>\n",
              "      <td>54</td>\n",
              "      <td>47</td>\n",
              "      <td>48</td>\n",
              "      <td>61</td>\n",
              "      <td>60</td>\n",
              "      <td>51</td>\n",
              "      <td>82</td>\n",
              "      <td>66</td>\n",
              "      <td>87</td>\n",
              "      <td>75</td>\n",
              "      <td>69</td>\n",
              "      <td>73</td>\n",
              "      <td>67</td>\n",
              "      <td>79</td>\n",
              "      <td>62</td>\n",
              "      <td>60</td>\n",
              "      <td>61</td>\n",
              "      <td>67</td>\n",
              "      <td>87</td>\n",
              "      <td>77</td>\n",
              "      <td>46</td>\n",
              "      <td>90</td>\n",
              "      <td>83</td>\n",
              "      <td>62</td>\n",
              "      <td>77</td>\n",
              "      <td>65</td>\n",
              "      <td>69</td>\n",
              "      <td>78</td>\n",
              "      <td>80</td>\n",
              "      <td>84</td>\n",
              "      <td>60</td>\n",
              "      <td>78</td>\n",
              "      <td>75</td>\n",
              "      <td>80</td>\n",
              "      <td>...</td>\n",
              "      <td>92</td>\n",
              "      <td>93</td>\n",
              "      <td>97</td>\n",
              "      <td>67</td>\n",
              "      <td>90</td>\n",
              "      <td>91</td>\n",
              "      <td>96</td>\n",
              "      <td>92</td>\n",
              "      <td>97</td>\n",
              "      <td>94</td>\n",
              "      <td>94</td>\n",
              "      <td>96</td>\n",
              "      <td>88</td>\n",
              "      <td>NaN</td>\n",
              "      <td>NaN</td>\n",
              "      <td>NaN</td>\n",
              "      <td>NaN</td>\n",
              "      <td>97</td>\n",
              "      <td>91</td>\n",
              "      <td>85</td>\n",
              "      <td>86</td>\n",
              "      <td>92</td>\n",
              "      <td>90</td>\n",
              "      <td>98</td>\n",
              "      <td>91</td>\n",
              "      <td>81</td>\n",
              "      <td>92</td>\n",
              "      <td>93</td>\n",
              "      <td>97</td>\n",
              "      <td>95</td>\n",
              "      <td>93</td>\n",
              "      <td>95</td>\n",
              "      <td>89</td>\n",
              "      <td>83</td>\n",
              "      <td>84</td>\n",
              "      <td>97</td>\n",
              "      <td>92</td>\n",
              "      <td>92</td>\n",
              "      <td>NaN</td>\n",
              "      <td>NaN</td>\n",
              "    </tr>\n",
              "    <tr>\n",
              "      <th>servidores</th>\n",
              "      <td>2662</td>\n",
              "      <td>27093</td>\n",
              "      <td>1200</td>\n",
              "      <td>9668</td>\n",
              "      <td>1351</td>\n",
              "      <td>13333</td>\n",
              "      <td>7653</td>\n",
              "      <td>21057</td>\n",
              "      <td>19545</td>\n",
              "      <td>212</td>\n",
              "      <td>14207</td>\n",
              "      <td>12517</td>\n",
              "      <td>2014</td>\n",
              "      <td>2195</td>\n",
              "      <td>447</td>\n",
              "      <td>4999</td>\n",
              "      <td>2102</td>\n",
              "      <td>4761</td>\n",
              "      <td>2184</td>\n",
              "      <td>1301</td>\n",
              "      <td>7033</td>\n",
              "      <td>5905</td>\n",
              "      <td>841</td>\n",
              "      <td>206</td>\n",
              "      <td>849</td>\n",
              "      <td>1191</td>\n",
              "      <td>520</td>\n",
              "      <td>712</td>\n",
              "      <td>403</td>\n",
              "      <td>5203</td>\n",
              "      <td>1335</td>\n",
              "      <td>461</td>\n",
              "      <td>2114</td>\n",
              "      <td>6446</td>\n",
              "      <td>1144</td>\n",
              "      <td>1248</td>\n",
              "      <td>13313</td>\n",
              "      <td>4535</td>\n",
              "      <td>601</td>\n",
              "      <td>737</td>\n",
              "      <td>...</td>\n",
              "      <td>202</td>\n",
              "      <td>325</td>\n",
              "      <td>237</td>\n",
              "      <td>658</td>\n",
              "      <td>293</td>\n",
              "      <td>238</td>\n",
              "      <td>163</td>\n",
              "      <td>464</td>\n",
              "      <td>340</td>\n",
              "      <td>222</td>\n",
              "      <td>316</td>\n",
              "      <td>253</td>\n",
              "      <td>310</td>\n",
              "      <td>808</td>\n",
              "      <td>487</td>\n",
              "      <td>134</td>\n",
              "      <td>150</td>\n",
              "      <td>141</td>\n",
              "      <td>159</td>\n",
              "      <td>1639</td>\n",
              "      <td>386</td>\n",
              "      <td>262</td>\n",
              "      <td>687</td>\n",
              "      <td>306</td>\n",
              "      <td>220</td>\n",
              "      <td>328</td>\n",
              "      <td>172</td>\n",
              "      <td>209</td>\n",
              "      <td>163</td>\n",
              "      <td>313</td>\n",
              "      <td>118</td>\n",
              "      <td>589</td>\n",
              "      <td>747</td>\n",
              "      <td>759</td>\n",
              "      <td>1799</td>\n",
              "      <td>265</td>\n",
              "      <td>203</td>\n",
              "      <td>623</td>\n",
              "      <td>236</td>\n",
              "      <td>203</td>\n",
              "    </tr>\n",
              "    <tr>\n",
              "      <th>comissionados</th>\n",
              "      <td>1907</td>\n",
              "      <td>2201</td>\n",
              "      <td>458</td>\n",
              "      <td>1142</td>\n",
              "      <td>629</td>\n",
              "      <td>1767</td>\n",
              "      <td>2528</td>\n",
              "      <td>794</td>\n",
              "      <td>2003</td>\n",
              "      <td>52</td>\n",
              "      <td>2327</td>\n",
              "      <td>832</td>\n",
              "      <td>827</td>\n",
              "      <td>653</td>\n",
              "      <td>219</td>\n",
              "      <td>1098</td>\n",
              "      <td>173</td>\n",
              "      <td>400</td>\n",
              "      <td>864</td>\n",
              "      <td>156</td>\n",
              "      <td>541</td>\n",
              "      <td>1036</td>\n",
              "      <td>250</td>\n",
              "      <td>147</td>\n",
              "      <td>547</td>\n",
              "      <td>77</td>\n",
              "      <td>275</td>\n",
              "      <td>101</td>\n",
              "      <td>46</td>\n",
              "      <td>470</td>\n",
              "      <td>548</td>\n",
              "      <td>55</td>\n",
              "      <td>313</td>\n",
              "      <td>193</td>\n",
              "      <td>383</td>\n",
              "      <td>154</td>\n",
              "      <td>972</td>\n",
              "      <td>794</td>\n",
              "      <td>328</td>\n",
              "      <td>210</td>\n",
              "      <td>...</td>\n",
              "      <td>43</td>\n",
              "      <td>43</td>\n",
              "      <td>66</td>\n",
              "      <td>189</td>\n",
              "      <td>32</td>\n",
              "      <td>26</td>\n",
              "      <td>74</td>\n",
              "      <td>46</td>\n",
              "      <td>60</td>\n",
              "      <td>36</td>\n",
              "      <td>88</td>\n",
              "      <td>40</td>\n",
              "      <td>7</td>\n",
              "      <td>401</td>\n",
              "      <td>158</td>\n",
              "      <td>17</td>\n",
              "      <td>11</td>\n",
              "      <td>33</td>\n",
              "      <td>44</td>\n",
              "      <td>243</td>\n",
              "      <td>84</td>\n",
              "      <td>82</td>\n",
              "      <td>40</td>\n",
              "      <td>50</td>\n",
              "      <td>68</td>\n",
              "      <td>42</td>\n",
              "      <td>80</td>\n",
              "      <td>105</td>\n",
              "      <td>83</td>\n",
              "      <td>24</td>\n",
              "      <td>65</td>\n",
              "      <td>76</td>\n",
              "      <td>113</td>\n",
              "      <td>75</td>\n",
              "      <td>227</td>\n",
              "      <td>120</td>\n",
              "      <td>89</td>\n",
              "      <td>130</td>\n",
              "      <td>22</td>\n",
              "      <td>14</td>\n",
              "    </tr>\n",
              "    <tr>\n",
              "      <th>comissionados_por_servidor</th>\n",
              "      <td>72%</td>\n",
              "      <td>8%</td>\n",
              "      <td>38%</td>\n",
              "      <td>12%</td>\n",
              "      <td>47%</td>\n",
              "      <td>13%</td>\n",
              "      <td>33%</td>\n",
              "      <td>4%</td>\n",
              "      <td>10%</td>\n",
              "      <td>25%</td>\n",
              "      <td>16%</td>\n",
              "      <td>7%</td>\n",
              "      <td>41%</td>\n",
              "      <td>30%</td>\n",
              "      <td>49%</td>\n",
              "      <td>22%</td>\n",
              "      <td>8%</td>\n",
              "      <td>8%</td>\n",
              "      <td>40%</td>\n",
              "      <td>12%</td>\n",
              "      <td>8%</td>\n",
              "      <td>18%</td>\n",
              "      <td>30%</td>\n",
              "      <td>71%</td>\n",
              "      <td>64%</td>\n",
              "      <td>6%</td>\n",
              "      <td>53%</td>\n",
              "      <td>14%</td>\n",
              "      <td>11%</td>\n",
              "      <td>9%</td>\n",
              "      <td>41%</td>\n",
              "      <td>12%</td>\n",
              "      <td>15%</td>\n",
              "      <td>3%</td>\n",
              "      <td>33%</td>\n",
              "      <td>12%</td>\n",
              "      <td>7%</td>\n",
              "      <td>18%</td>\n",
              "      <td>55%</td>\n",
              "      <td>28%</td>\n",
              "      <td>...</td>\n",
              "      <td>21%</td>\n",
              "      <td>13%</td>\n",
              "      <td>28%</td>\n",
              "      <td>29%</td>\n",
              "      <td>11%</td>\n",
              "      <td>11%</td>\n",
              "      <td>45%</td>\n",
              "      <td>10%</td>\n",
              "      <td>18%</td>\n",
              "      <td>16%</td>\n",
              "      <td>28%</td>\n",
              "      <td>16%</td>\n",
              "      <td>2%</td>\n",
              "      <td>50%</td>\n",
              "      <td>32%</td>\n",
              "      <td>13%</td>\n",
              "      <td>7%</td>\n",
              "      <td>23%</td>\n",
              "      <td>28%</td>\n",
              "      <td>15%</td>\n",
              "      <td>22%</td>\n",
              "      <td>31%</td>\n",
              "      <td>6%</td>\n",
              "      <td>16%</td>\n",
              "      <td>31%</td>\n",
              "      <td>13%</td>\n",
              "      <td>47%</td>\n",
              "      <td>50%</td>\n",
              "      <td>51%</td>\n",
              "      <td>8%</td>\n",
              "      <td>55%</td>\n",
              "      <td>13%</td>\n",
              "      <td>15%</td>\n",
              "      <td>10%</td>\n",
              "      <td>13%</td>\n",
              "      <td>45%</td>\n",
              "      <td>44%</td>\n",
              "      <td>21%</td>\n",
              "      <td>9%</td>\n",
              "      <td>7%</td>\n",
              "    </tr>\n",
              "    <tr>\n",
              "      <th>perc_pop_econ_ativa</th>\n",
              "      <td>0.82</td>\n",
              "      <td>1</td>\n",
              "      <td>0.88</td>\n",
              "      <td>0.99</td>\n",
              "      <td>0.94</td>\n",
              "      <td>1.01</td>\n",
              "      <td>1</td>\n",
              "      <td>1.08</td>\n",
              "      <td>0.99</td>\n",
              "      <td>0.98</td>\n",
              "      <td>1</td>\n",
              "      <td>1.01</td>\n",
              "      <td>0.9</td>\n",
              "      <td>0.92</td>\n",
              "      <td>0.94</td>\n",
              "      <td>0.91</td>\n",
              "      <td>0.89</td>\n",
              "      <td>0.91</td>\n",
              "      <td>0.87</td>\n",
              "      <td>1.07</td>\n",
              "      <td>1.05</td>\n",
              "      <td>1.04</td>\n",
              "      <td>0.79</td>\n",
              "      <td>0.77</td>\n",
              "      <td>0.92</td>\n",
              "      <td>0.85</td>\n",
              "      <td>0.8</td>\n",
              "      <td>0.92</td>\n",
              "      <td>0.9</td>\n",
              "      <td>0.87</td>\n",
              "      <td>0.84</td>\n",
              "      <td>0.69</td>\n",
              "      <td>0.86</td>\n",
              "      <td>1</td>\n",
              "      <td>0.86</td>\n",
              "      <td>0.87</td>\n",
              "      <td>0.96</td>\n",
              "      <td>0.88</td>\n",
              "      <td>0.86</td>\n",
              "      <td>0.84</td>\n",
              "      <td>...</td>\n",
              "      <td>0.67</td>\n",
              "      <td>0.57</td>\n",
              "      <td>0.82</td>\n",
              "      <td>0.85</td>\n",
              "      <td>0.64</td>\n",
              "      <td>0.95</td>\n",
              "      <td>0.81</td>\n",
              "      <td>0.68</td>\n",
              "      <td>0.76</td>\n",
              "      <td>0.7</td>\n",
              "      <td>0.76</td>\n",
              "      <td>0.89</td>\n",
              "      <td>0.56</td>\n",
              "      <td>0.81</td>\n",
              "      <td>0.68</td>\n",
              "      <td>0.68</td>\n",
              "      <td>0.91</td>\n",
              "      <td>0.93</td>\n",
              "      <td>0.87</td>\n",
              "      <td>0.68</td>\n",
              "      <td>0.95</td>\n",
              "      <td>0.77</td>\n",
              "      <td>0.9</td>\n",
              "      <td>0.63</td>\n",
              "      <td>0.92</td>\n",
              "      <td>0.56</td>\n",
              "      <td>0.81</td>\n",
              "      <td>0.96</td>\n",
              "      <td>0.9</td>\n",
              "      <td>0.74</td>\n",
              "      <td>0.79</td>\n",
              "      <td>0.72</td>\n",
              "      <td>0.89</td>\n",
              "      <td>0.73</td>\n",
              "      <td>0.97</td>\n",
              "      <td>1.02</td>\n",
              "      <td>0.77</td>\n",
              "      <td>0.86</td>\n",
              "      <td>0.79</td>\n",
              "      <td>0.78</td>\n",
              "    </tr>\n",
              "    <tr>\n",
              "      <th>taxa_empreendedorismo</th>\n",
              "      <td>0.16</td>\n",
              "      <td>0.22</td>\n",
              "      <td>0.2</td>\n",
              "      <td>0.13</td>\n",
              "      <td>0.18</td>\n",
              "      <td>0.22</td>\n",
              "      <td>0.22</td>\n",
              "      <td>0.2</td>\n",
              "      <td>0.22</td>\n",
              "      <td>0.11</td>\n",
              "      <td>0.22</td>\n",
              "      <td>0.21</td>\n",
              "      <td>0.17</td>\n",
              "      <td>0.24</td>\n",
              "      <td>0.36</td>\n",
              "      <td>0.18</td>\n",
              "      <td>0.15</td>\n",
              "      <td>0.28</td>\n",
              "      <td>0.16</td>\n",
              "      <td>0.23</td>\n",
              "      <td>0.26</td>\n",
              "      <td>0.2</td>\n",
              "      <td>0.22</td>\n",
              "      <td>0.27</td>\n",
              "      <td>0.16</td>\n",
              "      <td>0.24</td>\n",
              "      <td>0.32</td>\n",
              "      <td>0.24</td>\n",
              "      <td>0.29</td>\n",
              "      <td>0.3</td>\n",
              "      <td>0.23</td>\n",
              "      <td>0.27</td>\n",
              "      <td>0.19</td>\n",
              "      <td>0.26</td>\n",
              "      <td>0.21</td>\n",
              "      <td>0.23</td>\n",
              "      <td>0.22</td>\n",
              "      <td>0.2</td>\n",
              "      <td>0.28</td>\n",
              "      <td>0.24</td>\n",
              "      <td>...</td>\n",
              "      <td>0.15</td>\n",
              "      <td>0.19</td>\n",
              "      <td>0.1</td>\n",
              "      <td>0.23</td>\n",
              "      <td>0.18</td>\n",
              "      <td>0.27</td>\n",
              "      <td>0.16</td>\n",
              "      <td>0.18</td>\n",
              "      <td>0.29</td>\n",
              "      <td>0.26</td>\n",
              "      <td>0.24</td>\n",
              "      <td>0.29</td>\n",
              "      <td>0.22</td>\n",
              "      <td>0.13</td>\n",
              "      <td>0.27</td>\n",
              "      <td>0.41</td>\n",
              "      <td>0.25</td>\n",
              "      <td>0.16</td>\n",
              "      <td>0.16</td>\n",
              "      <td>0.12</td>\n",
              "      <td>0.47</td>\n",
              "      <td>0.16</td>\n",
              "      <td>0.26</td>\n",
              "      <td>0.18</td>\n",
              "      <td>0.29</td>\n",
              "      <td>0.32</td>\n",
              "      <td>0.31</td>\n",
              "      <td>0.13</td>\n",
              "      <td>0.16</td>\n",
              "      <td>0.18</td>\n",
              "      <td>0.6</td>\n",
              "      <td>0.39</td>\n",
              "      <td>0.24</td>\n",
              "      <td>0.18</td>\n",
              "      <td>0.4</td>\n",
              "      <td>0.27</td>\n",
              "      <td>0.35</td>\n",
              "      <td>0.23</td>\n",
              "      <td>0.32</td>\n",
              "      <td>0.26</td>\n",
              "    </tr>\n",
              "    <tr>\n",
              "      <th>anos_estudo_empreendedor</th>\n",
              "      <td>6.34631</td>\n",
              "      <td>8.57994</td>\n",
              "      <td>7.8039</td>\n",
              "      <td>5.34443</td>\n",
              "      <td>7.77503</td>\n",
              "      <td>8.04856</td>\n",
              "      <td>9.15168</td>\n",
              "      <td>9.07786</td>\n",
              "      <td>9.28345</td>\n",
              "      <td>5.03495</td>\n",
              "      <td>8.93908</td>\n",
              "      <td>8.57507</td>\n",
              "      <td>6.88651</td>\n",
              "      <td>8.85636</td>\n",
              "      <td>5.7968</td>\n",
              "      <td>7.10206</td>\n",
              "      <td>6.42856</td>\n",
              "      <td>6.90711</td>\n",
              "      <td>6.39811</td>\n",
              "      <td>8.16918</td>\n",
              "      <td>7.61039</td>\n",
              "      <td>7.44639</td>\n",
              "      <td>6.13605</td>\n",
              "      <td>5.85314</td>\n",
              "      <td>8.5624</td>\n",
              "      <td>5.75412</td>\n",
              "      <td>6.27027</td>\n",
              "      <td>5.68972</td>\n",
              "      <td>5.86646</td>\n",
              "      <td>5.98286</td>\n",
              "      <td>5.06388</td>\n",
              "      <td>5.14289</td>\n",
              "      <td>5.79643</td>\n",
              "      <td>7.15662</td>\n",
              "      <td>6.20621</td>\n",
              "      <td>6.54562</td>\n",
              "      <td>8.17685</td>\n",
              "      <td>6.87649</td>\n",
              "      <td>5.70377</td>\n",
              "      <td>6.05964</td>\n",
              "      <td>...</td>\n",
              "      <td>5.99885</td>\n",
              "      <td>5.03656</td>\n",
              "      <td>6.19608</td>\n",
              "      <td>6.96623</td>\n",
              "      <td>4.96037</td>\n",
              "      <td>5.8991</td>\n",
              "      <td>5.56508</td>\n",
              "      <td>5.05297</td>\n",
              "      <td>5.59268</td>\n",
              "      <td>5.01766</td>\n",
              "      <td>6.37997</td>\n",
              "      <td>4.95539</td>\n",
              "      <td>5.73972</td>\n",
              "      <td>6.5244</td>\n",
              "      <td>5.42023</td>\n",
              "      <td>4.94509</td>\n",
              "      <td>6.60984</td>\n",
              "      <td>4.8279</td>\n",
              "      <td>5.49487</td>\n",
              "      <td>7.51155</td>\n",
              "      <td>4.51783</td>\n",
              "      <td>6.42854</td>\n",
              "      <td>4.96014</td>\n",
              "      <td>4.60055</td>\n",
              "      <td>5.16818</td>\n",
              "      <td>5.28452</td>\n",
              "      <td>5.09852</td>\n",
              "      <td>4.08016</td>\n",
              "      <td>4.9579</td>\n",
              "      <td>5.32441</td>\n",
              "      <td>3.95284</td>\n",
              "      <td>4.06886</td>\n",
              "      <td>4.64484</td>\n",
              "      <td>5.96093</td>\n",
              "      <td>5.09184</td>\n",
              "      <td>4.72577</td>\n",
              "      <td>6.35157</td>\n",
              "      <td>4.74104</td>\n",
              "      <td>5.14198</td>\n",
              "      <td>4.69656</td>\n",
              "    </tr>\n",
              "    <tr>\n",
              "      <th>jornada_trabalho</th>\n",
              "      <td>43.8269</td>\n",
              "      <td>39.9163</td>\n",
              "      <td>38.4951</td>\n",
              "      <td>35.1125</td>\n",
              "      <td>38.4572</td>\n",
              "      <td>39.556</td>\n",
              "      <td>38.9502</td>\n",
              "      <td>38.2369</td>\n",
              "      <td>39.3009</td>\n",
              "      <td>34.3812</td>\n",
              "      <td>38.1007</td>\n",
              "      <td>40.7326</td>\n",
              "      <td>38.9416</td>\n",
              "      <td>42.0876</td>\n",
              "      <td>39.3108</td>\n",
              "      <td>41.1991</td>\n",
              "      <td>46.0043</td>\n",
              "      <td>40.6686</td>\n",
              "      <td>40.0476</td>\n",
              "      <td>45.4513</td>\n",
              "      <td>39.2744</td>\n",
              "      <td>41.0524</td>\n",
              "      <td>44.11</td>\n",
              "      <td>41.0916</td>\n",
              "      <td>38.1904</td>\n",
              "      <td>34.8214</td>\n",
              "      <td>39.7803</td>\n",
              "      <td>36.3379</td>\n",
              "      <td>38.4747</td>\n",
              "      <td>40.046</td>\n",
              "      <td>36.7567</td>\n",
              "      <td>33.9771</td>\n",
              "      <td>38.5361</td>\n",
              "      <td>39.548</td>\n",
              "      <td>43.2342</td>\n",
              "      <td>36.8373</td>\n",
              "      <td>39.2606</td>\n",
              "      <td>41.6838</td>\n",
              "      <td>37.1353</td>\n",
              "      <td>38.6366</td>\n",
              "      <td>...</td>\n",
              "      <td>39.9248</td>\n",
              "      <td>39.4038</td>\n",
              "      <td>37.2589</td>\n",
              "      <td>39.7275</td>\n",
              "      <td>38.5183</td>\n",
              "      <td>42.9012</td>\n",
              "      <td>40.2735</td>\n",
              "      <td>37.9696</td>\n",
              "      <td>42.6112</td>\n",
              "      <td>40.757</td>\n",
              "      <td>39.7947</td>\n",
              "      <td>38.5626</td>\n",
              "      <td>38.1573</td>\n",
              "      <td>43.6496</td>\n",
              "      <td>38.8998</td>\n",
              "      <td>44.7558</td>\n",
              "      <td>38.3982</td>\n",
              "      <td>39.4818</td>\n",
              "      <td>32.7648</td>\n",
              "      <td>36.3754</td>\n",
              "      <td>36.2568</td>\n",
              "      <td>31.6762</td>\n",
              "      <td>37.2889</td>\n",
              "      <td>28.9624</td>\n",
              "      <td>37.5121</td>\n",
              "      <td>33.8184</td>\n",
              "      <td>37.9951</td>\n",
              "      <td>33.302</td>\n",
              "      <td>43.3108</td>\n",
              "      <td>22.3789</td>\n",
              "      <td>30.9816</td>\n",
              "      <td>29.6452</td>\n",
              "      <td>36.452</td>\n",
              "      <td>37.5346</td>\n",
              "      <td>39.6211</td>\n",
              "      <td>32.1203</td>\n",
              "      <td>35.7311</td>\n",
              "      <td>34.7772</td>\n",
              "      <td>39.7085</td>\n",
              "      <td>38.3716</td>\n",
              "    </tr>\n",
              "    <tr>\n",
              "      <th>gasto_pc_saude</th>\n",
              "      <td>1208.11</td>\n",
              "      <td>620.43</td>\n",
              "      <td>602.14</td>\n",
              "      <td>486.34</td>\n",
              "      <td>926.89</td>\n",
              "      <td>954.24</td>\n",
              "      <td>768.29</td>\n",
              "      <td>383.66</td>\n",
              "      <td>546.36</td>\n",
              "      <td>1206.47</td>\n",
              "      <td>657.18</td>\n",
              "      <td>521.03</td>\n",
              "      <td>1009.36</td>\n",
              "      <td>650.4</td>\n",
              "      <td>721.14</td>\n",
              "      <td>696.23</td>\n",
              "      <td>645.4</td>\n",
              "      <td>364.23</td>\n",
              "      <td>382.7</td>\n",
              "      <td>617.6</td>\n",
              "      <td>441.76</td>\n",
              "      <td>611.64</td>\n",
              "      <td>494.09</td>\n",
              "      <td>755.89</td>\n",
              "      <td>1342.98</td>\n",
              "      <td>337.66</td>\n",
              "      <td>645.71</td>\n",
              "      <td>449.52</td>\n",
              "      <td>396.93</td>\n",
              "      <td>720.74</td>\n",
              "      <td>535.67</td>\n",
              "      <td>505.73</td>\n",
              "      <td>559.97</td>\n",
              "      <td>540.65</td>\n",
              "      <td>364.38</td>\n",
              "      <td>554.9</td>\n",
              "      <td>509.45</td>\n",
              "      <td>257.12</td>\n",
              "      <td>306.18</td>\n",
              "      <td>554.61</td>\n",
              "      <td>...</td>\n",
              "      <td>645.46</td>\n",
              "      <td>395.87</td>\n",
              "      <td>587.17</td>\n",
              "      <td>586.16</td>\n",
              "      <td>498.12</td>\n",
              "      <td>579.17</td>\n",
              "      <td>506</td>\n",
              "      <td>515.2</td>\n",
              "      <td>445.42</td>\n",
              "      <td>351.68</td>\n",
              "      <td>447.57</td>\n",
              "      <td>597.93</td>\n",
              "      <td>411.15</td>\n",
              "      <td>2538.92</td>\n",
              "      <td>NaN</td>\n",
              "      <td>NaN</td>\n",
              "      <td>NaN</td>\n",
              "      <td>642.34</td>\n",
              "      <td>668.1</td>\n",
              "      <td>456.13</td>\n",
              "      <td>343.12</td>\n",
              "      <td>455.91</td>\n",
              "      <td>301.27</td>\n",
              "      <td>632.17</td>\n",
              "      <td>747.45</td>\n",
              "      <td>474.56</td>\n",
              "      <td>528.76</td>\n",
              "      <td>586.64</td>\n",
              "      <td>333.63</td>\n",
              "      <td>630.46</td>\n",
              "      <td>365.77</td>\n",
              "      <td>331.38</td>\n",
              "      <td>390.79</td>\n",
              "      <td>153.45</td>\n",
              "      <td>344.28</td>\n",
              "      <td>319.32</td>\n",
              "      <td>461.83</td>\n",
              "      <td>310.39</td>\n",
              "      <td>NaN</td>\n",
              "      <td>NaN</td>\n",
              "    </tr>\n",
              "    <tr>\n",
              "      <th>hab_p_medico</th>\n",
              "      <td>521.279</td>\n",
              "      <td>NaN</td>\n",
              "      <td>766</td>\n",
              "      <td>617.184</td>\n",
              "      <td>393.031</td>\n",
              "      <td>2374.58</td>\n",
              "      <td>1275.6</td>\n",
              "      <td>4425.19</td>\n",
              "      <td>1099.44</td>\n",
              "      <td>370.733</td>\n",
              "      <td>940.935</td>\n",
              "      <td>1003.54</td>\n",
              "      <td>1623.98</td>\n",
              "      <td>333.472</td>\n",
              "      <td>1246.93</td>\n",
              "      <td>1003.42</td>\n",
              "      <td>539.148</td>\n",
              "      <td>1018.16</td>\n",
              "      <td>3121.26</td>\n",
              "      <td>1364.64</td>\n",
              "      <td>1800</td>\n",
              "      <td>1027.05</td>\n",
              "      <td>695.051</td>\n",
              "      <td>770.182</td>\n",
              "      <td>2855</td>\n",
              "      <td>1621.41</td>\n",
              "      <td>1080.5</td>\n",
              "      <td>NaN</td>\n",
              "      <td>1272</td>\n",
              "      <td>1603.7</td>\n",
              "      <td>1982</td>\n",
              "      <td>697.8</td>\n",
              "      <td>793.474</td>\n",
              "      <td>2330.13</td>\n",
              "      <td>1828.6</td>\n",
              "      <td>1105.82</td>\n",
              "      <td>1889.7</td>\n",
              "      <td>1209.43</td>\n",
              "      <td>721.895</td>\n",
              "      <td>401.438</td>\n",
              "      <td>...</td>\n",
              "      <td>1591.67</td>\n",
              "      <td>2302</td>\n",
              "      <td>1861</td>\n",
              "      <td>2284.31</td>\n",
              "      <td>1780.5</td>\n",
              "      <td>7972</td>\n",
              "      <td>1232.83</td>\n",
              "      <td>2142.17</td>\n",
              "      <td>2175.5</td>\n",
              "      <td>1214.57</td>\n",
              "      <td>2381.2</td>\n",
              "      <td>6640</td>\n",
              "      <td>1440.86</td>\n",
              "      <td>317.378</td>\n",
              "      <td>NaN</td>\n",
              "      <td>NaN</td>\n",
              "      <td>NaN</td>\n",
              "      <td>3170</td>\n",
              "      <td>441.111</td>\n",
              "      <td>2218.08</td>\n",
              "      <td>1568.75</td>\n",
              "      <td>1270</td>\n",
              "      <td>2883.14</td>\n",
              "      <td>1299.67</td>\n",
              "      <td>2028.5</td>\n",
              "      <td>2147.25</td>\n",
              "      <td>1888.5</td>\n",
              "      <td>1293.67</td>\n",
              "      <td>85.7468</td>\n",
              "      <td>1210.67</td>\n",
              "      <td>2721.67</td>\n",
              "      <td>1247.31</td>\n",
              "      <td>1431.36</td>\n",
              "      <td>2064</td>\n",
              "      <td>1749.66</td>\n",
              "      <td>2177.4</td>\n",
              "      <td>652</td>\n",
              "      <td>2113.55</td>\n",
              "      <td>1618.75</td>\n",
              "      <td>2516</td>\n",
              "    </tr>\n",
              "    <tr>\n",
              "      <th>exp_vida</th>\n",
              "      <td>71.44</td>\n",
              "      <td>74.41</td>\n",
              "      <td>74.09</td>\n",
              "      <td>74.89</td>\n",
              "      <td>72.66</td>\n",
              "      <td>74.22</td>\n",
              "      <td>74.36</td>\n",
              "      <td>75.1</td>\n",
              "      <td>74.5</td>\n",
              "      <td>70.07</td>\n",
              "      <td>73.76</td>\n",
              "      <td>75.08</td>\n",
              "      <td>74.93</td>\n",
              "      <td>74.31</td>\n",
              "      <td>73.41</td>\n",
              "      <td>72.27</td>\n",
              "      <td>72.3</td>\n",
              "      <td>73.58</td>\n",
              "      <td>74.72</td>\n",
              "      <td>74.53</td>\n",
              "      <td>74.2</td>\n",
              "      <td>72.9</td>\n",
              "      <td>73.5</td>\n",
              "      <td>70.79</td>\n",
              "      <td>72.64</td>\n",
              "      <td>71.67</td>\n",
              "      <td>71.54</td>\n",
              "      <td>69.8</td>\n",
              "      <td>74</td>\n",
              "      <td>71.82</td>\n",
              "      <td>71.4</td>\n",
              "      <td>71.57</td>\n",
              "      <td>72.27</td>\n",
              "      <td>72.3</td>\n",
              "      <td>72.04</td>\n",
              "      <td>72.34</td>\n",
              "      <td>72.94</td>\n",
              "      <td>73.48</td>\n",
              "      <td>70.27</td>\n",
              "      <td>70.67</td>\n",
              "      <td>...</td>\n",
              "      <td>71.92</td>\n",
              "      <td>71.46</td>\n",
              "      <td>71.68</td>\n",
              "      <td>73.16</td>\n",
              "      <td>72.27</td>\n",
              "      <td>72.76</td>\n",
              "      <td>71.11</td>\n",
              "      <td>70.5</td>\n",
              "      <td>71.35</td>\n",
              "      <td>71.56</td>\n",
              "      <td>70.34</td>\n",
              "      <td>69.36</td>\n",
              "      <td>71.56</td>\n",
              "      <td>71.13</td>\n",
              "      <td>71.18</td>\n",
              "      <td>69.24</td>\n",
              "      <td>72.32</td>\n",
              "      <td>66.88</td>\n",
              "      <td>69.9</td>\n",
              "      <td>71.3</td>\n",
              "      <td>71.87</td>\n",
              "      <td>71.24</td>\n",
              "      <td>71.51</td>\n",
              "      <td>70.94</td>\n",
              "      <td>68.3</td>\n",
              "      <td>69.1</td>\n",
              "      <td>68.89</td>\n",
              "      <td>70.16</td>\n",
              "      <td>68.66</td>\n",
              "      <td>68.31</td>\n",
              "      <td>67.03</td>\n",
              "      <td>71.87</td>\n",
              "      <td>72.35</td>\n",
              "      <td>70.97</td>\n",
              "      <td>73.03</td>\n",
              "      <td>70.36</td>\n",
              "      <td>68.83</td>\n",
              "      <td>70.08</td>\n",
              "      <td>68.13</td>\n",
              "      <td>69.86</td>\n",
              "    </tr>\n",
              "    <tr>\n",
              "      <th>gasto_pc_educacao</th>\n",
              "      <td>1779.61</td>\n",
              "      <td>382.8</td>\n",
              "      <td>1232.37</td>\n",
              "      <td>428.25</td>\n",
              "      <td>1112.71</td>\n",
              "      <td>445.35</td>\n",
              "      <td>241.69</td>\n",
              "      <td>341.46</td>\n",
              "      <td>451.58</td>\n",
              "      <td>1531.39</td>\n",
              "      <td>400.69</td>\n",
              "      <td>346.71</td>\n",
              "      <td>623.96</td>\n",
              "      <td>662.38</td>\n",
              "      <td>1332.84</td>\n",
              "      <td>753.25</td>\n",
              "      <td>832.29</td>\n",
              "      <td>423.75</td>\n",
              "      <td>572.32</td>\n",
              "      <td>918.27</td>\n",
              "      <td>364.54</td>\n",
              "      <td>734</td>\n",
              "      <td>824.21</td>\n",
              "      <td>700.84</td>\n",
              "      <td>1408.98</td>\n",
              "      <td>812.64</td>\n",
              "      <td>713.93</td>\n",
              "      <td>824.66</td>\n",
              "      <td>653.37</td>\n",
              "      <td>416.11</td>\n",
              "      <td>898.61</td>\n",
              "      <td>1119.59</td>\n",
              "      <td>812.44</td>\n",
              "      <td>506.01</td>\n",
              "      <td>570.28</td>\n",
              "      <td>529.78</td>\n",
              "      <td>254.86</td>\n",
              "      <td>521.65</td>\n",
              "      <td>881.9</td>\n",
              "      <td>419.99</td>\n",
              "      <td>...</td>\n",
              "      <td>705.85</td>\n",
              "      <td>836.2</td>\n",
              "      <td>857.17</td>\n",
              "      <td>385.6</td>\n",
              "      <td>810.35</td>\n",
              "      <td>555.22</td>\n",
              "      <td>687.75</td>\n",
              "      <td>514.05</td>\n",
              "      <td>600.58</td>\n",
              "      <td>691.5</td>\n",
              "      <td>591.77</td>\n",
              "      <td>743.68</td>\n",
              "      <td>642.81</td>\n",
              "      <td>3434.19</td>\n",
              "      <td>NaN</td>\n",
              "      <td>NaN</td>\n",
              "      <td>NaN</td>\n",
              "      <td>1204.06</td>\n",
              "      <td>844.7</td>\n",
              "      <td>874.87</td>\n",
              "      <td>842.89</td>\n",
              "      <td>868.93</td>\n",
              "      <td>680.24</td>\n",
              "      <td>1367.35</td>\n",
              "      <td>962.79</td>\n",
              "      <td>890.7</td>\n",
              "      <td>936.27</td>\n",
              "      <td>923.86</td>\n",
              "      <td>840.67</td>\n",
              "      <td>1136.22</td>\n",
              "      <td>796.93</td>\n",
              "      <td>930.64</td>\n",
              "      <td>849.94</td>\n",
              "      <td>764.96</td>\n",
              "      <td>439.65</td>\n",
              "      <td>686.34</td>\n",
              "      <td>613.36</td>\n",
              "      <td>645.33</td>\n",
              "      <td>NaN</td>\n",
              "      <td>NaN</td>\n",
              "    </tr>\n",
              "    <tr>\n",
              "      <th>exp_anos_estudo</th>\n",
              "      <td>8.65</td>\n",
              "      <td>10.04</td>\n",
              "      <td>8.65</td>\n",
              "      <td>9.87</td>\n",
              "      <td>10.13</td>\n",
              "      <td>10.36</td>\n",
              "      <td>9.76</td>\n",
              "      <td>9.16</td>\n",
              "      <td>9.53</td>\n",
              "      <td>8.53</td>\n",
              "      <td>9.84</td>\n",
              "      <td>9.85</td>\n",
              "      <td>10.66</td>\n",
              "      <td>9.85</td>\n",
              "      <td>7.89</td>\n",
              "      <td>10.23</td>\n",
              "      <td>9.29</td>\n",
              "      <td>10.14</td>\n",
              "      <td>9.18</td>\n",
              "      <td>8.76</td>\n",
              "      <td>9.11</td>\n",
              "      <td>9.24</td>\n",
              "      <td>8.84</td>\n",
              "      <td>9.67</td>\n",
              "      <td>9.52</td>\n",
              "      <td>10.02</td>\n",
              "      <td>8.32</td>\n",
              "      <td>9.06</td>\n",
              "      <td>10.06</td>\n",
              "      <td>9.61</td>\n",
              "      <td>9.86</td>\n",
              "      <td>9.44</td>\n",
              "      <td>9.05</td>\n",
              "      <td>8.75</td>\n",
              "      <td>9.31</td>\n",
              "      <td>8.9</td>\n",
              "      <td>9.43</td>\n",
              "      <td>9.71</td>\n",
              "      <td>8.8</td>\n",
              "      <td>9.73</td>\n",
              "      <td>...</td>\n",
              "      <td>9.42</td>\n",
              "      <td>8.75</td>\n",
              "      <td>9.06</td>\n",
              "      <td>10.15</td>\n",
              "      <td>8.94</td>\n",
              "      <td>9.6</td>\n",
              "      <td>9.38</td>\n",
              "      <td>8.6</td>\n",
              "      <td>9.29</td>\n",
              "      <td>9.62</td>\n",
              "      <td>9.39</td>\n",
              "      <td>9.73</td>\n",
              "      <td>9.82</td>\n",
              "      <td>8.45</td>\n",
              "      <td>9.29</td>\n",
              "      <td>9.91</td>\n",
              "      <td>10.88</td>\n",
              "      <td>9.29</td>\n",
              "      <td>9.75</td>\n",
              "      <td>8.45</td>\n",
              "      <td>8.49</td>\n",
              "      <td>9.48</td>\n",
              "      <td>8.95</td>\n",
              "      <td>7.95</td>\n",
              "      <td>8.74</td>\n",
              "      <td>8.5</td>\n",
              "      <td>8.37</td>\n",
              "      <td>8.9</td>\n",
              "      <td>9.24</td>\n",
              "      <td>9.74</td>\n",
              "      <td>8.7</td>\n",
              "      <td>8.29</td>\n",
              "      <td>8.83</td>\n",
              "      <td>9.15</td>\n",
              "      <td>8.98</td>\n",
              "      <td>9.06</td>\n",
              "      <td>9.08</td>\n",
              "      <td>8.98</td>\n",
              "      <td>9.3</td>\n",
              "      <td>9.91</td>\n",
              "    </tr>\n",
              "    <tr>\n",
              "      <th>nota_ciencias</th>\n",
              "      <td>463.458</td>\n",
              "      <td>492.417</td>\n",
              "      <td>448.619</td>\n",
              "      <td>497.311</td>\n",
              "      <td>479.491</td>\n",
              "      <td>488.519</td>\n",
              "      <td>510.013</td>\n",
              "      <td>489.201</td>\n",
              "      <td>501.293</td>\n",
              "      <td>444.813</td>\n",
              "      <td>477.478</td>\n",
              "      <td>496.444</td>\n",
              "      <td>474.899</td>\n",
              "      <td>467.018</td>\n",
              "      <td>450.003</td>\n",
              "      <td>461.37</td>\n",
              "      <td>469.438</td>\n",
              "      <td>477.44</td>\n",
              "      <td>480.629</td>\n",
              "      <td>477.835</td>\n",
              "      <td>484.931</td>\n",
              "      <td>463.191</td>\n",
              "      <td>462.754</td>\n",
              "      <td>459.161</td>\n",
              "      <td>457.051</td>\n",
              "      <td>463.72</td>\n",
              "      <td>464.715</td>\n",
              "      <td>463.07</td>\n",
              "      <td>477.108</td>\n",
              "      <td>479.509</td>\n",
              "      <td>460.34</td>\n",
              "      <td>445.561</td>\n",
              "      <td>467.86</td>\n",
              "      <td>484.763</td>\n",
              "      <td>472.993</td>\n",
              "      <td>478.974</td>\n",
              "      <td>484.79</td>\n",
              "      <td>461.914</td>\n",
              "      <td>446.482</td>\n",
              "      <td>483.499</td>\n",
              "      <td>...</td>\n",
              "      <td>468.95</td>\n",
              "      <td>423.714</td>\n",
              "      <td>446.733</td>\n",
              "      <td>487.559</td>\n",
              "      <td>446.3</td>\n",
              "      <td>459.92</td>\n",
              "      <td>446.559</td>\n",
              "      <td>466.039</td>\n",
              "      <td>454.761</td>\n",
              "      <td>457.838</td>\n",
              "      <td>448.824</td>\n",
              "      <td>432.689</td>\n",
              "      <td>439.037</td>\n",
              "      <td>447.838</td>\n",
              "      <td>435.599</td>\n",
              "      <td>442.267</td>\n",
              "      <td>438.864</td>\n",
              "      <td>451.462</td>\n",
              "      <td>466.488</td>\n",
              "      <td>441.194</td>\n",
              "      <td>503.49</td>\n",
              "      <td>452.809</td>\n",
              "      <td>488.734</td>\n",
              "      <td>455.642</td>\n",
              "      <td>425.328</td>\n",
              "      <td>433.627</td>\n",
              "      <td>438.242</td>\n",
              "      <td>433.9</td>\n",
              "      <td>461.839</td>\n",
              "      <td>475.776</td>\n",
              "      <td>436.809</td>\n",
              "      <td>445.407</td>\n",
              "      <td>465.056</td>\n",
              "      <td>450.125</td>\n",
              "      <td>499.352</td>\n",
              "      <td>465.242</td>\n",
              "      <td>461.052</td>\n",
              "      <td>463.451</td>\n",
              "      <td>445.827</td>\n",
              "      <td>468.688</td>\n",
              "    </tr>\n",
              "    <tr>\n",
              "      <th>nota_humanas</th>\n",
              "      <td>505.182</td>\n",
              "      <td>542.763</td>\n",
              "      <td>508.202</td>\n",
              "      <td>548.607</td>\n",
              "      <td>521.4</td>\n",
              "      <td>535.159</td>\n",
              "      <td>556.424</td>\n",
              "      <td>543.699</td>\n",
              "      <td>552.168</td>\n",
              "      <td>493.232</td>\n",
              "      <td>528.546</td>\n",
              "      <td>546.465</td>\n",
              "      <td>519.92</td>\n",
              "      <td>524.147</td>\n",
              "      <td>500.019</td>\n",
              "      <td>516.428</td>\n",
              "      <td>516.561</td>\n",
              "      <td>529.275</td>\n",
              "      <td>528.881</td>\n",
              "      <td>529.805</td>\n",
              "      <td>538.594</td>\n",
              "      <td>520.714</td>\n",
              "      <td>507.287</td>\n",
              "      <td>497.01</td>\n",
              "      <td>499.448</td>\n",
              "      <td>499.886</td>\n",
              "      <td>506.563</td>\n",
              "      <td>523.851</td>\n",
              "      <td>524.095</td>\n",
              "      <td>533.363</td>\n",
              "      <td>497.185</td>\n",
              "      <td>478.1</td>\n",
              "      <td>520.295</td>\n",
              "      <td>542.257</td>\n",
              "      <td>519.659</td>\n",
              "      <td>533.792</td>\n",
              "      <td>536.084</td>\n",
              "      <td>512.198</td>\n",
              "      <td>497.482</td>\n",
              "      <td>522.913</td>\n",
              "      <td>...</td>\n",
              "      <td>516.45</td>\n",
              "      <td>464.545</td>\n",
              "      <td>479.614</td>\n",
              "      <td>545.558</td>\n",
              "      <td>455.471</td>\n",
              "      <td>517.066</td>\n",
              "      <td>465.429</td>\n",
              "      <td>513.407</td>\n",
              "      <td>503.129</td>\n",
              "      <td>513.381</td>\n",
              "      <td>497.55</td>\n",
              "      <td>483.321</td>\n",
              "      <td>500.353</td>\n",
              "      <td>474.507</td>\n",
              "      <td>482.881</td>\n",
              "      <td>519.9</td>\n",
              "      <td>495.962</td>\n",
              "      <td>496.625</td>\n",
              "      <td>517.771</td>\n",
              "      <td>479.288</td>\n",
              "      <td>559.045</td>\n",
              "      <td>490.046</td>\n",
              "      <td>529.217</td>\n",
              "      <td>498.574</td>\n",
              "      <td>475.548</td>\n",
              "      <td>489.99</td>\n",
              "      <td>491.162</td>\n",
              "      <td>483.394</td>\n",
              "      <td>482.469</td>\n",
              "      <td>514.76</td>\n",
              "      <td>467.111</td>\n",
              "      <td>488.188</td>\n",
              "      <td>513.4</td>\n",
              "      <td>490.45</td>\n",
              "      <td>546.236</td>\n",
              "      <td>501.113</td>\n",
              "      <td>509.56</td>\n",
              "      <td>506.52</td>\n",
              "      <td>500.052</td>\n",
              "      <td>494.79</td>\n",
              "    </tr>\n",
              "    <tr>\n",
              "      <th>nota_linguagem</th>\n",
              "      <td>503.077</td>\n",
              "      <td>525.145</td>\n",
              "      <td>493.71</td>\n",
              "      <td>529.737</td>\n",
              "      <td>507.041</td>\n",
              "      <td>518.539</td>\n",
              "      <td>530.966</td>\n",
              "      <td>524.977</td>\n",
              "      <td>535.673</td>\n",
              "      <td>504.197</td>\n",
              "      <td>511.93</td>\n",
              "      <td>531.975</td>\n",
              "      <td>508.142</td>\n",
              "      <td>509.743</td>\n",
              "      <td>472.353</td>\n",
              "      <td>504.463</td>\n",
              "      <td>506.903</td>\n",
              "      <td>510.748</td>\n",
              "      <td>518.602</td>\n",
              "      <td>516.784</td>\n",
              "      <td>519.098</td>\n",
              "      <td>504.64</td>\n",
              "      <td>502.113</td>\n",
              "      <td>490.279</td>\n",
              "      <td>495.957</td>\n",
              "      <td>488.177</td>\n",
              "      <td>500.676</td>\n",
              "      <td>507.96</td>\n",
              "      <td>512.699</td>\n",
              "      <td>514.329</td>\n",
              "      <td>492.823</td>\n",
              "      <td>477.808</td>\n",
              "      <td>504.43</td>\n",
              "      <td>521.016</td>\n",
              "      <td>509.228</td>\n",
              "      <td>515.126</td>\n",
              "      <td>518.627</td>\n",
              "      <td>500.556</td>\n",
              "      <td>481.837</td>\n",
              "      <td>515.018</td>\n",
              "      <td>...</td>\n",
              "      <td>504.75</td>\n",
              "      <td>461.807</td>\n",
              "      <td>493.295</td>\n",
              "      <td>527.386</td>\n",
              "      <td>452.8</td>\n",
              "      <td>494.937</td>\n",
              "      <td>449.277</td>\n",
              "      <td>499.806</td>\n",
              "      <td>503.3</td>\n",
              "      <td>475.619</td>\n",
              "      <td>482.805</td>\n",
              "      <td>460.572</td>\n",
              "      <td>506.727</td>\n",
              "      <td>457.777</td>\n",
              "      <td>480.104</td>\n",
              "      <td>505.633</td>\n",
              "      <td>484.249</td>\n",
              "      <td>475.188</td>\n",
              "      <td>517.218</td>\n",
              "      <td>483.218</td>\n",
              "      <td>519.083</td>\n",
              "      <td>479.503</td>\n",
              "      <td>514.789</td>\n",
              "      <td>491.54</td>\n",
              "      <td>461.962</td>\n",
              "      <td>474.867</td>\n",
              "      <td>479.804</td>\n",
              "      <td>480.587</td>\n",
              "      <td>470.656</td>\n",
              "      <td>472.036</td>\n",
              "      <td>451.514</td>\n",
              "      <td>482.059</td>\n",
              "      <td>488.904</td>\n",
              "      <td>480.786</td>\n",
              "      <td>522.756</td>\n",
              "      <td>485.57</td>\n",
              "      <td>487.255</td>\n",
              "      <td>496.67</td>\n",
              "      <td>485.945</td>\n",
              "      <td>500.912</td>\n",
              "    </tr>\n",
              "    <tr>\n",
              "      <th>nota_mat</th>\n",
              "      <td>449.238</td>\n",
              "      <td>500.962</td>\n",
              "      <td>442.017</td>\n",
              "      <td>507.429</td>\n",
              "      <td>480.173</td>\n",
              "      <td>494.811</td>\n",
              "      <td>516.897</td>\n",
              "      <td>493.593</td>\n",
              "      <td>515.28</td>\n",
              "      <td>445.374</td>\n",
              "      <td>471.464</td>\n",
              "      <td>505.8</td>\n",
              "      <td>479.872</td>\n",
              "      <td>466.602</td>\n",
              "      <td>424.424</td>\n",
              "      <td>461.397</td>\n",
              "      <td>472.067</td>\n",
              "      <td>487.478</td>\n",
              "      <td>487.068</td>\n",
              "      <td>484.649</td>\n",
              "      <td>489.783</td>\n",
              "      <td>462.168</td>\n",
              "      <td>453.044</td>\n",
              "      <td>458.212</td>\n",
              "      <td>440.41</td>\n",
              "      <td>456.925</td>\n",
              "      <td>453.825</td>\n",
              "      <td>459.562</td>\n",
              "      <td>489.817</td>\n",
              "      <td>486.083</td>\n",
              "      <td>451.316</td>\n",
              "      <td>442.878</td>\n",
              "      <td>461.584</td>\n",
              "      <td>498.011</td>\n",
              "      <td>470.868</td>\n",
              "      <td>484.512</td>\n",
              "      <td>493.895</td>\n",
              "      <td>459.866</td>\n",
              "      <td>437.993</td>\n",
              "      <td>479.536</td>\n",
              "      <td>...</td>\n",
              "      <td>448.75</td>\n",
              "      <td>429.848</td>\n",
              "      <td>414.014</td>\n",
              "      <td>493.701</td>\n",
              "      <td>434.157</td>\n",
              "      <td>500.14</td>\n",
              "      <td>440.215</td>\n",
              "      <td>462.4</td>\n",
              "      <td>448.812</td>\n",
              "      <td>433.352</td>\n",
              "      <td>431.476</td>\n",
              "      <td>442.083</td>\n",
              "      <td>447.477</td>\n",
              "      <td>432.338</td>\n",
              "      <td>436.932</td>\n",
              "      <td>437.989</td>\n",
              "      <td>439.69</td>\n",
              "      <td>444.496</td>\n",
              "      <td>469.188</td>\n",
              "      <td>441.617</td>\n",
              "      <td>504.49</td>\n",
              "      <td>441.9</td>\n",
              "      <td>488.152</td>\n",
              "      <td>422.117</td>\n",
              "      <td>427.333</td>\n",
              "      <td>439.614</td>\n",
              "      <td>424.022</td>\n",
              "      <td>465.606</td>\n",
              "      <td>439.871</td>\n",
              "      <td>441.276</td>\n",
              "      <td>417.872</td>\n",
              "      <td>436.625</td>\n",
              "      <td>463.699</td>\n",
              "      <td>438.641</td>\n",
              "      <td>501.29</td>\n",
              "      <td>459.546</td>\n",
              "      <td>442.495</td>\n",
              "      <td>453.449</td>\n",
              "      <td>441.245</td>\n",
              "      <td>469.095</td>\n",
              "    </tr>\n",
              "    <tr>\n",
              "      <th>nota_redacao</th>\n",
              "      <td>480.989</td>\n",
              "      <td>574.68</td>\n",
              "      <td>472.366</td>\n",
              "      <td>594.096</td>\n",
              "      <td>515.209</td>\n",
              "      <td>556.543</td>\n",
              "      <td>604.46</td>\n",
              "      <td>558.133</td>\n",
              "      <td>585.964</td>\n",
              "      <td>516.774</td>\n",
              "      <td>543.152</td>\n",
              "      <td>576.295</td>\n",
              "      <td>524.638</td>\n",
              "      <td>520.139</td>\n",
              "      <td>503.529</td>\n",
              "      <td>516.036</td>\n",
              "      <td>512.323</td>\n",
              "      <td>563.198</td>\n",
              "      <td>541.271</td>\n",
              "      <td>539.56</td>\n",
              "      <td>555.391</td>\n",
              "      <td>507.769</td>\n",
              "      <td>475.801</td>\n",
              "      <td>457.889</td>\n",
              "      <td>508.55</td>\n",
              "      <td>511.028</td>\n",
              "      <td>520.192</td>\n",
              "      <td>516.977</td>\n",
              "      <td>569.639</td>\n",
              "      <td>566.316</td>\n",
              "      <td>474.305</td>\n",
              "      <td>450.227</td>\n",
              "      <td>539.502</td>\n",
              "      <td>572.505</td>\n",
              "      <td>515.65</td>\n",
              "      <td>548.736</td>\n",
              "      <td>570.541</td>\n",
              "      <td>505.08</td>\n",
              "      <td>493.5</td>\n",
              "      <td>528.807</td>\n",
              "      <td>...</td>\n",
              "      <td>520</td>\n",
              "      <td>432.414</td>\n",
              "      <td>472.381</td>\n",
              "      <td>602.957</td>\n",
              "      <td>445.714</td>\n",
              "      <td>502.286</td>\n",
              "      <td>402</td>\n",
              "      <td>514.627</td>\n",
              "      <td>530.169</td>\n",
              "      <td>505</td>\n",
              "      <td>484.545</td>\n",
              "      <td>411.111</td>\n",
              "      <td>480</td>\n",
              "      <td>445.185</td>\n",
              "      <td>451.471</td>\n",
              "      <td>550.37</td>\n",
              "      <td>474.359</td>\n",
              "      <td>503.333</td>\n",
              "      <td>520</td>\n",
              "      <td>478.298</td>\n",
              "      <td>587.826</td>\n",
              "      <td>493.043</td>\n",
              "      <td>572</td>\n",
              "      <td>528.667</td>\n",
              "      <td>476.667</td>\n",
              "      <td>475.51</td>\n",
              "      <td>522.222</td>\n",
              "      <td>577.5</td>\n",
              "      <td>498.983</td>\n",
              "      <td>505.6</td>\n",
              "      <td>395.814</td>\n",
              "      <td>496.078</td>\n",
              "      <td>521</td>\n",
              "      <td>481.475</td>\n",
              "      <td>611.138</td>\n",
              "      <td>517.98</td>\n",
              "      <td>578.571</td>\n",
              "      <td>529.677</td>\n",
              "      <td>475.882</td>\n",
              "      <td>488.78</td>\n",
              "    </tr>\n",
              "    <tr>\n",
              "      <th>idhm</th>\n",
              "      <td>0.42</td>\n",
              "      <td>0.742</td>\n",
              "      <td>0.537</td>\n",
              "      <td>0.764</td>\n",
              "      <td>0.616</td>\n",
              "      <td>0.735</td>\n",
              "      <td>0.78</td>\n",
              "      <td>0.754</td>\n",
              "      <td>0.785</td>\n",
              "      <td>0.227</td>\n",
              "      <td>0.776</td>\n",
              "      <td>0.764</td>\n",
              "      <td>0.647</td>\n",
              "      <td>0.728</td>\n",
              "      <td>0.439</td>\n",
              "      <td>0.58</td>\n",
              "      <td>0.513</td>\n",
              "      <td>0.599</td>\n",
              "      <td>0.52</td>\n",
              "      <td>0.652</td>\n",
              "      <td>0.642</td>\n",
              "      <td>0.599</td>\n",
              "      <td>0.518</td>\n",
              "      <td>0.468</td>\n",
              "      <td>0.632</td>\n",
              "      <td>0.465</td>\n",
              "      <td>0.492</td>\n",
              "      <td>0.391</td>\n",
              "      <td>0.542</td>\n",
              "      <td>0.492</td>\n",
              "      <td>0.453</td>\n",
              "      <td>0.363</td>\n",
              "      <td>0.473</td>\n",
              "      <td>0.561</td>\n",
              "      <td>0.47</td>\n",
              "      <td>0.551</td>\n",
              "      <td>0.663</td>\n",
              "      <td>0.57</td>\n",
              "      <td>0.365</td>\n",
              "      <td>0.458</td>\n",
              "      <td>...</td>\n",
              "      <td>0.37</td>\n",
              "      <td>NaN</td>\n",
              "      <td>NaN</td>\n",
              "      <td>0.561</td>\n",
              "      <td>0.334</td>\n",
              "      <td>0.516</td>\n",
              "      <td>0.432</td>\n",
              "      <td>0.365</td>\n",
              "      <td>0.384</td>\n",
              "      <td>0.396</td>\n",
              "      <td>0.432</td>\n",
              "      <td>NaN</td>\n",
              "      <td>0.394</td>\n",
              "      <td>0.437</td>\n",
              "      <td>0.396</td>\n",
              "      <td>0.394</td>\n",
              "      <td>NaN</td>\n",
              "      <td>0.358</td>\n",
              "      <td>0.384</td>\n",
              "      <td>0.475</td>\n",
              "      <td>0.344</td>\n",
              "      <td>0.437</td>\n",
              "      <td>0.384</td>\n",
              "      <td>0.356</td>\n",
              "      <td>0.301</td>\n",
              "      <td>0.284</td>\n",
              "      <td>0.344</td>\n",
              "      <td>0.296</td>\n",
              "      <td>NaN</td>\n",
              "      <td>0.372</td>\n",
              "      <td>0.232</td>\n",
              "      <td>0.229</td>\n",
              "      <td>0.396</td>\n",
              "      <td>0.411</td>\n",
              "      <td>0.475</td>\n",
              "      <td>0.346</td>\n",
              "      <td>0.43</td>\n",
              "      <td>NaN</td>\n",
              "      <td>0.37</td>\n",
              "      <td>NaN</td>\n",
              "    </tr>\n",
              "    <tr>\n",
              "      <th>ranking_igm</th>\n",
              "      <td>68º</td>\n",
              "      <td>78º</td>\n",
              "      <td>237º</td>\n",
              "      <td>242º</td>\n",
              "      <td>262º</td>\n",
              "      <td>309º</td>\n",
              "      <td>320º</td>\n",
              "      <td>355º</td>\n",
              "      <td>397º</td>\n",
              "      <td>405º</td>\n",
              "      <td>411º</td>\n",
              "      <td>442º</td>\n",
              "      <td>454º</td>\n",
              "      <td>482º</td>\n",
              "      <td>567º</td>\n",
              "      <td>568º</td>\n",
              "      <td>599º</td>\n",
              "      <td>681º</td>\n",
              "      <td>750º</td>\n",
              "      <td>827º</td>\n",
              "      <td>838º</td>\n",
              "      <td>875º</td>\n",
              "      <td>907º</td>\n",
              "      <td>973º</td>\n",
              "      <td>995º</td>\n",
              "      <td>1003º</td>\n",
              "      <td>1029º</td>\n",
              "      <td>1030º</td>\n",
              "      <td>1062º</td>\n",
              "      <td>1131º</td>\n",
              "      <td>1160º</td>\n",
              "      <td>1178º</td>\n",
              "      <td>1194º</td>\n",
              "      <td>1224º</td>\n",
              "      <td>1226º</td>\n",
              "      <td>1231º</td>\n",
              "      <td>1262º</td>\n",
              "      <td>1271º</td>\n",
              "      <td>1276º</td>\n",
              "      <td>1285º</td>\n",
              "      <td>...</td>\n",
              "      <td>NaN</td>\n",
              "      <td>NaN</td>\n",
              "      <td>NaN</td>\n",
              "      <td>NaN</td>\n",
              "      <td>NaN</td>\n",
              "      <td>NaN</td>\n",
              "      <td>NaN</td>\n",
              "      <td>NaN</td>\n",
              "      <td>NaN</td>\n",
              "      <td>NaN</td>\n",
              "      <td>NaN</td>\n",
              "      <td>NaN</td>\n",
              "      <td>NaN</td>\n",
              "      <td>NaN</td>\n",
              "      <td>NaN</td>\n",
              "      <td>NaN</td>\n",
              "      <td>NaN</td>\n",
              "      <td>NaN</td>\n",
              "      <td>NaN</td>\n",
              "      <td>NaN</td>\n",
              "      <td>NaN</td>\n",
              "      <td>NaN</td>\n",
              "      <td>NaN</td>\n",
              "      <td>NaN</td>\n",
              "      <td>NaN</td>\n",
              "      <td>NaN</td>\n",
              "      <td>NaN</td>\n",
              "      <td>NaN</td>\n",
              "      <td>NaN</td>\n",
              "      <td>NaN</td>\n",
              "      <td>NaN</td>\n",
              "      <td>NaN</td>\n",
              "      <td>NaN</td>\n",
              "      <td>NaN</td>\n",
              "      <td>NaN</td>\n",
              "      <td>NaN</td>\n",
              "      <td>NaN</td>\n",
              "      <td>NaN</td>\n",
              "      <td>NaN</td>\n",
              "      <td>NaN</td>\n",
              "    </tr>\n",
              "    <tr>\n",
              "      <th>indice_governanca</th>\n",
              "      <td>0.659</td>\n",
              "      <td>0.656</td>\n",
              "      <td>0.622</td>\n",
              "      <td>0.622</td>\n",
              "      <td>0.619</td>\n",
              "      <td>0.613</td>\n",
              "      <td>0.611</td>\n",
              "      <td>0.607</td>\n",
              "      <td>0.602</td>\n",
              "      <td>0.601</td>\n",
              "      <td>0.6</td>\n",
              "      <td>0.597</td>\n",
              "      <td>0.596</td>\n",
              "      <td>0.594</td>\n",
              "      <td>0.587</td>\n",
              "      <td>0.587</td>\n",
              "      <td>0.582</td>\n",
              "      <td>0.576</td>\n",
              "      <td>0.572</td>\n",
              "      <td>0.566</td>\n",
              "      <td>0.565</td>\n",
              "      <td>0.562</td>\n",
              "      <td>0.559</td>\n",
              "      <td>0.554</td>\n",
              "      <td>0.552</td>\n",
              "      <td>0.551</td>\n",
              "      <td>0.549</td>\n",
              "      <td>0.549</td>\n",
              "      <td>0.547</td>\n",
              "      <td>0.543</td>\n",
              "      <td>0.541</td>\n",
              "      <td>0.539</td>\n",
              "      <td>0.539</td>\n",
              "      <td>0.536</td>\n",
              "      <td>0.536</td>\n",
              "      <td>0.536</td>\n",
              "      <td>0.534</td>\n",
              "      <td>0.533</td>\n",
              "      <td>0.532</td>\n",
              "      <td>0.532</td>\n",
              "      <td>...</td>\n",
              "      <td>NaN</td>\n",
              "      <td>NaN</td>\n",
              "      <td>NaN</td>\n",
              "      <td>NaN</td>\n",
              "      <td>NaN</td>\n",
              "      <td>NaN</td>\n",
              "      <td>NaN</td>\n",
              "      <td>NaN</td>\n",
              "      <td>NaN</td>\n",
              "      <td>NaN</td>\n",
              "      <td>NaN</td>\n",
              "      <td>NaN</td>\n",
              "      <td>NaN</td>\n",
              "      <td>NaN</td>\n",
              "      <td>NaN</td>\n",
              "      <td>NaN</td>\n",
              "      <td>NaN</td>\n",
              "      <td>NaN</td>\n",
              "      <td>NaN</td>\n",
              "      <td>NaN</td>\n",
              "      <td>NaN</td>\n",
              "      <td>NaN</td>\n",
              "      <td>NaN</td>\n",
              "      <td>NaN</td>\n",
              "      <td>NaN</td>\n",
              "      <td>NaN</td>\n",
              "      <td>NaN</td>\n",
              "      <td>NaN</td>\n",
              "      <td>NaN</td>\n",
              "      <td>NaN</td>\n",
              "      <td>NaN</td>\n",
              "      <td>NaN</td>\n",
              "      <td>NaN</td>\n",
              "      <td>NaN</td>\n",
              "      <td>NaN</td>\n",
              "      <td>NaN</td>\n",
              "      <td>NaN</td>\n",
              "      <td>NaN</td>\n",
              "      <td>NaN</td>\n",
              "      <td>NaN</td>\n",
              "    </tr>\n",
              "  </tbody>\n",
              "</table>\n",
              "<p>32 rows × 1794 columns</p>\n",
              "</div>"
            ],
            "text/plain": [
              "                                    67    ...             5249\n",
              "regiao                          NORDESTE  ...         NORDESTE\n",
              "estado                                PE  ...               SE\n",
              "municipio                        IPOJUCA  ...            ITABI\n",
              "codigo_mun                       2607208  ...          2803104\n",
              "capital                                0  ...                0\n",
              "porte                        Médio porte  ...  Pequeno porte 1\n",
              "populacao                         92,965  ...            5,002\n",
              "area                              527.11  ...           184.42\n",
              "densidade_dem                        153  ...               27\n",
              "pib                          8.41156e+06  ...          38696.9\n",
              "pib_pc                           95666.3  ...          7665.78\n",
              "participacao_transf_receita           67  ...              NaN\n",
              "servidores                          2662  ...              203\n",
              "comissionados                       1907  ...               14\n",
              "comissionados_por_servidor           72%  ...               7%\n",
              "perc_pop_econ_ativa                 0.82  ...             0.78\n",
              "taxa_empreendedorismo               0.16  ...             0.26\n",
              "anos_estudo_empreendedor         6.34631  ...          4.69656\n",
              "jornada_trabalho                 43.8269  ...          38.3716\n",
              "gasto_pc_saude                   1208.11  ...              NaN\n",
              "hab_p_medico                     521.279  ...             2516\n",
              "exp_vida                           71.44  ...            69.86\n",
              "gasto_pc_educacao                1779.61  ...              NaN\n",
              "exp_anos_estudo                     8.65  ...             9.91\n",
              "nota_ciencias                    463.458  ...          468.688\n",
              "nota_humanas                     505.182  ...           494.79\n",
              "nota_linguagem                   503.077  ...          500.912\n",
              "nota_mat                         449.238  ...          469.095\n",
              "nota_redacao                     480.989  ...           488.78\n",
              "idhm                                0.42  ...              NaN\n",
              "ranking_igm                          68º  ...              NaN\n",
              "indice_governanca                  0.659  ...              NaN\n",
              "\n",
              "[32 rows x 1794 columns]"
            ]
          },
          "metadata": {
            "tags": []
          },
          "execution_count": 138
        }
      ]
    },
    {
      "cell_type": "markdown",
      "metadata": {
        "_uuid": "a6b31adf09a78d4a36b07f076bb5b9ddb3e9097d",
        "id": "SmLxVCPGjQUE",
        "colab_type": "text"
      },
      "source": [
        "## Explorando Dados do Nordeste"
      ]
    },
    {
      "cell_type": "markdown",
      "metadata": {
        "_uuid": "c9c726453343b3aa9c91c3f091318981ff6ab1f5",
        "id": "mGCjHPKyjQUF",
        "colab_type": "text"
      },
      "source": [
        "Para facilitar nossa vida, vamos criar uma variável já filtrada chamada `nordeste`:"
      ]
    },
    {
      "cell_type": "code",
      "metadata": {
        "trusted": true,
        "_uuid": "fcb1ee9c936263edffcd3e0f71f6586101512c1b",
        "id": "tHmxwAXEjQUF",
        "colab_type": "code",
        "colab": {}
      },
      "source": [
        "nordeste = igm[filtro]"
      ],
      "execution_count": 141,
      "outputs": []
    },
    {
      "cell_type": "markdown",
      "metadata": {
        "_uuid": "db4049f13df3fdd5ea6cfc8f7946e6d4de977c2a",
        "id": "N0wT0RkMjQUI",
        "colab_type": "text"
      },
      "source": [
        "Agora temos um `DataFrame` apenas com cidades do Nordeste."
      ]
    },
    {
      "cell_type": "code",
      "metadata": {
        "scrolled": true,
        "trusted": true,
        "_uuid": "8f06d0e73650af508580bceb236dc6bdc6974da2",
        "id": "pvUvini3jQUI",
        "colab_type": "code",
        "colab": {
          "base_uri": "https://localhost:8080/",
          "height": 1000
        },
        "outputId": "7b01f3bc-53aa-4fbb-efee-6d325b0e84db"
      },
      "source": [
        "nordeste.sample(5).T"
      ],
      "execution_count": 96,
      "outputs": [
        {
          "output_type": "execute_result",
          "data": {
            "text/html": [
              "<div>\n",
              "<style scoped>\n",
              "    .dataframe tbody tr th:only-of-type {\n",
              "        vertical-align: middle;\n",
              "    }\n",
              "\n",
              "    .dataframe tbody tr th {\n",
              "        vertical-align: top;\n",
              "    }\n",
              "\n",
              "    .dataframe thead th {\n",
              "        text-align: right;\n",
              "    }\n",
              "</style>\n",
              "<table border=\"1\" class=\"dataframe\">\n",
              "  <thead>\n",
              "    <tr style=\"text-align: right;\">\n",
              "      <th></th>\n",
              "      <th>2238</th>\n",
              "      <th>2180</th>\n",
              "      <th>3743</th>\n",
              "      <th>4626</th>\n",
              "      <th>3368</th>\n",
              "    </tr>\n",
              "  </thead>\n",
              "  <tbody>\n",
              "    <tr>\n",
              "      <th>regiao</th>\n",
              "      <td>NORDESTE</td>\n",
              "      <td>NORDESTE</td>\n",
              "      <td>NORDESTE</td>\n",
              "      <td>NORDESTE</td>\n",
              "      <td>NORDESTE</td>\n",
              "    </tr>\n",
              "    <tr>\n",
              "      <th>estado</th>\n",
              "      <td>CE</td>\n",
              "      <td>CE</td>\n",
              "      <td>AL</td>\n",
              "      <td>MA</td>\n",
              "      <td>RN</td>\n",
              "    </tr>\n",
              "    <tr>\n",
              "      <th>municipio</th>\n",
              "      <td>CARIRIACU</td>\n",
              "      <td>IRAUCUBA</td>\n",
              "      <td>SAO MIGUEL DOS MILAGRES</td>\n",
              "      <td>SAO BERNARDO</td>\n",
              "      <td>CURRAIS NOVOS</td>\n",
              "    </tr>\n",
              "    <tr>\n",
              "      <th>codigo_mun</th>\n",
              "      <td>2303204</td>\n",
              "      <td>2306108</td>\n",
              "      <td>2708709</td>\n",
              "      <td>2110609</td>\n",
              "      <td>2403103</td>\n",
              "    </tr>\n",
              "    <tr>\n",
              "      <th>capital</th>\n",
              "      <td>0</td>\n",
              "      <td>0</td>\n",
              "      <td>0</td>\n",
              "      <td>0</td>\n",
              "      <td>0</td>\n",
              "    </tr>\n",
              "    <tr>\n",
              "      <th>porte</th>\n",
              "      <td>Pequeno porte 2</td>\n",
              "      <td>Pequeno porte 2</td>\n",
              "      <td>Pequeno porte 1</td>\n",
              "      <td>Pequeno porte 2</td>\n",
              "      <td>Pequeno porte 2</td>\n",
              "    </tr>\n",
              "    <tr>\n",
              "      <th>populacao</th>\n",
              "      <td>26,876</td>\n",
              "      <td>23,704</td>\n",
              "      <td>7,951</td>\n",
              "      <td>28,020</td>\n",
              "      <td>45,060</td>\n",
              "    </tr>\n",
              "    <tr>\n",
              "      <th>area</th>\n",
              "      <td>623.56</td>\n",
              "      <td>1,461.25</td>\n",
              "      <td>76.74</td>\n",
              "      <td>1,006.92</td>\n",
              "      <td>864.35</td>\n",
              "    </tr>\n",
              "    <tr>\n",
              "      <th>densidade_dem</th>\n",
              "      <td>42.3</td>\n",
              "      <td>15.3</td>\n",
              "      <td>93.3</td>\n",
              "      <td>26.3</td>\n",
              "      <td>49.4</td>\n",
              "    </tr>\n",
              "    <tr>\n",
              "      <th>pib</th>\n",
              "      <td>130875</td>\n",
              "      <td>124289</td>\n",
              "      <td>104925</td>\n",
              "      <td>202546</td>\n",
              "      <td>517404</td>\n",
              "    </tr>\n",
              "    <tr>\n",
              "      <th>pib_pc</th>\n",
              "      <td>4879.56</td>\n",
              "      <td>5356.81</td>\n",
              "      <td>13610.7</td>\n",
              "      <td>7400.55</td>\n",
              "      <td>11619.7</td>\n",
              "    </tr>\n",
              "    <tr>\n",
              "      <th>participacao_transf_receita</th>\n",
              "      <td>81</td>\n",
              "      <td>84</td>\n",
              "      <td>NaN</td>\n",
              "      <td>94</td>\n",
              "      <td>91</td>\n",
              "    </tr>\n",
              "    <tr>\n",
              "      <th>servidores</th>\n",
              "      <td>1226</td>\n",
              "      <td>823</td>\n",
              "      <td>423</td>\n",
              "      <td>396</td>\n",
              "      <td>1230</td>\n",
              "    </tr>\n",
              "    <tr>\n",
              "      <th>comissionados</th>\n",
              "      <td>168</td>\n",
              "      <td>108</td>\n",
              "      <td>17</td>\n",
              "      <td>80</td>\n",
              "      <td>45</td>\n",
              "    </tr>\n",
              "    <tr>\n",
              "      <th>comissionados_por_servidor</th>\n",
              "      <td>14%</td>\n",
              "      <td>13%</td>\n",
              "      <td>4%</td>\n",
              "      <td>20%</td>\n",
              "      <td>4%</td>\n",
              "    </tr>\n",
              "    <tr>\n",
              "      <th>perc_pop_econ_ativa</th>\n",
              "      <td>0.9</td>\n",
              "      <td>0.56</td>\n",
              "      <td>0.75</td>\n",
              "      <td>0.69</td>\n",
              "      <td>0.88</td>\n",
              "    </tr>\n",
              "    <tr>\n",
              "      <th>taxa_empreendedorismo</th>\n",
              "      <td>0.24</td>\n",
              "      <td>0.22</td>\n",
              "      <td>0.3</td>\n",
              "      <td>0.21</td>\n",
              "      <td>0.25</td>\n",
              "    </tr>\n",
              "    <tr>\n",
              "      <th>anos_estudo_empreendedor</th>\n",
              "      <td>4.6761</td>\n",
              "      <td>6.84426</td>\n",
              "      <td>4.57501</td>\n",
              "      <td>4.92557</td>\n",
              "      <td>7.66347</td>\n",
              "    </tr>\n",
              "    <tr>\n",
              "      <th>jornada_trabalho</th>\n",
              "      <td>35.6676</td>\n",
              "      <td>39.5109</td>\n",
              "      <td>36.0314</td>\n",
              "      <td>34.6791</td>\n",
              "      <td>42.783</td>\n",
              "    </tr>\n",
              "    <tr>\n",
              "      <th>gasto_pc_saude</th>\n",
              "      <td>373.37</td>\n",
              "      <td>395.59</td>\n",
              "      <td>NaN</td>\n",
              "      <td>281.19</td>\n",
              "      <td>NaN</td>\n",
              "    </tr>\n",
              "    <tr>\n",
              "      <th>hab_p_medico</th>\n",
              "      <td>1677.5</td>\n",
              "      <td>2597.33</td>\n",
              "      <td>NaN</td>\n",
              "      <td>27599</td>\n",
              "      <td>1541.72</td>\n",
              "    </tr>\n",
              "    <tr>\n",
              "      <th>exp_vida</th>\n",
              "      <td>68.81</td>\n",
              "      <td>70.28</td>\n",
              "      <td>70.14</td>\n",
              "      <td>70.7</td>\n",
              "      <td>72.62</td>\n",
              "    </tr>\n",
              "    <tr>\n",
              "      <th>gasto_pc_educacao</th>\n",
              "      <td>774.63</td>\n",
              "      <td>840.56</td>\n",
              "      <td>NaN</td>\n",
              "      <td>848.3</td>\n",
              "      <td>NaN</td>\n",
              "    </tr>\n",
              "    <tr>\n",
              "      <th>exp_anos_estudo</th>\n",
              "      <td>9.66</td>\n",
              "      <td>10.24</td>\n",
              "      <td>9.39</td>\n",
              "      <td>8.96</td>\n",
              "      <td>9.91</td>\n",
              "    </tr>\n",
              "    <tr>\n",
              "      <th>nota_ciencias</th>\n",
              "      <td>460.255</td>\n",
              "      <td>447.211</td>\n",
              "      <td>442.944</td>\n",
              "      <td>436.633</td>\n",
              "      <td>489.514</td>\n",
              "    </tr>\n",
              "    <tr>\n",
              "      <th>nota_humanas</th>\n",
              "      <td>501.357</td>\n",
              "      <td>478.76</td>\n",
              "      <td>480.311</td>\n",
              "      <td>481.838</td>\n",
              "      <td>537.007</td>\n",
              "    </tr>\n",
              "    <tr>\n",
              "      <th>nota_linguagem</th>\n",
              "      <td>491.644</td>\n",
              "      <td>476.543</td>\n",
              "      <td>475.741</td>\n",
              "      <td>468.48</td>\n",
              "      <td>523.516</td>\n",
              "    </tr>\n",
              "    <tr>\n",
              "      <th>nota_mat</th>\n",
              "      <td>451.125</td>\n",
              "      <td>435.197</td>\n",
              "      <td>441.204</td>\n",
              "      <td>437.608</td>\n",
              "      <td>496.309</td>\n",
              "    </tr>\n",
              "    <tr>\n",
              "      <th>nota_redacao</th>\n",
              "      <td>489.393</td>\n",
              "      <td>420.225</td>\n",
              "      <td>477.037</td>\n",
              "      <td>465.333</td>\n",
              "      <td>567.706</td>\n",
              "    </tr>\n",
              "    <tr>\n",
              "      <th>idhm</th>\n",
              "      <td>0.322</td>\n",
              "      <td>0.387</td>\n",
              "      <td>0.353</td>\n",
              "      <td>0.308</td>\n",
              "      <td>0.592</td>\n",
              "    </tr>\n",
              "    <tr>\n",
              "      <th>ranking_igm</th>\n",
              "      <td>2239º</td>\n",
              "      <td>2181º</td>\n",
              "      <td>NaN</td>\n",
              "      <td>NaN</td>\n",
              "      <td>NaN</td>\n",
              "    </tr>\n",
              "    <tr>\n",
              "      <th>indice_governanca</th>\n",
              "      <td>0.457</td>\n",
              "      <td>0.462</td>\n",
              "      <td>NaN</td>\n",
              "      <td>NaN</td>\n",
              "      <td>NaN</td>\n",
              "    </tr>\n",
              "  </tbody>\n",
              "</table>\n",
              "</div>"
            ],
            "text/plain": [
              "                                        2238  ...             3368\n",
              "regiao                              NORDESTE  ...         NORDESTE\n",
              "estado                                    CE  ...               RN\n",
              "municipio                          CARIRIACU  ...    CURRAIS NOVOS\n",
              "codigo_mun                           2303204  ...          2403103\n",
              "capital                                    0  ...                0\n",
              "porte                        Pequeno porte 2  ...  Pequeno porte 2\n",
              "populacao                             26,876  ...           45,060\n",
              "area                                  623.56  ...           864.35\n",
              "densidade_dem                           42.3  ...             49.4\n",
              "pib                                   130875  ...           517404\n",
              "pib_pc                               4879.56  ...          11619.7\n",
              "participacao_transf_receita               81  ...               91\n",
              "servidores                              1226  ...             1230\n",
              "comissionados                            168  ...               45\n",
              "comissionados_por_servidor               14%  ...               4%\n",
              "perc_pop_econ_ativa                      0.9  ...             0.88\n",
              "taxa_empreendedorismo                   0.24  ...             0.25\n",
              "anos_estudo_empreendedor              4.6761  ...          7.66347\n",
              "jornada_trabalho                     35.6676  ...           42.783\n",
              "gasto_pc_saude                        373.37  ...              NaN\n",
              "hab_p_medico                          1677.5  ...          1541.72\n",
              "exp_vida                               68.81  ...            72.62\n",
              "gasto_pc_educacao                     774.63  ...              NaN\n",
              "exp_anos_estudo                         9.66  ...             9.91\n",
              "nota_ciencias                        460.255  ...          489.514\n",
              "nota_humanas                         501.357  ...          537.007\n",
              "nota_linguagem                       491.644  ...          523.516\n",
              "nota_mat                             451.125  ...          496.309\n",
              "nota_redacao                         489.393  ...          567.706\n",
              "idhm                                   0.322  ...            0.592\n",
              "ranking_igm                            2239º  ...              NaN\n",
              "indice_governanca                      0.457  ...              NaN\n",
              "\n",
              "[32 rows x 5 columns]"
            ]
          },
          "metadata": {
            "tags": []
          },
          "execution_count": 96
        }
      ]
    },
    {
      "cell_type": "markdown",
      "metadata": {
        "_uuid": "5030c12027c86064cd6e03c48437ab021a770c57",
        "id": "skLx1p10jQUK",
        "colab_type": "text"
      },
      "source": [
        "Se utilizarmos uma seleção de coluna `indice_governanca` e o `.describe()`, iremos ver o detalhamento dos dados dessa coluna de acordo com o método `.describe()`"
      ]
    },
    {
      "cell_type": "code",
      "metadata": {
        "trusted": true,
        "_uuid": "ca0d91ca855774a340446e6c3e818b2a09343302",
        "id": "hIm4DvAVjQUL",
        "colab_type": "code",
        "colab": {
          "base_uri": "https://localhost:8080/",
          "height": 181
        },
        "outputId": "20e42a75-a92b-4038-ac35-71af603c2e2e"
      },
      "source": [
        "nordeste['perc_pop_econ_ativa'].describe()"
      ],
      "execution_count": 142,
      "outputs": [
        {
          "output_type": "execute_result",
          "data": {
            "text/plain": [
              "count    1794.000000\n",
              "mean        0.791488\n",
              "std         0.122635\n",
              "min         0.290000\n",
              "25%         0.710000\n",
              "50%         0.790000\n",
              "75%         0.870000\n",
              "max         1.300000\n",
              "Name: perc_pop_econ_ativa, dtype: float64"
            ]
          },
          "metadata": {
            "tags": []
          },
          "execution_count": 142
        }
      ]
    },
    {
      "cell_type": "markdown",
      "metadata": {
        "_uuid": "2da9d001d2cc8daca89ab7637aab145ea97a5ace",
        "id": "CsN9Gb5ujQUN",
        "colab_type": "text"
      },
      "source": [
        "Podemos plotar essa distribuição para o Nordeste:"
      ]
    },
    {
      "cell_type": "code",
      "metadata": {
        "scrolled": true,
        "trusted": true,
        "_uuid": "05c00895b2f5d3b49c574608d8492eee06f77a87",
        "id": "AEXhbuirjQUO",
        "colab_type": "code",
        "colab": {
          "base_uri": "https://localhost:8080/",
          "height": 283
        },
        "outputId": "5c15997e-4b9c-471a-88fb-b644dc7fdf32"
      },
      "source": [
        "nordeste['perc_pop_econ_ativa'].hist(bins=50)"
      ],
      "execution_count": 143,
      "outputs": [
        {
          "output_type": "execute_result",
          "data": {
            "text/plain": [
              "<matplotlib.axes._subplots.AxesSubplot at 0x7f9e059edfd0>"
            ]
          },
          "metadata": {
            "tags": []
          },
          "execution_count": 143
        },
        {
          "output_type": "display_data",
          "data": {
            "image/png": "[encoded data removed]",
            "text/plain": [
              "<Figure size 432x288 with 1 Axes>"
            ]
          },
          "metadata": {
            "tags": [],
            "needs_background": "light"
          }
        }
      ]
    },
    {
      "cell_type": "markdown",
      "metadata": {
        "_uuid": "e74c69152bd60996b51ed64a9654eac3fba4b50b",
        "id": "B6jtAYkOjQUP",
        "colab_type": "text"
      },
      "source": [
        "##  `Exercícios: Filtros`"
      ]
    },
    {
      "cell_type": "markdown",
      "metadata": {
        "_uuid": "bbcc3b6a87588e68c6c4d49ea8da2508eebe9034",
        "id": "xYNSkx8zjQUP",
        "colab_type": "text"
      },
      "source": [
        "1. Crie um filtro chamado `meu_filtro` para selecionar apenas as linhas onde os valores da coluna `pib_pc` sejam maiores do que 50000\n",
        "2. Crie um novo `DataFrame` chamado `igm_filtrado_pib_pc` aplicando o `meu_filtro` no `igm`\n",
        "3. Utilize o método `.describe()` na coluna `pib_pc` do `igm_filtrado_pib_pc`\n",
        "4. Plote um histograma da coluna `pib_pc` do `igm_filtrado_pib_pc`"
      ]
    },
    {
      "cell_type": "markdown",
      "metadata": {
        "_uuid": "9638b25d1a68313e00ed9eb2529ac277709687b1",
        "id": "UGJhsYRPjQUP",
        "colab_type": "text"
      },
      "source": [
        "## Fazendo Filtros com Valores Negativos"
      ]
    },
    {
      "cell_type": "markdown",
      "metadata": {
        "_uuid": "c2d6a37bcda3e185a52fe55765f7638dae8407b8",
        "id": "Y5DOe8uPjQUQ",
        "colab_type": "text"
      },
      "source": [
        "Para pegarmos o valor negativo de uma sequência de `True` ou `False`, podemos usar o `~`"
      ]
    },
    {
      "cell_type": "code",
      "metadata": {
        "trusted": true,
        "_uuid": "74261bf71487370e9450816c3a804c86c448448f",
        "id": "51dYOoJLjQUQ",
        "colab_type": "code",
        "colab": {}
      },
      "source": [
        "filtro_nordeste = ~nordeste['perc_pop_econ_ativa'].isnull()\n"
      ],
      "execution_count": 150,
      "outputs": []
    },
    {
      "cell_type": "markdown",
      "metadata": {
        "_uuid": "4a907094e00e05e60caa2b54fb103371be523e3a",
        "id": "7IeRsOaujQUR",
        "colab_type": "text"
      },
      "source": [
        "## Ordenando um DataFrame que possui uma coluna com NaNs"
      ]
    },
    {
      "cell_type": "markdown",
      "metadata": {
        "_uuid": "f6f03743e8274c4ae76824a2ee045fe115870349",
        "id": "BBhK-M5AjQUS",
        "colab_type": "text"
      },
      "source": [
        "Para ordernamos um dataframe por uma coluna basta usarmos o comando `.sort_values()` com o parâmetro `by=nome_da_coluna`. O parâmetro `ascending=False` serve para pegarmos os itens em ordem decrescente."
      ]
    },
    {
      "cell_type": "code",
      "metadata": {
        "scrolled": true,
        "trusted": true,
        "_uuid": "24971528250006ea34845d7f4d9543fd5feade6e",
        "id": "yNn4NslGjQUS",
        "colab_type": "code",
        "colab": {
          "base_uri": "https://localhost:8080/",
          "height": 1000
        },
        "outputId": "aa2809b8-b56c-4a25-b7e1-4730a18ee37b"
      },
      "source": [
        "nordeste[filtro_nordeste].sort_values(by='perc_pop_econ_ativa', ascending=False)[0:5].T"
      ],
      "execution_count": 146,
      "outputs": [
        {
          "output_type": "execute_result",
          "data": {
            "text/html": [
              "<div>\n",
              "<style scoped>\n",
              "    .dataframe tbody tr th:only-of-type {\n",
              "        vertical-align: middle;\n",
              "    }\n",
              "\n",
              "    .dataframe tbody tr th {\n",
              "        vertical-align: top;\n",
              "    }\n",
              "\n",
              "    .dataframe thead th {\n",
              "        text-align: right;\n",
              "    }\n",
              "</style>\n",
              "<table border=\"1\" class=\"dataframe\">\n",
              "  <thead>\n",
              "    <tr style=\"text-align: right;\">\n",
              "      <th></th>\n",
              "      <th>5005</th>\n",
              "      <th>4060</th>\n",
              "      <th>2423</th>\n",
              "      <th>4901</th>\n",
              "      <th>4989</th>\n",
              "    </tr>\n",
              "  </thead>\n",
              "  <tbody>\n",
              "    <tr>\n",
              "      <th>regiao</th>\n",
              "      <td>NORDESTE</td>\n",
              "      <td>NORDESTE</td>\n",
              "      <td>NORDESTE</td>\n",
              "      <td>NORDESTE</td>\n",
              "      <td>NORDESTE</td>\n",
              "    </tr>\n",
              "    <tr>\n",
              "      <th>estado</th>\n",
              "      <td>PE</td>\n",
              "      <td>PI</td>\n",
              "      <td>PE</td>\n",
              "      <td>PB</td>\n",
              "      <td>PE</td>\n",
              "    </tr>\n",
              "    <tr>\n",
              "      <th>municipio</th>\n",
              "      <td>FERNANDO DE NORONHA</td>\n",
              "      <td>SAO JOSE DO PIAUI</td>\n",
              "      <td>SANTA CRUZ DO CAPIBARIBE</td>\n",
              "      <td>SANTO ANDRE</td>\n",
              "      <td>MANARI</td>\n",
              "    </tr>\n",
              "    <tr>\n",
              "      <th>codigo_mun</th>\n",
              "      <td>2605459</td>\n",
              "      <td>2210201</td>\n",
              "      <td>2612505</td>\n",
              "      <td>2513851</td>\n",
              "      <td>2609154</td>\n",
              "    </tr>\n",
              "    <tr>\n",
              "      <th>capital</th>\n",
              "      <td>0</td>\n",
              "      <td>0</td>\n",
              "      <td>0</td>\n",
              "      <td>0</td>\n",
              "      <td>0</td>\n",
              "    </tr>\n",
              "    <tr>\n",
              "      <th>porte</th>\n",
              "      <td>Pequeno porte 1</td>\n",
              "      <td>Pequeno porte 1</td>\n",
              "      <td>Grande porte</td>\n",
              "      <td>Pequeno porte 1</td>\n",
              "      <td>Pequeno porte 2</td>\n",
              "    </tr>\n",
              "    <tr>\n",
              "      <th>populacao</th>\n",
              "      <td>2,974</td>\n",
              "      <td>6,606</td>\n",
              "      <td>103,660</td>\n",
              "      <td>2,529</td>\n",
              "      <td>20,681</td>\n",
              "    </tr>\n",
              "    <tr>\n",
              "      <th>area</th>\n",
              "      <td>17.02</td>\n",
              "      <td>364.95</td>\n",
              "      <td>335.31</td>\n",
              "      <td>197.71</td>\n",
              "      <td>344.73</td>\n",
              "    </tr>\n",
              "    <tr>\n",
              "      <th>densidade_dem</th>\n",
              "      <td>154.6</td>\n",
              "      <td>18.1</td>\n",
              "      <td>261.2</td>\n",
              "      <td>11.7</td>\n",
              "      <td>47.6</td>\n",
              "    </tr>\n",
              "    <tr>\n",
              "      <th>pib</th>\n",
              "      <td>75674</td>\n",
              "      <td>35426</td>\n",
              "      <td>1.11505e+06</td>\n",
              "      <td>19632.2</td>\n",
              "      <td>87870.7</td>\n",
              "    </tr>\n",
              "    <tr>\n",
              "      <th>pib_pc</th>\n",
              "      <td>26674</td>\n",
              "      <td>5350.55</td>\n",
              "      <td>11506.3</td>\n",
              "      <td>7653.89</td>\n",
              "      <td>4440.61</td>\n",
              "    </tr>\n",
              "    <tr>\n",
              "      <th>participacao_transf_receita</th>\n",
              "      <td>NaN</td>\n",
              "      <td>94</td>\n",
              "      <td>80</td>\n",
              "      <td>96</td>\n",
              "      <td>90</td>\n",
              "    </tr>\n",
              "    <tr>\n",
              "      <th>servidores</th>\n",
              "      <td>NaN</td>\n",
              "      <td>272</td>\n",
              "      <td>1279</td>\n",
              "      <td>99</td>\n",
              "      <td>614</td>\n",
              "    </tr>\n",
              "    <tr>\n",
              "      <th>comissionados</th>\n",
              "      <td>32</td>\n",
              "      <td>7</td>\n",
              "      <td>250</td>\n",
              "      <td>75</td>\n",
              "      <td>7</td>\n",
              "    </tr>\n",
              "    <tr>\n",
              "      <th>comissionados_por_servidor</th>\n",
              "      <td>#DIV/0!</td>\n",
              "      <td>3%</td>\n",
              "      <td>20%</td>\n",
              "      <td>76%</td>\n",
              "      <td>1%</td>\n",
              "    </tr>\n",
              "    <tr>\n",
              "      <th>perc_pop_econ_ativa</th>\n",
              "      <td>1.3</td>\n",
              "      <td>1.18</td>\n",
              "      <td>1.16</td>\n",
              "      <td>1.15</td>\n",
              "      <td>1.15</td>\n",
              "    </tr>\n",
              "    <tr>\n",
              "      <th>taxa_empreendedorismo</th>\n",
              "      <td>0.28</td>\n",
              "      <td>0.2</td>\n",
              "      <td>0.41</td>\n",
              "      <td>0.26</td>\n",
              "      <td>0.29</td>\n",
              "    </tr>\n",
              "    <tr>\n",
              "      <th>anos_estudo_empreendedor</th>\n",
              "      <td>9.02845</td>\n",
              "      <td>3.69642</td>\n",
              "      <td>5.87179</td>\n",
              "      <td>4.25619</td>\n",
              "      <td>3.19496</td>\n",
              "    </tr>\n",
              "    <tr>\n",
              "      <th>jornada_trabalho</th>\n",
              "      <td>47.3527</td>\n",
              "      <td>36.8904</td>\n",
              "      <td>41.2779</td>\n",
              "      <td>41.2119</td>\n",
              "      <td>36.6493</td>\n",
              "    </tr>\n",
              "    <tr>\n",
              "      <th>gasto_pc_saude</th>\n",
              "      <td>NaN</td>\n",
              "      <td>334.82</td>\n",
              "      <td>286.66</td>\n",
              "      <td>934.73</td>\n",
              "      <td>259.56</td>\n",
              "    </tr>\n",
              "    <tr>\n",
              "      <th>hab_p_medico</th>\n",
              "      <td>NaN</td>\n",
              "      <td>1653.75</td>\n",
              "      <td>4725.33</td>\n",
              "      <td>851</td>\n",
              "      <td>3982</td>\n",
              "    </tr>\n",
              "    <tr>\n",
              "      <th>exp_vida</th>\n",
              "      <td>75.36</td>\n",
              "      <td>67.02</td>\n",
              "      <td>73.35</td>\n",
              "      <td>72.79</td>\n",
              "      <td>65.89</td>\n",
              "    </tr>\n",
              "    <tr>\n",
              "      <th>gasto_pc_educacao</th>\n",
              "      <td>NaN</td>\n",
              "      <td>565.31</td>\n",
              "      <td>380.68</td>\n",
              "      <td>1110.59</td>\n",
              "      <td>810.53</td>\n",
              "    </tr>\n",
              "    <tr>\n",
              "      <th>exp_anos_estudo</th>\n",
              "      <td>10.76</td>\n",
              "      <td>9.12</td>\n",
              "      <td>8.34</td>\n",
              "      <td>9.35</td>\n",
              "      <td>7.8</td>\n",
              "    </tr>\n",
              "    <tr>\n",
              "      <th>nota_ciencias</th>\n",
              "      <td>483.8</td>\n",
              "      <td>449.5</td>\n",
              "      <td>472.55</td>\n",
              "      <td>443.82</td>\n",
              "      <td>433.614</td>\n",
              "    </tr>\n",
              "    <tr>\n",
              "      <th>nota_humanas</th>\n",
              "      <td>548.046</td>\n",
              "      <td>489.55</td>\n",
              "      <td>530.973</td>\n",
              "      <td>476.036</td>\n",
              "      <td>469.186</td>\n",
              "    </tr>\n",
              "    <tr>\n",
              "      <th>nota_linguagem</th>\n",
              "      <td>528.269</td>\n",
              "      <td>472.304</td>\n",
              "      <td>512.221</td>\n",
              "      <td>464.472</td>\n",
              "      <td>456.574</td>\n",
              "    </tr>\n",
              "    <tr>\n",
              "      <th>nota_mat</th>\n",
              "      <td>467.531</td>\n",
              "      <td>430.717</td>\n",
              "      <td>484.59</td>\n",
              "      <td>447.296</td>\n",
              "      <td>428.821</td>\n",
              "    </tr>\n",
              "    <tr>\n",
              "      <th>nota_redacao</th>\n",
              "      <td>540</td>\n",
              "      <td>496.538</td>\n",
              "      <td>549.647</td>\n",
              "      <td>471.2</td>\n",
              "      <td>437.059</td>\n",
              "    </tr>\n",
              "    <tr>\n",
              "      <th>idhm</th>\n",
              "      <td>0.823</td>\n",
              "      <td>NaN</td>\n",
              "      <td>0.489</td>\n",
              "      <td>NaN</td>\n",
              "      <td>0.105</td>\n",
              "    </tr>\n",
              "    <tr>\n",
              "      <th>ranking_igm</th>\n",
              "      <td>NaN</td>\n",
              "      <td>NaN</td>\n",
              "      <td>2424º</td>\n",
              "      <td>NaN</td>\n",
              "      <td>NaN</td>\n",
              "    </tr>\n",
              "    <tr>\n",
              "      <th>indice_governanca</th>\n",
              "      <td>NaN</td>\n",
              "      <td>NaN</td>\n",
              "      <td>0.442</td>\n",
              "      <td>NaN</td>\n",
              "      <td>NaN</td>\n",
              "    </tr>\n",
              "  </tbody>\n",
              "</table>\n",
              "</div>"
            ],
            "text/plain": [
              "                                            5005  ...             4989\n",
              "regiao                                  NORDESTE  ...         NORDESTE\n",
              "estado                                        PE  ...               PE\n",
              "municipio                    FERNANDO DE NORONHA  ...           MANARI\n",
              "codigo_mun                               2605459  ...          2609154\n",
              "capital                                        0  ...                0\n",
              "porte                            Pequeno porte 1  ...  Pequeno porte 2\n",
              "populacao                                  2,974  ...           20,681\n",
              "area                                       17.02  ...           344.73\n",
              "densidade_dem                              154.6  ...             47.6\n",
              "pib                                        75674  ...          87870.7\n",
              "pib_pc                                     26674  ...          4440.61\n",
              "participacao_transf_receita                  NaN  ...               90\n",
              "servidores                                   NaN  ...              614\n",
              "comissionados                                 32  ...                7\n",
              "comissionados_por_servidor               #DIV/0!  ...               1%\n",
              "perc_pop_econ_ativa                          1.3  ...             1.15\n",
              "taxa_empreendedorismo                       0.28  ...             0.29\n",
              "anos_estudo_empreendedor                 9.02845  ...          3.19496\n",
              "jornada_trabalho                         47.3527  ...          36.6493\n",
              "gasto_pc_saude                               NaN  ...           259.56\n",
              "hab_p_medico                                 NaN  ...             3982\n",
              "exp_vida                                   75.36  ...            65.89\n",
              "gasto_pc_educacao                            NaN  ...           810.53\n",
              "exp_anos_estudo                            10.76  ...              7.8\n",
              "nota_ciencias                              483.8  ...          433.614\n",
              "nota_humanas                             548.046  ...          469.186\n",
              "nota_linguagem                           528.269  ...          456.574\n",
              "nota_mat                                 467.531  ...          428.821\n",
              "nota_redacao                                 540  ...          437.059\n",
              "idhm                                       0.823  ...            0.105\n",
              "ranking_igm                                  NaN  ...              NaN\n",
              "indice_governanca                            NaN  ...              NaN\n",
              "\n",
              "[32 rows x 5 columns]"
            ]
          },
          "metadata": {
            "tags": []
          },
          "execution_count": 146
        }
      ]
    },
    {
      "cell_type": "markdown",
      "metadata": {
        "_uuid": "fba43a0a792599932cef1faaef682c016767ff99",
        "id": "j6kEeXnnjQUV",
        "colab_type": "text"
      },
      "source": [
        "## Usando vários filtros ao mesmo tempo"
      ]
    },
    {
      "cell_type": "markdown",
      "metadata": {
        "_uuid": "e918cbeab791df1bbcfe3cdf39c9459038ac0684",
        "id": "YPfWVGvdjQUV",
        "colab_type": "text"
      },
      "source": [
        "Vamos criar um novo filtro para o `DataFrame` inteiro e não só para o Nordeste."
      ]
    },
    {
      "cell_type": "code",
      "metadata": {
        "trusted": true,
        "_uuid": "3a2a4a9c86551e80f75848321c5d66111a722178",
        "id": "sUH7UHmtjQUW",
        "colab_type": "code",
        "colab": {}
      },
      "source": [
        "filtro_2 = ~igm['perc_pop_econ_ativa'].isnull()"
      ],
      "execution_count": 151,
      "outputs": []
    },
    {
      "cell_type": "markdown",
      "metadata": {
        "_uuid": "49124d68eaf3f4285c63e5cd779859482ea7a85d",
        "id": "jDbCITxLjQUY",
        "colab_type": "text"
      },
      "source": [
        "Outra forma de escrever isso é utilizando dois filtros ao mesmo tempo, para isso temos que usar o operador lógico `&` que representa `E`, também temos a oportunidade usar o operador lógico `|`, que significa `OU`:"
      ]
    },
    {
      "cell_type": "code",
      "metadata": {
        "scrolled": true,
        "trusted": true,
        "_uuid": "903a97845ad4ce92a1eb805f10c0d23af5778e7a",
        "id": "DWD8VUgqjQUY",
        "colab_type": "code",
        "colab": {
          "base_uri": "https://localhost:8080/",
          "height": 1000
        },
        "outputId": "0e5f4986-52f5-41de-db4c-4af3ab50996c"
      },
      "source": [
        "igm[filtro & filtro_2].sort_values(by='perc_pop_econ_ativa', ascending=False)[0:5].T"
      ],
      "execution_count": 152,
      "outputs": [
        {
          "output_type": "execute_result",
          "data": {
            "text/html": [
              "<div>\n",
              "<style scoped>\n",
              "    .dataframe tbody tr th:only-of-type {\n",
              "        vertical-align: middle;\n",
              "    }\n",
              "\n",
              "    .dataframe tbody tr th {\n",
              "        vertical-align: top;\n",
              "    }\n",
              "\n",
              "    .dataframe thead th {\n",
              "        text-align: right;\n",
              "    }\n",
              "</style>\n",
              "<table border=\"1\" class=\"dataframe\">\n",
              "  <thead>\n",
              "    <tr style=\"text-align: right;\">\n",
              "      <th></th>\n",
              "      <th>5005</th>\n",
              "      <th>4060</th>\n",
              "      <th>2423</th>\n",
              "      <th>4901</th>\n",
              "      <th>4989</th>\n",
              "    </tr>\n",
              "  </thead>\n",
              "  <tbody>\n",
              "    <tr>\n",
              "      <th>regiao</th>\n",
              "      <td>NORDESTE</td>\n",
              "      <td>NORDESTE</td>\n",
              "      <td>NORDESTE</td>\n",
              "      <td>NORDESTE</td>\n",
              "      <td>NORDESTE</td>\n",
              "    </tr>\n",
              "    <tr>\n",
              "      <th>estado</th>\n",
              "      <td>PE</td>\n",
              "      <td>PI</td>\n",
              "      <td>PE</td>\n",
              "      <td>PB</td>\n",
              "      <td>PE</td>\n",
              "    </tr>\n",
              "    <tr>\n",
              "      <th>municipio</th>\n",
              "      <td>FERNANDO DE NORONHA</td>\n",
              "      <td>SAO JOSE DO PIAUI</td>\n",
              "      <td>SANTA CRUZ DO CAPIBARIBE</td>\n",
              "      <td>SANTO ANDRE</td>\n",
              "      <td>MANARI</td>\n",
              "    </tr>\n",
              "    <tr>\n",
              "      <th>codigo_mun</th>\n",
              "      <td>2605459</td>\n",
              "      <td>2210201</td>\n",
              "      <td>2612505</td>\n",
              "      <td>2513851</td>\n",
              "      <td>2609154</td>\n",
              "    </tr>\n",
              "    <tr>\n",
              "      <th>capital</th>\n",
              "      <td>0</td>\n",
              "      <td>0</td>\n",
              "      <td>0</td>\n",
              "      <td>0</td>\n",
              "      <td>0</td>\n",
              "    </tr>\n",
              "    <tr>\n",
              "      <th>porte</th>\n",
              "      <td>Pequeno porte 1</td>\n",
              "      <td>Pequeno porte 1</td>\n",
              "      <td>Grande porte</td>\n",
              "      <td>Pequeno porte 1</td>\n",
              "      <td>Pequeno porte 2</td>\n",
              "    </tr>\n",
              "    <tr>\n",
              "      <th>populacao</th>\n",
              "      <td>2,974</td>\n",
              "      <td>6,606</td>\n",
              "      <td>103,660</td>\n",
              "      <td>2,529</td>\n",
              "      <td>20,681</td>\n",
              "    </tr>\n",
              "    <tr>\n",
              "      <th>area</th>\n",
              "      <td>17.02</td>\n",
              "      <td>364.95</td>\n",
              "      <td>335.31</td>\n",
              "      <td>197.71</td>\n",
              "      <td>344.73</td>\n",
              "    </tr>\n",
              "    <tr>\n",
              "      <th>densidade_dem</th>\n",
              "      <td>154.6</td>\n",
              "      <td>18.1</td>\n",
              "      <td>261.2</td>\n",
              "      <td>11.7</td>\n",
              "      <td>47.6</td>\n",
              "    </tr>\n",
              "    <tr>\n",
              "      <th>pib</th>\n",
              "      <td>75674</td>\n",
              "      <td>35426</td>\n",
              "      <td>1.11505e+06</td>\n",
              "      <td>19632.2</td>\n",
              "      <td>87870.7</td>\n",
              "    </tr>\n",
              "    <tr>\n",
              "      <th>pib_pc</th>\n",
              "      <td>26674</td>\n",
              "      <td>5350.55</td>\n",
              "      <td>11506.3</td>\n",
              "      <td>7653.89</td>\n",
              "      <td>4440.61</td>\n",
              "    </tr>\n",
              "    <tr>\n",
              "      <th>participacao_transf_receita</th>\n",
              "      <td>NaN</td>\n",
              "      <td>94</td>\n",
              "      <td>80</td>\n",
              "      <td>96</td>\n",
              "      <td>90</td>\n",
              "    </tr>\n",
              "    <tr>\n",
              "      <th>servidores</th>\n",
              "      <td>NaN</td>\n",
              "      <td>272</td>\n",
              "      <td>1279</td>\n",
              "      <td>99</td>\n",
              "      <td>614</td>\n",
              "    </tr>\n",
              "    <tr>\n",
              "      <th>comissionados</th>\n",
              "      <td>32</td>\n",
              "      <td>7</td>\n",
              "      <td>250</td>\n",
              "      <td>75</td>\n",
              "      <td>7</td>\n",
              "    </tr>\n",
              "    <tr>\n",
              "      <th>comissionados_por_servidor</th>\n",
              "      <td>#DIV/0!</td>\n",
              "      <td>3%</td>\n",
              "      <td>20%</td>\n",
              "      <td>76%</td>\n",
              "      <td>1%</td>\n",
              "    </tr>\n",
              "    <tr>\n",
              "      <th>perc_pop_econ_ativa</th>\n",
              "      <td>1.3</td>\n",
              "      <td>1.18</td>\n",
              "      <td>1.16</td>\n",
              "      <td>1.15</td>\n",
              "      <td>1.15</td>\n",
              "    </tr>\n",
              "    <tr>\n",
              "      <th>taxa_empreendedorismo</th>\n",
              "      <td>0.28</td>\n",
              "      <td>0.2</td>\n",
              "      <td>0.41</td>\n",
              "      <td>0.26</td>\n",
              "      <td>0.29</td>\n",
              "    </tr>\n",
              "    <tr>\n",
              "      <th>anos_estudo_empreendedor</th>\n",
              "      <td>9.02845</td>\n",
              "      <td>3.69642</td>\n",
              "      <td>5.87179</td>\n",
              "      <td>4.25619</td>\n",
              "      <td>3.19496</td>\n",
              "    </tr>\n",
              "    <tr>\n",
              "      <th>jornada_trabalho</th>\n",
              "      <td>47.3527</td>\n",
              "      <td>36.8904</td>\n",
              "      <td>41.2779</td>\n",
              "      <td>41.2119</td>\n",
              "      <td>36.6493</td>\n",
              "    </tr>\n",
              "    <tr>\n",
              "      <th>gasto_pc_saude</th>\n",
              "      <td>NaN</td>\n",
              "      <td>334.82</td>\n",
              "      <td>286.66</td>\n",
              "      <td>934.73</td>\n",
              "      <td>259.56</td>\n",
              "    </tr>\n",
              "    <tr>\n",
              "      <th>hab_p_medico</th>\n",
              "      <td>NaN</td>\n",
              "      <td>1653.75</td>\n",
              "      <td>4725.33</td>\n",
              "      <td>851</td>\n",
              "      <td>3982</td>\n",
              "    </tr>\n",
              "    <tr>\n",
              "      <th>exp_vida</th>\n",
              "      <td>75.36</td>\n",
              "      <td>67.02</td>\n",
              "      <td>73.35</td>\n",
              "      <td>72.79</td>\n",
              "      <td>65.89</td>\n",
              "    </tr>\n",
              "    <tr>\n",
              "      <th>gasto_pc_educacao</th>\n",
              "      <td>NaN</td>\n",
              "      <td>565.31</td>\n",
              "      <td>380.68</td>\n",
              "      <td>1110.59</td>\n",
              "      <td>810.53</td>\n",
              "    </tr>\n",
              "    <tr>\n",
              "      <th>exp_anos_estudo</th>\n",
              "      <td>10.76</td>\n",
              "      <td>9.12</td>\n",
              "      <td>8.34</td>\n",
              "      <td>9.35</td>\n",
              "      <td>7.8</td>\n",
              "    </tr>\n",
              "    <tr>\n",
              "      <th>nota_ciencias</th>\n",
              "      <td>483.8</td>\n",
              "      <td>449.5</td>\n",
              "      <td>472.55</td>\n",
              "      <td>443.82</td>\n",
              "      <td>433.614</td>\n",
              "    </tr>\n",
              "    <tr>\n",
              "      <th>nota_humanas</th>\n",
              "      <td>548.046</td>\n",
              "      <td>489.55</td>\n",
              "      <td>530.973</td>\n",
              "      <td>476.036</td>\n",
              "      <td>469.186</td>\n",
              "    </tr>\n",
              "    <tr>\n",
              "      <th>nota_linguagem</th>\n",
              "      <td>528.269</td>\n",
              "      <td>472.304</td>\n",
              "      <td>512.221</td>\n",
              "      <td>464.472</td>\n",
              "      <td>456.574</td>\n",
              "    </tr>\n",
              "    <tr>\n",
              "      <th>nota_mat</th>\n",
              "      <td>467.531</td>\n",
              "      <td>430.717</td>\n",
              "      <td>484.59</td>\n",
              "      <td>447.296</td>\n",
              "      <td>428.821</td>\n",
              "    </tr>\n",
              "    <tr>\n",
              "      <th>nota_redacao</th>\n",
              "      <td>540</td>\n",
              "      <td>496.538</td>\n",
              "      <td>549.647</td>\n",
              "      <td>471.2</td>\n",
              "      <td>437.059</td>\n",
              "    </tr>\n",
              "    <tr>\n",
              "      <th>idhm</th>\n",
              "      <td>0.823</td>\n",
              "      <td>NaN</td>\n",
              "      <td>0.489</td>\n",
              "      <td>NaN</td>\n",
              "      <td>0.105</td>\n",
              "    </tr>\n",
              "    <tr>\n",
              "      <th>ranking_igm</th>\n",
              "      <td>NaN</td>\n",
              "      <td>NaN</td>\n",
              "      <td>2424º</td>\n",
              "      <td>NaN</td>\n",
              "      <td>NaN</td>\n",
              "    </tr>\n",
              "    <tr>\n",
              "      <th>indice_governanca</th>\n",
              "      <td>NaN</td>\n",
              "      <td>NaN</td>\n",
              "      <td>0.442</td>\n",
              "      <td>NaN</td>\n",
              "      <td>NaN</td>\n",
              "    </tr>\n",
              "  </tbody>\n",
              "</table>\n",
              "</div>"
            ],
            "text/plain": [
              "                                            5005  ...             4989\n",
              "regiao                                  NORDESTE  ...         NORDESTE\n",
              "estado                                        PE  ...               PE\n",
              "municipio                    FERNANDO DE NORONHA  ...           MANARI\n",
              "codigo_mun                               2605459  ...          2609154\n",
              "capital                                        0  ...                0\n",
              "porte                            Pequeno porte 1  ...  Pequeno porte 2\n",
              "populacao                                  2,974  ...           20,681\n",
              "area                                       17.02  ...           344.73\n",
              "densidade_dem                              154.6  ...             47.6\n",
              "pib                                        75674  ...          87870.7\n",
              "pib_pc                                     26674  ...          4440.61\n",
              "participacao_transf_receita                  NaN  ...               90\n",
              "servidores                                   NaN  ...              614\n",
              "comissionados                                 32  ...                7\n",
              "comissionados_por_servidor               #DIV/0!  ...               1%\n",
              "perc_pop_econ_ativa                          1.3  ...             1.15\n",
              "taxa_empreendedorismo                       0.28  ...             0.29\n",
              "anos_estudo_empreendedor                 9.02845  ...          3.19496\n",
              "jornada_trabalho                         47.3527  ...          36.6493\n",
              "gasto_pc_saude                               NaN  ...           259.56\n",
              "hab_p_medico                                 NaN  ...             3982\n",
              "exp_vida                                   75.36  ...            65.89\n",
              "gasto_pc_educacao                            NaN  ...           810.53\n",
              "exp_anos_estudo                            10.76  ...              7.8\n",
              "nota_ciencias                              483.8  ...          433.614\n",
              "nota_humanas                             548.046  ...          469.186\n",
              "nota_linguagem                           528.269  ...          456.574\n",
              "nota_mat                                 467.531  ...          428.821\n",
              "nota_redacao                                 540  ...          437.059\n",
              "idhm                                       0.823  ...            0.105\n",
              "ranking_igm                                  NaN  ...              NaN\n",
              "indice_governanca                            NaN  ...              NaN\n",
              "\n",
              "[32 rows x 5 columns]"
            ]
          },
          "metadata": {
            "tags": []
          },
          "execution_count": 152
        }
      ]
    },
    {
      "cell_type": "markdown",
      "metadata": {
        "_uuid": "2493daf53c3be2a244e1f0b492edfefdaa315777",
        "id": "r9Wot4N-jQUa",
        "colab_type": "text"
      },
      "source": [
        "## Avaliando o tamanho dos DataFrames e Series"
      ]
    },
    {
      "cell_type": "markdown",
      "metadata": {
        "_uuid": "8c1eed30b2be43959e893d495531dfcef6d15723",
        "id": "z3J-vaG8jQUb",
        "colab_type": "text"
      },
      "source": [
        "Para sabermos o tamanho de um `DataFrame` usamos o comando `.shape`"
      ]
    },
    {
      "cell_type": "code",
      "metadata": {
        "trusted": true,
        "_uuid": "961e7613a9b397aebf4c97a515f2f5cb58871139",
        "id": "NzfpEXZzjQUb",
        "colab_type": "code",
        "colab": {
          "base_uri": "https://localhost:8080/",
          "height": 35
        },
        "outputId": "0252dd4a-6502-4004-bd77-c93230297b99"
      },
      "source": [
        "igm.shape"
      ],
      "execution_count": 103,
      "outputs": [
        {
          "output_type": "execute_result",
          "data": {
            "text/plain": [
              "(5570, 32)"
            ]
          },
          "metadata": {
            "tags": []
          },
          "execution_count": 103
        }
      ]
    },
    {
      "cell_type": "markdown",
      "metadata": {
        "_uuid": "1eade6d83fbb54d8de17375df05904fe77fc76b6",
        "id": "2zgOPJt0jQUf",
        "colab_type": "text"
      },
      "source": [
        "O `DataFrame` feito a partir do `filtro` é menor como de se esperar:"
      ]
    },
    {
      "cell_type": "code",
      "metadata": {
        "scrolled": true,
        "trusted": true,
        "_uuid": "32d9bd21cd0ed3a3c20cf527ce10f0bbcb1a524c",
        "id": "xkbthoA9jQUf",
        "colab_type": "code",
        "colab": {
          "base_uri": "https://localhost:8080/",
          "height": 35
        },
        "outputId": "17a43f39-a1b2-40bc-eca1-411455864fa1"
      },
      "source": [
        "nordeste.shape"
      ],
      "execution_count": 104,
      "outputs": [
        {
          "output_type": "execute_result",
          "data": {
            "text/plain": [
              "(1794, 32)"
            ]
          },
          "metadata": {
            "tags": []
          },
          "execution_count": 104
        }
      ]
    },
    {
      "cell_type": "markdown",
      "metadata": {
        "_uuid": "51a2a803d1fe4cd260dec4c59430f6eae743437e",
        "id": "cHKIbgoCjQUh",
        "colab_type": "text"
      },
      "source": [
        "Podemos fazer o `.shape` de uma `Series`"
      ]
    },
    {
      "cell_type": "code",
      "metadata": {
        "trusted": true,
        "_uuid": "f71a7b9d3c33fe555b5ca21a6d761715dcc4b845",
        "id": "sI_fuUijjQUi",
        "colab_type": "code",
        "colab": {
          "base_uri": "https://localhost:8080/",
          "height": 35
        },
        "outputId": "09c2ec83-92ed-4750-86cd-a96dd7476e4a"
      },
      "source": [
        "igm['municipio'].shape"
      ],
      "execution_count": 153,
      "outputs": [
        {
          "output_type": "execute_result",
          "data": {
            "text/plain": [
              "(5570,)"
            ]
          },
          "metadata": {
            "tags": []
          },
          "execution_count": 153
        }
      ]
    },
    {
      "cell_type": "markdown",
      "metadata": {
        "_uuid": "3cbeb9045e8f5e247a68360c2b82ccd4c493a630",
        "id": "PloBqJzujQUk",
        "colab_type": "text"
      },
      "source": [
        "Note pelo comando a seguir como o shape é diferente entre a seleção com:\n",
        "1. `[]` - `Series` - 1 dimensão\n",
        "2. `[[]]` - `DataFrame` - 2 dimensões"
      ]
    },
    {
      "cell_type": "code",
      "metadata": {
        "trusted": true,
        "_uuid": "3dd54abe24dc70517e8169400351504c4e314d3a",
        "id": "K8o6iPe0jQUk",
        "colab_type": "code",
        "colab": {
          "base_uri": "https://localhost:8080/",
          "height": 35
        },
        "outputId": "7920900f-3cac-4e7d-9ff5-cf3179801eb6"
      },
      "source": [
        "igm[['municipio']].shape"
      ],
      "execution_count": 106,
      "outputs": [
        {
          "output_type": "execute_result",
          "data": {
            "text/plain": [
              "(5570, 1)"
            ]
          },
          "metadata": {
            "tags": []
          },
          "execution_count": 106
        }
      ]
    },
    {
      "cell_type": "markdown",
      "metadata": {
        "_uuid": "a0ead35866f3c97756050f9b30493b80e1694936",
        "id": "TMsUL_epjQUn",
        "colab_type": "text"
      },
      "source": [
        "Podemos usar o `.shape` em uma `Series` também, que nos retornará apenas 1 dimensão."
      ]
    },
    {
      "cell_type": "code",
      "metadata": {
        "scrolled": true,
        "trusted": true,
        "_uuid": "000253900375bbcf49cbd389d63d686613957841",
        "id": "DfYOou2SjQUn",
        "colab_type": "code",
        "colab": {
          "base_uri": "https://localhost:8080/",
          "height": 35
        },
        "outputId": "e11cffe6-3244-4226-fa49-aa7d5523e973"
      },
      "source": [
        "filtro.shape"
      ],
      "execution_count": 107,
      "outputs": [
        {
          "output_type": "execute_result",
          "data": {
            "text/plain": [
              "(5570,)"
            ]
          },
          "metadata": {
            "tags": []
          },
          "execution_count": 107
        }
      ]
    },
    {
      "cell_type": "markdown",
      "metadata": {
        "_uuid": "0575da3756dd06a78183edb1d56bcac0010717c1",
        "id": "Y8EXkoVPjQUp",
        "colab_type": "text"
      },
      "source": [
        "Note que o `filtro_nordeste` tem o mesmo número de linhas do `DataFrame` que o originou"
      ]
    },
    {
      "cell_type": "code",
      "metadata": {
        "trusted": true,
        "_uuid": "d828c8766aa4aeb48be6594042315ba6c13fab0c",
        "id": "KW9FWMcMjQUp",
        "colab_type": "code",
        "colab": {
          "base_uri": "https://localhost:8080/",
          "height": 35
        },
        "outputId": "d3c9e35e-ac96-4d71-e87a-af584d791771"
      },
      "source": [
        "filtro_nordeste.shape"
      ],
      "execution_count": 108,
      "outputs": [
        {
          "output_type": "execute_result",
          "data": {
            "text/plain": [
              "(1794,)"
            ]
          },
          "metadata": {
            "tags": []
          },
          "execution_count": 108
        }
      ]
    },
    {
      "cell_type": "markdown",
      "metadata": {
        "_uuid": "2f3368ee0e5f6822b5bf55814ad28e7c88f345dc",
        "id": "WU2WWlzTjQUr",
        "colab_type": "text"
      },
      "source": [
        "Note que o segundo filtro que utilizamos tem o mesmo tamanho do primeiro filtro e do `DataFrame` original"
      ]
    },
    {
      "cell_type": "code",
      "metadata": {
        "trusted": true,
        "_uuid": "8fac67ef6b9b639f5ea08405e6e4b0441f326f77",
        "id": "SmvO5L3RjQUs",
        "colab_type": "code",
        "colab": {
          "base_uri": "https://localhost:8080/",
          "height": 35
        },
        "outputId": "8f47c78c-02eb-4d1a-deea-eeb0cf7d751b"
      },
      "source": [
        "filtro_2.shape"
      ],
      "execution_count": 109,
      "outputs": [
        {
          "output_type": "execute_result",
          "data": {
            "text/plain": [
              "(5570,)"
            ]
          },
          "metadata": {
            "tags": []
          },
          "execution_count": 109
        }
      ]
    },
    {
      "cell_type": "markdown",
      "metadata": {
        "_uuid": "bf8678b1783f5f5289c4144371d148f606e1d9e3",
        "id": "--f7XVSYjQUu",
        "colab_type": "text"
      },
      "source": [
        "De preferência devemos usar um filtro do mesmo tamanho que um `DataFrame` para fazer as seleções. Mas se jogarmos um filtro maior em um `DataFrame` que é um subconjunto do `DataFrame` original, irá funcionar porque ele irá se guiar pelo `index`, mas irá retornar um aviso.\n",
        "\n",
        "Se algum aviso desse tipo acontecer, você já tem uma boa ideia do que pode ter acontecido."
      ]
    },
    {
      "cell_type": "code",
      "metadata": {
        "trusted": true,
        "_uuid": "40e9cde1ee2fa0c429f9d42f8183ec2f1dcd381b",
        "id": "zJKOsGdpjQUu",
        "colab_type": "code",
        "colab": {
          "base_uri": "https://localhost:8080/",
          "height": 671
        },
        "outputId": "6bb98130-027b-42f0-b179-8e27cea875b5"
      },
      "source": [
        "nordeste[filtro_2]"
      ],
      "execution_count": 110,
      "outputs": [
        {
          "output_type": "stream",
          "text": [
            "/usr/local/lib/python3.6/dist-packages/ipykernel_launcher.py:1: UserWarning: Boolean Series key will be reindexed to match DataFrame index.\n",
            "  \"\"\"Entry point for launching an IPython kernel.\n"
          ],
          "name": "stderr"
        },
        {
          "output_type": "execute_result",
          "data": {
            "text/html": [
              "<div>\n",
              "<style scoped>\n",
              "    .dataframe tbody tr th:only-of-type {\n",
              "        vertical-align: middle;\n",
              "    }\n",
              "\n",
              "    .dataframe tbody tr th {\n",
              "        vertical-align: top;\n",
              "    }\n",
              "\n",
              "    .dataframe thead th {\n",
              "        text-align: right;\n",
              "    }\n",
              "</style>\n",
              "<table border=\"1\" class=\"dataframe\">\n",
              "  <thead>\n",
              "    <tr style=\"text-align: right;\">\n",
              "      <th></th>\n",
              "      <th>regiao</th>\n",
              "      <th>estado</th>\n",
              "      <th>municipio</th>\n",
              "      <th>codigo_mun</th>\n",
              "      <th>capital</th>\n",
              "      <th>porte</th>\n",
              "      <th>populacao</th>\n",
              "      <th>area</th>\n",
              "      <th>densidade_dem</th>\n",
              "      <th>pib</th>\n",
              "      <th>pib_pc</th>\n",
              "      <th>participacao_transf_receita</th>\n",
              "      <th>servidores</th>\n",
              "      <th>comissionados</th>\n",
              "      <th>comissionados_por_servidor</th>\n",
              "      <th>perc_pop_econ_ativa</th>\n",
              "      <th>taxa_empreendedorismo</th>\n",
              "      <th>anos_estudo_empreendedor</th>\n",
              "      <th>jornada_trabalho</th>\n",
              "      <th>gasto_pc_saude</th>\n",
              "      <th>hab_p_medico</th>\n",
              "      <th>exp_vida</th>\n",
              "      <th>gasto_pc_educacao</th>\n",
              "      <th>exp_anos_estudo</th>\n",
              "      <th>nota_ciencias</th>\n",
              "      <th>nota_humanas</th>\n",
              "      <th>nota_linguagem</th>\n",
              "      <th>nota_mat</th>\n",
              "      <th>nota_redacao</th>\n",
              "      <th>idhm</th>\n",
              "      <th>ranking_igm</th>\n",
              "      <th>indice_governanca</th>\n",
              "    </tr>\n",
              "  </thead>\n",
              "  <tbody>\n",
              "    <tr>\n",
              "      <th>67</th>\n",
              "      <td>NORDESTE</td>\n",
              "      <td>PE</td>\n",
              "      <td>IPOJUCA</td>\n",
              "      <td>2607208</td>\n",
              "      <td>0</td>\n",
              "      <td>Médio porte</td>\n",
              "      <td>92,965</td>\n",
              "      <td>527.11</td>\n",
              "      <td>153</td>\n",
              "      <td>8411558.28</td>\n",
              "      <td>95666.34</td>\n",
              "      <td>67.0</td>\n",
              "      <td>2662.0</td>\n",
              "      <td>1907.0</td>\n",
              "      <td>72%</td>\n",
              "      <td>0.82</td>\n",
              "      <td>0.16</td>\n",
              "      <td>6.346311</td>\n",
              "      <td>43.826898</td>\n",
              "      <td>1208.11</td>\n",
              "      <td>521.279070</td>\n",
              "      <td>71.44</td>\n",
              "      <td>1779.61</td>\n",
              "      <td>8.65</td>\n",
              "      <td>463.458278</td>\n",
              "      <td>505.182119</td>\n",
              "      <td>503.076629</td>\n",
              "      <td>449.237753</td>\n",
              "      <td>480.988764</td>\n",
              "      <td>0.420</td>\n",
              "      <td>68º</td>\n",
              "      <td>0.659</td>\n",
              "    </tr>\n",
              "    <tr>\n",
              "      <th>77</th>\n",
              "      <td>NORDESTE</td>\n",
              "      <td>CE</td>\n",
              "      <td>FORTALEZA</td>\n",
              "      <td>2304400</td>\n",
              "      <td>1</td>\n",
              "      <td>Grande porte</td>\n",
              "      <td>2,609,716</td>\n",
              "      <td>314.93</td>\n",
              "      <td>7,786.40</td>\n",
              "      <td>49745920.35</td>\n",
              "      <td>19494.40</td>\n",
              "      <td>53.0</td>\n",
              "      <td>27093.0</td>\n",
              "      <td>2201.0</td>\n",
              "      <td>8%</td>\n",
              "      <td>1.00</td>\n",
              "      <td>0.22</td>\n",
              "      <td>8.579938</td>\n",
              "      <td>39.916316</td>\n",
              "      <td>620.43</td>\n",
              "      <td>NaN</td>\n",
              "      <td>74.41</td>\n",
              "      <td>382.80</td>\n",
              "      <td>10.04</td>\n",
              "      <td>492.416843</td>\n",
              "      <td>542.762946</td>\n",
              "      <td>525.144742</td>\n",
              "      <td>500.962286</td>\n",
              "      <td>574.679852</td>\n",
              "      <td>0.742</td>\n",
              "      <td>78º</td>\n",
              "      <td>0.656</td>\n",
              "    </tr>\n",
              "    <tr>\n",
              "      <th>236</th>\n",
              "      <td>NORDESTE</td>\n",
              "      <td>BA</td>\n",
              "      <td>MATA DE SAO JOAO</td>\n",
              "      <td>2921005</td>\n",
              "      <td>0</td>\n",
              "      <td>Pequeno porte 2</td>\n",
              "      <td>46,392</td>\n",
              "      <td>633.2</td>\n",
              "      <td>63.5</td>\n",
              "      <td>981822.66</td>\n",
              "      <td>22044.61</td>\n",
              "      <td>51.0</td>\n",
              "      <td>1200.0</td>\n",
              "      <td>458.0</td>\n",
              "      <td>38%</td>\n",
              "      <td>0.88</td>\n",
              "      <td>0.20</td>\n",
              "      <td>7.803896</td>\n",
              "      <td>38.495069</td>\n",
              "      <td>602.14</td>\n",
              "      <td>766.000000</td>\n",
              "      <td>74.09</td>\n",
              "      <td>1232.37</td>\n",
              "      <td>8.65</td>\n",
              "      <td>448.619011</td>\n",
              "      <td>508.202281</td>\n",
              "      <td>493.710305</td>\n",
              "      <td>442.017176</td>\n",
              "      <td>472.366412</td>\n",
              "      <td>0.537</td>\n",
              "      <td>237º</td>\n",
              "      <td>0.622</td>\n",
              "    </tr>\n",
              "    <tr>\n",
              "      <th>241</th>\n",
              "      <td>NORDESTE</td>\n",
              "      <td>PB</td>\n",
              "      <td>JOAO PESSOA</td>\n",
              "      <td>2507507</td>\n",
              "      <td>1</td>\n",
              "      <td>Grande porte</td>\n",
              "      <td>801,718</td>\n",
              "      <td>211.48</td>\n",
              "      <td>3,421.30</td>\n",
              "      <td>14841805.03</td>\n",
              "      <td>19284.91</td>\n",
              "      <td>64.0</td>\n",
              "      <td>9668.0</td>\n",
              "      <td>1142.0</td>\n",
              "      <td>12%</td>\n",
              "      <td>0.99</td>\n",
              "      <td>0.13</td>\n",
              "      <td>5.344429</td>\n",
              "      <td>35.112496</td>\n",
              "      <td>486.34</td>\n",
              "      <td>617.184190</td>\n",
              "      <td>74.89</td>\n",
              "      <td>428.25</td>\n",
              "      <td>9.87</td>\n",
              "      <td>497.310587</td>\n",
              "      <td>548.607283</td>\n",
              "      <td>529.736787</td>\n",
              "      <td>507.429430</td>\n",
              "      <td>594.096408</td>\n",
              "      <td>0.764</td>\n",
              "      <td>242º</td>\n",
              "      <td>0.622</td>\n",
              "    </tr>\n",
              "    <tr>\n",
              "      <th>261</th>\n",
              "      <td>NORDESTE</td>\n",
              "      <td>CE</td>\n",
              "      <td>EUSEBIO</td>\n",
              "      <td>2304285</td>\n",
              "      <td>0</td>\n",
              "      <td>Médio porte</td>\n",
              "      <td>51,913</td>\n",
              "      <td>79.01</td>\n",
              "      <td>582.7</td>\n",
              "      <td>2077064.42</td>\n",
              "      <td>41999.08</td>\n",
              "      <td>55.0</td>\n",
              "      <td>1351.0</td>\n",
              "      <td>629.0</td>\n",
              "      <td>47%</td>\n",
              "      <td>0.94</td>\n",
              "      <td>0.18</td>\n",
              "      <td>7.775028</td>\n",
              "      <td>38.457155</td>\n",
              "      <td>926.89</td>\n",
              "      <td>393.031250</td>\n",
              "      <td>72.66</td>\n",
              "      <td>1112.71</td>\n",
              "      <td>10.13</td>\n",
              "      <td>479.490850</td>\n",
              "      <td>521.400000</td>\n",
              "      <td>507.040535</td>\n",
              "      <td>480.173051</td>\n",
              "      <td>515.209354</td>\n",
              "      <td>0.616</td>\n",
              "      <td>262º</td>\n",
              "      <td>0.619</td>\n",
              "    </tr>\n",
              "    <tr>\n",
              "      <th>...</th>\n",
              "      <td>...</td>\n",
              "      <td>...</td>\n",
              "      <td>...</td>\n",
              "      <td>...</td>\n",
              "      <td>...</td>\n",
              "      <td>...</td>\n",
              "      <td>...</td>\n",
              "      <td>...</td>\n",
              "      <td>...</td>\n",
              "      <td>...</td>\n",
              "      <td>...</td>\n",
              "      <td>...</td>\n",
              "      <td>...</td>\n",
              "      <td>...</td>\n",
              "      <td>...</td>\n",
              "      <td>...</td>\n",
              "      <td>...</td>\n",
              "      <td>...</td>\n",
              "      <td>...</td>\n",
              "      <td>...</td>\n",
              "      <td>...</td>\n",
              "      <td>...</td>\n",
              "      <td>...</td>\n",
              "      <td>...</td>\n",
              "      <td>...</td>\n",
              "      <td>...</td>\n",
              "      <td>...</td>\n",
              "      <td>...</td>\n",
              "      <td>...</td>\n",
              "      <td>...</td>\n",
              "      <td>...</td>\n",
              "      <td>...</td>\n",
              "    </tr>\n",
              "    <tr>\n",
              "      <th>5245</th>\n",
              "      <td>NORDESTE</td>\n",
              "      <td>SE</td>\n",
              "      <td>SAO DOMINGOS</td>\n",
              "      <td>2806800</td>\n",
              "      <td>0</td>\n",
              "      <td>Pequeno porte 1</td>\n",
              "      <td>11,053</td>\n",
              "      <td>102</td>\n",
              "      <td>100.2</td>\n",
              "      <td>93161.64</td>\n",
              "      <td>8625.28</td>\n",
              "      <td>97.0</td>\n",
              "      <td>265.0</td>\n",
              "      <td>120.0</td>\n",
              "      <td>45%</td>\n",
              "      <td>1.02</td>\n",
              "      <td>0.27</td>\n",
              "      <td>4.725770</td>\n",
              "      <td>32.120295</td>\n",
              "      <td>319.32</td>\n",
              "      <td>2177.400000</td>\n",
              "      <td>70.36</td>\n",
              "      <td>686.34</td>\n",
              "      <td>9.06</td>\n",
              "      <td>465.242000</td>\n",
              "      <td>501.113000</td>\n",
              "      <td>485.569697</td>\n",
              "      <td>459.546465</td>\n",
              "      <td>517.979798</td>\n",
              "      <td>0.346</td>\n",
              "      <td>NaN</td>\n",
              "      <td>NaN</td>\n",
              "    </tr>\n",
              "    <tr>\n",
              "      <th>5246</th>\n",
              "      <td>NORDESTE</td>\n",
              "      <td>SE</td>\n",
              "      <td>CEDRO DE SAO JOAO</td>\n",
              "      <td>2801603</td>\n",
              "      <td>0</td>\n",
              "      <td>Pequeno porte 1</td>\n",
              "      <td>5,912</td>\n",
              "      <td>83.71</td>\n",
              "      <td>67.3</td>\n",
              "      <td>38902.98</td>\n",
              "      <td>6654.63</td>\n",
              "      <td>92.0</td>\n",
              "      <td>203.0</td>\n",
              "      <td>89.0</td>\n",
              "      <td>44%</td>\n",
              "      <td>0.77</td>\n",
              "      <td>0.35</td>\n",
              "      <td>6.351568</td>\n",
              "      <td>35.731140</td>\n",
              "      <td>461.83</td>\n",
              "      <td>652.000000</td>\n",
              "      <td>68.83</td>\n",
              "      <td>613.36</td>\n",
              "      <td>9.08</td>\n",
              "      <td>461.052381</td>\n",
              "      <td>509.559524</td>\n",
              "      <td>487.254762</td>\n",
              "      <td>442.495238</td>\n",
              "      <td>578.571429</td>\n",
              "      <td>0.430</td>\n",
              "      <td>NaN</td>\n",
              "      <td>NaN</td>\n",
              "    </tr>\n",
              "    <tr>\n",
              "      <th>5247</th>\n",
              "      <td>NORDESTE</td>\n",
              "      <td>SE</td>\n",
              "      <td>POCO VERDE</td>\n",
              "      <td>2805505</td>\n",
              "      <td>0</td>\n",
              "      <td>Pequeno porte 2</td>\n",
              "      <td>23,580</td>\n",
              "      <td>439.84</td>\n",
              "      <td>50</td>\n",
              "      <td>185982.88</td>\n",
              "      <td>8058.88</td>\n",
              "      <td>92.0</td>\n",
              "      <td>623.0</td>\n",
              "      <td>130.0</td>\n",
              "      <td>21%</td>\n",
              "      <td>0.86</td>\n",
              "      <td>0.23</td>\n",
              "      <td>4.741037</td>\n",
              "      <td>34.777215</td>\n",
              "      <td>310.39</td>\n",
              "      <td>2113.545455</td>\n",
              "      <td>70.08</td>\n",
              "      <td>645.33</td>\n",
              "      <td>8.98</td>\n",
              "      <td>463.451337</td>\n",
              "      <td>506.520321</td>\n",
              "      <td>496.670430</td>\n",
              "      <td>453.449462</td>\n",
              "      <td>529.677419</td>\n",
              "      <td>NaN</td>\n",
              "      <td>NaN</td>\n",
              "      <td>NaN</td>\n",
              "    </tr>\n",
              "    <tr>\n",
              "      <th>5248</th>\n",
              "      <td>NORDESTE</td>\n",
              "      <td>SE</td>\n",
              "      <td>NOSSA SENHORA DE LOURDES</td>\n",
              "      <td>2804706</td>\n",
              "      <td>0</td>\n",
              "      <td>Pequeno porte 1</td>\n",
              "      <td>6,512</td>\n",
              "      <td>81.06</td>\n",
              "      <td>77</td>\n",
              "      <td>48201.34</td>\n",
              "      <td>7466.13</td>\n",
              "      <td>NaN</td>\n",
              "      <td>236.0</td>\n",
              "      <td>22.0</td>\n",
              "      <td>9%</td>\n",
              "      <td>0.79</td>\n",
              "      <td>0.32</td>\n",
              "      <td>5.141976</td>\n",
              "      <td>39.708468</td>\n",
              "      <td>NaN</td>\n",
              "      <td>1618.750000</td>\n",
              "      <td>68.13</td>\n",
              "      <td>NaN</td>\n",
              "      <td>9.30</td>\n",
              "      <td>445.827184</td>\n",
              "      <td>500.052427</td>\n",
              "      <td>485.945098</td>\n",
              "      <td>441.245098</td>\n",
              "      <td>475.882353</td>\n",
              "      <td>0.370</td>\n",
              "      <td>NaN</td>\n",
              "      <td>NaN</td>\n",
              "    </tr>\n",
              "    <tr>\n",
              "      <th>5249</th>\n",
              "      <td>NORDESTE</td>\n",
              "      <td>SE</td>\n",
              "      <td>ITABI</td>\n",
              "      <td>2803104</td>\n",
              "      <td>0</td>\n",
              "      <td>Pequeno porte 1</td>\n",
              "      <td>5,002</td>\n",
              "      <td>184.42</td>\n",
              "      <td>27</td>\n",
              "      <td>38696.88</td>\n",
              "      <td>7665.78</td>\n",
              "      <td>NaN</td>\n",
              "      <td>203.0</td>\n",
              "      <td>14.0</td>\n",
              "      <td>7%</td>\n",
              "      <td>0.78</td>\n",
              "      <td>0.26</td>\n",
              "      <td>4.696560</td>\n",
              "      <td>38.371606</td>\n",
              "      <td>NaN</td>\n",
              "      <td>2516.000000</td>\n",
              "      <td>69.86</td>\n",
              "      <td>NaN</td>\n",
              "      <td>9.91</td>\n",
              "      <td>468.687805</td>\n",
              "      <td>494.790244</td>\n",
              "      <td>500.912195</td>\n",
              "      <td>469.095122</td>\n",
              "      <td>488.780488</td>\n",
              "      <td>NaN</td>\n",
              "      <td>NaN</td>\n",
              "      <td>NaN</td>\n",
              "    </tr>\n",
              "  </tbody>\n",
              "</table>\n",
              "<p>1794 rows × 32 columns</p>\n",
              "</div>"
            ],
            "text/plain": [
              "        regiao estado  ... ranking_igm  indice_governanca\n",
              "67    NORDESTE     PE  ...         68º              0.659\n",
              "77    NORDESTE     CE  ...         78º              0.656\n",
              "236   NORDESTE     BA  ...        237º              0.622\n",
              "241   NORDESTE     PB  ...        242º              0.622\n",
              "261   NORDESTE     CE  ...        262º              0.619\n",
              "...        ...    ...  ...         ...                ...\n",
              "5245  NORDESTE     SE  ...         NaN                NaN\n",
              "5246  NORDESTE     SE  ...         NaN                NaN\n",
              "5247  NORDESTE     SE  ...         NaN                NaN\n",
              "5248  NORDESTE     SE  ...         NaN                NaN\n",
              "5249  NORDESTE     SE  ...         NaN                NaN\n",
              "\n",
              "[1794 rows x 32 columns]"
            ]
          },
          "metadata": {
            "tags": []
          },
          "execution_count": 110
        }
      ]
    },
    {
      "cell_type": "markdown",
      "metadata": {
        "_uuid": "98d1ae04dec1ac5a41617b0ec66fe65f5af10dcf",
        "id": "6zaEJK9VjQUy",
        "colab_type": "text"
      },
      "source": [
        "##  `Exercícios: Mais Filtros e Shape`\n",
        "\n",
        "1. Crie um filtro chamado `filtro_com_idhm` que selecione as cidades que não tenham o `idhm` em branco.\n",
        "2. Crie um filtro chamado `filtro_trabalho` que selecione as cidades que o valor de `jornada_trabalho` seja maior do que 50 \n",
        "3. Crie um novo `DataFrame` chamado `igm_idhm_e_trabalho` que use os filtros `filtro_com_idhm` e `filtro_trabalho` com o operador `E` - `&`\n",
        "4. Crie um novo `DataFrame` chamado `igm_idhm_ou_trabalho` que use os filtros `filtro_com_idhm` e `filtro_trabalho` com o operador `OU` - `|`\n",
        "5. Pegue o `.shape` dos `DataFrames` dos itens `3` e `4`"
      ]
    },
    {
      "cell_type": "markdown",
      "metadata": {
        "_uuid": "93b6ff7c53f90cc1a41101033f6d65ed4cb5a046",
        "id": "RwqqoGJ2jQUz",
        "colab_type": "text"
      },
      "source": [
        "## Manipulação de Strings"
      ]
    },
    {
      "cell_type": "markdown",
      "metadata": {
        "_uuid": "7ccceeb710900a98366f07e7549177767f85c36b",
        "id": "YqT_01mPjQUz",
        "colab_type": "text"
      },
      "source": [
        "Agora nós iremos atualizar a densidade demográfica da tabela com um valor mais recente. Para isso temos que transformar as colunas de area e de populacao em números (`float` ou `int`), atualmente elas estão em forma de texto (`str`)"
      ]
    },
    {
      "cell_type": "markdown",
      "metadata": {
        "_uuid": "b3363e74510c49848070d9f5086a9e1a512f8cd0",
        "id": "uSZGUUPtjQU0",
        "colab_type": "text"
      },
      "source": [
        "## Avaliando os tipos do nosso DataFrame"
      ]
    },
    {
      "cell_type": "code",
      "metadata": {
        "trusted": true,
        "_uuid": "e66880b77972b26b8fa7a354a747061a497f5f3b",
        "id": "SxY5SmpdjQU0",
        "colab_type": "code",
        "colab": {
          "base_uri": "https://localhost:8080/",
          "height": 726
        },
        "outputId": "32263719-f187-4716-fe12-36616f810bb8"
      },
      "source": [
        "igm.info()"
      ],
      "execution_count": 111,
      "outputs": [
        {
          "output_type": "stream",
          "text": [
            "<class 'pandas.core.frame.DataFrame'>\n",
            "RangeIndex: 5570 entries, 0 to 5569\n",
            "Data columns (total 32 columns):\n",
            " #   Column                       Non-Null Count  Dtype  \n",
            "---  ------                       --------------  -----  \n",
            " 0   regiao                       5570 non-null   object \n",
            " 1   estado                       5570 non-null   object \n",
            " 2   municipio                    5570 non-null   object \n",
            " 3   codigo_mun                   5570 non-null   int64  \n",
            " 4   capital                      5570 non-null   int64  \n",
            " 5   porte                        5570 non-null   object \n",
            " 6   populacao                    5570 non-null   object \n",
            " 7   area                         5570 non-null   object \n",
            " 8   densidade_dem                5566 non-null   object \n",
            " 9   pib                          5570 non-null   float64\n",
            " 10  pib_pc                       5570 non-null   float64\n",
            " 11  participacao_transf_receita  4893 non-null   float64\n",
            " 12  servidores                   5233 non-null   float64\n",
            " 13  comissionados                5570 non-null   float64\n",
            " 14  comissionados_por_servidor   5570 non-null   object \n",
            " 15  perc_pop_econ_ativa          5565 non-null   float64\n",
            " 16  taxa_empreendedorismo        5570 non-null   float64\n",
            " 17  anos_estudo_empreendedor     5570 non-null   float64\n",
            " 18  jornada_trabalho             5570 non-null   float64\n",
            " 19  gasto_pc_saude               4881 non-null   float64\n",
            " 20  hab_p_medico                 4951 non-null   float64\n",
            " 21  exp_vida                     5565 non-null   float64\n",
            " 22  gasto_pc_educacao            4880 non-null   float64\n",
            " 23  exp_anos_estudo              5565 non-null   float64\n",
            " 24  nota_ciencias                5558 non-null   float64\n",
            " 25  nota_humanas                 5558 non-null   float64\n",
            " 26  nota_linguagem               5557 non-null   float64\n",
            " 27  nota_mat                     5557 non-null   float64\n",
            " 28  nota_redacao                 5557 non-null   float64\n",
            " 29  idhm                         4986 non-null   float64\n",
            " 30  ranking_igm                  3303 non-null   object \n",
            " 31  indice_governanca            3303 non-null   float64\n",
            "dtypes: float64(21), int64(2), object(9)\n",
            "memory usage: 1.3+ MB\n"
          ],
          "name": "stdout"
        }
      ]
    },
    {
      "cell_type": "markdown",
      "metadata": {
        "_uuid": "f26b8dd4e917262acddaccddf5f9ced4f91f1ca2",
        "id": "f-LtY2YijQU4",
        "colab_type": "text"
      },
      "source": [
        "Como podemos notar, temos algumas colunas que são númeircas mas que estão como `object`, o que normalmente irá significar que são texto. Vamos avaliar o que está acontecendo."
      ]
    },
    {
      "cell_type": "markdown",
      "metadata": {
        "_uuid": "c8f54ab1ed6d9fd40a9abd40ed2e0b9afce12f89",
        "id": "eooV5ZvZjQU4",
        "colab_type": "text"
      },
      "source": [
        "### Convertendo a coluna de área"
      ]
    },
    {
      "cell_type": "code",
      "metadata": {
        "trusted": true,
        "_uuid": "e0fffc0c2edacf0ce0a9bed3004fa362c63da678",
        "id": "Cj-647QWjQU4",
        "colab_type": "code",
        "colab": {
          "base_uri": "https://localhost:8080/",
          "height": 126
        },
        "outputId": "8a21ff72-2f59-4c41-9ac8-72dc1bf9b7a3"
      },
      "source": [
        "igm['area'].sample(5)"
      ],
      "execution_count": 112,
      "outputs": [
        {
          "output_type": "execute_result",
          "data": {
            "text/plain": [
              "458       578.97\n",
              "962     2,050.65\n",
              "3899    6,661.67\n",
              "2229      264.12\n",
              "5109      661.56\n",
              "Name: area, dtype: object"
            ]
          },
          "metadata": {
            "tags": []
          },
          "execution_count": 112
        }
      ]
    },
    {
      "cell_type": "markdown",
      "metadata": {
        "_uuid": "dd5335c7947884690763ee86eb1f2378b5a792e0",
        "id": "WVazdJ7WjQU7",
        "colab_type": "text"
      },
      "source": [
        "Para forçar a conversão para um número podemos usar o comando `.astype(float)`"
      ]
    },
    {
      "cell_type": "code",
      "metadata": {
        "scrolled": true,
        "trusted": true,
        "_uuid": "a1af06288b0aa216eb35fd266e1fc9137c9e8834",
        "id": "cFD_DdxgjQU8",
        "colab_type": "code",
        "colab": {
          "base_uri": "https://localhost:8080/",
          "height": 340
        },
        "outputId": "9851b992-5c8d-4167-8780-a8eaddde22c6"
      },
      "source": [
        "igm['area'].astype(float)"
      ],
      "execution_count": 113,
      "outputs": [
        {
          "output_type": "error",
          "ename": "ValueError",
          "evalue": "ignored",
          "traceback": [
            "\u001b[0;31m---------------------------------------------------------------------------\u001b[0m",
            "\u001b[0;31mValueError\u001b[0m                                Traceback (most recent call last)",
            "\u001b[0;32m<ipython-input-113-e1989c26aeea>\u001b[0m in \u001b[0;36m<module>\u001b[0;34m()\u001b[0m\n\u001b[0;32m----> 1\u001b[0;31m \u001b[0migm\u001b[0m\u001b[0;34m[\u001b[0m\u001b[0;34m'area'\u001b[0m\u001b[0;34m]\u001b[0m\u001b[0;34m.\u001b[0m\u001b[0mastype\u001b[0m\u001b[0;34m(\u001b[0m\u001b[0mfloat\u001b[0m\u001b[0;34m)\u001b[0m\u001b[0;34m\u001b[0m\u001b[0;34m\u001b[0m\u001b[0m\n\u001b[0m",
            "\u001b[0;32m/usr/local/lib/python3.6/dist-packages/pandas/core/generic.py\u001b[0m in \u001b[0;36mastype\u001b[0;34m(self, dtype, copy, errors)\u001b[0m\n\u001b[1;32m   5696\u001b[0m         \u001b[0;32melse\u001b[0m\u001b[0;34m:\u001b[0m\u001b[0;34m\u001b[0m\u001b[0;34m\u001b[0m\u001b[0m\n\u001b[1;32m   5697\u001b[0m             \u001b[0;31m# else, only a single dtype is given\u001b[0m\u001b[0;34m\u001b[0m\u001b[0;34m\u001b[0m\u001b[0;34m\u001b[0m\u001b[0m\n\u001b[0;32m-> 5698\u001b[0;31m             \u001b[0mnew_data\u001b[0m \u001b[0;34m=\u001b[0m \u001b[0mself\u001b[0m\u001b[0;34m.\u001b[0m\u001b[0m_data\u001b[0m\u001b[0;34m.\u001b[0m\u001b[0mastype\u001b[0m\u001b[0;34m(\u001b[0m\u001b[0mdtype\u001b[0m\u001b[0;34m=\u001b[0m\u001b[0mdtype\u001b[0m\u001b[0;34m,\u001b[0m \u001b[0mcopy\u001b[0m\u001b[0;34m=\u001b[0m\u001b[0mcopy\u001b[0m\u001b[0;34m,\u001b[0m \u001b[0merrors\u001b[0m\u001b[0;34m=\u001b[0m\u001b[0merrors\u001b[0m\u001b[0;34m)\u001b[0m\u001b[0;34m\u001b[0m\u001b[0;34m\u001b[0m\u001b[0m\n\u001b[0m\u001b[1;32m   5699\u001b[0m             \u001b[0;32mreturn\u001b[0m \u001b[0mself\u001b[0m\u001b[0;34m.\u001b[0m\u001b[0m_constructor\u001b[0m\u001b[0;34m(\u001b[0m\u001b[0mnew_data\u001b[0m\u001b[0;34m)\u001b[0m\u001b[0;34m.\u001b[0m\u001b[0m__finalize__\u001b[0m\u001b[0;34m(\u001b[0m\u001b[0mself\u001b[0m\u001b[0;34m)\u001b[0m\u001b[0;34m\u001b[0m\u001b[0;34m\u001b[0m\u001b[0m\n\u001b[1;32m   5700\u001b[0m \u001b[0;34m\u001b[0m\u001b[0m\n",
            "\u001b[0;32m/usr/local/lib/python3.6/dist-packages/pandas/core/internals/managers.py\u001b[0m in \u001b[0;36mastype\u001b[0;34m(self, dtype, copy, errors)\u001b[0m\n\u001b[1;32m    580\u001b[0m \u001b[0;34m\u001b[0m\u001b[0m\n\u001b[1;32m    581\u001b[0m     \u001b[0;32mdef\u001b[0m \u001b[0mastype\u001b[0m\u001b[0;34m(\u001b[0m\u001b[0mself\u001b[0m\u001b[0;34m,\u001b[0m \u001b[0mdtype\u001b[0m\u001b[0;34m,\u001b[0m \u001b[0mcopy\u001b[0m\u001b[0;34m:\u001b[0m \u001b[0mbool\u001b[0m \u001b[0;34m=\u001b[0m \u001b[0;32mFalse\u001b[0m\u001b[0;34m,\u001b[0m \u001b[0merrors\u001b[0m\u001b[0;34m:\u001b[0m \u001b[0mstr\u001b[0m \u001b[0;34m=\u001b[0m \u001b[0;34m\"raise\"\u001b[0m\u001b[0;34m)\u001b[0m\u001b[0;34m:\u001b[0m\u001b[0;34m\u001b[0m\u001b[0;34m\u001b[0m\u001b[0m\n\u001b[0;32m--> 582\u001b[0;31m         \u001b[0;32mreturn\u001b[0m \u001b[0mself\u001b[0m\u001b[0;34m.\u001b[0m\u001b[0mapply\u001b[0m\u001b[0;34m(\u001b[0m\u001b[0;34m\"astype\"\u001b[0m\u001b[0;34m,\u001b[0m \u001b[0mdtype\u001b[0m\u001b[0;34m=\u001b[0m\u001b[0mdtype\u001b[0m\u001b[0;34m,\u001b[0m \u001b[0mcopy\u001b[0m\u001b[0;34m=\u001b[0m\u001b[0mcopy\u001b[0m\u001b[0;34m,\u001b[0m \u001b[0merrors\u001b[0m\u001b[0;34m=\u001b[0m\u001b[0merrors\u001b[0m\u001b[0;34m)\u001b[0m\u001b[0;34m\u001b[0m\u001b[0;34m\u001b[0m\u001b[0m\n\u001b[0m\u001b[1;32m    583\u001b[0m \u001b[0;34m\u001b[0m\u001b[0m\n\u001b[1;32m    584\u001b[0m     \u001b[0;32mdef\u001b[0m \u001b[0mconvert\u001b[0m\u001b[0;34m(\u001b[0m\u001b[0mself\u001b[0m\u001b[0;34m,\u001b[0m \u001b[0;34m**\u001b[0m\u001b[0mkwargs\u001b[0m\u001b[0;34m)\u001b[0m\u001b[0;34m:\u001b[0m\u001b[0;34m\u001b[0m\u001b[0;34m\u001b[0m\u001b[0m\n",
            "\u001b[0;32m/usr/local/lib/python3.6/dist-packages/pandas/core/internals/managers.py\u001b[0m in \u001b[0;36mapply\u001b[0;34m(self, f, filter, **kwargs)\u001b[0m\n\u001b[1;32m    440\u001b[0m                 \u001b[0mapplied\u001b[0m \u001b[0;34m=\u001b[0m \u001b[0mb\u001b[0m\u001b[0;34m.\u001b[0m\u001b[0mapply\u001b[0m\u001b[0;34m(\u001b[0m\u001b[0mf\u001b[0m\u001b[0;34m,\u001b[0m \u001b[0;34m**\u001b[0m\u001b[0mkwargs\u001b[0m\u001b[0;34m)\u001b[0m\u001b[0;34m\u001b[0m\u001b[0;34m\u001b[0m\u001b[0m\n\u001b[1;32m    441\u001b[0m             \u001b[0;32melse\u001b[0m\u001b[0;34m:\u001b[0m\u001b[0;34m\u001b[0m\u001b[0;34m\u001b[0m\u001b[0m\n\u001b[0;32m--> 442\u001b[0;31m                 \u001b[0mapplied\u001b[0m \u001b[0;34m=\u001b[0m \u001b[0mgetattr\u001b[0m\u001b[0;34m(\u001b[0m\u001b[0mb\u001b[0m\u001b[0;34m,\u001b[0m \u001b[0mf\u001b[0m\u001b[0;34m)\u001b[0m\u001b[0;34m(\u001b[0m\u001b[0;34m**\u001b[0m\u001b[0mkwargs\u001b[0m\u001b[0;34m)\u001b[0m\u001b[0;34m\u001b[0m\u001b[0;34m\u001b[0m\u001b[0m\n\u001b[0m\u001b[1;32m    443\u001b[0m             \u001b[0mresult_blocks\u001b[0m \u001b[0;34m=\u001b[0m \u001b[0m_extend_blocks\u001b[0m\u001b[0;34m(\u001b[0m\u001b[0mapplied\u001b[0m\u001b[0;34m,\u001b[0m \u001b[0mresult_blocks\u001b[0m\u001b[0;34m)\u001b[0m\u001b[0;34m\u001b[0m\u001b[0;34m\u001b[0m\u001b[0m\n\u001b[1;32m    444\u001b[0m \u001b[0;34m\u001b[0m\u001b[0m\n",
            "\u001b[0;32m/usr/local/lib/python3.6/dist-packages/pandas/core/internals/blocks.py\u001b[0m in \u001b[0;36mastype\u001b[0;34m(self, dtype, copy, errors)\u001b[0m\n\u001b[1;32m    623\u001b[0m             \u001b[0mvals1d\u001b[0m \u001b[0;34m=\u001b[0m \u001b[0mvalues\u001b[0m\u001b[0;34m.\u001b[0m\u001b[0mravel\u001b[0m\u001b[0;34m(\u001b[0m\u001b[0;34m)\u001b[0m\u001b[0;34m\u001b[0m\u001b[0;34m\u001b[0m\u001b[0m\n\u001b[1;32m    624\u001b[0m             \u001b[0;32mtry\u001b[0m\u001b[0;34m:\u001b[0m\u001b[0;34m\u001b[0m\u001b[0;34m\u001b[0m\u001b[0m\n\u001b[0;32m--> 625\u001b[0;31m                 \u001b[0mvalues\u001b[0m \u001b[0;34m=\u001b[0m \u001b[0mastype_nansafe\u001b[0m\u001b[0;34m(\u001b[0m\u001b[0mvals1d\u001b[0m\u001b[0;34m,\u001b[0m \u001b[0mdtype\u001b[0m\u001b[0;34m,\u001b[0m \u001b[0mcopy\u001b[0m\u001b[0;34m=\u001b[0m\u001b[0;32mTrue\u001b[0m\u001b[0;34m)\u001b[0m\u001b[0;34m\u001b[0m\u001b[0;34m\u001b[0m\u001b[0m\n\u001b[0m\u001b[1;32m    626\u001b[0m             \u001b[0;32mexcept\u001b[0m \u001b[0;34m(\u001b[0m\u001b[0mValueError\u001b[0m\u001b[0;34m,\u001b[0m \u001b[0mTypeError\u001b[0m\u001b[0;34m)\u001b[0m\u001b[0;34m:\u001b[0m\u001b[0;34m\u001b[0m\u001b[0;34m\u001b[0m\u001b[0m\n\u001b[1;32m    627\u001b[0m                 \u001b[0;31m# e.g. astype_nansafe can fail on object-dtype of strings\u001b[0m\u001b[0;34m\u001b[0m\u001b[0;34m\u001b[0m\u001b[0;34m\u001b[0m\u001b[0m\n",
            "\u001b[0;32m/usr/local/lib/python3.6/dist-packages/pandas/core/dtypes/cast.py\u001b[0m in \u001b[0;36mastype_nansafe\u001b[0;34m(arr, dtype, copy, skipna)\u001b[0m\n\u001b[1;32m    895\u001b[0m     \u001b[0;32mif\u001b[0m \u001b[0mcopy\u001b[0m \u001b[0;32mor\u001b[0m \u001b[0mis_object_dtype\u001b[0m\u001b[0;34m(\u001b[0m\u001b[0marr\u001b[0m\u001b[0;34m)\u001b[0m \u001b[0;32mor\u001b[0m \u001b[0mis_object_dtype\u001b[0m\u001b[0;34m(\u001b[0m\u001b[0mdtype\u001b[0m\u001b[0;34m)\u001b[0m\u001b[0;34m:\u001b[0m\u001b[0;34m\u001b[0m\u001b[0;34m\u001b[0m\u001b[0m\n\u001b[1;32m    896\u001b[0m         \u001b[0;31m# Explicit copy, or required since NumPy can't view from / to object.\u001b[0m\u001b[0;34m\u001b[0m\u001b[0;34m\u001b[0m\u001b[0;34m\u001b[0m\u001b[0m\n\u001b[0;32m--> 897\u001b[0;31m         \u001b[0;32mreturn\u001b[0m \u001b[0marr\u001b[0m\u001b[0;34m.\u001b[0m\u001b[0mastype\u001b[0m\u001b[0;34m(\u001b[0m\u001b[0mdtype\u001b[0m\u001b[0;34m,\u001b[0m \u001b[0mcopy\u001b[0m\u001b[0;34m=\u001b[0m\u001b[0;32mTrue\u001b[0m\u001b[0;34m)\u001b[0m\u001b[0;34m\u001b[0m\u001b[0;34m\u001b[0m\u001b[0m\n\u001b[0m\u001b[1;32m    898\u001b[0m \u001b[0;34m\u001b[0m\u001b[0m\n\u001b[1;32m    899\u001b[0m     \u001b[0;32mreturn\u001b[0m \u001b[0marr\u001b[0m\u001b[0;34m.\u001b[0m\u001b[0mview\u001b[0m\u001b[0;34m(\u001b[0m\u001b[0mdtype\u001b[0m\u001b[0;34m)\u001b[0m\u001b[0;34m\u001b[0m\u001b[0;34m\u001b[0m\u001b[0m\n",
            "\u001b[0;31mValueError\u001b[0m: could not convert string to float: '5,780.00'"
          ]
        }
      ]
    },
    {
      "cell_type": "markdown",
      "metadata": {
        "_uuid": "a084ec0be2c7c3a7a29cb27651c266362ab59513",
        "id": "nRoM7NusjQU-",
        "colab_type": "text"
      },
      "source": [
        "O comando não funciona porque temos valores que ele não sabe o que fazer, em específico a vírgula separando os milhares. Para corrigir isso basta usar o comando `.str.replace()`"
      ]
    },
    {
      "cell_type": "code",
      "metadata": {
        "trusted": true,
        "_uuid": "3e79fe77660fbe75ec295b6efba1e64904c0d6c0",
        "id": "wh9jd-TMjQVA",
        "colab_type": "code",
        "colab": {}
      },
      "source": [
        "igm['area'].str.replace(',','').astype(float).sample(10)"
      ],
      "execution_count": null,
      "outputs": []
    },
    {
      "cell_type": "markdown",
      "metadata": {
        "_uuid": "150c1f87ff621edb14088209b38b8ae237038008",
        "id": "CgS32FyOjQVD",
        "colab_type": "text"
      },
      "source": [
        "## Salvando um resultado em uma nova coluna"
      ]
    },
    {
      "cell_type": "markdown",
      "metadata": {
        "_uuid": "dc7618e2550a883d3feefcb926da9867510a0b5d",
        "id": "GtHhIa12jQVD",
        "colab_type": "text"
      },
      "source": [
        "Vamos salvar esse resultado:"
      ]
    },
    {
      "cell_type": "code",
      "metadata": {
        "trusted": true,
        "_uuid": "fad0b43ce040736b1512725bf2e844981c836a03",
        "id": "y6ieOL2GjQVD",
        "colab_type": "code",
        "colab": {}
      },
      "source": [
        "igm['area'] = igm['area'].str.replace(',','').astype(float)"
      ],
      "execution_count": null,
      "outputs": []
    },
    {
      "cell_type": "markdown",
      "metadata": {
        "_uuid": "ebb3393df8d6fd888b7ef8a92449c2df97a3773c",
        "id": "RX0bGW-_jQVF",
        "colab_type": "text"
      },
      "source": [
        "### Convertendo a coluna de população"
      ]
    },
    {
      "cell_type": "markdown",
      "metadata": {
        "_uuid": "1739013135370c130fc3bec8038210c307f5ffe4",
        "id": "euzGBDYBjQVG",
        "colab_type": "text"
      },
      "source": [
        "Vamos primeiro dar uma olhada na coluna `populacao`"
      ]
    },
    {
      "cell_type": "code",
      "metadata": {
        "trusted": true,
        "_uuid": "1915af355f886c608d7a4d5ea6028822b74e8af3",
        "id": "4ivAHjVIjQVG",
        "colab_type": "code",
        "colab": {}
      },
      "source": [
        "igm['populacao'].sample(10)"
      ],
      "execution_count": null,
      "outputs": []
    },
    {
      "cell_type": "markdown",
      "metadata": {
        "_uuid": "931cd24bfc8572f53cf2c34dd60d5516093c4066",
        "id": "S5xuO3_1jQVH",
        "colab_type": "text"
      },
      "source": [
        "Também temos valores com vírgula, vamos substituí-los por um valor em branco:"
      ]
    },
    {
      "cell_type": "code",
      "metadata": {
        "trusted": true,
        "_uuid": "64dddefc76e84dbe1fa08386dfef93c521420478",
        "id": "Q-0vmaopjQVI",
        "colab_type": "code",
        "colab": {}
      },
      "source": [
        "igm['populacao'] = igm['populacao'].str.replace(',','')"
      ],
      "execution_count": null,
      "outputs": []
    },
    {
      "cell_type": "markdown",
      "metadata": {
        "_uuid": "2ba10f1cb4a88e499cf06619fe30eb57ea372c37",
        "id": "1Ubj__X3jQVJ",
        "colab_type": "text"
      },
      "source": [
        "E vamos converter em número e salvar o resultado"
      ]
    },
    {
      "cell_type": "code",
      "metadata": {
        "scrolled": true,
        "trusted": true,
        "_uuid": "c76d48f7062cdc273ab76a86c888f531cae69368",
        "id": "vY5lVgg8jQVJ",
        "colab_type": "code",
        "colab": {}
      },
      "source": [
        "igm['populacao'] = igm['populacao'].astype(float)"
      ],
      "execution_count": null,
      "outputs": []
    },
    {
      "cell_type": "markdown",
      "metadata": {
        "_uuid": "f50fe35608da53eeb22996d2f7573b9b18a5db4b",
        "id": "SE_6fZwyjQVL",
        "colab_type": "text"
      },
      "source": [
        "Desta vez não funcionou, porque de acordo com a mensagem de erro, além de vírgulas temos `.` e temos um `(1)` solto de acordo com a nossa mensagem de erro.\n",
        "\n",
        "Vamos tirar o `.`"
      ]
    },
    {
      "cell_type": "code",
      "metadata": {
        "trusted": true,
        "_uuid": "3b6bde52301449144464df9c27ed1ac6724b7bb0",
        "id": "JrXtcEo7jQVM",
        "colab_type": "code",
        "colab": {}
      },
      "source": [
        "igm['populacao'] = igm['populacao'].str.replace('.','')"
      ],
      "execution_count": null,
      "outputs": []
    },
    {
      "cell_type": "markdown",
      "metadata": {
        "_uuid": "6a869dd3cf328746a735740f3ceb3b17ec4c68be",
        "id": "2C0QF-yOjQVO",
        "colab_type": "text"
      },
      "source": [
        "Para tirar o `('1')`, uma forma é quebrando a string em vários pedaços, para isso usamos o `split()`. Vamos começar com um exemplo fora do `DataFrame` para ilustrar melhor o conceito:"
      ]
    },
    {
      "cell_type": "code",
      "metadata": {
        "trusted": true,
        "_uuid": "bbd68de789301384ce1c98a320bee24ecd82d5b5",
        "id": "5CT2wQqfjQVO",
        "colab_type": "code",
        "colab": {}
      },
      "source": [
        "valor_problema = '41.487(1)'"
      ],
      "execution_count": null,
      "outputs": []
    },
    {
      "cell_type": "markdown",
      "metadata": {
        "_uuid": "56d6e59d87d65f5d7e849471fca3b7ee94079594",
        "id": "CslD5Ar4jQVR",
        "colab_type": "text"
      },
      "source": [
        "Vamos usar o split:"
      ]
    },
    {
      "cell_type": "code",
      "metadata": {
        "trusted": true,
        "_uuid": "9da651b2e3543cfcc0ef8eea9d8ec3b6a5050f2e",
        "id": "mVATYAPwjQVR",
        "colab_type": "code",
        "colab": {}
      },
      "source": [
        "valor_problema.split('(')"
      ],
      "execution_count": null,
      "outputs": []
    },
    {
      "cell_type": "markdown",
      "metadata": {
        "_uuid": "9611ce076c1045bab48a94315d8b0588ec61976d",
        "id": "7qx2z0y3jQVX",
        "colab_type": "text"
      },
      "source": [
        "O split separou o nosso elemento original em dois elementos, o que tinha antes da `(` e o que tinha depois:"
      ]
    },
    {
      "cell_type": "markdown",
      "metadata": {
        "_uuid": "65ec0c4da94da5e79bb73e5dec134f5e356f83f9",
        "id": "3I1ColAbjQVX",
        "colab_type": "text"
      },
      "source": [
        "Para selcionar o que tinha antes basta selecionarmos a posição 0 por meio do comando `[0]`"
      ]
    },
    {
      "cell_type": "code",
      "metadata": {
        "trusted": true,
        "_uuid": "fd0a08e5d664b750ab87b8b2eff6a249a8e3b499",
        "id": "KyOEYMM-jQVX",
        "colab_type": "code",
        "colab": {}
      },
      "source": [
        "valor_problema.split('(')[0]"
      ],
      "execution_count": null,
      "outputs": []
    },
    {
      "cell_type": "markdown",
      "metadata": {
        "_uuid": "e887c8e52c5192ab6609f5e461f758690afa3769",
        "id": "Sb3vutWNjQVb",
        "colab_type": "text"
      },
      "source": [
        "Agora vamos fazer a mesma coisa no `DataFrame`, vamos precisar de chamar o `str` para acessar os métodos de texto."
      ]
    },
    {
      "cell_type": "code",
      "metadata": {
        "trusted": true,
        "_uuid": "ae992919c50a4078ba616143c755e158b39814ed",
        "id": "TwYEZQ2WjQVb",
        "colab_type": "code",
        "colab": {}
      },
      "source": [
        "igm['populacao'] = igm['populacao'].str.split('(')"
      ],
      "execution_count": null,
      "outputs": []
    },
    {
      "cell_type": "markdown",
      "metadata": {
        "_uuid": "dac426dfb287a4be785e24536d858cacdf902a0f",
        "id": "CCkrDSEZjQVe",
        "colab_type": "text"
      },
      "source": [
        "Vamos imprimir novamente os valores:"
      ]
    },
    {
      "cell_type": "code",
      "metadata": {
        "trusted": true,
        "_uuid": "7df37e9f53a8895dd109e17dd7d3907661c6f022",
        "id": "0J7VDjvljQVe",
        "colab_type": "code",
        "colab": {}
      },
      "source": [
        "igm['populacao'].sample(10)"
      ],
      "execution_count": null,
      "outputs": []
    },
    {
      "cell_type": "markdown",
      "metadata": {
        "_uuid": "3d2a2804c8ffdfc6ad7a070171da2ee62d38fcbb",
        "id": "r-fEMaH1jQVh",
        "colab_type": "text"
      },
      "source": [
        "Vamos selecionar o elemento da posição zero para os casos de termos um `(` no elemento e atualizar os valores da coluna com isso."
      ]
    },
    {
      "cell_type": "code",
      "metadata": {
        "trusted": true,
        "_uuid": "f24bc2b3ef84c3d09b175a98b0cb62fced6b701d",
        "id": "xP4rUHYBjQVh",
        "colab_type": "code",
        "colab": {}
      },
      "source": [
        "igm['populacao'] = igm['populacao'].str[0]"
      ],
      "execution_count": null,
      "outputs": []
    },
    {
      "cell_type": "markdown",
      "metadata": {
        "_uuid": "805801ecf3e5f76033da6ef4b0f8f3eee6289b6b",
        "id": "wJvVxK3zjQVj",
        "colab_type": "text"
      },
      "source": [
        "Vamos imprimir os valores da coluna e ver que já temos algo com cara de número, mas que ainda é um `object`"
      ]
    },
    {
      "cell_type": "code",
      "metadata": {
        "trusted": true,
        "_uuid": "7268afe327da5e8e7181fc1ccfa19ea2160b3444",
        "id": "mt6CX9aOjQVj",
        "colab_type": "code",
        "colab": {}
      },
      "source": [
        "igm['populacao'].sample(10)"
      ],
      "execution_count": null,
      "outputs": []
    },
    {
      "cell_type": "markdown",
      "metadata": {
        "_uuid": "9e70b1dd130cb253770a1cd7dd00a5baf6d3cc09",
        "id": "4suO2NqRjQVl",
        "colab_type": "text"
      },
      "source": [
        "Vamos converter isso para `float`:"
      ]
    },
    {
      "cell_type": "code",
      "metadata": {
        "trusted": true,
        "_uuid": "af2636eb5ae2be8274192c2873b3c55259c8252e",
        "id": "RNYlqdEjjQVm",
        "colab_type": "code",
        "colab": {}
      },
      "source": [
        "igm['populacao'] = igm['populacao'].astype(float)"
      ],
      "execution_count": null,
      "outputs": []
    },
    {
      "cell_type": "markdown",
      "metadata": {
        "_uuid": "5f023bd4c6affb25f2cbba69e72d3a9e766a127e",
        "id": "MUHm-VkQjQVn",
        "colab_type": "text"
      },
      "source": [
        "## Operações matemáticas entre colunas"
      ]
    },
    {
      "cell_type": "markdown",
      "metadata": {
        "_uuid": "bc65f00e766f0c8b097dfe3c9a76605cd1dab59f",
        "id": "BetZhzfYjQVo",
        "colab_type": "text"
      },
      "source": [
        "Podemos multiplicar, somar, dividir, subtrair entre colunas, para isso basta usar os respectivos sinais."
      ]
    },
    {
      "cell_type": "code",
      "metadata": {
        "scrolled": true,
        "trusted": true,
        "_uuid": "38dbd2cefca95cebc5914afcb2c13a6dfa640ede",
        "id": "TwZyjhh1jQVo",
        "colab_type": "code",
        "colab": {}
      },
      "source": [
        "igm['populacao'] / igm['area']"
      ],
      "execution_count": null,
      "outputs": []
    },
    {
      "cell_type": "markdown",
      "metadata": {
        "_uuid": "fb5686786e91c396c8eb2c846489c429e3245631",
        "id": "hJumMHJrjQVp",
        "colab_type": "text"
      },
      "source": [
        "Para criarmos uma nova coluna basta colocarmos `igm[]` e dentro do colchetes botar o nome da nova coluna entre aspas. Temos que cuidar cuidado pois se esse nome já existir, iremos sobreescrever o que está lá."
      ]
    },
    {
      "cell_type": "code",
      "metadata": {
        "trusted": true,
        "_uuid": "08ff1416225d078c7405a486c412e4ef884ebd76",
        "id": "bUnbgHiRjQVq",
        "colab_type": "code",
        "colab": {}
      },
      "source": [
        "igm['densidade_2'] = igm['populacao'] / igm['area']"
      ],
      "execution_count": null,
      "outputs": []
    },
    {
      "cell_type": "markdown",
      "metadata": {
        "_uuid": "da6019f35a4f0c32b279494232e1c50602c94392",
        "id": "g2B10-jDjQVr",
        "colab_type": "text"
      },
      "source": [
        "## Comparando Densidades"
      ]
    },
    {
      "cell_type": "markdown",
      "metadata": {
        "_uuid": "1d91263ff65e42d4d329c258adeaa80ea9b94f65",
        "id": "uhWRH394jQVr",
        "colab_type": "text"
      },
      "source": [
        "Uma forma interessante de facilitar a nossa visualização o DataFrame é selecionando apenas algumas colunas que nos interessam, como no caso da densidade demográfica: `municipio`, `populacao`, `area`, `densidade_dem` e `densidade_2`, para isso basta colocarmos `igm[[]]` com os nomes das colunas dentro separados por vírgula (lembrando das aspas para identificar que é um texto)."
      ]
    },
    {
      "cell_type": "code",
      "metadata": {
        "trusted": true,
        "_uuid": "0e985a12ed78317e84f298d5ca3af0d09f8577b1",
        "id": "6VDZumC_jQVs",
        "colab_type": "code",
        "colab": {}
      },
      "source": [
        "igm[['municipio','populacao','area','densidade_dem', 'densidade_2']].sample(10)"
      ],
      "execution_count": null,
      "outputs": []
    },
    {
      "cell_type": "markdown",
      "metadata": {
        "_uuid": "a286ab2e20803fc5e0b869cfe2ebc00e4b741ff8",
        "id": "1JLlYLAAjQVt",
        "colab_type": "text"
      },
      "source": [
        "## Alterando colunas no DataFrame"
      ]
    },
    {
      "cell_type": "markdown",
      "metadata": {
        "_uuid": "3b46584e23b6c11a966d553fefd6ccb84f00ca0a",
        "id": "DtWPO4U4jQVt",
        "colab_type": "text"
      },
      "source": [
        "Valores estão ligeiramente diferentes, provavelmente é por conta de estarmos usando valores mais recentes para a populacao do que os que foram utilizados no cálculo original da densidade demográfica.\n",
        "\n",
        "Para atualizar os valores, basta executar o seguinte comando:"
      ]
    },
    {
      "cell_type": "code",
      "metadata": {
        "trusted": true,
        "_uuid": "26864fe1e447a53799fc8a9880bb0315b20c8576",
        "id": "0-2A4AgijQVu",
        "colab_type": "code",
        "colab": {}
      },
      "source": [
        "igm['densidade_dem'] = igm['densidade_2']"
      ],
      "execution_count": null,
      "outputs": []
    },
    {
      "cell_type": "markdown",
      "metadata": {
        "_uuid": "5ef4728756829c663544417f643fe12e063d328f",
        "id": "NP6OebzcjQVv",
        "colab_type": "text"
      },
      "source": [
        "## Deletando colunas"
      ]
    },
    {
      "cell_type": "markdown",
      "metadata": {
        "_uuid": "fe6e3064ce61618e690d1c94eccd3b860a778a15",
        "id": "eNlgk47bjQVw",
        "colab_type": "text"
      },
      "source": [
        "A coluna `densidade_2` se tornou obsoleta, podemos deletá-la com o seguinte comando:"
      ]
    },
    {
      "cell_type": "code",
      "metadata": {
        "trusted": true,
        "_uuid": "7337fb5ee82bba2027d74bc884df0a7cc5e2b01f",
        "id": "bEIYjeOcjQVw",
        "colab_type": "code",
        "colab": {}
      },
      "source": [
        "igm.drop(columns='densidade_2', inplace=True)"
      ],
      "execution_count": null,
      "outputs": []
    },
    {
      "cell_type": "markdown",
      "metadata": {
        "_uuid": "b5087746d6928d4c2432a0b4cabeb309f3044b02",
        "id": "df6rqvWnjQVy",
        "colab_type": "text"
      },
      "source": [
        "##  `Exercícios: Manipulação de Strings`\n",
        "\n",
        "1. Transforme a coluna `ranking_igm` para uma coluna numérica\n",
        "2. Crie uma coluna `comissionados_por_servidor_2` a partir das colunas `comissionados` e `servidores`\n",
        "3. Substitua a coluna `comissionados_por_servidor` se for o caso\n",
        "4. Delete a coluna `comissionados_por_servidor_2`"
      ]
    },
    {
      "cell_type": "code",
      "metadata": {
        "trusted": false,
        "_uuid": "ab339bf77462427c9a6ff5f87a46199f5b200678",
        "id": "SEnf5DL2jQVy",
        "colab_type": "code",
        "colab": {}
      },
      "source": [
        "igm['comissionados_por_servidor'] = igm['comissionados']/igm['servidores']"
      ],
      "execution_count": null,
      "outputs": []
    },
    {
      "cell_type": "markdown",
      "metadata": {
        "_uuid": "14d9c5537342407d6acf8de7be8b6319d5012e14",
        "id": "KsSwnqmIjQV2",
        "colab_type": "text"
      },
      "source": [
        "## Revisão"
      ]
    },
    {
      "cell_type": "markdown",
      "metadata": {
        "_uuid": "a585d5091ff1b8e29bc31da1f2d113aff75b2a09",
        "id": "tNx__cPEjQV2",
        "colab_type": "text"
      },
      "source": [
        "Fazer revisão do que foi visto."
      ]
    },
    {
      "cell_type": "markdown",
      "metadata": {
        "_uuid": "206386f812d21ff8d96b2054ecdd492649bdd2e8",
        "id": "jpwGCIMrjQV3",
        "colab_type": "text"
      },
      "source": [
        "## `Exercícios: Revisão`\n",
        "\n",
        "1. Plotar um histograma da coluna `exp_vida`\n",
        "2. Usar o método `.describe` na coluna `exp_vida`\n",
        "3. Usar o método `.describe` na coluna `exp_vida` onde os municípios sejam apenas da região `NORTE`\n",
        "4. Usar o método `.value_counts()` na coluna `estado` filtrando os munícipios que tenham `pib_pc` > 50000\n",
        "5. Plotar um gráfico de barras do resultado gerado pelo item 4"
      ]
    },
    {
      "cell_type": "markdown",
      "metadata": {
        "_uuid": "6ff0684d368c02f237d0f4b1edabe53a26c9282c",
        "id": "P-PbsvTwjQV5",
        "colab_type": "text"
      },
      "source": [
        "## Conteúdos Adicionais"
      ]
    },
    {
      "cell_type": "markdown",
      "metadata": {
        "_uuid": "b25b40b296d6a0a481312a863df8ef7e18abe631",
        "id": "tbXZzY86jQV6",
        "colab_type": "text"
      },
      "source": [
        "### Gráficos Interativos"
      ]
    },
    {
      "cell_type": "markdown",
      "metadata": {
        "_uuid": "7718885b271e0f93ab2b3840fd48f5d557d0889c",
        "id": "VwF7vcBGjQV6",
        "colab_type": "text"
      },
      "source": [
        "Um jeito bem interessante de fazermos histogramas é com gráficos interativos, um boa biblioteca para fazer isso é a `plotly`, para instalarmos ela, basta usarmos o comando `!pip install plotly`"
      ]
    },
    {
      "cell_type": "code",
      "metadata": {
        "scrolled": true,
        "trusted": false,
        "_uuid": "97876d82d939952196026d66a312004f7a630b17",
        "id": "ZEnGZyRkjQV6",
        "colab_type": "code",
        "colab": {}
      },
      "source": [
        "!pip install plotly"
      ],
      "execution_count": null,
      "outputs": []
    },
    {
      "cell_type": "markdown",
      "metadata": {
        "_uuid": "88d1a33a2e64c795db86f13648c38aa5eaa40385",
        "id": "46VVFPgZjQV9",
        "colab_type": "text"
      },
      "source": [
        "Vamos precisar importar duas sub-bibliotecas da `plotly`, importante notar que estamos usando o modo `offline` para facilitar a nossa vida e não necessitarmos de autenticação no site deles."
      ]
    },
    {
      "cell_type": "code",
      "metadata": {
        "trusted": false,
        "_uuid": "87dbe4122442b4f3beeda692a909983d4b96430d",
        "id": "FdsaCi3pjQV9",
        "colab_type": "code",
        "colab": {}
      },
      "source": [
        "import plotly.offline as plotly\n",
        "import plotly.graph_objs as go"
      ],
      "execution_count": null,
      "outputs": []
    },
    {
      "cell_type": "markdown",
      "metadata": {
        "_uuid": "e09330ef693cca3e0661e4cccc71a03b76e468b0",
        "id": "H0hKr_BRjQV_",
        "colab_type": "text"
      },
      "source": [
        "Para conseguirmos plotar os gráficos no `Jupyter Notebook` no modo `offline` também precisamos executar o comando abaixo:"
      ]
    },
    {
      "cell_type": "code",
      "metadata": {
        "trusted": false,
        "_uuid": "7e851196811ed05f4e862a0b454e47d45a0c3162",
        "id": "xzGN0hJrjQV_",
        "colab_type": "code",
        "colab": {}
      },
      "source": [
        "plotly.init_notebook_mode(connected=True)"
      ],
      "execution_count": null,
      "outputs": []
    },
    {
      "cell_type": "markdown",
      "metadata": {
        "_uuid": "79a0c309cd3354a69994bd14390a1f4b0a877023",
        "id": "jmJH0K18jQWE",
        "colab_type": "text"
      },
      "source": [
        "Para prepararmos os dados, usamos o comando a seguir:"
      ]
    },
    {
      "cell_type": "code",
      "metadata": {
        "trusted": false,
        "_uuid": "23fa66cfb4592884c2bf333a620a7abe621695ee",
        "id": "bUUqcDMHjQWE",
        "colab_type": "code",
        "colab": {}
      },
      "source": [
        "pyplot_data = [go.Histogram(x=igm['exp_vida'])]"
      ],
      "execution_count": null,
      "outputs": []
    },
    {
      "cell_type": "markdown",
      "metadata": {
        "_uuid": "9dee10ea4acd72873beeedaea65bd6ab04fcc626",
        "id": "zccSmvIqjQWG",
        "colab_type": "text"
      },
      "source": [
        "Para plotarmos o Histograma, usamos o método `pyplot`:"
      ]
    },
    {
      "cell_type": "code",
      "metadata": {
        "trusted": false,
        "_uuid": "c340337058d66d3f4688cca4fa4788e2848ab5f6",
        "id": "RR9lxn7pjQWG",
        "colab_type": "code",
        "colab": {}
      },
      "source": [
        "plotly.iplot(pyplot_data)"
      ],
      "execution_count": null,
      "outputs": []
    },
    {
      "cell_type": "markdown",
      "metadata": {
        "_uuid": "b39ab4419f3a35017f41f4178d4228ad9f598e03",
        "id": "Rk3LUqn8jQWI",
        "colab_type": "text"
      },
      "source": [
        "Importante notar, que diferente dos gráficos do `pandas` e do `seaborn`, se você salvar esse arquivo e abrir depois, o gráfico gerado pelo `plotly` não estará lá para ser visualizado (nem de form não interativa)."
      ]
    },
    {
      "cell_type": "markdown",
      "metadata": {
        "_uuid": "80baeea033572ed096bb201f006d1c9ea45f9b1f",
        "id": "IxVktzSxjQWI",
        "colab_type": "text"
      },
      "source": [
        "## Histograma: Trocando Valores Absolutos por Probabilidades"
      ]
    },
    {
      "cell_type": "markdown",
      "metadata": {
        "_uuid": "d2b149ea6d6e87b8957a92331aad51b8ca1ca4fd",
        "id": "q-gIH0yrjQWI",
        "colab_type": "text"
      },
      "source": [
        "Para vermos a probabilidade de dado valor acontecer em vez de quantos valores daquele tipo aconteceram, basta usar o parâmetro `histnorm='probability'`:"
      ]
    },
    {
      "cell_type": "code",
      "metadata": {
        "trusted": false,
        "_uuid": "fb8a5032e2cec301a3e58271fa9fb68b16f1b400",
        "id": "4Arh8_7-jQWJ",
        "colab_type": "code",
        "colab": {}
      },
      "source": [
        "pyplot_data_norm = [go.Histogram(x=igm['exp_vida'], histnorm='probability')]"
      ],
      "execution_count": null,
      "outputs": []
    },
    {
      "cell_type": "markdown",
      "metadata": {
        "_uuid": "0845b644f898898d57650a20f819063112f33070",
        "id": "0Mg6_bxtjQWK",
        "colab_type": "text"
      },
      "source": [
        "Para plotar o gráfico usamos o `plotly.iplot()`"
      ]
    },
    {
      "cell_type": "code",
      "metadata": {
        "trusted": false,
        "_uuid": "252d68cba6bb24c80bb7e506e51daee7b0919ff0",
        "id": "0pv9wisdjQWK",
        "colab_type": "code",
        "colab": {}
      },
      "source": [
        "plotly.iplot(pyplot_data_norm)"
      ],
      "execution_count": null,
      "outputs": []
    },
    {
      "cell_type": "markdown",
      "metadata": {
        "_uuid": "95d1a7b3626fc64c54af2885753ece7914407c20",
        "id": "r0fcd83LjQWM",
        "colab_type": "text"
      },
      "source": [
        "## `Exercícios: Histogramas Interativos`\n",
        "\n",
        "1. Plote um histograma interativo de 2 colunas da sua escolha."
      ]
    },
    {
      "cell_type": "markdown",
      "metadata": {
        "_uuid": "405885b84af3a73e3bd600a2a9fbb29c587606b5",
        "id": "tT5ZsWQ-jQWM",
        "colab_type": "text"
      },
      "source": [
        "### Importando Valores com Vírgula"
      ]
    },
    {
      "cell_type": "markdown",
      "metadata": {
        "_uuid": "39f55e3baf9f02704400ff696678ad9370adeff0",
        "id": "Hn7r7R2IjQWM",
        "colab_type": "text"
      },
      "source": [
        "Vamos salvar o nosso `igm` de volta no disco. Mas dessa vez vamos separar os campos por `;` (ponto e vírgula) em vez da `,` (vírgula) que era utilizada no nosso arquivo original, e vamos usar a `,` (vírgula) como separador decimal em vez do `.` (ponto)"
      ]
    },
    {
      "cell_type": "code",
      "metadata": {
        "trusted": false,
        "_uuid": "655538b65f2c15e1df6ef361defffb34614a2776",
        "id": "RpeD_YJ1jQWM",
        "colab_type": "code",
        "colab": {}
      },
      "source": [
        "igm.to_csv('igm_virgula.csv', index=False, sep=';', decimal=',')"
      ],
      "execution_count": null,
      "outputs": []
    },
    {
      "cell_type": "markdown",
      "metadata": {
        "_uuid": "4dec42a7f264175c7b5e9ac6c47e6344b6beb95d",
        "id": "eWkH9sQ7jQWO",
        "colab_type": "text"
      },
      "source": [
        "Podemos abrir esse arquivo no notepad para ver como os dados estão salvos."
      ]
    },
    {
      "cell_type": "markdown",
      "metadata": {
        "_uuid": "f42f2ff714e609acc186b4d7d7bed0d5f1eef900",
        "id": "WjGhmgnzjQWO",
        "colab_type": "text"
      },
      "source": [
        "Para lermos o arquivo, vamos usar o `read_csv()` novamente, mas dessa vez precisamos usar o comando `sep=;`. Podemos usar o `.info()` em seguida para averiguarmos os tipos de dados:"
      ]
    },
    {
      "cell_type": "code",
      "metadata": {
        "scrolled": true,
        "trusted": false,
        "_uuid": "e6a0ec6f70c89e971c9a515559765c685aa42744",
        "id": "aAT-RLxbjQWO",
        "colab_type": "code",
        "colab": {}
      },
      "source": [
        "pd.read_csv('igm_virgula.csv',  sep=';').info()"
      ],
      "execution_count": null,
      "outputs": []
    },
    {
      "cell_type": "markdown",
      "metadata": {
        "_uuid": "8d7c2bfee404b1c90f51847b911e3c55b2fee1bd",
        "id": "_xq0BP0EjQWQ",
        "colab_type": "text"
      },
      "source": [
        "Como vimos anteriormente, a maioria dos nossos números objetos foi interpretado como objeto, o que na prática significa que é texto.\n",
        "\n",
        "Para conseguirmos importar os números no formato correto precisamos usar o comando `decimal=','`."
      ]
    },
    {
      "cell_type": "code",
      "metadata": {
        "scrolled": true,
        "trusted": false,
        "_uuid": "b2e4e23f528bbf4c3f239c4f22b76286b1cf829c",
        "id": "GkICedk2jQWR",
        "colab_type": "code",
        "colab": {}
      },
      "source": [
        "pd.read_csv('igm_virgula.csv', sep=';', decimal=',').info()"
      ],
      "execution_count": null,
      "outputs": []
    },
    {
      "cell_type": "markdown",
      "metadata": {
        "_uuid": "d3901c350225314bc151e249c2b10a22046b8189",
        "id": "qh_VPbZ1jQWS",
        "colab_type": "text"
      },
      "source": [
        "## Importandos Arquivos do Excel (Caso de uso real)"
      ]
    },
    {
      "cell_type": "markdown",
      "metadata": {
        "_uuid": "7a2964851208b8631aa5da393871ef772f205e01",
        "id": "G2NwTpENjQWT",
        "colab_type": "text"
      },
      "source": [
        "Além de importarmos arquivos `.csv`, também podemos ler de forma fácil arquivos do `Excel`:"
      ]
    },
    {
      "cell_type": "code",
      "metadata": {
        "scrolled": true,
        "trusted": true,
        "_uuid": "7b9fa53380616bcef840f0189575cf4739c9f62a",
        "id": "lq9AUkgtjQWT",
        "colab_type": "code",
        "colab": {}
      },
      "source": [
        "pd.read_excel('../input/exemplo_1.xls')"
      ],
      "execution_count": null,
      "outputs": []
    },
    {
      "cell_type": "markdown",
      "metadata": {
        "_uuid": "c413bc05b3d4d42884fd30af88f6547febd24db6",
        "id": "fxfdltUnjQWW",
        "colab_type": "text"
      },
      "source": [
        "Por padrão o `read_excel()` vai abrir a primeira aba da planilha do `Excel`, para selecionarmos uma diferente, precisamos do parâmetro `sheet_name`:"
      ]
    },
    {
      "cell_type": "code",
      "metadata": {
        "trusted": false,
        "_uuid": "5fcb535353dd94f001b77fab38b6188cf5c5e753",
        "id": "aeOZbWWtjQWX",
        "colab_type": "code",
        "colab": {}
      },
      "source": [
        "pd.read_excel('../input/exemplo_1.xls', sheet_name='Municípios')"
      ],
      "execution_count": null,
      "outputs": []
    },
    {
      "cell_type": "markdown",
      "metadata": {
        "_uuid": "6b245dc8103342b8287d62dd91649fbbbe21e140",
        "id": "V9G4tiQnjQWZ",
        "colab_type": "text"
      },
      "source": [
        "Por padrão o cabeçalho do nosso arquivo vai ser a primeira linha de texto, para alteramos isso podemos usar o parâmetro `header`:"
      ]
    },
    {
      "cell_type": "code",
      "metadata": {
        "scrolled": true,
        "trusted": false,
        "_uuid": "a7fffb338eb9d8036ac88817c1f11c110de82891",
        "id": "fCFY5Y6pjQWZ",
        "colab_type": "code",
        "colab": {}
      },
      "source": [
        "pd.read_excel('../input/exemplo_1.xls', sheet_name='Municípios', header=1)"
      ],
      "execution_count": null,
      "outputs": []
    },
    {
      "cell_type": "markdown",
      "metadata": {
        "_uuid": "f6883a7064e79e89a48d6c2b6babd0ae1dcad695",
        "id": "ftClLyFujQWb",
        "colab_type": "text"
      },
      "source": [
        "Se observamos cuidadosamente, veremos que no final do nosso arquivo temos uma série de linhas que distoam dos dados coletados, para pularmos a importação de algumas linhas no final do arquivo, podemos usar o parâmetro `skip_footer`."
      ]
    },
    {
      "cell_type": "code",
      "metadata": {
        "scrolled": true,
        "trusted": false,
        "_uuid": "37d029785f104e0869bbc8c109e6e7ab9be51ccf",
        "id": "xfhfsrX6jQWb",
        "colab_type": "code",
        "colab": {}
      },
      "source": [
        "pd.read_excel('../input/exemplo_1.xls', sheet_name='Municípios', header=1, skip_footer=14)"
      ],
      "execution_count": null,
      "outputs": []
    },
    {
      "cell_type": "markdown",
      "metadata": {
        "_uuid": "427d3e7abe8e192ecae416412f73825ddacc63d3",
        "id": "e2VWPOMAjQWc",
        "colab_type": "text"
      },
      "source": [
        "Vamos salvar os nossos dados em uma variável chamada `df`:"
      ]
    },
    {
      "cell_type": "code",
      "metadata": {
        "trusted": false,
        "_uuid": "09b0dabac681d503511b934a89a3d7d9eadb9d8d",
        "id": "jVCmQ40JjQWd",
        "colab_type": "code",
        "colab": {}
      },
      "source": [
        "df = pd.read_excel('../input/exemplo_1.xls', sheet_name='Municípios', header=[1], skip_footer=14)"
      ],
      "execution_count": null,
      "outputs": []
    },
    {
      "cell_type": "markdown",
      "metadata": {
        "_uuid": "e2bcea7b5264614bc131ac260e44b7662c10450d",
        "id": "hBmzyV-2jQWg",
        "colab_type": "text"
      },
      "source": [
        "Vamos olhar os tipos de dados que estão no nosso `DataFrame`"
      ]
    },
    {
      "cell_type": "code",
      "metadata": {
        "trusted": false,
        "_uuid": "52fa747ce2ea973aa2474c726785496adae7ef3a",
        "id": "jSRrLpxgjQWg",
        "colab_type": "code",
        "colab": {}
      },
      "source": [
        "df.info()"
      ],
      "execution_count": null,
      "outputs": []
    },
    {
      "cell_type": "markdown",
      "metadata": {
        "_uuid": "e1a54cf8b471f72035fbd645272bd16c1717a12a",
        "id": "sIRm2mHcjQWk",
        "colab_type": "text"
      },
      "source": [
        "Vamos gerar uma nova coluna chamada código:"
      ]
    },
    {
      "cell_type": "code",
      "metadata": {
        "trusted": false,
        "_uuid": "3fdd013901f176c85e26c0303daa767697a97346",
        "id": "eX4kswZOjQWk",
        "colab_type": "code",
        "colab": {}
      },
      "source": [
        "df['codigo'] = df['COD. UF'] * 100000 + df['COD. MUNIC']"
      ],
      "execution_count": null,
      "outputs": []
    },
    {
      "cell_type": "markdown",
      "metadata": {
        "_uuid": "226d8b44c59e45f40e83ee1ee11032da7c751050",
        "id": "KpO_xmc-jQWm",
        "colab_type": "text"
      },
      "source": [
        "Vamos ver se essa coluna atende aos nossos objetivos:"
      ]
    },
    {
      "cell_type": "code",
      "metadata": {
        "trusted": false,
        "_uuid": "2ba3542ef149e23190f960d1811c497558105413",
        "id": "eCtRfJJSjQWo",
        "colab_type": "code",
        "colab": {}
      },
      "source": [
        "df.sample(5)"
      ],
      "execution_count": null,
      "outputs": []
    },
    {
      "cell_type": "markdown",
      "metadata": {
        "_uuid": "ea1a4ce9261505e75629af87a00a8c33fbf116d7",
        "id": "nuCx2U8UjQWs",
        "colab_type": "text"
      },
      "source": [
        "##  `Exercícios: Importando Arquivos`\n",
        "\n",
        "1. Importe o arquivo `dados_inpe.xlsx` usando a função `pd.read_excel()`.\n",
        "2. Importe novamente o arquivo ajustando os parâmetros `header` e `skip_footer`\n",
        "3. Averigue o `DataFrame` gerado no item 2. Use o comando `.info()`.\n",
        "4. Importe o arquivo `anexo-V.csv`, usando o `read_csv()` e o parâmetro `encoding='latin1'`. (Ignore o `DTypeWarning` caso aconteça, ou use o parâmetro `low_memory=False`) \n",
        "5. Importe novamente o arquivo ajustando o parâmetro `header` e salve o `DataFrame` em uma variável com o nome de `anexo`.\n",
        "6. Averigue a variável `anexo` com o comando `.info()`."
      ]
    },
    {
      "cell_type": "markdown",
      "metadata": {
        "_uuid": "b185d5d11cfecfc9d3c4360c5684cc8a0800ede5",
        "id": "k3UAWlFSjQWs",
        "colab_type": "text"
      },
      "source": [
        "## Plotando Múltiplos Gráficos"
      ]
    },
    {
      "cell_type": "markdown",
      "metadata": {
        "_uuid": "11a6db1eb88edcad896b03aa994c887608bee1aa",
        "id": "LuThzaSVjQWs",
        "colab_type": "text"
      },
      "source": [
        "Uma funcionalidade bem legal das bibliotecas gráficas do Python é que podemos plotar um gráfico em cima do outro.\n",
        "\n",
        "Para isso vamos começar plotando um gráfico simples."
      ]
    },
    {
      "cell_type": "code",
      "metadata": {
        "trusted": true,
        "_uuid": "5dce05556a52c85d0baa09019d3d0da3d4125300",
        "id": "-AAougQ1jQWs",
        "colab_type": "code",
        "colab": {}
      },
      "source": [
        "sns.distplot(igm[igm['regiao'] == 'NORDESTE']['indice_governanca'].dropna(), label='NORDESTE')"
      ],
      "execution_count": null,
      "outputs": []
    },
    {
      "cell_type": "markdown",
      "metadata": {
        "_uuid": "0bdcbbc98fd7c3eb10777b0625705c5bc3d5a744",
        "id": "FzOdI943jQWw",
        "colab_type": "text"
      },
      "source": [
        "Vamos plotar outro gráfico simples."
      ]
    },
    {
      "cell_type": "code",
      "metadata": {
        "scrolled": true,
        "trusted": true,
        "_uuid": "5bed4ae11eb358334a0d81d084d343cc37396af5",
        "id": "VTKNcBY8jQWx",
        "colab_type": "code",
        "colab": {}
      },
      "source": [
        "sns.distplot(igm[igm['regiao'] == 'SUDESTE']['indice_governanca'].dropna(), label='SUDESTE')"
      ],
      "execution_count": null,
      "outputs": []
    },
    {
      "cell_type": "markdown",
      "metadata": {
        "_uuid": "0d4ed3ae2b9be108fd3c924b38a358db1ad1fc66",
        "id": "mHRQH1KLjQWz",
        "colab_type": "text"
      },
      "source": [
        "## Índice de Governança por Região"
      ]
    },
    {
      "cell_type": "markdown",
      "metadata": {
        "_uuid": "c9ff6d8225f9366df888e81665668ee53769887c",
        "id": "gjFze-kPjQWz",
        "colab_type": "text"
      },
      "source": [
        "Para plotar vários gráficos ao mesmo tempo com legenda, vamos precisar importar uma parte do `matplotlib`:"
      ]
    },
    {
      "cell_type": "code",
      "metadata": {
        "trusted": false,
        "_uuid": "49b6e674ec9b11c95fc2855f590145b9f5be581b",
        "id": "I8TkzpIijQWz",
        "colab_type": "code",
        "colab": {}
      },
      "source": [
        "import matplotlib.pyplot as plt"
      ],
      "execution_count": null,
      "outputs": []
    },
    {
      "cell_type": "markdown",
      "metadata": {
        "_uuid": "c11de863df0e77c40c1a1165b816239184a231c6",
        "id": "d51iNSQvjQW2",
        "colab_type": "text"
      },
      "source": [
        "Vamos plotar os dois gráficos que plotamos anteriormente, só que agora ao mesmo tempo, note como eles ficaram diferentes:"
      ]
    },
    {
      "cell_type": "code",
      "metadata": {
        "trusted": false,
        "_uuid": "2079527501c71b5c8236deefeead99a2f04d817d",
        "id": "vtDcaopmjQW2",
        "colab_type": "code",
        "colab": {}
      },
      "source": [
        "sns.distplot(igm[igm['regiao'] == 'NORDESTE']['indice_governanca'].dropna(), label='NORDESTE')\n",
        "sns.distplot(igm[igm['regiao'] == 'SUDESTE']['indice_governanca'].dropna(), label='SUDESTE')\n",
        "plt.legend()"
      ],
      "execution_count": null,
      "outputs": []
    },
    {
      "cell_type": "markdown",
      "metadata": {
        "_uuid": "8e4aff71fdcaf752d8f785d032c557c8c82f7075",
        "id": "AAaNWrzkjQW4",
        "colab_type": "text"
      },
      "source": [
        "Vamos plotar 3 gráficos ao mesmo tempo:"
      ]
    },
    {
      "cell_type": "code",
      "metadata": {
        "trusted": false,
        "_uuid": "79c44bc1582350c87ec6b0173d7386f729e13d64",
        "id": "MMExOUTBjQW4",
        "colab_type": "code",
        "colab": {}
      },
      "source": [
        "sns.distplot(igm[igm['regiao'] == 'NORDESTE']['indice_governanca'].dropna(), label='NORDESTE')\n",
        "sns.distplot(igm[igm['regiao'] == 'SUDESTE']['indice_governanca'].dropna(), label='SUDESTE')\n",
        "sns.distplot(igm[igm['regiao'] == 'CENTRO-OESTE']['indice_governanca'].dropna(), label='CENTRO-OESTE')\n",
        "plt.legend()"
      ],
      "execution_count": null,
      "outputs": []
    },
    {
      "cell_type": "markdown",
      "metadata": {
        "_uuid": "d1bb909ade487e24b38fdd2d2c5d6f1b63104eb4",
        "id": "MMRz9-pTjQW6",
        "colab_type": "text"
      },
      "source": [
        "E finalmente vamos plotar 5 gráficos ao mesmo tempo:"
      ]
    },
    {
      "cell_type": "code",
      "metadata": {
        "scrolled": true,
        "trusted": false,
        "_uuid": "2981dde1ccbdcdd3d7f3f28e2f57b821f2df8876",
        "id": "LXgjEDxhjQW6",
        "colab_type": "code",
        "colab": {}
      },
      "source": [
        "sns.distplot(igm[igm['regiao'] == 'NORDESTE']['indice_governanca'].dropna(), label='NORDESTE')\n",
        "sns.distplot(igm[igm['regiao'] == 'SUDESTE']['indice_governanca'].dropna(), label='SUDESTE')\n",
        "sns.distplot(igm[igm['regiao'] == 'NORTE']['indice_governanca'].dropna(), label='NORTE')\n",
        "sns.distplot(igm[igm['regiao'] == 'SUL']['indice_governanca'].dropna(), label='SUL')\n",
        "sns.distplot(igm[igm['regiao'] == 'CENTRO-OESTE']['indice_governanca'].dropna(), label='CENTRO-OESTE')\n",
        "plt.legend()"
      ],
      "execution_count": null,
      "outputs": []
    },
    {
      "cell_type": "markdown",
      "metadata": {
        "_uuid": "dd2531573f3527c9b551f28861575a828ca6f0ca",
        "id": "22BYCQP9jQW7",
        "colab_type": "text"
      },
      "source": [
        "##  `Exercícios: Plotando Múltiplos Gráficos`\n",
        "\n",
        "1. Plote os gráficos de `exp_vida`de acordo com o `porte`\n",
        "2. Adicione legendas ao gráfico"
      ]
    },
    {
      "cell_type": "markdown",
      "metadata": {
        "_uuid": "38bd2826aba1a5de3c9dfeb082e23fa427086598",
        "id": "m3L8aHaBjQW8",
        "colab_type": "text"
      },
      "source": [
        "# Visualizando Categorias"
      ]
    },
    {
      "cell_type": "markdown",
      "metadata": {
        "_uuid": "2d257f7b43c1250d66a6629c7876e2d65f4f4011",
        "id": "_zXTwCWVjQW8",
        "colab_type": "text"
      },
      "source": [
        "É bastante comum na ciência de dados se classificar váriaveis em: \n",
        "    1. Categóricas - Poucas opções de variabilidade\n",
        "    2. Contínuas - Muitas opções de variabilidade\n",
        "    \n",
        "Uma forma muito boa de entender as suas variáveis categóricas é utilizando o comando `nunique()`, ele irá te mostrar quantos valores únicos existem para cada coluna. "
      ]
    },
    {
      "cell_type": "code",
      "metadata": {
        "scrolled": true,
        "trusted": false,
        "_uuid": "65200050176dabf451146ff5e7e91e7c6254029c",
        "id": "6WnqdW3rjQW8",
        "colab_type": "code",
        "colab": {}
      },
      "source": [
        "igm.nunique()"
      ],
      "execution_count": null,
      "outputs": []
    },
    {
      "cell_type": "markdown",
      "metadata": {
        "_uuid": "e9dfe3fb407f3de12d3e8f8c3e48a2dbd15dcbe2",
        "id": "MK9jdC7UjQW9",
        "colab_type": "text"
      },
      "source": [
        "Basicamente as três variáveis categóricas com poucas opções que temos são `região`, `capital` e `porte`.\n",
        "\n",
        "Além disso temos `estado`, mas que não iria ficar tão bom para plotar gráficos. `participacao_transf_receita` e `taxa_empreendedorismo` também podem ser trabalhadas como variáveis categóricas já que apesar de serem uma porcentagem, os decimals se perderam e acabamos tendo poucas opções de variabilidade."
      ]
    },
    {
      "cell_type": "markdown",
      "metadata": {
        "_uuid": "b85ba7cfdae6fa9bb4e633a13f46013dc271c54a",
        "id": "DwFb3SvCjQW-",
        "colab_type": "text"
      },
      "source": [
        "## Boxplot"
      ]
    },
    {
      "cell_type": "markdown",
      "metadata": {
        "_uuid": "91146f81d6add2d8998bd174e30cb4c033b8b14c",
        "id": "x6_8wlE5jQW-",
        "colab_type": "text"
      },
      "source": [
        "Vamos avaliar como cada `regiao` se sai em relação ao `indice_governanca`"
      ]
    },
    {
      "cell_type": "code",
      "metadata": {
        "scrolled": false,
        "trusted": false,
        "_uuid": "b9ccc7220fd18ae1a7128c40a95744177db1e045",
        "id": "4RBSK0_1jQW-",
        "colab_type": "code",
        "colab": {}
      },
      "source": [
        "sns.boxplot(x=\"regiao\", y=\"indice_governanca\", data=igm)"
      ],
      "execution_count": null,
      "outputs": []
    },
    {
      "cell_type": "markdown",
      "metadata": {
        "_uuid": "4e2b39a453c5fa07fbfdf4a9ba46a9fa5b137a26",
        "id": "9QdNZ6z9jQXB",
        "colab_type": "text"
      },
      "source": [
        "## Violin plot"
      ]
    },
    {
      "cell_type": "markdown",
      "metadata": {
        "_uuid": "ed753b54bd83b3d0f485796f943ff63ab8ebca61",
        "id": "jYiYTnODjQXB",
        "colab_type": "text"
      },
      "source": [
        "Uma forma mais elaborada de fazer isso é com o violin plot, que além de fazer os quartis, plota em seu lado as distribuições dos valores."
      ]
    },
    {
      "cell_type": "code",
      "metadata": {
        "scrolled": true,
        "trusted": false,
        "_uuid": "6783de928c05f852127429137a5889629819ac2d",
        "id": "eANgQXcWjQXB",
        "colab_type": "code",
        "colab": {}
      },
      "source": [
        "sns.violinplot(x=\"regiao\", y=\"indice_governanca\", data=igm)"
      ],
      "execution_count": null,
      "outputs": []
    },
    {
      "cell_type": "markdown",
      "metadata": {
        "_uuid": "302fa95bd10027d137996e1ba7e12f8447b0be91",
        "id": "HeG2nQ4ZjQXD",
        "colab_type": "text"
      },
      "source": [
        "Podemos adicionar mais um agrupamento no gráfico com o comando `hue`:"
      ]
    },
    {
      "cell_type": "code",
      "metadata": {
        "trusted": false,
        "_uuid": "5b0c32541ba8ab4bb5626afe1533e2a7997cc008",
        "id": "fEiXnc5ejQXD",
        "colab_type": "code",
        "colab": {}
      },
      "source": [
        "sns.violinplot(x=\"regiao\", y=\"indice_governanca\", data=igm, hue='capital')"
      ],
      "execution_count": null,
      "outputs": []
    },
    {
      "cell_type": "markdown",
      "metadata": {
        "_uuid": "06a6e0f872ae0669c7e9a03f70986ed93e47c541",
        "id": "bgoplrbXjQXE",
        "colab_type": "text"
      },
      "source": [
        "E inclusive plotar 20 pequenos gráficos de violino ao mesmo tempo:"
      ]
    },
    {
      "cell_type": "code",
      "metadata": {
        "trusted": false,
        "_uuid": "0d3a6242a7cf58e1d462afdfe3b99d0974a2bcc9",
        "id": "rRC2WFx-jQXE",
        "colab_type": "code",
        "colab": {}
      },
      "source": [
        "sns.violinplot(x=\"regiao\", y=\"indice_governanca\", data=igm, hue='porte')"
      ],
      "execution_count": null,
      "outputs": []
    },
    {
      "cell_type": "markdown",
      "metadata": {
        "_uuid": "0776bd93c420ca4ab09c50896d19e4334c14f6fd",
        "id": "QjwRXZnhjQXG",
        "colab_type": "text"
      },
      "source": [
        "Uma forma para facilitar a visualização dos gráficos acima é usando o `factorplot`, que funciona tanto com linhas quant com colunas."
      ]
    },
    {
      "cell_type": "code",
      "metadata": {
        "scrolled": false,
        "trusted": false,
        "_uuid": "d7ab6fa344e5fb88fddaab73785e424b86c7c7eb",
        "id": "2SmEuKogjQXG",
        "colab_type": "code",
        "colab": {}
      },
      "source": [
        "sns.factorplot(x=\"regiao\", y=\"indice_governanca\", data=igm, col='porte', kind='violin')"
      ],
      "execution_count": null,
      "outputs": []
    },
    {
      "cell_type": "markdown",
      "metadata": {
        "_uuid": "a8f7acb9d15a3be6e09f4617719c006cc33721e4",
        "id": "HwyqL8_OjQXH",
        "colab_type": "text"
      },
      "source": [
        "## Análisando Frequência:\n",
        "\n",
        "Para contarmos quantas ocorrências temos por cada categoria podemos usar o `.countplot()`"
      ]
    },
    {
      "cell_type": "code",
      "metadata": {
        "trusted": false,
        "_uuid": "caddf72e26d5b645b8309f4efd70078227bf22a2",
        "id": "dy1kDZdyjQXH",
        "colab_type": "code",
        "colab": {}
      },
      "source": [
        "sns.countplot(x='regiao', data=igm)"
      ],
      "execution_count": null,
      "outputs": []
    },
    {
      "cell_type": "markdown",
      "metadata": {
        "_uuid": "ec5b3b552e588c6ed4780b0a4ced15282f496f16",
        "id": "68SX2ThNjQXK",
        "colab_type": "text"
      },
      "source": [
        "Podemos usar também o `hue` para fazermos uma contagem levando em consideração outra dimensão."
      ]
    },
    {
      "cell_type": "code",
      "metadata": {
        "trusted": false,
        "_uuid": "ee981e2561bda6e57c0a6929f5da9c595aed9ed9",
        "id": "tNKZ4Fy6jQXK",
        "colab_type": "code",
        "colab": {}
      },
      "source": [
        "sns.countplot(x='regiao', hue='porte', data=igm)"
      ],
      "execution_count": null,
      "outputs": []
    },
    {
      "cell_type": "code",
      "metadata": {
        "trusted": false,
        "_uuid": "5e5185aab5c7e9ef232f99a8829086af441e660e",
        "id": "yu121_41jQXM",
        "colab_type": "code",
        "colab": {}
      },
      "source": [
        "sns.factorplot(x=\"regiao\", data=igm, col='porte', kind='count')"
      ],
      "execution_count": null,
      "outputs": []
    },
    {
      "cell_type": "markdown",
      "metadata": {
        "_uuid": "f15686a085d8243129997c7ce2b71f4bab485725",
        "id": "yZ0lAc6djQXN",
        "colab_type": "text"
      },
      "source": [
        "##  `Exercícios: Visualizando Categorias`\n",
        "\n",
        "1. Fazer um `boxplot` de `porte` no eixo `x` e `exp_vida` no eixo `y`\n",
        "2. Fazer um `violinplot` de `porte` no eixo `x` e `exp_vida` no eixo `y` com `hue=regiao`\n",
        "3. Criar um `factorplot`  do tipo `box` com `porte` no eixo `x` e `exp_vida` no eixo `y` e `col='regiao'`\n",
        "4. Pegar o `factorplot` do item 1 e substituir `col='regiao'` por `row='regiao'`\n",
        "5. Fazer um `factorplot` usando `kind='count'`, `hue='porte'` e `x='regiao'`"
      ]
    },
    {
      "cell_type": "markdown",
      "metadata": {
        "_uuid": "f0b664de7e0fac6e88321bfde6aba642e3fe942c",
        "id": "EnFXUS6SjQXO",
        "colab_type": "text"
      },
      "source": [
        "## Gráficos de Pizza"
      ]
    },
    {
      "cell_type": "markdown",
      "metadata": {
        "_uuid": "0d112541a23af9301ac1d5032e56bf393e20434b",
        "id": "LzmnmxXyjQXO",
        "colab_type": "text"
      },
      "source": [
        "Um gráfico bastante útil de plotarmos é o gráfico de pizza, podemos fazer isso com o `pandas`:"
      ]
    },
    {
      "cell_type": "code",
      "metadata": {
        "trusted": false,
        "_uuid": "2518c944b83345a400277f5e4e0f50a2af5c905d",
        "id": "srqhz2U3jQXP",
        "colab_type": "code",
        "colab": {}
      },
      "source": [
        "igm['regiao'].value_counts().plot.pie()"
      ],
      "execution_count": null,
      "outputs": []
    },
    {
      "cell_type": "markdown",
      "metadata": {
        "_uuid": "896267febe1985da0fe090ac842faca6af42f524",
        "id": "v51XcpXejQXQ",
        "colab_type": "text"
      },
      "source": [
        "Como vemos acima, não fica tão bom esse gráfico. Uma possibilidade melhor é usarmos a biblioteca `plotly`. \n",
        "\n",
        "Para isso iremos precisar dos nomes das regiões quando fazemos o comando `.value_counts()`:"
      ]
    },
    {
      "cell_type": "code",
      "metadata": {
        "trusted": false,
        "_uuid": "508ae9cdd7d39c53994f79dc3660840ef3b48a77",
        "id": "_d4fMTY1jQXR",
        "colab_type": "code",
        "colab": {}
      },
      "source": [
        "igm['regiao'].value_counts().index"
      ],
      "execution_count": null,
      "outputs": []
    },
    {
      "cell_type": "markdown",
      "metadata": {
        "_uuid": "93edc0fe7b192c3b292ffc1f3accdef4d44897ea",
        "id": "kMKfSdsPjQXS",
        "colab_type": "text"
      },
      "source": [
        "Em `labels` colocamos os nomes das regiões, e em `values` colocamos os valores:"
      ]
    },
    {
      "cell_type": "code",
      "metadata": {
        "trusted": false,
        "_uuid": "2fd8ffea3cd6dbf69316adea374f2c29d92ceeeb",
        "id": "39hDaKyKjQXS",
        "colab_type": "code",
        "colab": {}
      },
      "source": [
        "pie_chart = go.Pie(labels=igm['regiao'].value_counts().index, values=igm['regiao'].value_counts())\n",
        "plotly.iplot([pie_chart])"
      ],
      "execution_count": null,
      "outputs": []
    },
    {
      "cell_type": "markdown",
      "metadata": {
        "_uuid": "f3a687a6ddb5b38a1aeeb6ed02b0cea7aee163fc",
        "id": "TTJ5tmS0jQXU",
        "colab_type": "text"
      },
      "source": [
        "## Criando novas variáveis categóricas a partir de valores em branco"
      ]
    },
    {
      "cell_type": "markdown",
      "metadata": {
        "_uuid": "c0e8306161392fe09b3baa2952ae89422d11647f",
        "id": "NyukeChrjQXU",
        "colab_type": "text"
      },
      "source": [
        "Um tipo de variável categórica bastante interessante de avaliar são os valores em branco:"
      ]
    },
    {
      "cell_type": "code",
      "metadata": {
        "scrolled": true,
        "trusted": false,
        "_uuid": "2e8f8d58afa34c413d8c44242bc7f3bc0b90e70d",
        "id": "wwMMrhUAjQXU",
        "colab_type": "code",
        "colab": {}
      },
      "source": [
        "igm.isnull().sum()"
      ],
      "execution_count": null,
      "outputs": []
    },
    {
      "cell_type": "markdown",
      "metadata": {
        "_uuid": "ce8c02e7c136c0374700eda56d05915199b1adf6",
        "id": "7uPkCozKjQXV",
        "colab_type": "text"
      },
      "source": [
        "Para criarmos ela basta rodarmos método `.isnull()` e assinalar os valores ao uma nova coluna `sem_igm`:"
      ]
    },
    {
      "cell_type": "code",
      "metadata": {
        "trusted": false,
        "_uuid": "47b15a63315963049b2068e5594cc00655dd29a8",
        "id": "iQTLOGoejQXV",
        "colab_type": "code",
        "colab": {}
      },
      "source": [
        "igm['sem_igm'] = igm['indice_governanca'].isnull()"
      ],
      "execution_count": null,
      "outputs": []
    },
    {
      "cell_type": "markdown",
      "metadata": {
        "_uuid": "74d5d8337067a39afee1da596ecdccb6af001451",
        "id": "EEw40YOWjQXW",
        "colab_type": "text"
      },
      "source": [
        "Agora plotamos o gráfico e podemos observar, que a falta de um IGM, indica uma menor expectativa de vida na maioria das regiões."
      ]
    },
    {
      "cell_type": "code",
      "metadata": {
        "trusted": false,
        "_uuid": "a8bde7da52932c0e6535f219a2c36eedc90ae9f7",
        "id": "gtYyU11HjQXW",
        "colab_type": "code",
        "colab": {}
      },
      "source": [
        "sns.violinplot(x=\"regiao\", y=\"gasto_pc_educacao\", data=igm, hue='sem_igm')"
      ],
      "execution_count": null,
      "outputs": []
    },
    {
      "cell_type": "code",
      "metadata": {
        "trusted": false,
        "_uuid": "e2c078fe2ed08b8b7835fe8601a4ba3422455ae0",
        "id": "8Dz-YcKvjQXZ",
        "colab_type": "code",
        "colab": {}
      },
      "source": [
        "igm['sem_gasto_pc_saude'] = igm['gasto_pc_saude'].isnull()"
      ],
      "execution_count": null,
      "outputs": []
    },
    {
      "cell_type": "code",
      "metadata": {
        "trusted": false,
        "_uuid": "13eb6aa1886ebbd57dd378f48c843b4bffde78b2",
        "id": "MfaDp1x_jQXa",
        "colab_type": "code",
        "colab": {}
      },
      "source": [
        "sns.violinplot(x=\"regiao\", y=\"nota_mat\", data=igm, hue='sem_gasto_pc_saude')"
      ],
      "execution_count": null,
      "outputs": []
    },
    {
      "cell_type": "markdown",
      "metadata": {
        "_uuid": "11e5462f76bd6467eea830d1958f431f96adb3b4",
        "id": "1E3eYOocjQXb",
        "colab_type": "text"
      },
      "source": [
        "## Criando novas variáveis categóricas a partir de agrupamentos"
      ]
    },
    {
      "cell_type": "markdown",
      "metadata": {
        "_uuid": "7c64a1cad281ae1496ad83a0a41f4ff55714312f",
        "id": "423rW0izjQXc",
        "colab_type": "text"
      },
      "source": [
        "Existe uma função bastante útil no `pandas` que é o `qcut` que nos permite criar categorias a partir de valores contínuos (ou de muitas categorias). Basta você partir de um princípio de ordenamento e selecionar a quantidade de categorias final que deseja. No nosso caso escolhemos 3."
      ]
    },
    {
      "cell_type": "code",
      "metadata": {
        "scrolled": true,
        "trusted": false,
        "_uuid": "7e232bf244afa08d0589fa5e050ec688852a0591",
        "id": "ZnpCOmmEjQXd",
        "colab_type": "code",
        "colab": {}
      },
      "source": [
        "pd.qcut(igm['taxa_empreendedorismo'], 3)"
      ],
      "execution_count": null,
      "outputs": []
    },
    {
      "cell_type": "markdown",
      "metadata": {
        "_uuid": "a25e60db980826daeded0cb799aaca00135d443c",
        "id": "CLbjSKMTjQXe",
        "colab_type": "text"
      },
      "source": [
        "Vamos criar uma nova coluna com esses valores:"
      ]
    },
    {
      "cell_type": "code",
      "metadata": {
        "trusted": false,
        "_uuid": "1e4b87ed41a28b798897b103295c0e486f25d7b7",
        "id": "CqbxAOvzjQXe",
        "colab_type": "code",
        "colab": {}
      },
      "source": [
        "igm['cat_te'] = pd.qcut(igm['taxa_empreendedorismo'], 3)"
      ],
      "execution_count": null,
      "outputs": []
    },
    {
      "cell_type": "markdown",
      "metadata": {
        "_uuid": "c9172c01ef4f0d742909acc32248c14d5d439525",
        "id": "o1PD_8KyjQXg",
        "colab_type": "text"
      },
      "source": [
        "E vamos plotar um gráfico os utilizando como filtro:"
      ]
    },
    {
      "cell_type": "code",
      "metadata": {
        "trusted": false,
        "_uuid": "272bff4b3d3b7f7a10ff001d0c81e86157b14a5c",
        "id": "2Y-6UePjjQXh",
        "colab_type": "code",
        "colab": {}
      },
      "source": [
        "sns.violinplot(x=\"regiao\", y=\"exp_vida\", data=igm, hue='cat_te')"
      ],
      "execution_count": null,
      "outputs": []
    },
    {
      "cell_type": "markdown",
      "metadata": {
        "_uuid": "445d0d787119a37d750d55b02c885ac144140f89",
        "id": "CYymd3jjjQXi",
        "colab_type": "text"
      },
      "source": [
        "##  `Exercícios: Visualizando Categorias`\n",
        "\n",
        "1. Criar uma coluna `sem_gasto_pc_saude` a partir dos valores em branco da coluna `gasto_pc_saude`\n",
        "2. Criar uma coluna `cat_te` separando os valores em 3 categorias pra `qcut`\n",
        "3. Criar um `factorplot` do tipo `box` com `porte` no eixo `x` e `exp_vida` no eixo `y` e `col='regiao'` e `row='cat_te`\n",
        "4. Facilite a leitura dos nomes das regiões. Dica: `g.set_xticklabels(rotation=30)`"
      ]
    },
    {
      "cell_type": "markdown",
      "metadata": {
        "_uuid": "ed89f3b30faeb3df4a39ea0234974b7c81f453da",
        "id": "5fVQjOWGjQXj",
        "colab_type": "text"
      },
      "source": [
        "# Mais Gráficos Categóricos"
      ]
    },
    {
      "cell_type": "markdown",
      "metadata": {
        "_uuid": "57efdafc0f342a6befd80d074da0baa22ed3d305",
        "id": "X-UhnJqXjQXj",
        "colab_type": "text"
      },
      "source": [
        "## Swarm plot"
      ]
    },
    {
      "cell_type": "markdown",
      "metadata": {
        "_uuid": "2a1f664222cb60f64931b13271365dcb91ba3efb",
        "id": "ibz5zgwajQXj",
        "colab_type": "text"
      },
      "source": [
        "Um tipo de gráfico interessante é o swarm plot que nos permite ver de forma granular os pontos que compõe uma distribuição, e nos dão a possibilidade de análises com a abaixo:"
      ]
    },
    {
      "cell_type": "code",
      "metadata": {
        "trusted": false,
        "_uuid": "aef3011b1c75dec1ac47ecf933d8a6b291f4758f",
        "id": "BupdRzrfjQXj",
        "colab_type": "code",
        "colab": {}
      },
      "source": [
        "sns.swarmplot(x=\"regiao\", y=\"indice_governanca\", hue='porte', data=igm)"
      ],
      "execution_count": null,
      "outputs": []
    },
    {
      "cell_type": "markdown",
      "metadata": {
        "_uuid": "29cbe4f9922df29877967840a4d84712d6be8940",
        "id": "eLbJOp0AjQXl",
        "colab_type": "text"
      },
      "source": [
        "Abaixo segue um comando opcional para aumentar todos os gráficos que serão gerados:\n",
        "\n",
        "O `#` é um comentário e significa que o código a seguir dele não será executado."
      ]
    },
    {
      "cell_type": "code",
      "metadata": {
        "trusted": false,
        "_uuid": "f1140a6d2e9f9c423722bf473375149117c9a46a",
        "id": "3Jg4gGOzjQXl",
        "colab_type": "code",
        "colab": {}
      },
      "source": [
        "# sns.set(rc={'figure.figsize':(16.7,8.27)})"
      ],
      "execution_count": null,
      "outputs": []
    },
    {
      "cell_type": "markdown",
      "metadata": {
        "_uuid": "658c1965cfc30bca4904df9d047c634e8323b440",
        "id": "5ceNG-lYjQXm",
        "colab_type": "text"
      },
      "source": [
        "## Avaliação de uma variável contínua dada uma variável categórica"
      ]
    },
    {
      "cell_type": "markdown",
      "metadata": {
        "_uuid": "00de6a086951a6b81696ca50630bdd6165f07014",
        "id": "CU6pp3e5jQXn",
        "colab_type": "text"
      },
      "source": [
        "O `seaborn` de forma automática agrupa de acordo com as variáveis categóricas que você coloca no eixo `x` e tira as médias das variáveis que você coloca no eixo `y`.\n",
        "\n",
        "Segue um índice de governança por região e por porte de cidade:"
      ]
    },
    {
      "cell_type": "code",
      "metadata": {
        "trusted": false,
        "_uuid": "e76c3f33a7a7c6adc1181e4cade8d5b7350e2c33",
        "id": "34bdPCSbjQXn",
        "colab_type": "code",
        "colab": {}
      },
      "source": [
        "sns.barplot(x=\"regiao\", y=\"indice_governanca\", hue='porte', data=igm)"
      ],
      "execution_count": null,
      "outputs": []
    },
    {
      "cell_type": "markdown",
      "metadata": {
        "_uuid": "a8e9fb11b1f7712235d0f7326451f6bd7e7e0cdd",
        "id": "YbTkjAO1jQXr",
        "colab_type": "text"
      },
      "source": [
        "Segue a taxa de empreendedorismo por região:"
      ]
    },
    {
      "cell_type": "code",
      "metadata": {
        "trusted": false,
        "_uuid": "bb84d4dc84014196497c35af32080e8a3218c76d",
        "id": "cCIyzXYwjQXr",
        "colab_type": "code",
        "colab": {}
      },
      "source": [
        "sns.barplot(x=\"regiao\", y=\"taxa_empreendedorismo\",  data=igm)"
      ],
      "execution_count": null,
      "outputs": []
    },
    {
      "cell_type": "markdown",
      "metadata": {
        "_uuid": "4b142e4cd2d0638af4e99d8424af0f8b2b05fb5b",
        "id": "HkmChyzujQXt",
        "colab_type": "text"
      },
      "source": [
        "Seguem os anos de estudo do empreendedor por região:"
      ]
    },
    {
      "cell_type": "code",
      "metadata": {
        "trusted": false,
        "_uuid": "d602df15191663ba601ced5fc56f8042027c7bd7",
        "id": "SrBmgCgQjQXt",
        "colab_type": "code",
        "colab": {}
      },
      "source": [
        "sns.barplot(x=\"regiao\", y=\"anos_estudo_empreendedor\",  data=igm)"
      ],
      "execution_count": null,
      "outputs": []
    },
    {
      "cell_type": "markdown",
      "metadata": {
        "_uuid": "766002d3dd00fea4763daeac14efa55f4efa9b75",
        "id": "SwSCGy8yjQXw",
        "colab_type": "text"
      },
      "source": [
        "Segue o pib_pc por região. Note que não é uma média ponderada e sim apenas a média dos munícipios sem levar em conta a população de cada um."
      ]
    },
    {
      "cell_type": "code",
      "metadata": {
        "trusted": false,
        "_uuid": "2d55a9d543c7122292f8e359f18f4fe959db2c86",
        "id": "1Kd2BkufjQXw",
        "colab_type": "code",
        "colab": {}
      },
      "source": [
        "sns.barplot(x=\"regiao\", y=\"pib_pc\",  data=igm)"
      ],
      "execution_count": null,
      "outputs": []
    },
    {
      "cell_type": "markdown",
      "metadata": {
        "_uuid": "dd6c9d43c9f04cc4d91a1defad11ff1338a83800",
        "id": "beaqxX34jQX3",
        "colab_type": "text"
      },
      "source": [
        "## Groupby"
      ]
    },
    {
      "cell_type": "markdown",
      "metadata": {
        "_uuid": "a21836c9bd587518b9c54a6645b1fd2f344674e4",
        "id": "Qtp3fSwUjQX3",
        "colab_type": "text"
      },
      "source": [
        "Os gráficos acima estão pegando uma variável contínua e claculando a média dela para uma dada região, para replicarmos o gráfico acima em números poderíamos utilizar o seguinte comando:"
      ]
    },
    {
      "cell_type": "code",
      "metadata": {
        "trusted": false,
        "_uuid": "5361b408bd0ac35fcd3ae8e636c07a230d69c60a",
        "id": "qSvN-2EAjQX8",
        "colab_type": "code",
        "colab": {}
      },
      "source": [
        "igm.groupby('regiao')['pib_pc'].mean()"
      ],
      "execution_count": null,
      "outputs": []
    },
    {
      "cell_type": "markdown",
      "metadata": {
        "_uuid": "3f45c2fca5475ba79034854c3a7f6cf3397bcb7d",
        "id": "VDf1i9KrjQYA",
        "colab_type": "text"
      },
      "source": [
        "##  `Exercícios: Mais Gráficos Categóricos`\n",
        "\n",
        "1. Fazer um gráfico a partir do agrupamento de `porte` avaliando `gasto_pc_saude`\n",
        "2. Fazer o exercício 1 a partir de um `groupby()`\n",
        "3. Fazer um `swarmplot` usando `y=\"gasto_pc_saude\"`, `hue='porte'`"
      ]
    },
    {
      "cell_type": "markdown",
      "metadata": {
        "_uuid": "d7e62a5f52595322ceec81683ca0ac37d8570043",
        "id": "IHlpCPBZjQYA",
        "colab_type": "text"
      },
      "source": [
        "# Explorando variáveis contínuas"
      ]
    },
    {
      "cell_type": "markdown",
      "metadata": {
        "_uuid": "c8e917e473bdc46cb74601a957d492f21d196963",
        "id": "xyaav4OcjQYA",
        "colab_type": "text"
      },
      "source": [
        "### Gráficos Mais Elaborados"
      ]
    },
    {
      "cell_type": "markdown",
      "metadata": {
        "_uuid": "6f880ed23c37f9f69ee05099ed680d599f749ffa",
        "id": "cDwP9k-VjQYA",
        "colab_type": "text"
      },
      "source": [
        "Abaixo iremos plotar em apenas uma linha de código, um gráfico que mostra a relação entre __'Gastos em saúde e educação per capita'__ com o __'Índice de Desempenho'__."
      ]
    },
    {
      "cell_type": "code",
      "metadata": {
        "scrolled": true,
        "trusted": false,
        "_uuid": "b801e8e64c65038e69b4115b4864893aff2b879a",
        "id": "6ZCxTL2mjQYB",
        "colab_type": "code",
        "colab": {}
      },
      "source": [
        "sns.pairplot(x_vars=['gasto_pc_educacao'], y_vars=['nota_mat'], data=igm, hue=\"regiao\", size=5)"
      ],
      "execution_count": null,
      "outputs": []
    },
    {
      "cell_type": "markdown",
      "metadata": {
        "_uuid": "8051e759e2c57c4ccc4168d60af2800f9853150c",
        "id": "vPvwRXtPjQYC",
        "colab_type": "text"
      },
      "source": [
        "Com o simples parâmetro <i>hue=\"Região\"</i> conseguimos gerar um gráfico colorido de acordo com as regiões do Brasil, que são uma coluna na tabela original.\n",
        "\n",
        "## Regressões Lineares\n",
        "\n",
        "De forma extremamente simples, podemos plotar <i>regressões lineares</i> no gráfico acima. Bastante adicionarmos o parâmetro <i>kind='reg'</i> no código acima."
      ]
    },
    {
      "cell_type": "code",
      "metadata": {
        "trusted": false,
        "_uuid": "2421bbe16aacf0f47e47487fa4c31dc264249a19",
        "id": "b1BUJZGcjQYC",
        "colab_type": "code",
        "colab": {}
      },
      "source": [
        "sns.pairplot(x_vars=['gasto_pc_educacao'], y_vars=['nota_mat'], data=igm, hue=\"regiao\", kind='reg', size=5)"
      ],
      "execution_count": null,
      "outputs": []
    },
    {
      "cell_type": "markdown",
      "metadata": {
        "_uuid": "49767a7faa608b0bc703dfd0505456d3c64a0d45",
        "id": "9J4YWPxxjQYG",
        "colab_type": "text"
      },
      "source": [
        "### Análise do Tamanho do Nome do Município\n",
        "\n",
        "Uma análise simples, mas interessante é vermos se o tamanho do nome de um `municipio` em número de caracteres influencia o `idhm`\n",
        "\n",
        "Para computar o número de caracteres, basta usar o método `.len()`"
      ]
    },
    {
      "cell_type": "code",
      "metadata": {
        "trusted": false,
        "_uuid": "a43c5ec3945ac9d2cc973ded70068f145fc4b4aa",
        "id": "873lzTFAjQYG",
        "colab_type": "code",
        "colab": {}
      },
      "source": [
        "igm['nome_len'] = igm['municipio'].str.len()"
      ],
      "execution_count": null,
      "outputs": []
    },
    {
      "cell_type": "markdown",
      "metadata": {
        "_uuid": "da668bc3d0276a07b413899fb46741ddc8ca35ce",
        "id": "uLF14XOHjQYH",
        "colab_type": "text"
      },
      "source": [
        "Para plotarmos o gráfico, podemos fazer um pairplot, com o parâmetro `kind` para vermos uma regressão linear."
      ]
    },
    {
      "cell_type": "code",
      "metadata": {
        "trusted": false,
        "_uuid": "2d93a418bf472326d63ed00a11fea4128aba77ca",
        "id": "47PPJnbIjQYH",
        "colab_type": "code",
        "colab": {}
      },
      "source": [
        "sns.pairplot(x_vars=['nome_len'], y_vars=['idhm'], data=igm, kind='reg', size=5)"
      ],
      "execution_count": null,
      "outputs": []
    },
    {
      "cell_type": "markdown",
      "metadata": {
        "_uuid": "1e4036d674ad9835708d0a2760afa45df86f071d",
        "id": "ClQhdcWrjQYJ",
        "colab_type": "text"
      },
      "source": [
        "## Múltiplas Regressões Lineares"
      ]
    },
    {
      "cell_type": "markdown",
      "metadata": {
        "_uuid": "b9c3a38fae584bc7c6155f08e4f9d0f9b9475e41",
        "id": "0X1Ujsd9jQYJ",
        "colab_type": "text"
      },
      "source": [
        "Podemos fazermos múltiplas regressões lineares e histogramas ao mesmo tempo com o `sns.pairplot()`:\n",
        "    \n",
        "Para isso vamos criar um `DataFrame` temporário:"
      ]
    },
    {
      "cell_type": "code",
      "metadata": {
        "trusted": false,
        "_uuid": "10a9759f9ae179dd6fc43adcfd2c5177bc6f1f9f",
        "id": "IvYFaxPajQYJ",
        "colab_type": "code",
        "colab": {}
      },
      "source": [
        "temp_df = igm[['nota_mat','exp_vida', 'gasto_pc_saude', 'gasto_pc_educacao', 'regiao']]"
      ],
      "execution_count": null,
      "outputs": []
    },
    {
      "cell_type": "markdown",
      "metadata": {
        "_uuid": "89d61b5408b5cbac63addc540e2cc603657938a8",
        "id": "UMMk_zNNjQYK",
        "colab_type": "text"
      },
      "source": [
        "E vamos usar o `pairplot()` com `hue=regiao` e `kind=reg`:"
      ]
    },
    {
      "cell_type": "code",
      "metadata": {
        "scrolled": true,
        "trusted": false,
        "_uuid": "acdb12988843095d467bea2fd52a188f1a3074f8",
        "id": "3RJseXWujQYM",
        "colab_type": "code",
        "colab": {}
      },
      "source": [
        "sns.pairplot(temp_df, hue='regiao', kind='reg')"
      ],
      "execution_count": null,
      "outputs": []
    },
    {
      "cell_type": "markdown",
      "metadata": {
        "_uuid": "eec3439c58983cfcc5722af0e37350cd99c2713d",
        "id": "fsn0IaDVjQYN",
        "colab_type": "text"
      },
      "source": [
        "O erro aconteceu porque tinhamos valores `NaN` no nosso DataFrame, podemos resolver isso da seguinte forma:"
      ]
    },
    {
      "cell_type": "code",
      "metadata": {
        "scrolled": false,
        "trusted": false,
        "_uuid": "90df1eca45694a97f5bb130879e462077650b79a",
        "id": "9VOTDYptjQYN",
        "colab_type": "code",
        "colab": {}
      },
      "source": [
        "sns.pairplot(temp_df.dropna(), hue='regiao', kind='reg')"
      ],
      "execution_count": null,
      "outputs": []
    },
    {
      "cell_type": "markdown",
      "metadata": {
        "_uuid": "0cec597d7120d5f6ef31698b08346c1263a8d609",
        "id": "Z89MzrZ3jQYP",
        "colab_type": "text"
      },
      "source": [
        "##  `Exercícios: Explorando Variáveis Contínuas`\n",
        "\n",
        "1. Fazer um pairplot usando `taxa_empreendedorismo` e `nota_mat` usando `hue=porte` (apenas 1 gráfico e não 4)\n",
        "2. Fazer um pairplot usando `taxa_empreendedorismo` e `nota_mat` usando `hue=porte` (4 gráficos)\n",
        "3. Fazer um pairplot usando `taxa_empreendedorismo`, `anos_estudo_empreendedor`, `nota_mat` e `idhm`, usando `hue=porte`"
      ]
    },
    {
      "cell_type": "markdown",
      "metadata": {
        "_uuid": "93fcb8375eab01bb2871f1935d230b58b3d05f0d",
        "id": "-Y_Bo6FBjQYP",
        "colab_type": "text"
      },
      "source": [
        "## Plots usando Escala logarítimica"
      ]
    },
    {
      "cell_type": "markdown",
      "metadata": {
        "_uuid": "22024336841c42a12f6f53ed46d98dbb0b7ec993",
        "id": "HYznDEy4jQYP",
        "colab_type": "text"
      },
      "source": [
        "Vai acontecer de termos alguns gráficos que não ficam em uma escala adequada, para isso podemos tentar converter para uma escala logarítimica."
      ]
    },
    {
      "cell_type": "code",
      "metadata": {
        "scrolled": true,
        "trusted": false,
        "_uuid": "9573c9b046aba39c2e1066e0b5ce330f872a391e",
        "id": "sUqNyZGnjQYQ",
        "colab_type": "code",
        "colab": {}
      },
      "source": [
        "sns.pairplot(x_vars=['populacao'], y_vars=['indice_governanca'], data=igm, hue=\"regiao\", kind='reg', size=5)"
      ],
      "execution_count": null,
      "outputs": []
    },
    {
      "cell_type": "markdown",
      "metadata": {
        "_uuid": "65defba7c2a92a2d0dfb33e783280888deca1f87",
        "id": "pm9Jg4V3jQYR",
        "colab_type": "text"
      },
      "source": [
        "Para converter para `log` podemos usar o `numpy` que é uma biblioteca bastante importante para manipulação de dados, e é a base do `pandas`."
      ]
    },
    {
      "cell_type": "code",
      "metadata": {
        "trusted": false,
        "_uuid": "5f8e72a21600a6cc946e003a6c767da3833848f8",
        "id": "1yWGkWvvjQYR",
        "colab_type": "code",
        "colab": {}
      },
      "source": [
        "import numpy as np"
      ],
      "execution_count": null,
      "outputs": []
    },
    {
      "cell_type": "markdown",
      "metadata": {
        "_uuid": "c2f3f43a321c8e59373e4a341e9adb4731473d35",
        "id": "1epV2tHqjQYS",
        "colab_type": "text"
      },
      "source": [
        "Vamos criar uma coluna nova `log_pop` com os valores logarítimicos da `populacao` por meio da função `.log()` do `numpy`:"
      ]
    },
    {
      "cell_type": "code",
      "metadata": {
        "trusted": false,
        "_uuid": "e2b5bf2252c840e934dc175da69115ab8a4a5c56",
        "id": "heSIsCAOjQYS",
        "colab_type": "code",
        "colab": {}
      },
      "source": [
        "igm['log_pop'] = np.log(igm['populacao'])"
      ],
      "execution_count": null,
      "outputs": []
    },
    {
      "cell_type": "markdown",
      "metadata": {
        "_uuid": "d86aa2ae5541950d9f296a0de2d3469b0bc02546",
        "id": "yjmfKZNojQYT",
        "colab_type": "text"
      },
      "source": [
        "Vamos plotar o gráfico de novo substituindo `populacao` por `log_pop`"
      ]
    },
    {
      "cell_type": "code",
      "metadata": {
        "scrolled": false,
        "trusted": false,
        "_uuid": "2d795dcf4867664f307b9684f16aed899b5ced3b",
        "id": "JAXYkkGvjQYT",
        "colab_type": "code",
        "colab": {}
      },
      "source": [
        "sns.pairplot(x_vars=['log_pop'], y_vars=['indice_governanca'], data=igm, hue=\"regiao\", kind='reg', size=5)"
      ],
      "execution_count": null,
      "outputs": []
    },
    {
      "cell_type": "markdown",
      "metadata": {
        "_uuid": "683baa55f69b6a7b7fe3c89b5885d177f4dc0d1d",
        "id": "fIamHEc1jQYT",
        "colab_type": "text"
      },
      "source": [
        "##  `Exercícios: Plots usando Escala logarítimica`\n",
        "\n",
        "1. Plote um `pairplot` de `anos_estudo_empreendedor` por `pib_pc`\n",
        "2. Crie uma nova variável chamada `log_pib_pc` com o log de `pib_pc`\n",
        "3. Plote um `pairplot` de `anos_estudo_empreendedor` por `log_pib_pc`"
      ]
    },
    {
      "cell_type": "markdown",
      "metadata": {
        "_uuid": "489d0532f50e8aa553bd403f2e81d71f70ee1c1e",
        "id": "1aSLZzmvjQYT",
        "colab_type": "text"
      },
      "source": [
        "## Projeto:\n",
        "\n",
        "Pegue algum dataset de sua escolha ou vá em http://dados.gov.br/ e escolha algum conjunto de dados que te interesse.\n",
        "\n",
        "De posse desses conjunto de dados faça os seguintes passos:\n",
        "1. Importe o seu conjunto de dados como um `DataFrame`\n",
        "2. Faça a conversão das colunas que estiverem com formato inadequado (números que estão em formato de `str`)\n",
        "3. Faça 8 gráficos a partir dos seus dados\n",
        "4. Faça um resumo dos principais pontos encontrados nos gráficos avaliados"
      ]
    },
    {
      "cell_type": "markdown",
      "metadata": {
        "_uuid": "0689c59b8c0d99c99e881e98c5ef665ef8700a72",
        "id": "Li9q4VShjQYU",
        "colab_type": "text"
      },
      "source": [
        "## Bônus: Mostrando Valores como um Percentual"
      ]
    },
    {
      "cell_type": "markdown",
      "metadata": {
        "_uuid": "dc9de17d44d81e3abf34ec015b9bac327e0f207c",
        "id": "pu5Z2km4jQYU",
        "colab_type": "text"
      },
      "source": [
        "A opção mais recomendada é usar o `.style.format()`, que irá mexer apenas na exibição dos dados e não irá alterar a estrutura dos dados em si.\n",
        "\n",
        "Para usarmos o `.style.format()`, primeiro precisamos de criar um `dict` com o nome da coluna e o tipo de formatação que desejamos:"
      ]
    },
    {
      "cell_type": "code",
      "metadata": {
        "trusted": false,
        "_uuid": "6fc31b82fc2172ec5e346284440c7ef22e2297db",
        "id": "SGLTmxzojQYU",
        "colab_type": "code",
        "colab": {}
      },
      "source": [
        "format_dict = {'perc_pop_econ_ativa' :'{:.2%}'}"
      ],
      "execution_count": null,
      "outputs": []
    },
    {
      "cell_type": "markdown",
      "metadata": {
        "_uuid": "c2786e506249f86120a488b1bbd832f04873d131",
        "id": "dAMQlJ8qjQYU",
        "colab_type": "text"
      },
      "source": [
        "Depois podemos executar o `.style.format()` em uma parte do `DataFrame` (ou todo ele se quiséssemos):"
      ]
    },
    {
      "cell_type": "code",
      "metadata": {
        "scrolled": true,
        "trusted": false,
        "_uuid": "aa28a4e08b13811249ac81d6f0324e27ce18e712",
        "id": "59hftRtQjQYV",
        "colab_type": "code",
        "colab": {}
      },
      "source": [
        "igm.sample(5).style.format(format_dict)"
      ],
      "execution_count": null,
      "outputs": []
    },
    {
      "cell_type": "markdown",
      "metadata": {
        "_uuid": "ea579b291fec53b9ff01e85ae9c814d9352c5c74",
        "id": "-Snqp8M1jQYV",
        "colab_type": "text"
      },
      "source": [
        "Se olharmos o `.info()`, veremos que `perc_pop_econ_ativa` ainda é numérico:"
      ]
    },
    {
      "cell_type": "code",
      "metadata": {
        "scrolled": true,
        "trusted": false,
        "_uuid": "9a8699e36544933191296a8fac4dcc8fae189a56",
        "id": "IchRqzFtjQYW",
        "colab_type": "code",
        "colab": {}
      },
      "source": [
        "igm.info()"
      ],
      "execution_count": null,
      "outputs": []
    },
    {
      "cell_type": "markdown",
      "metadata": {
        "_uuid": "b130ef715dbfc18d7ca9b2af9dcb5f1dba19422f",
        "id": "8cwSBtXljQYW",
        "colab_type": "text"
      },
      "source": [
        "Podemos converter várias colunas ao mesmo tempo criando um dicionário com vários valores:"
      ]
    },
    {
      "cell_type": "code",
      "metadata": {
        "trusted": false,
        "_uuid": "0b7ca37baf5fe459e9cc3193d550c79ff043441b",
        "id": "3aIvlVzQjQYX",
        "colab_type": "code",
        "colab": {}
      },
      "source": [
        "format_dict = {'perc_pop_econ_ativa' :'{:.0%}', 'taxa_empreendedorismo' :'{:.0%}'}"
      ],
      "execution_count": null,
      "outputs": []
    },
    {
      "cell_type": "markdown",
      "metadata": {
        "_uuid": "ecf1d41406c6cd5b7e1e185560431c0fa40c8b9a",
        "id": "C2vggZ4IjQYY",
        "colab_type": "text"
      },
      "source": [
        "E podemos executar o `.style.format()` novamente"
      ]
    },
    {
      "cell_type": "code",
      "metadata": {
        "scrolled": true,
        "trusted": false,
        "_uuid": "d03d07bfa65fb3b4b46cc032b7c40be5634739f3",
        "id": "pCRLCeCNjQYY",
        "colab_type": "code",
        "colab": {}
      },
      "source": [
        "igm.sample(5).style.format(format_dict)"
      ],
      "execution_count": null,
      "outputs": []
    },
    {
      "cell_type": "markdown",
      "metadata": {
        "_uuid": "148a8582361cfbf87416accb8caee0a708a1ca3c",
        "id": "faPpdPsvjQYZ",
        "colab_type": "text"
      },
      "source": [
        "## Bônus: Juntando DataFrames "
      ]
    },
    {
      "cell_type": "markdown",
      "metadata": {
        "_uuid": "371120eca5816b8100cc5ebfc108faa505f53737",
        "id": "Dj81j_ZcjQYZ",
        "colab_type": "text"
      },
      "source": [
        "Vamos importar uma segunda base de exemplos:"
      ]
    },
    {
      "cell_type": "code",
      "metadata": {
        "trusted": false,
        "_uuid": "9b8bcad890b41a1a4d3e5b17aef8913685915ccb",
        "id": "DwBmfNt9jQYZ",
        "colab_type": "code",
        "colab": {}
      },
      "source": [
        "igf = pd.read_excel('../input/exemplo_2.xls', header=[0], skiprows=8, skip_footer=2)"
      ],
      "execution_count": null,
      "outputs": []
    },
    {
      "cell_type": "markdown",
      "metadata": {
        "_uuid": "3f02f81be9290adf77654eff5614acd422d1821b",
        "id": "0TF-5ye-jQYa",
        "colab_type": "text"
      },
      "source": [
        "Vamos observar como estão nossos dados:"
      ]
    },
    {
      "cell_type": "code",
      "metadata": {
        "scrolled": true,
        "trusted": false,
        "_uuid": "5070a1884b56e6ceb2f7f9073df2af10f247c4a1",
        "id": "HyMLcQ4EjQYa",
        "colab_type": "code",
        "colab": {}
      },
      "source": [
        "igf"
      ],
      "execution_count": null,
      "outputs": []
    },
    {
      "cell_type": "markdown",
      "metadata": {
        "_uuid": "890c121b7690d264e6cf97a0b76305009218da72",
        "id": "xvRewmzejQYb",
        "colab_type": "text"
      },
      "source": [
        "Vamos remover a primeira linha. Usamos o método `.copy()` para evitarmos avisos no futuro."
      ]
    },
    {
      "cell_type": "code",
      "metadata": {
        "trusted": false,
        "_uuid": "de7aac18ca91e261176bca2709cd73fef021b1a6",
        "id": "r7wDxEzFjQYb",
        "colab_type": "code",
        "colab": {}
      },
      "source": [
        "igf = igf[1:].copy()"
      ],
      "execution_count": null,
      "outputs": []
    },
    {
      "cell_type": "markdown",
      "metadata": {
        "_uuid": "4f46e849a6c8feb58cecfcb3f780b39c3361d71b",
        "id": "sEDPdn6zjQYc",
        "colab_type": "text"
      },
      "source": [
        "Vamos renomear a coluna `Unnamed: 1':'Ranking Estadual`, para isso vamos usar o comando `rename()`:"
      ]
    },
    {
      "cell_type": "code",
      "metadata": {
        "trusted": false,
        "_uuid": "ac154e9d3ce18783b01414b56b3bc987b462cf88",
        "id": "vF_7HUkDjQYc",
        "colab_type": "code",
        "colab": {}
      },
      "source": [
        "igf.rename(columns={'Unnamed: 1':'Ranking Estadual'}, inplace=True)"
      ],
      "execution_count": null,
      "outputs": []
    },
    {
      "cell_type": "markdown",
      "metadata": {
        "_uuid": "78cc87ab91d4256151b24d69b9ab40dfcbe54d3f",
        "id": "CY11jdFIjQYd",
        "colab_type": "text"
      },
      "source": [
        "Como não temos códigos em ambos os `DataFrames` com nomes de `df` e `igf`, vamos fazer a junção deles por meio dos nomes dos municípios, para isso vamos deixar o nome da coluna referente aos nomes dos municípios iguais nos 2 `DataFrames`."
      ]
    },
    {
      "cell_type": "code",
      "metadata": {
        "trusted": false,
        "_uuid": "958123572a3e7d771a3c334fd656bc66ef929f18",
        "id": "exp5pAiKjQYe",
        "colab_type": "code",
        "colab": {}
      },
      "source": [
        "igf.rename(columns={'Município':'mun'}, inplace=True)\n",
        "df.rename(columns={'NOME DO MUNICÍPIO':'mun'}, inplace=True)"
      ],
      "execution_count": null,
      "outputs": []
    },
    {
      "cell_type": "markdown",
      "metadata": {
        "_uuid": "e0760cdafb1b15c5c9fdf8caf2a93b90aa84490a",
        "id": "hERnDSLxjQYf",
        "colab_type": "text"
      },
      "source": [
        "Vamos tentar juntar os `DataFrames` e ver o que acontece:"
      ]
    },
    {
      "cell_type": "code",
      "metadata": {
        "scrolled": true,
        "trusted": false,
        "_uuid": "f3c27b8f27c2051f2beb96057b7bbeb912e612d5",
        "id": "Cf2zKE95jQYf",
        "colab_type": "code",
        "colab": {}
      },
      "source": [
        "df.merge(igf)"
      ],
      "execution_count": null,
      "outputs": []
    },
    {
      "cell_type": "markdown",
      "metadata": {
        "_uuid": "852e21c38934487359b856b3dfd84598ed0fbf34",
        "id": "DxtvcIKpjQYg",
        "colab_type": "text"
      },
      "source": [
        "O nosso `DataFrame` após o `merge()` ficou com 5526 linhas, o que significa que 44 munícipios não estão com nomes iguais entre os DataFrames"
      ]
    },
    {
      "cell_type": "code",
      "metadata": {
        "trusted": false,
        "_uuid": "4be865151e5a7a705d8e448ae5f72ceb513c79c2",
        "id": "wfGVKafljQYh",
        "colab_type": "code",
        "colab": {}
      },
      "source": [
        "df.merge(igf).shape"
      ],
      "execution_count": null,
      "outputs": []
    },
    {
      "cell_type": "markdown",
      "metadata": {
        "_uuid": "8f998351e98bc4eeb83616a858c09478cd46a53f",
        "id": "mVbIbNi5jQYi",
        "colab_type": "text"
      },
      "source": [
        "O `DataFrame` chamado `df` tem 5570 munícipios e com 6 colunas:"
      ]
    },
    {
      "cell_type": "code",
      "metadata": {
        "trusted": false,
        "_uuid": "51e1c0b06b0991fa5d5d68c27ca21f37bb0fff61",
        "id": "b9coL4GMjQYi",
        "colab_type": "code",
        "colab": {}
      },
      "source": [
        "df.shape"
      ],
      "execution_count": null,
      "outputs": []
    },
    {
      "cell_type": "markdown",
      "metadata": {
        "_uuid": "1b0642d6695e50f5e7142d40c43b4f5021b0140a",
        "id": "a6wQdr3WjQYj",
        "colab_type": "text"
      },
      "source": [
        "O `DataFrame` chamado `df` tem 5568 munícipios e com 10 colunas:"
      ]
    },
    {
      "cell_type": "code",
      "metadata": {
        "trusted": false,
        "_uuid": "86aa5853e1de48bc47bd653c3f63e1f4501b0a32",
        "id": "mrbDeQjIjQYj",
        "colab_type": "code",
        "colab": {}
      },
      "source": [
        "igf.shape"
      ],
      "execution_count": null,
      "outputs": []
    },
    {
      "cell_type": "markdown",
      "metadata": {
        "_uuid": "c73ec1c2e54739c370978e1ed7b8d6fa59fc7596",
        "id": "UoR__G0ZjQYk",
        "colab_type": "text"
      },
      "source": [
        "Engraçado, que temos 10 colunas em um `DataFrame` e 6 colunas em outro, mas o nosso resultado do merge é de 14 colunas, por que isso?"
      ]
    },
    {
      "cell_type": "markdown",
      "metadata": {
        "_uuid": "18d5e8967799f1ffafe1dec606a67219a90a360f",
        "id": "tmO4e8B0jQYk",
        "colab_type": "text"
      },
      "source": [
        "## Retirando acentos e caracteres especiais:"
      ]
    },
    {
      "cell_type": "markdown",
      "metadata": {
        "_uuid": "ed91b7713773d49b7651e409ee359d32e6cf888f",
        "id": "etSFGfxRjQYm",
        "colab_type": "text"
      },
      "source": [
        "Vamos criar uma coluna chamada `Munícipio` para guardar os nomes originais dos munícipios."
      ]
    },
    {
      "cell_type": "code",
      "metadata": {
        "trusted": false,
        "_uuid": "018b10ffae174131368e5ad47c16140a7a6e328a",
        "id": "8bR_7a82jQYm",
        "colab_type": "code",
        "colab": {}
      },
      "source": [
        "df['Município'] = df['mun']"
      ],
      "execution_count": null,
      "outputs": []
    },
    {
      "cell_type": "markdown",
      "metadata": {
        "_uuid": "e9d5044063141373805448185a502e0b258dfd98",
        "id": "B8elTAuYjQYn",
        "colab_type": "text"
      },
      "source": [
        "Podemos usar o método `str.normalize...` para retirar os acentos e outros caracteres especiais:"
      ]
    },
    {
      "cell_type": "code",
      "metadata": {
        "trusted": false,
        "_uuid": "4155b0c91b0e7b7513a8230dfa4509e7699e2dd7",
        "id": "cyquyI9xjQYn",
        "colab_type": "code",
        "colab": {}
      },
      "source": [
        "igf['mun'] = igf['mun'].str.normalize('NFKD').str.encode('ascii', errors='ignore').str.decode('utf-8')\n",
        "df['mun'] = df['mun'].str.normalize('NFKD').str.encode('ascii', errors='ignore').str.decode('utf-8')"
      ],
      "execution_count": null,
      "outputs": []
    },
    {
      "cell_type": "markdown",
      "metadata": {
        "_uuid": "2d2d8ec4bd83cf2e02896e6a385e944a5acb675b",
        "id": "LEVhvhXhjQYn",
        "colab_type": "text"
      },
      "source": [
        "Podemos ver que ganhamos mais algumas conversões, mas ainda foram poucas."
      ]
    },
    {
      "cell_type": "code",
      "metadata": {
        "scrolled": true,
        "trusted": false,
        "_uuid": "4019716aac45f7b46fe4f567b82c2b9366cf6523",
        "id": "duPCb7E8jQYn",
        "colab_type": "code",
        "colab": {}
      },
      "source": [
        "df.merge(igf).shape"
      ],
      "execution_count": null,
      "outputs": []
    },
    {
      "cell_type": "markdown",
      "metadata": {
        "_uuid": "ae577d18d2c6b881745f597499b48230abd0f72b",
        "id": "vJaxawv0jQYp",
        "colab_type": "text"
      },
      "source": [
        "## Retirando os espaços"
      ]
    },
    {
      "cell_type": "markdown",
      "metadata": {
        "_uuid": "a448fbf71b58aee128b5c7f1ec0785a6a3084e70",
        "id": "PzS5nd4vjQYp",
        "colab_type": "text"
      },
      "source": [
        "Vamos usar o comando `str.replace(' ','')` para remover os espaços em branco dos munícipios"
      ]
    },
    {
      "cell_type": "code",
      "metadata": {
        "trusted": false,
        "_uuid": "ca8ed1db7ae1300a19750d43a9fe1dd408e6ce1a",
        "id": "M7sIKV4pjQYp",
        "colab_type": "code",
        "colab": {}
      },
      "source": [
        "igf['mun'] = igf['mun'].str.replace(' ','')\n",
        "df['mun'] = df['mun'].str.replace(' ','')"
      ],
      "execution_count": null,
      "outputs": []
    },
    {
      "cell_type": "markdown",
      "metadata": {
        "_uuid": "cc9ba93fefa7b714ae88681f80b3bd7a5770ea22",
        "id": "IDvuWocdjQYr",
        "colab_type": "text"
      },
      "source": [
        "Podemos ver que ganhamos mais alguns itens no nosso merge, mas ainda falta um pouco:"
      ]
    },
    {
      "cell_type": "code",
      "metadata": {
        "trusted": false,
        "_uuid": "53ce69036002676178b669a6fb05a75a848f3224",
        "id": "dwMnNNE-jQYr",
        "colab_type": "code",
        "colab": {}
      },
      "source": [
        "df.merge(igf).shape"
      ],
      "execution_count": null,
      "outputs": []
    },
    {
      "cell_type": "markdown",
      "metadata": {
        "_uuid": "f4a7af5654bc007cba7c16ebf0adf853e6162829",
        "id": "hb6K46T4jQYs",
        "colab_type": "text"
      },
      "source": [
        "## O Comando `isin()`:"
      ]
    },
    {
      "cell_type": "markdown",
      "metadata": {
        "_uuid": "f39458f03c8aead05b3d9b71ac3d60fa4f7719ef",
        "id": "m0Qo4j1YjQYs",
        "colab_type": "text"
      },
      "source": [
        "Atráves do comando `isin()` conseguimos se os valores de uma coluna estão contidos em outra coluna. Com o `~` conseguimos saber quais os valores não estão contidos."
      ]
    },
    {
      "cell_type": "markdown",
      "metadata": {
        "_uuid": "9a17edf3cbfa0582bee76ad43377690d438feb02",
        "id": "aek8VjnZjQYs",
        "colab_type": "text"
      },
      "source": [
        "A seguir vamos selecionar os valores da coluna `mun` de `df` que não estão contidos na coluna `mun` de `igf`."
      ]
    },
    {
      "cell_type": "code",
      "metadata": {
        "trusted": false,
        "_uuid": "c4b91f607b71cd97061ffb6677dd4e894231099e",
        "id": "gE4-c1W9jQYs",
        "colab_type": "code",
        "colab": {}
      },
      "source": [
        "df_mun = df[~df.mun.isin(igf['mun'])]['mun'].values"
      ],
      "execution_count": null,
      "outputs": []
    },
    {
      "cell_type": "markdown",
      "metadata": {
        "_uuid": "e5a272c8574ad189c45a7a0b262a1d1329f05f0c",
        "id": "ofJL3P-NjQYt",
        "colab_type": "text"
      },
      "source": [
        "A seguir vamos selecionar os valores da coluna `mun` de `igf` que não estão contidos na coluna `mun` de `df`."
      ]
    },
    {
      "cell_type": "code",
      "metadata": {
        "trusted": false,
        "_uuid": "d663bc00f92a3fb89f310f2f53461096bdc7dbe5",
        "id": "LfhJbF79jQYt",
        "colab_type": "code",
        "colab": {}
      },
      "source": [
        "igf_mun = igf[~igf.mun.isin(df['mun'])]['mun'].values"
      ],
      "execution_count": null,
      "outputs": []
    },
    {
      "cell_type": "markdown",
      "metadata": {
        "_uuid": "e583136cbe980f5ec573d8db8ea9309313080c1e",
        "id": "0-ZRbtvsjQYv",
        "colab_type": "text"
      },
      "source": [
        "## Comparando proximidade de strings:"
      ]
    },
    {
      "cell_type": "markdown",
      "metadata": {
        "_uuid": "74ebed66e377c0a803ab6f9787698df82682ef94",
        "id": "JpMdsLV2jQYv",
        "colab_type": "text"
      },
      "source": [
        "Vamos importar o `SequenceMatcher` para compararmos dois textos e gerarmos um score de quão próximos eles são (1 é idêntico e 0 é nada similar)."
      ]
    },
    {
      "cell_type": "code",
      "metadata": {
        "trusted": false,
        "_uuid": "91a2d3a73fc52d449b787792860520b276aa2a55",
        "id": "TXSxCH2SjQYv",
        "colab_type": "code",
        "colab": {}
      },
      "source": [
        "from difflib import SequenceMatcher"
      ],
      "execution_count": null,
      "outputs": []
    },
    {
      "cell_type": "markdown",
      "metadata": {
        "_uuid": "2b7d6c7c56657d4749b2e3bd05bcc214416f2ef7",
        "id": "p9rdwkGbjQYv",
        "colab_type": "text"
      },
      "source": [
        "Vamos testar todos os valores contidos nas variáveis `df_mun` e `igf_mun` para saber quais são os valores na coluna `mun` de cada `DataFrame` que mais se assemelham, e substituir esses valores caso eles tenham uma semelhança maior do que 80%."
      ]
    },
    {
      "cell_type": "code",
      "metadata": {
        "trusted": false,
        "_uuid": "9d414c1be15c5edfdd082ecfefa3981c9befb521",
        "id": "5gu4tBlujQYw",
        "colab_type": "code",
        "colab": {}
      },
      "source": [
        "for municipio_1 in df_mun:\n",
        "    \n",
        "    \n",
        "    print(score, municipios_proximos)\n",
        "    if score > 0.8:\n",
        "        idx = igf[igf['mun']==municipios_proximos[1]].index[0]\n",
        "        igf.at[idx, 'mun'] = municipios_proximos[0]       "
      ],
      "execution_count": null,
      "outputs": []
    },
    {
      "cell_type": "markdown",
      "metadata": {
        "_uuid": "6fc41ad118f190572b48bb0fcfbb137ca9921dbc",
        "id": "N8APZ_kzjQYw",
        "colab_type": "text"
      },
      "source": [
        "Vamos avaliar as diferenças que ainda restam:"
      ]
    },
    {
      "cell_type": "code",
      "metadata": {
        "trusted": false,
        "_uuid": "0ce26b8fb627c1ce5a464c910b55e111c3ddc84f",
        "id": "359Z9azpjQYw",
        "colab_type": "code",
        "colab": {}
      },
      "source": [
        "df.merge(igf).shape"
      ],
      "execution_count": null,
      "outputs": []
    },
    {
      "cell_type": "code",
      "metadata": {
        "scrolled": true,
        "trusted": false,
        "_uuid": "24d7bae3967a3abd5ffa6493a5e7584550bb66b4",
        "id": "AuPrQ6LQjQYx",
        "colab_type": "code",
        "colab": {}
      },
      "source": [
        "df[~df.mun.isin(igf.mun)]"
      ],
      "execution_count": null,
      "outputs": []
    },
    {
      "cell_type": "code",
      "metadata": {
        "trusted": false,
        "_uuid": "43cbe28cef06a0af7cb9f4879d19da987cd6ab29",
        "id": "XaBnWjmQjQYy",
        "colab_type": "code",
        "colab": {}
      },
      "source": [
        "igf[~igf.mun.isin(df.mun)]"
      ],
      "execution_count": null,
      "outputs": []
    },
    {
      "cell_type": "markdown",
      "metadata": {
        "_uuid": "bce1b3e5fc8c9cad376a30213b9004c14730386d",
        "id": "AdmBIYiAjQYz",
        "colab_type": "text"
      },
      "source": [
        "## O comando `.at[]`"
      ]
    },
    {
      "cell_type": "markdown",
      "metadata": {
        "_uuid": "e34878e6d00be168e4bb8f940b2005d70acc8be3",
        "id": "3Az_pJZXjQYz",
        "colab_type": "text"
      },
      "source": [
        "Para substituirmos uma célula em específico é ideal usar o comando `.at[]`"
      ]
    },
    {
      "cell_type": "code",
      "metadata": {
        "trusted": false,
        "_uuid": "e47eda13292330b388b8c5499c09fa9dc6fd0cfc",
        "id": "KJCu3f4HjQYz",
        "colab_type": "code",
        "colab": {}
      },
      "source": [
        "igf.at[2911,'mun'] = 'EmbudasArtes'"
      ],
      "execution_count": null,
      "outputs": []
    },
    {
      "cell_type": "markdown",
      "metadata": {
        "_uuid": "41698d0dbd01c0a1aab78ebb867c8e11e537ad72",
        "id": "jxpx4HmJjQY0",
        "colab_type": "text"
      },
      "source": [
        "Podemos conferir que a atualização foi efetuada de forma correta:"
      ]
    },
    {
      "cell_type": "code",
      "metadata": {
        "trusted": false,
        "_uuid": "b2ad3d2de1db36b8c0fe94192568080f88d36e83",
        "id": "cWNEQSKpjQY0",
        "colab_type": "code",
        "colab": {}
      },
      "source": [
        "df[~df.mun.isin(igf.mun)]"
      ],
      "execution_count": null,
      "outputs": []
    },
    {
      "cell_type": "code",
      "metadata": {
        "trusted": false,
        "_uuid": "adbf9152ae9eb0742505882246e50b93df8feaa5",
        "id": "slsTVy--jQY1",
        "colab_type": "code",
        "colab": {}
      },
      "source": [
        "igf[~igf.mun.isin(df.mun)]"
      ],
      "execution_count": null,
      "outputs": []
    },
    {
      "cell_type": "markdown",
      "metadata": {
        "_uuid": "fa3dfda2f214d6bd5fc5f63fa1b9238da4947dab",
        "id": "skHHVssJjQY1",
        "colab_type": "text"
      },
      "source": [
        "Vamos terminar de substituir outros munícipios que façam sentido:"
      ]
    },
    {
      "cell_type": "code",
      "metadata": {
        "trusted": false,
        "_uuid": "1de1ac4b351ab5c4b867dfad9b74031f8d0a20bc",
        "id": "bQXt4zl2jQY1",
        "colab_type": "code",
        "colab": {}
      },
      "source": [
        "igf.at[4702, 'mun'] = 'SaoValerio'"
      ],
      "execution_count": null,
      "outputs": []
    },
    {
      "cell_type": "code",
      "metadata": {
        "trusted": false,
        "_uuid": "81dc125fcce18e3873d585d1600493c22c70f743",
        "id": "jf9m_dsrjQY2",
        "colab_type": "code",
        "colab": {}
      },
      "source": [
        "igf.at[4962, 'mun'] = 'SaoVicentedoSerido'"
      ],
      "execution_count": null,
      "outputs": []
    },
    {
      "cell_type": "markdown",
      "metadata": {
        "_uuid": "551597791664d3008e827bfa1b935a21f7b988bf",
        "id": "qpaoN19UjQY3",
        "colab_type": "text"
      },
      "source": [
        "Vamos avaliar as diferenças:"
      ]
    },
    {
      "cell_type": "code",
      "metadata": {
        "trusted": false,
        "_uuid": "0591acfd04e903740b148f8de3ecc208405b0788",
        "id": "_Jj2s38gjQY3",
        "colab_type": "code",
        "colab": {}
      },
      "source": [
        "df[~df.mun.isin(igf.mun)]"
      ],
      "execution_count": null,
      "outputs": []
    },
    {
      "cell_type": "code",
      "metadata": {
        "trusted": false,
        "_uuid": "1b66f66b81086922c626958362a51a2f5c3572c7",
        "id": "XYeUhk4ejQY3",
        "colab_type": "code",
        "colab": {}
      },
      "source": [
        "igf[~igf.mun.isin(df.mun)]"
      ],
      "execution_count": null,
      "outputs": []
    },
    {
      "cell_type": "markdown",
      "metadata": {
        "_uuid": "a89940c09f52a428fb94894bcaebda7800bae28a",
        "id": "5bvart5wjQY7",
        "colab_type": "text"
      },
      "source": [
        "Neste ponto as diferenças são mínimas, e a questão é realmente uma intervenção humana de caso a caso para decidir qual caminho vai ser dado para a junção entre tabelas."
      ]
    },
    {
      "cell_type": "code",
      "metadata": {
        "trusted": false,
        "_uuid": "98b148579380dba4c6a78aa7eeaf8ca8f8cd1427",
        "id": "I7fgWisljQY7",
        "colab_type": "code",
        "colab": {}
      },
      "source": [
        "df.merge(igf).shape"
      ],
      "execution_count": null,
      "outputs": []
    },
    {
      "cell_type": "code",
      "metadata": {
        "trusted": false,
        "_uuid": "b42c133a280d6ef83bf2c4fa6e9ffa877c05321c",
        "id": "yrFCtGWhjQY8",
        "colab_type": "code",
        "colab": {}
      },
      "source": [
        ""
      ],
      "execution_count": null,
      "outputs": []
    }
  ]
}
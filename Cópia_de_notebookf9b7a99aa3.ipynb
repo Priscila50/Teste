{
  "nbformat": 4,
  "nbformat_minor": 0,
  "metadata": {
    "kernelspec": {
      "language": "python",
      "display_name": "Python 3",
      "name": "python3"
    },
    "language_info": {
      "pygments_lexer": "ipython3",
      "nbconvert_exporter": "python",
      "version": "3.6.4",
      "file_extension": ".py",
      "codemirror_mode": {
        "name": "ipython",
        "version": 3
      },
      "name": "python",
      "mimetype": "text/x-python"
    },
    "colab": {
      "name": "Cópia de notebookf9b7a99aa3.ipynb",
      "provenance": [],
      "include_colab_link": true
    }
  },
  "cells": [
    {
      "cell_type": "markdown",
      "metadata": {
        "id": "view-in-github",
        "colab_type": "text"
      },
      "source": [
        "<a href=\"https://colab.research.google.com/github/Priscila50/Teste/blob/master/C%C3%B3pia_de_notebookf9b7a99aa3.ipynb\" target=\"_parent\"><img src=\"https://colab.research.google.com/assets/colab-badge.svg\" alt=\"Open In Colab\"/></a>"
      ]
    },
    {
      "cell_type": "markdown",
      "metadata": {
        "_uuid": "b5f1939a8f04ac76d3defd0dd87b92c6525cfa89",
        "id": "b2DIbartjQQD",
        "colab_type": "text"
      },
      "source": [
        "# Introdução a Análise de Dados - Python e pandas"
      ]
    },
    {
      "cell_type": "markdown",
      "metadata": {
        "_uuid": "6606e28f9424e42edef714e60e2f70644fba4287",
        "id": "VWL2AIljjQQE",
        "colab_type": "text"
      },
      "source": [
        "# O que é o pandas?\n",
        "\n",
        "O `pandas` é uma biblioteca de análise de dados gratuita e de código aberto para Python, que é a linguagem de programação mais popular da atualidade segundo o site `StackOverflow` \n",
        "\n",
        "Com o `Python` e o `pandas` você pode manipular uma grande quantidade de dados de forma muito rápida e eficiente estando em um ambiente de programação, o que te dá poder para trabalhar de forma extremamente personalizada no seu problema."
      ]
    },
    {
      "cell_type": "markdown",
      "metadata": {
        "_uuid": "9e18feae80135d44edf46ec96a06912d8bffb375",
        "id": "xsM9EJ8_jQQF",
        "colab_type": "text"
      },
      "source": [
        "## O que vamos aprender neste caderno?\n",
        "\n",
        "Vamos aprender o básico de manipulação e visualização de dados para conseguirmos fazer por conta próprias as nossas próprias análises."
      ]
    },
    {
      "cell_type": "markdown",
      "metadata": {
        "_uuid": "6c746fde12b666b137092f911ac7a7b7f5349b70",
        "id": "zovcBTJ8jQQG",
        "colab_type": "text"
      },
      "source": [
        "## Dicas de Jupyter Notebook\n",
        "\n",
        "Este programa que estamos usando no navegado se chama Jupyter Notebook e é um interpretador de Python interativo, podemos digitar um comando de Python e apertar _Shift + Enter_ e esse comando é executado e seu resultado é impresso na tela.\n",
        "\n",
        "Existem alguns atalhos bastante úteis para trabalhar com Jupyter Notebook:\n",
        "    0. 'Esc' - Saí do modo edição da célula atual\n",
        "    1. 'Enter' - Edita a célula selecionada\n",
        "    2. 'Shift + Enter' - Executa a célula selecionada\n",
        "    3. 'A' - Adiciona uma nova célula acima da célula atual (não pode estar em modo de edição)\n",
        "    4. 'B' - Adiciona uma nova célula abaixo da célula atual (não pode estar em modo de edição) \n",
        "    5. 'X' - Deleta a célula selecionada (não pode estar em modo de edição)\n",
        "    6. 'Z' - Desfaz a deleção de uma célula (não pode estar em modo de edição)\n",
        "    7. 'Ctrl + Z' - Desfaz as últimas edições\n",
        "    8. 'Ctrl + Shift + Z' - Refaz o último comando de desfazer\n",
        "    9. 'H' - Abre um arquivo de ajuda com todos os atalhos (não pode estar em modo de edição)\n",
        "    10. 'Tab' - Faz sugestões para completar o código\n",
        "    11. '?função' - Mostra a documentação de uma dada função\n",
        "    \n",
        "    (Modo de edição é verde ao lado, e modo de seleção é azul ao lado)"
      ]
    },
    {
      "cell_type": "markdown",
      "metadata": {
        "_uuid": "0f22f19a484bbf678b3f588c0290a33d33dc7232",
        "id": "u9BofX90jQQH",
        "colab_type": "text"
      },
      "source": [
        "# Iniciando com Python"
      ]
    },
    {
      "cell_type": "markdown",
      "metadata": {
        "_uuid": "380407839dc1af5b4984e2a712887e2aadf67641",
        "id": "L1XxjpIYjQQI",
        "colab_type": "text"
      },
      "source": [
        "As variáveis podem conter números `int` e `float`, textos `str`, valores booleanos `bool`, entre outras."
      ]
    },
    {
      "cell_type": "code",
      "metadata": {
        "trusted": false,
        "_uuid": "b1cb6dc3dc7473ea6e13509bbafb6a398531fb50",
        "id": "HdQy_9I6jQQJ",
        "colab_type": "code",
        "colab": {}
      },
      "source": [
        "x = 10"
      ],
      "execution_count": null,
      "outputs": []
    },
    {
      "cell_type": "code",
      "metadata": {
        "trusted": false,
        "_uuid": "28dea5586c129f20d3027f709aedfb419d9d91f3",
        "id": "ncTd9QC1jQQR",
        "colab_type": "code",
        "colab": {
          "base_uri": "https://localhost:8080/",
          "height": 34
        },
        "outputId": "baada364-fee0-4602-b519-63ffbe85d26b"
      },
      "source": [
        "x"
      ],
      "execution_count": null,
      "outputs": [
        {
          "output_type": "execute_result",
          "data": {
            "text/plain": [
              "10"
            ]
          },
          "metadata": {
            "tags": []
          },
          "execution_count": 35
        }
      ]
    },
    {
      "cell_type": "code",
      "metadata": {
        "trusted": false,
        "_uuid": "8ec7d4e9ad7c2365c06df28f747e80243c520013",
        "id": "fV13v_snjQQY",
        "colab_type": "code",
        "colab": {}
      },
      "source": [
        "y = 5"
      ],
      "execution_count": null,
      "outputs": []
    },
    {
      "cell_type": "code",
      "metadata": {
        "trusted": false,
        "_uuid": "825b54c72be9069778e02dbdf2b7e015bfda0d33",
        "id": "N21JHoIejQQe",
        "colab_type": "code",
        "colab": {
          "base_uri": "https://localhost:8080/",
          "height": 34
        },
        "outputId": "a6411083-6b29-48c5-a1c5-9a050c664579"
      },
      "source": [
        "x + y "
      ],
      "execution_count": null,
      "outputs": [
        {
          "output_type": "execute_result",
          "data": {
            "text/plain": [
              "15"
            ]
          },
          "metadata": {
            "tags": []
          },
          "execution_count": 37
        }
      ]
    },
    {
      "cell_type": "code",
      "metadata": {
        "trusted": false,
        "_uuid": "bc9e377b17b911731327b5072b995f014a1156cc",
        "id": "R3mG8AfrjQQj",
        "colab_type": "code",
        "colab": {}
      },
      "source": [
        "nome = 'José'"
      ],
      "execution_count": null,
      "outputs": []
    },
    {
      "cell_type": "code",
      "metadata": {
        "trusted": false,
        "_uuid": "86bdf570f930a4997d0b0363ef7d8dc04c95c893",
        "id": "sap9CHV_jQQn",
        "colab_type": "code",
        "colab": {}
      },
      "source": [
        "sobrenome = 'da Silva'"
      ],
      "execution_count": null,
      "outputs": []
    },
    {
      "cell_type": "code",
      "metadata": {
        "trusted": false,
        "_uuid": "40dd08aa2b0b7b8ba5f8056545af85eabb35806c",
        "id": "202THhfpjQQs",
        "colab_type": "code",
        "colab": {}
      },
      "source": [
        "nome_completo = nome + ' ' + sobrenome"
      ],
      "execution_count": null,
      "outputs": []
    },
    {
      "cell_type": "markdown",
      "metadata": {
        "id": "4Ju773CMxe0j",
        "colab_type": "text"
      },
      "source": [
        ""
      ]
    },
    {
      "cell_type": "markdown",
      "metadata": {
        "id": "X5KKtMKdxevE",
        "colab_type": "text"
      },
      "source": [
        ""
      ]
    },
    {
      "cell_type": "code",
      "metadata": {
        "trusted": false,
        "_uuid": "c4ef06da14bf703e9c7bc85c70cc3d6012874220",
        "id": "BhmOSaj1jQQ0",
        "colab_type": "code",
        "colab": {
          "base_uri": "https://localhost:8080/",
          "height": 35
        },
        "outputId": "737fb9e6-3374-4f80-a19e-8b60327ca46c"
      },
      "source": [
        "nome_completo"
      ],
      "execution_count": null,
      "outputs": [
        {
          "output_type": "execute_result",
          "data": {
            "application/vnd.google.colaboratory.intrinsic+json": {
              "type": "string"
            },
            "text/plain": [
              "'José da Silva'"
            ]
          },
          "metadata": {
            "tags": []
          },
          "execution_count": 41
        }
      ]
    },
    {
      "cell_type": "markdown",
      "metadata": {
        "_uuid": "6f8712eb3dc1e5fc1369512fdf6144396b51f9e5",
        "id": "6-7mmQqTjQQ5",
        "colab_type": "text"
      },
      "source": [
        "## `Exercícios: Python Básico`"
      ]
    },
    {
      "cell_type": "markdown",
      "metadata": {
        "_uuid": "493fd57be177ce094af80f7a7c609b9ca4dd82ec",
        "id": "nexuwLMwjQQ6",
        "colab_type": "text"
      },
      "source": [
        "1. Criar as variáveis `nome` e `idade` e atribuir valores a elas\n",
        "2. Juntar as variáveis por meio do comando: `nome + ' ' + idade`"
      ]
    },
    {
      "cell_type": "markdown",
      "metadata": {
        "_uuid": "6641b6e96f464c3e68b19e261cf00568d367c69d",
        "id": "l3O2kK8EjQQ7",
        "colab_type": "text"
      },
      "source": [
        "# Preparando o Ambiente\n",
        "\n",
        "Importando as bibliotecas que iremos usar no treinamento:"
      ]
    },
    {
      "cell_type": "code",
      "metadata": {
        "trusted": true,
        "_uuid": "7e90eb94a86238e357d5df95ae8a9235ba5158ec",
        "id": "9tUsepfKjQQ8",
        "colab_type": "code",
        "colab": {}
      },
      "source": [
        "import pandas as pd\n",
        "import seaborn as sns"
      ],
      "execution_count": null,
      "outputs": []
    },
    {
      "cell_type": "markdown",
      "metadata": {
        "_uuid": "089cdb846b72c7898f97050d59d5eeb6355b1576",
        "id": "dpbOnC-XjQRC",
        "colab_type": "text"
      },
      "source": [
        "Importando os dados a partir de um arquivo '<i>.csv</i>' contendo dados do IGM preparado especificamente para usarmos neste treinamento.\n",
        "\n",
        "Em nosso código esse arquivo ficará salvo com o nome de `igm`\n",
        "\n",
        "Esse arquivo foi construído a partir de uma série de colunas que compõe o IGM e também de notas do ENEM."
      ]
    },
    {
      "cell_type": "code",
      "metadata": {
        "trusted": true,
        "_uuid": "c1e7b43ff14d6789182060c88d9b07e92a24f1e6",
        "id": "jj5m3ycNjQRD",
        "colab_type": "code",
        "colab": {
          "base_uri": "https://localhost:8080/",
          "height": 391
        },
        "outputId": "72774be9-4c48-4126-d907-79cf60b3d056"
      },
      "source": [
        "igm = pd.read_csv('/content/drive/My Drive/Reviewnotebookf9b7a99aa3.ipynb/igm_modificado.csv')"
      ],
      "execution_count": null,
      "outputs": [
        {
          "output_type": "error",
          "ename": "FileNotFoundError",
          "evalue": "ignored",
          "traceback": [
            "\u001b[0;31m---------------------------------------------------------------------------\u001b[0m",
            "\u001b[0;31mFileNotFoundError\u001b[0m                         Traceback (most recent call last)",
            "\u001b[0;32m<ipython-input-43-aca00a6a2665>\u001b[0m in \u001b[0;36m<module>\u001b[0;34m()\u001b[0m\n\u001b[0;32m----> 1\u001b[0;31m \u001b[0migm\u001b[0m \u001b[0;34m=\u001b[0m \u001b[0mpd\u001b[0m\u001b[0;34m.\u001b[0m\u001b[0mread_csv\u001b[0m\u001b[0;34m(\u001b[0m\u001b[0;34m'/content/drive/My Drive/Reviewnotebookf9b7a99aa3.ipynb/igm_modificado.csv'\u001b[0m\u001b[0;34m)\u001b[0m\u001b[0;34m\u001b[0m\u001b[0;34m\u001b[0m\u001b[0m\n\u001b[0m",
            "\u001b[0;32m/usr/local/lib/python3.6/dist-packages/pandas/io/parsers.py\u001b[0m in \u001b[0;36mparser_f\u001b[0;34m(filepath_or_buffer, sep, delimiter, header, names, index_col, usecols, squeeze, prefix, mangle_dupe_cols, dtype, engine, converters, true_values, false_values, skipinitialspace, skiprows, skipfooter, nrows, na_values, keep_default_na, na_filter, verbose, skip_blank_lines, parse_dates, infer_datetime_format, keep_date_col, date_parser, dayfirst, cache_dates, iterator, chunksize, compression, thousands, decimal, lineterminator, quotechar, quoting, doublequote, escapechar, comment, encoding, dialect, error_bad_lines, warn_bad_lines, delim_whitespace, low_memory, memory_map, float_precision)\u001b[0m\n\u001b[1;32m    674\u001b[0m         )\n\u001b[1;32m    675\u001b[0m \u001b[0;34m\u001b[0m\u001b[0m\n\u001b[0;32m--> 676\u001b[0;31m         \u001b[0;32mreturn\u001b[0m \u001b[0m_read\u001b[0m\u001b[0;34m(\u001b[0m\u001b[0mfilepath_or_buffer\u001b[0m\u001b[0;34m,\u001b[0m \u001b[0mkwds\u001b[0m\u001b[0;34m)\u001b[0m\u001b[0;34m\u001b[0m\u001b[0;34m\u001b[0m\u001b[0m\n\u001b[0m\u001b[1;32m    677\u001b[0m \u001b[0;34m\u001b[0m\u001b[0m\n\u001b[1;32m    678\u001b[0m     \u001b[0mparser_f\u001b[0m\u001b[0;34m.\u001b[0m\u001b[0m__name__\u001b[0m \u001b[0;34m=\u001b[0m \u001b[0mname\u001b[0m\u001b[0;34m\u001b[0m\u001b[0;34m\u001b[0m\u001b[0m\n",
            "\u001b[0;32m/usr/local/lib/python3.6/dist-packages/pandas/io/parsers.py\u001b[0m in \u001b[0;36m_read\u001b[0;34m(filepath_or_buffer, kwds)\u001b[0m\n\u001b[1;32m    446\u001b[0m \u001b[0;34m\u001b[0m\u001b[0m\n\u001b[1;32m    447\u001b[0m     \u001b[0;31m# Create the parser.\u001b[0m\u001b[0;34m\u001b[0m\u001b[0;34m\u001b[0m\u001b[0;34m\u001b[0m\u001b[0m\n\u001b[0;32m--> 448\u001b[0;31m     \u001b[0mparser\u001b[0m \u001b[0;34m=\u001b[0m \u001b[0mTextFileReader\u001b[0m\u001b[0;34m(\u001b[0m\u001b[0mfp_or_buf\u001b[0m\u001b[0;34m,\u001b[0m \u001b[0;34m**\u001b[0m\u001b[0mkwds\u001b[0m\u001b[0;34m)\u001b[0m\u001b[0;34m\u001b[0m\u001b[0;34m\u001b[0m\u001b[0m\n\u001b[0m\u001b[1;32m    449\u001b[0m \u001b[0;34m\u001b[0m\u001b[0m\n\u001b[1;32m    450\u001b[0m     \u001b[0;32mif\u001b[0m \u001b[0mchunksize\u001b[0m \u001b[0;32mor\u001b[0m \u001b[0miterator\u001b[0m\u001b[0;34m:\u001b[0m\u001b[0;34m\u001b[0m\u001b[0;34m\u001b[0m\u001b[0m\n",
            "\u001b[0;32m/usr/local/lib/python3.6/dist-packages/pandas/io/parsers.py\u001b[0m in \u001b[0;36m__init__\u001b[0;34m(self, f, engine, **kwds)\u001b[0m\n\u001b[1;32m    878\u001b[0m             \u001b[0mself\u001b[0m\u001b[0;34m.\u001b[0m\u001b[0moptions\u001b[0m\u001b[0;34m[\u001b[0m\u001b[0;34m\"has_index_names\"\u001b[0m\u001b[0;34m]\u001b[0m \u001b[0;34m=\u001b[0m \u001b[0mkwds\u001b[0m\u001b[0;34m[\u001b[0m\u001b[0;34m\"has_index_names\"\u001b[0m\u001b[0;34m]\u001b[0m\u001b[0;34m\u001b[0m\u001b[0;34m\u001b[0m\u001b[0m\n\u001b[1;32m    879\u001b[0m \u001b[0;34m\u001b[0m\u001b[0m\n\u001b[0;32m--> 880\u001b[0;31m         \u001b[0mself\u001b[0m\u001b[0;34m.\u001b[0m\u001b[0m_make_engine\u001b[0m\u001b[0;34m(\u001b[0m\u001b[0mself\u001b[0m\u001b[0;34m.\u001b[0m\u001b[0mengine\u001b[0m\u001b[0;34m)\u001b[0m\u001b[0;34m\u001b[0m\u001b[0;34m\u001b[0m\u001b[0m\n\u001b[0m\u001b[1;32m    881\u001b[0m \u001b[0;34m\u001b[0m\u001b[0m\n\u001b[1;32m    882\u001b[0m     \u001b[0;32mdef\u001b[0m \u001b[0mclose\u001b[0m\u001b[0;34m(\u001b[0m\u001b[0mself\u001b[0m\u001b[0;34m)\u001b[0m\u001b[0;34m:\u001b[0m\u001b[0;34m\u001b[0m\u001b[0;34m\u001b[0m\u001b[0m\n",
            "\u001b[0;32m/usr/local/lib/python3.6/dist-packages/pandas/io/parsers.py\u001b[0m in \u001b[0;36m_make_engine\u001b[0;34m(self, engine)\u001b[0m\n\u001b[1;32m   1112\u001b[0m     \u001b[0;32mdef\u001b[0m \u001b[0m_make_engine\u001b[0m\u001b[0;34m(\u001b[0m\u001b[0mself\u001b[0m\u001b[0;34m,\u001b[0m \u001b[0mengine\u001b[0m\u001b[0;34m=\u001b[0m\u001b[0;34m\"c\"\u001b[0m\u001b[0;34m)\u001b[0m\u001b[0;34m:\u001b[0m\u001b[0;34m\u001b[0m\u001b[0;34m\u001b[0m\u001b[0m\n\u001b[1;32m   1113\u001b[0m         \u001b[0;32mif\u001b[0m \u001b[0mengine\u001b[0m \u001b[0;34m==\u001b[0m \u001b[0;34m\"c\"\u001b[0m\u001b[0;34m:\u001b[0m\u001b[0;34m\u001b[0m\u001b[0;34m\u001b[0m\u001b[0m\n\u001b[0;32m-> 1114\u001b[0;31m             \u001b[0mself\u001b[0m\u001b[0;34m.\u001b[0m\u001b[0m_engine\u001b[0m \u001b[0;34m=\u001b[0m \u001b[0mCParserWrapper\u001b[0m\u001b[0;34m(\u001b[0m\u001b[0mself\u001b[0m\u001b[0;34m.\u001b[0m\u001b[0mf\u001b[0m\u001b[0;34m,\u001b[0m \u001b[0;34m**\u001b[0m\u001b[0mself\u001b[0m\u001b[0;34m.\u001b[0m\u001b[0moptions\u001b[0m\u001b[0;34m)\u001b[0m\u001b[0;34m\u001b[0m\u001b[0;34m\u001b[0m\u001b[0m\n\u001b[0m\u001b[1;32m   1115\u001b[0m         \u001b[0;32melse\u001b[0m\u001b[0;34m:\u001b[0m\u001b[0;34m\u001b[0m\u001b[0;34m\u001b[0m\u001b[0m\n\u001b[1;32m   1116\u001b[0m             \u001b[0;32mif\u001b[0m \u001b[0mengine\u001b[0m \u001b[0;34m==\u001b[0m \u001b[0;34m\"python\"\u001b[0m\u001b[0;34m:\u001b[0m\u001b[0;34m\u001b[0m\u001b[0;34m\u001b[0m\u001b[0m\n",
            "\u001b[0;32m/usr/local/lib/python3.6/dist-packages/pandas/io/parsers.py\u001b[0m in \u001b[0;36m__init__\u001b[0;34m(self, src, **kwds)\u001b[0m\n\u001b[1;32m   1889\u001b[0m         \u001b[0mkwds\u001b[0m\u001b[0;34m[\u001b[0m\u001b[0;34m\"usecols\"\u001b[0m\u001b[0;34m]\u001b[0m \u001b[0;34m=\u001b[0m \u001b[0mself\u001b[0m\u001b[0;34m.\u001b[0m\u001b[0musecols\u001b[0m\u001b[0;34m\u001b[0m\u001b[0;34m\u001b[0m\u001b[0m\n\u001b[1;32m   1890\u001b[0m \u001b[0;34m\u001b[0m\u001b[0m\n\u001b[0;32m-> 1891\u001b[0;31m         \u001b[0mself\u001b[0m\u001b[0;34m.\u001b[0m\u001b[0m_reader\u001b[0m \u001b[0;34m=\u001b[0m \u001b[0mparsers\u001b[0m\u001b[0;34m.\u001b[0m\u001b[0mTextReader\u001b[0m\u001b[0;34m(\u001b[0m\u001b[0msrc\u001b[0m\u001b[0;34m,\u001b[0m \u001b[0;34m**\u001b[0m\u001b[0mkwds\u001b[0m\u001b[0;34m)\u001b[0m\u001b[0;34m\u001b[0m\u001b[0;34m\u001b[0m\u001b[0m\n\u001b[0m\u001b[1;32m   1892\u001b[0m         \u001b[0mself\u001b[0m\u001b[0;34m.\u001b[0m\u001b[0munnamed_cols\u001b[0m \u001b[0;34m=\u001b[0m \u001b[0mself\u001b[0m\u001b[0;34m.\u001b[0m\u001b[0m_reader\u001b[0m\u001b[0;34m.\u001b[0m\u001b[0munnamed_cols\u001b[0m\u001b[0;34m\u001b[0m\u001b[0;34m\u001b[0m\u001b[0m\n\u001b[1;32m   1893\u001b[0m \u001b[0;34m\u001b[0m\u001b[0m\n",
            "\u001b[0;32mpandas/_libs/parsers.pyx\u001b[0m in \u001b[0;36mpandas._libs.parsers.TextReader.__cinit__\u001b[0;34m()\u001b[0m\n",
            "\u001b[0;32mpandas/_libs/parsers.pyx\u001b[0m in \u001b[0;36mpandas._libs.parsers.TextReader._setup_parser_source\u001b[0;34m()\u001b[0m\n",
            "\u001b[0;31mFileNotFoundError\u001b[0m: [Errno 2] File /content/drive/My Drive/Reviewnotebookf9b7a99aa3.ipynb/igm_modificado.csv does not exist: '/content/drive/My Drive/Reviewnotebookf9b7a99aa3.ipynb/igm_modificado.csv'"
          ]
        }
      ]
    },
    {
      "cell_type": "code",
      "metadata": {
        "id": "qSAVAFb1kRL2",
        "colab_type": "code",
        "colab": {}
      },
      "source": [
        "from google.colab import drive\n",
        "drive.mount('/content/drive')"
      ],
      "execution_count": null,
      "outputs": []
    },
    {
      "cell_type": "markdown",
      "metadata": {
        "_uuid": "66e76b3d08302cf33cb088f366040eb28249799a",
        "id": "2y8Fqvd1jQRH",
        "colab_type": "text"
      },
      "source": [
        "Temos uma variável chamada `igm` que está guardando algo, para descobrirmos basta digitar `igm` e apertar `Shift + Enter`:"
      ]
    },
    {
      "cell_type": "markdown",
      "metadata": {
        "_uuid": "7b05e99692e8717167fda9ea421a936c4f8df21f",
        "id": "wTULnvXPjQRI",
        "colab_type": "text"
      },
      "source": [
        "# Primeiro Contato com os Dados"
      ]
    },
    {
      "cell_type": "markdown",
      "metadata": {
        "_uuid": "ebef20b0d1d54bca79f81c5532e2f3fe534b8f34",
        "id": "IhA4bj2HjQRJ",
        "colab_type": "text"
      },
      "source": [
        "Uma das primeiras coisas a se fazer quando se pega um conjunto de dados novo é uma rápida visualização a fim de entender melhor o que tem dentro dele. "
      ]
    },
    {
      "cell_type": "code",
      "metadata": {
        "scrolled": true,
        "trusted": true,
        "_uuid": "3715bef2bc82dc88f5a83820d4d93dd80ae55f70",
        "id": "joVjRXhljQRK",
        "colab_type": "code",
        "colab": {}
      },
      "source": [
        "igm"
      ],
      "execution_count": null,
      "outputs": []
    },
    {
      "cell_type": "markdown",
      "metadata": {
        "_uuid": "8fb95692a15c97298ba829b0feb0da24b6e74589",
        "id": "VHwG8CoojQRP",
        "colab_type": "text"
      },
      "source": [
        "## Dissecando o DataFrame (Tipo de Dados)"
      ]
    },
    {
      "cell_type": "markdown",
      "metadata": {
        "_uuid": "33ae81f59317b6a5b98ee70cf48c3d02867e7f3d",
        "id": "dyxECPUejQRQ",
        "colab_type": "text"
      },
      "source": [
        "A visualização do DataFrame acima é composta pelos seguintes elementos:\n",
        "    \n",
        "    1. Index\n",
        "    2. Elemento do Index\n",
        "    3. Colunas\n",
        "    4. Nome da coluna (pode ter espaço, acento e etc, mas nome curto, simples, e representativo facilita o código)\n",
        "    5. '...'\n",
        "    6. Células (Dados)\n",
        "    7. NaNs"
      ]
    },
    {
      "cell_type": "markdown",
      "metadata": {
        "_uuid": "d2d2c15f27f325990378d937be4b8447ca037f2e",
        "id": "Zdphn9cGjQRR",
        "colab_type": "text"
      },
      "source": [
        "Para vermos apenas uma pequena parte, temos o comando `.head()` irá mostrar por padrão as 5 primeiras linhas do que existe dentro de um conjunto de dados dentro de um objeto do pandas."
      ]
    },
    {
      "cell_type": "code",
      "metadata": {
        "trusted": true,
        "_uuid": "8e8a47bb97c8de1b999716c63ed039842ab8cb82",
        "id": "1FYyrPGZjQRS",
        "colab_type": "code",
        "colab": {}
      },
      "source": [
        "igm.head()"
      ],
      "execution_count": null,
      "outputs": []
    },
    {
      "cell_type": "markdown",
      "metadata": {
        "_uuid": "46b9bf473c630a704633b90ed70f45a3a5eb50e1",
        "id": "8Wckw7bKjQRZ",
        "colab_type": "text"
      },
      "source": [
        "## Outras formas de selecionar uma pequena amostra de dados:"
      ]
    },
    {
      "cell_type": "markdown",
      "metadata": {
        "_uuid": "1c8f9c21d0408c8a9caef175c336b6519b4fb7d7",
        "id": "GUyc3h3-jQRa",
        "colab_type": "text"
      },
      "source": [
        "O comando inverso ao `head()` é o `tail()`, que irá mostrar as 5 __últimas__ linhas do DataFrame por padrão:"
      ]
    },
    {
      "cell_type": "code",
      "metadata": {
        "scrolled": true,
        "trusted": true,
        "_uuid": "ac8f0bf13f6d9e08c5ff49f38d588f09f8098bb6",
        "id": "6q849rDUjQRb",
        "colab_type": "code",
        "colab": {}
      },
      "source": [
        "igm.tail()"
      ],
      "execution_count": null,
      "outputs": []
    },
    {
      "cell_type": "markdown",
      "metadata": {
        "_uuid": "a6edef2132d69e044403e4d1f9b10b97653765d9",
        "id": "utEznYzejQRf",
        "colab_type": "text"
      },
      "source": [
        "Apesar da convenção no Python ser utilizar o `.head()` ou o `.tail()` para olhar um DataFrame novo, algo muito mais inteligente de se fazer para ter uma ideia representativa do DataFrame é utilizar o `sample(5)`, que seleciona 5 linhas aleatórias do seu `DataFrame`. Se você executar o comando algumas vezes vai obter resultados diferentes a cada iteração."
      ]
    },
    {
      "cell_type": "code",
      "metadata": {
        "trusted": true,
        "_uuid": "23abcb30b3f89f18a2bd470e61c13ca5fc0353df",
        "id": "TqKZBj-2jQRf",
        "colab_type": "code",
        "colab": {}
      },
      "source": [
        "igm.sample(5)"
      ],
      "execution_count": null,
      "outputs": []
    },
    {
      "cell_type": "markdown",
      "metadata": {
        "_uuid": "80451fe4534d1e5b34cf3daa6491b1246410b1a2",
        "id": "SWjQhqi4jQRk",
        "colab_type": "text"
      },
      "source": [
        "## Melhorando a visualização da tabela"
      ]
    },
    {
      "cell_type": "markdown",
      "metadata": {
        "_uuid": "3ed3637dd43b84972e155f0821b6c829ca9b1cde",
        "id": "L3Ezhpd8jQRl",
        "colab_type": "text"
      },
      "source": [
        "Um truque para visualizar melhor os dados é invertendo as linhas pelas colunas (matrix transposta), para isso basta colocar um `.T` depois do nosso comando que gera uma visualização de DataFrame."
      ]
    },
    {
      "cell_type": "markdown",
      "metadata": {
        "_uuid": "4e3cc1dcaf1b62fb877d3de6024ff309803b1aa3",
        "id": "lyMSo-lajQRm",
        "colab_type": "text"
      },
      "source": [
        "## Encadeamento de funcionalidades"
      ]
    },
    {
      "cell_type": "markdown",
      "metadata": {
        "_uuid": "9ea2bf2735c49dc07c56cb89acf4c448165eea5c",
        "id": "WSAuydW_jQRn",
        "colab_type": "text"
      },
      "source": [
        "Podemos juntar diversos comando na mesma linha, isto é, logo após o `sample(5)`, pode usar o `.T`, e essas funcionalidades irão funcionar em cascata e de forma sequêncial, primeiro o `sample(5)`, e depois o `.T`"
      ]
    },
    {
      "cell_type": "code",
      "metadata": {
        "scrolled": true,
        "trusted": true,
        "_uuid": "0f45f710159685ca96386b523b9390409597afb4",
        "id": "c5GlLB-yjQRo",
        "colab_type": "code",
        "colab": {}
      },
      "source": [
        "igm.sample(5).T"
      ],
      "execution_count": null,
      "outputs": []
    },
    {
      "cell_type": "markdown",
      "metadata": {
        "_uuid": "189efcc95dcc8fee819c6e92d93e6e3f22ace027",
        "id": "K3w_e142jQRs",
        "colab_type": "text"
      },
      "source": [
        "## Selecionando Linhas no pandas"
      ]
    },
    {
      "cell_type": "markdown",
      "metadata": {
        "_uuid": "854d9ab993b6dfaf1e6ca4d6082c4c376496fd9c",
        "id": "0iWY2j6njQRt",
        "colab_type": "text"
      },
      "source": [
        "Outra forma de vermos os 5 primeiros registros podemos usar o comando:"
      ]
    },
    {
      "cell_type": "code",
      "metadata": {
        "scrolled": true,
        "trusted": true,
        "_uuid": "e26653b0eff90743f4b8b5bd123fa0162087bfa5",
        "id": "VtGFJFaOjQRu",
        "colab_type": "code",
        "colab": {}
      },
      "source": [
        "igm[0:5].T"
      ],
      "execution_count": null,
      "outputs": []
    },
    {
      "cell_type": "markdown",
      "metadata": {
        "_uuid": "a625d9fc5d4ddccc347b704c2bd679c185e94dc0",
        "id": "_6ju0U2kjQRy",
        "colab_type": "text"
      },
      "source": [
        "Outra forma de vermos os cinco últimos comandos é:"
      ]
    },
    {
      "cell_type": "code",
      "metadata": {
        "scrolled": true,
        "trusted": true,
        "_uuid": "9e851abfdde4afebb3223a7e411897af7ab9e965",
        "id": "vr2BppApjQRz",
        "colab_type": "code",
        "colab": {}
      },
      "source": [
        "igm[-5:].T"
      ],
      "execution_count": null,
      "outputs": []
    },
    {
      "cell_type": "markdown",
      "metadata": {
        "_uuid": "39fef50b757ea7a779d24e58e96bf1d27a2b7d8b",
        "id": "UiV9_t9MjQR3",
        "colab_type": "text"
      },
      "source": [
        "A vantagem da forma explicitada acima é que podemos selecionar qualquer local da tabela, não estando restritos as primeiras linhas. Por exemplo, o comando a seguir seleciona as linhas 20 até 29:"
      ]
    },
    {
      "cell_type": "code",
      "metadata": {
        "scrolled": true,
        "trusted": true,
        "_uuid": "e1c1209ea25fa37afd3aac62e3885112fe22caf3",
        "id": "iuZp6IcWjQR4",
        "colab_type": "code",
        "colab": {}
      },
      "source": [
        "igm[20:30].T"
      ],
      "execution_count": null,
      "outputs": []
    },
    {
      "cell_type": "markdown",
      "metadata": {
        "_uuid": "0369a8ab49400bea7922221b42c6a2c2dc585c7f",
        "id": "IImf14KKjQR-",
        "colab_type": "text"
      },
      "source": [
        "## Slicing no Pandas"
      ]
    },
    {
      "cell_type": "markdown",
      "metadata": {
        "_uuid": "d9240b0c38420fc928479e63fd18af307df2f8d1",
        "id": "5w5wakUnjQR-",
        "colab_type": "text"
      },
      "source": [
        "O nome dessa operação de colocar algo entre colchetes é slicing, e isso como convenção geral é uma forma de selecionar um subconjunto de dados."
      ]
    },
    {
      "cell_type": "markdown",
      "metadata": {
        "_uuid": "4859ff39c7e1e7c67c4a16606302970cb70e0f93",
        "id": "vnG_pWcbjQR_",
        "colab_type": "text"
      },
      "source": [
        "[20:30] vai selecionar exatamente 10 elementos (30 - 20). O número da direita menos o número da esquerda é sempre o total de elementos que serão selecionados, e isso é uma convenção no Python.\n",
        "\n",
        "O número 20 é selecionado por ser um intervalo fechado na esquerda, e o número 30 não é selecionado por ser um intervalo aberto na direita. O que é outra convenção do Python."
      ]
    },
    {
      "cell_type": "markdown",
      "metadata": {
        "_uuid": "ae040e36cc317d2e4142b29011d94bff63494f7c",
        "id": "sRbaaaQMjQSB",
        "colab_type": "text"
      },
      "source": [
        "## Selecionando colunas"
      ]
    },
    {
      "cell_type": "markdown",
      "metadata": {
        "_uuid": "a3e3d7013d8980550152d55d336b6cddfc03945d",
        "id": "Il8_ForFjQSB",
        "colab_type": "text"
      },
      "source": [
        "Para selecionarmos colunas no pandas, basta dizermos o nome do DataFrame seguido por colchetes com o nome da coluna dentro:\n",
        "\n",
        "__Nome do Dataframe:__ `igm`\n",
        "\n",
        "__Colchetes com a coluna dentro:__ `['Porte do Município']`\n",
        "\n",
        "__Comando completo:__ `igm['Porte do Município']`"
      ]
    },
    {
      "cell_type": "code",
      "metadata": {
        "scrolled": true,
        "trusted": true,
        "_uuid": "bda5293dc48733d8b40786d992539fe11a0c7283",
        "id": "KCO3Gpc7jQSC",
        "colab_type": "code",
        "colab": {}
      },
      "source": [
        "igm['porte']"
      ],
      "execution_count": null,
      "outputs": []
    },
    {
      "cell_type": "markdown",
      "metadata": {
        "_uuid": "a77915c09efac968950a655a43ca5cc64c458de1",
        "id": "3yjqZ9DyjQSF",
        "colab_type": "text"
      },
      "source": [
        "## Selecionando Múltiplas Colunas"
      ]
    },
    {
      "cell_type": "markdown",
      "metadata": {
        "_uuid": "dfe96d5c984fc3c0010d812b9cf4e197a6719172",
        "id": "kOvTA7DPjQSG",
        "colab_type": "text"
      },
      "source": [
        "Podemos selecionar multiplas colunas com o comando `igm[['municipio', 'indice_governanca']]`:"
      ]
    },
    {
      "cell_type": "code",
      "metadata": {
        "scrolled": true,
        "trusted": true,
        "_uuid": "cd861f29244a52bf92ee27669efcd48c5c58c7e6",
        "id": "ZlLsdcKzjQSH",
        "colab_type": "code",
        "colab": {}
      },
      "source": [
        "igm[['municipio', 'indice_governanca']]"
      ],
      "execution_count": null,
      "outputs": []
    },
    {
      "cell_type": "markdown",
      "metadata": {
        "_uuid": "7f853685aabfe08e06127a9d54022c6bf4625fca",
        "id": "J97I4nYYjQSL",
        "colab_type": "text"
      },
      "source": [
        "##  `Exercícios: Seleções Básicas`"
      ]
    },
    {
      "cell_type": "markdown",
      "metadata": {
        "_uuid": "09722390bac0cb572cc1bdda8eb6e2e86125ee0d",
        "id": "5k2GNft_jQSM",
        "colab_type": "text"
      },
      "source": [
        "1. Selecionar as 10 primeiras linhas mostrando as colunas `municipio`, `estado` e `idhm`.\n",
        "2. Selecionar das linhas 15 a 24 os valores da coluna `municipio`"
      ]
    },
    {
      "cell_type": "markdown",
      "metadata": {
        "_uuid": "02b145153f40f44e409ccb9d4617bf63afe69ebd",
        "id": "RhAtJbg6jQSN",
        "colab_type": "text"
      },
      "source": [
        "## Dissecando Series (Tipo de Dados)"
      ]
    },
    {
      "cell_type": "code",
      "metadata": {
        "trusted": true,
        "_uuid": "778b26cb2fe151fa358d1c1307b86d5bcb2e6450",
        "id": "1_f6D_wijQSN",
        "colab_type": "code",
        "colab": {}
      },
      "source": [
        "type(igm['porte'])"
      ],
      "execution_count": null,
      "outputs": []
    },
    {
      "cell_type": "markdown",
      "metadata": {
        "_uuid": "c0ecf3056e378e725bc560ef204bbb79a8e6b82c",
        "id": "dLQL-GwWjQSR",
        "colab_type": "text"
      },
      "source": [
        "Quando selecionamos uma coluna, o nosso resultado é um objeto do tipo `Series`, que é basicamente a forma do pandas representar uma coluna. Uma `Series` é composta pelos seguintes elementos:\n",
        "    1. Index\n",
        "    2. Index label\n",
        "    3. Hidden values\n",
        "    4. Series Name\n",
        "    5. Lenght\n",
        "    6. dtype"
      ]
    },
    {
      "cell_type": "markdown",
      "metadata": {
        "_uuid": "27c519b2e63884918249ddd1e4653737f9015181",
        "id": "jNhA5FMOjQSR",
        "colab_type": "text"
      },
      "source": [
        "# Fazendo Operações de Agregamento:"
      ]
    },
    {
      "cell_type": "markdown",
      "metadata": {
        "_uuid": "a7341273c9976510e4e543bc88a91de8c5f49e1b",
        "id": "fL0T9hxojQSV",
        "colab_type": "text"
      },
      "source": [
        "Vamos contar quantos valores da coluna `porte` temos para cada tipo com o comando `value_counts()`:"
      ]
    },
    {
      "cell_type": "code",
      "metadata": {
        "trusted": true,
        "_uuid": "3ffe229c50ca8cc12fd8d3438b80ad6a3917d6cb",
        "id": "-KFqb_XjjQSV",
        "colab_type": "code",
        "colab": {}
      },
      "source": [
        "igm['porte'].value_counts()"
      ],
      "execution_count": null,
      "outputs": []
    },
    {
      "cell_type": "markdown",
      "metadata": {
        "_uuid": "61df9112fc880a287fa2df6116cabfc1a2065787",
        "id": "Rr2QReqKjQSZ",
        "colab_type": "text"
      },
      "source": [
        "## Plotando Nosso Primeiro Gráfico"
      ]
    },
    {
      "cell_type": "markdown",
      "metadata": {
        "_uuid": "f9a5cf1def16ab0785c9d401e2e53a186add96e1",
        "id": "es_bob1mjQSa",
        "colab_type": "text"
      },
      "source": [
        "Para garantir que nossos gráficos vão ser plotados em todas as versões do `Jupyter Notebook` precisamos rodar o comando abaixo:"
      ]
    },
    {
      "cell_type": "code",
      "metadata": {
        "trusted": true,
        "_uuid": "25a46005388e5fccd33cba7aba4bc9ff9823044d",
        "id": "3NWnp2UdjQSb",
        "colab_type": "code",
        "colab": {}
      },
      "source": [
        "%matplotlib inline"
      ],
      "execution_count": null,
      "outputs": []
    },
    {
      "cell_type": "markdown",
      "metadata": {
        "_uuid": "cb5a073e25f13253c5846193b6f3e12b5f8e2eec",
        "id": "c5jbwGsojQSe",
        "colab_type": "text"
      },
      "source": [
        "Com bastante facilidade podemos plotar um gráfico com os valores acima, basta colocar `.plot.bar()` na sequência."
      ]
    },
    {
      "cell_type": "code",
      "metadata": {
        "scrolled": false,
        "trusted": true,
        "_uuid": "83bfddcc73b879379d9be3020e25ca307d1c7910",
        "id": "gz-agTbNjQSf",
        "colab_type": "code",
        "colab": {}
      },
      "source": [
        "igm['porte'].value_counts().plot.bar()"
      ],
      "execution_count": null,
      "outputs": []
    },
    {
      "cell_type": "markdown",
      "metadata": {
        "_uuid": "dd1d097e114ed519ab1b81439d0169c392198042",
        "id": "kXojvqLfjQSi",
        "colab_type": "text"
      },
      "source": [
        "##  `Exercícios: Series`"
      ]
    },
    {
      "cell_type": "markdown",
      "metadata": {
        "_uuid": "de87944c02a4142c3b0f0167da7b7a8b626e9a6e",
        "id": "woTdUprWjQSi",
        "colab_type": "text"
      },
      "source": [
        "1. Contar o número de munícipios por estado\n",
        "2. Plotar gráfico de número de munícipios por estado"
      ]
    },
    {
      "cell_type": "markdown",
      "metadata": {
        "_uuid": "50c7035abbb62a5b9ecb8d65e95e1a08edae9bec",
        "id": "sCLBYVVBjQSj",
        "colab_type": "text"
      },
      "source": [
        "## Operações de Agregamento Numéricas\n"
      ]
    },
    {
      "cell_type": "markdown",
      "metadata": {
        "_uuid": "d086a745795a16fc1328cbba872b1ebc24a83d72",
        "id": "2e6jlo0JjQSk",
        "colab_type": "text"
      },
      "source": [
        "Vamos criar uma variável chamada `ind_des` para guarda a nossa `Series` relativa a coluna `indice_governanca`"
      ]
    },
    {
      "cell_type": "code",
      "metadata": {
        "trusted": true,
        "_uuid": "ca52503e6f033fd428ca42d7afd01ccfac66993f",
        "id": "oMEP5hfbjQSk",
        "colab_type": "code",
        "colab": {}
      },
      "source": [
        "ind_des = igm['indice_governanca']"
      ],
      "execution_count": null,
      "outputs": []
    },
    {
      "cell_type": "markdown",
      "metadata": {
        "_uuid": "fd14dcf9878034267d8320dae2b42eb1f3b7b6fc",
        "id": "IDBA3XJ1jQSo",
        "colab_type": "text"
      },
      "source": [
        "Vamos contar a quantidade de elementos em `ind_des`"
      ]
    },
    {
      "cell_type": "markdown",
      "metadata": {
        "_uuid": "73ca849c84d7eb2426be0f8af3bf260ee58f45f7",
        "id": "7WgSvWMujQSp",
        "colab_type": "text"
      },
      "source": [
        "Para verificarmos quais são os valores em branco podemos usar o `isnull()`, que nos retornar uma `Series` com valores `True` ou `False` de acordo com se os valores estiverem em branco ou não."
      ]
    },
    {
      "cell_type": "code",
      "metadata": {
        "scrolled": false,
        "trusted": true,
        "_uuid": "1173b26fbc84edb0aeb3209e6a61951060a4c844",
        "id": "oMv6JATqjQSq",
        "colab_type": "code",
        "colab": {}
      },
      "source": [
        "ind_des.count()"
      ],
      "execution_count": null,
      "outputs": []
    },
    {
      "cell_type": "markdown",
      "metadata": {
        "_uuid": "e56d679825fc02ca8aa73cd2dff60ea1cb5b0a18",
        "id": "GfG0uHomjQSu",
        "colab_type": "text"
      },
      "source": [
        "Note que o `.count()` não contabiliza valores em branco, se quisermos ver os valores em branco temos que usar o atributo `.size`, que não tem paranteses"
      ]
    },
    {
      "cell_type": "code",
      "metadata": {
        "trusted": true,
        "_uuid": "55d2003b76baf3c7bcb383e4405bf0e9430ebdda",
        "id": "EgAZCyQsjQSv",
        "colab_type": "code",
        "colab": {}
      },
      "source": [
        "ind_des.size"
      ],
      "execution_count": null,
      "outputs": []
    },
    {
      "cell_type": "code",
      "metadata": {
        "scrolled": true,
        "trusted": true,
        "_uuid": "5e20d661426900a6f7289910b7e1366339d6517d",
        "id": "m5_GXR5BjQSy",
        "colab_type": "code",
        "colab": {}
      },
      "source": [
        "ind_des.isnull()"
      ],
      "execution_count": null,
      "outputs": []
    },
    {
      "cell_type": "markdown",
      "metadata": {
        "_uuid": "79f1323663cfb24fcddd69ee78aa2df64fc05130",
        "id": "bmYSy3UIjQS0",
        "colab_type": "text"
      },
      "source": [
        "Uma forma de melhor utilizarmos essa informação é contabilizando o total de valores em branco, note que `True` tem valor `1` e `False` tem valor `0`, portanto se somarmos todos os elementos, teremos o total de valores em branco."
      ]
    },
    {
      "cell_type": "code",
      "metadata": {
        "scrolled": true,
        "trusted": true,
        "_uuid": "ef00232c41592db8523052b917d33ae817903736",
        "id": "i4g1_xuijQS1",
        "colab_type": "code",
        "colab": {}
      },
      "source": [
        "ind_des.isnull().sum()"
      ],
      "execution_count": null,
      "outputs": []
    },
    {
      "cell_type": "markdown",
      "metadata": {
        "_uuid": "a3570591fe6d0323c7d6944b3b503b38a669e0ab",
        "id": "2_9i3QCCjQS3",
        "colab_type": "text"
      },
      "source": [
        "Podemos remover esses valores em branco com um simples comando, o `dropna()`."
      ]
    },
    {
      "cell_type": "code",
      "metadata": {
        "scrolled": true,
        "trusted": true,
        "_uuid": "73297a40bc3fef18b503a7111342d33d72e517f4",
        "id": "ah9VQZYHjQS4",
        "colab_type": "code",
        "colab": {}
      },
      "source": [
        "ind_des.dropna()"
      ],
      "execution_count": null,
      "outputs": []
    },
    {
      "cell_type": "markdown",
      "metadata": {
        "_uuid": "f80d22eebbe391562380ca0fe4eba6eda9d441c4",
        "id": "DHjqsiowjQS8",
        "colab_type": "text"
      },
      "source": [
        "Ele retornou os valores, e podemos ver que não tem nenhum valor em branco, mas vamos verificar de fato para ver se mudamos os nossos valores:"
      ]
    },
    {
      "cell_type": "code",
      "metadata": {
        "trusted": true,
        "_uuid": "713c5026212ccd625d4e709eade1f24a46ce2d7f",
        "id": "aa2KYxA-jQS8",
        "colab_type": "code",
        "colab": {}
      },
      "source": [
        "ind_des.isnull().sum()"
      ],
      "execution_count": null,
      "outputs": []
    },
    {
      "cell_type": "markdown",
      "metadata": {
        "_uuid": "6a56a522de1591483574616ced9d2fa268265dff",
        "id": "yPoQIVWhjQTB",
        "colab_type": "text"
      },
      "source": [
        "Não mudou, por que isso aconteceu? Uma série de funções no pandas não alteram o objeto em questão, porque muitas vezes estamos fazendo transformações temporárias para gerar uma visualização ou análise, para mudar o objeto temos que passar um parâmetro a mais que é o `inplace=True`."
      ]
    },
    {
      "cell_type": "code",
      "metadata": {
        "trusted": true,
        "_uuid": "9a73d782a493e29ee59adda8cf9ed7f570eba1a6",
        "id": "ECk4H1SsjQTB",
        "colab_type": "code",
        "colab": {}
      },
      "source": [
        "ind_des.dropna(inplace=True)"
      ],
      "execution_count": null,
      "outputs": []
    },
    {
      "cell_type": "markdown",
      "metadata": {
        "_uuid": "2f4e8ad10c97fba23285fed39ccbb7737af8cb02",
        "id": "H3SmP_oHjQTG",
        "colab_type": "text"
      },
      "source": [
        "Vamos verificar novamente se temos valores em branco no nosso conjunto de dados:"
      ]
    },
    {
      "cell_type": "code",
      "metadata": {
        "scrolled": true,
        "trusted": true,
        "_uuid": "8e5bf10cacd06618184819ba3e77f5d9591e0597",
        "id": "oFry4IGwjQTH",
        "colab_type": "code",
        "colab": {}
      },
      "source": [
        "ind_des.isnull().sum()"
      ],
      "execution_count": null,
      "outputs": []
    },
    {
      "cell_type": "markdown",
      "metadata": {
        "_uuid": "8c72ca3138bfe54db61a64e2419b2d250007cdda",
        "id": "YoKNt5RyjQTK",
        "colab_type": "text"
      },
      "source": [
        "Selecionando o valor mínimo do índice de desempenho"
      ]
    },
    {
      "cell_type": "code",
      "metadata": {
        "scrolled": true,
        "trusted": true,
        "_uuid": "a18cfe34e9bdd2d6aa4ecadfc3de803787fe1843",
        "id": "n-T_wCH7jQTL",
        "colab_type": "code",
        "colab": {}
      },
      "source": [
        "ind_des.min()"
      ],
      "execution_count": null,
      "outputs": []
    },
    {
      "cell_type": "markdown",
      "metadata": {
        "_uuid": "7d7ca90c7a57844eeb3c1cefaae2ad7965926e8c",
        "id": "YBAvNqDGjQTN",
        "colab_type": "text"
      },
      "source": [
        "Selecionando o valor máximo do índice de desempenho"
      ]
    },
    {
      "cell_type": "code",
      "metadata": {
        "scrolled": false,
        "trusted": true,
        "_uuid": "b55738c76488eaaf0131158a7aab69e23a262bd5",
        "id": "a96b43oEjQTO",
        "colab_type": "code",
        "colab": {}
      },
      "source": [
        "ind_des.max()"
      ],
      "execution_count": null,
      "outputs": []
    },
    {
      "cell_type": "markdown",
      "metadata": {
        "_uuid": "cf14292f4d81087035ef0f4c11a908ab31890aeb",
        "id": "l-BTCSNZjQTR",
        "colab_type": "text"
      },
      "source": [
        "Olhando a média dos valores:"
      ]
    },
    {
      "cell_type": "code",
      "metadata": {
        "trusted": true,
        "_uuid": "28f5f93d540df279fa0777505e2785a53141db6d",
        "id": "DEY3aSR6jQTS",
        "colab_type": "code",
        "colab": {}
      },
      "source": [
        "ind_des.mean()"
      ],
      "execution_count": null,
      "outputs": []
    },
    {
      "cell_type": "markdown",
      "metadata": {
        "_uuid": "75c778476f46fc765b4d86e8d2bb0fdc9ba4936a",
        "id": "VfyftCNSjQTV",
        "colab_type": "text"
      },
      "source": [
        "Olhando o desvio padrão dos valores:"
      ]
    },
    {
      "cell_type": "code",
      "metadata": {
        "trusted": true,
        "_uuid": "58bbc314807978c4f768978755e37c262d2b47cc",
        "id": "o-vcqRCFjQTV",
        "colab_type": "code",
        "colab": {}
      },
      "source": [
        "ind_des.std()"
      ],
      "execution_count": null,
      "outputs": []
    },
    {
      "cell_type": "markdown",
      "metadata": {
        "_uuid": "3251d2031eff8779924e872c40d3af6bff0b63c9",
        "id": "-TpxFzcmjQTZ",
        "colab_type": "text"
      },
      "source": [
        "## Tendo uma visão geral do Índice de Governança"
      ]
    },
    {
      "cell_type": "markdown",
      "metadata": {
        "_uuid": "a329fa0735b636179548ec8db46a35e0a450c7ea",
        "id": "upXcYlLCjQTZ",
        "colab_type": "text"
      },
      "source": [
        "Um comando muito útil para avaliar uma `Series` é o `.describe()`, que irá calcular os quartis, valores máximo, mínimo, a média e o desvio padrão."
      ]
    },
    {
      "cell_type": "code",
      "metadata": {
        "scrolled": true,
        "trusted": true,
        "_uuid": "e6a2d660a33d260e9adee7cc66f57d792b5e5d3b",
        "id": "t59sGL2HjQTa",
        "colab_type": "code",
        "colab": {}
      },
      "source": [
        "ind_des.describe()"
      ],
      "execution_count": null,
      "outputs": []
    },
    {
      "cell_type": "markdown",
      "metadata": {
        "_uuid": "a06de4aa06e42ce6917d6a299085b81832bc5fae",
        "id": "PaAS3IUdjQTd",
        "colab_type": "text"
      },
      "source": [
        "## Usando o .describe() em um DataFrame"
      ]
    },
    {
      "cell_type": "markdown",
      "metadata": {
        "_uuid": "f49c8aa0918e8a7427688f616a9b1fbe8fae77d1",
        "id": "bqE2XFApjQTe",
        "colab_type": "text"
      },
      "source": [
        "O bom é que o `describe()` também funciona em um `DataFrame`, e por padrão apenas para as colunas numéricas:"
      ]
    },
    {
      "cell_type": "code",
      "metadata": {
        "trusted": true,
        "_uuid": "f9cb5db0ca1af4ca7cfb1955d55bcff4d63dea7a",
        "id": "PFcjrv3VjQTe",
        "colab_type": "code",
        "colab": {}
      },
      "source": [
        "igm.describe()"
      ],
      "execution_count": null,
      "outputs": []
    },
    {
      "cell_type": "markdown",
      "metadata": {
        "_uuid": "c6aaa4267f4b30b13552cf69004a30ed63d5984e",
        "id": "-SNFxQXsjQTh",
        "colab_type": "text"
      },
      "source": [
        "##  `Exercícios: Agregações Númericas`"
      ]
    },
    {
      "cell_type": "markdown",
      "metadata": {
        "_uuid": "992b267b46863808f6808bcad37fb96b957d007e",
        "id": "GrNF7JdVjQTh",
        "colab_type": "text"
      },
      "source": [
        "1. Utilize o `.min()`, `.max()`, e `.mean()` para avaliar os dados da coluna `exp_vida`\n",
        "2. Utilize o `.describe()` para avaliar os dados da coluna `idhm`"
      ]
    },
    {
      "cell_type": "markdown",
      "metadata": {
        "_uuid": "51df382d93177201f781aaa8c03bf9b0136e221c",
        "id": "XTaDawkdjQTi",
        "colab_type": "text"
      },
      "source": [
        "## Plotando um Histograma do Índice de Governança"
      ]
    },
    {
      "cell_type": "code",
      "metadata": {
        "scrolled": true,
        "trusted": true,
        "_uuid": "0b3a49152d8c2bd6069443443e07e804432138de",
        "id": "pF-uAoQ6jQTl",
        "colab_type": "code",
        "colab": {}
      },
      "source": [
        "ind_des.hist()"
      ],
      "execution_count": null,
      "outputs": []
    },
    {
      "cell_type": "markdown",
      "metadata": {
        "_uuid": "4cc09e23a4fe9b24e2d2c6d7217c9897fe594503",
        "id": "pvCIQfo2jQTo",
        "colab_type": "text"
      },
      "source": [
        "# Primeiros Gráficos com o Seaborn\n",
        "\n",
        "O Python tem diversas ferramentas para plotar gráficos, uma das mais fáceis e poderosas de usar é o __seaborn__ que foi importado no começo do nosso código com o comando <i>import seaborn as sns</i>."
      ]
    },
    {
      "cell_type": "code",
      "metadata": {
        "trusted": true,
        "_uuid": "f2835c26ddb94a849d66a00d97c4b6845406f1a9",
        "id": "sAMTbtAtjQTo",
        "colab_type": "code",
        "colab": {}
      },
      "source": [
        "sns.kdeplot(ind_des)"
      ],
      "execution_count": null,
      "outputs": []
    },
    {
      "cell_type": "markdown",
      "metadata": {
        "_uuid": "b9fe715666a121d2e116028cdfaf26bdf3fb37b7",
        "id": "5v-AspecjQTr",
        "colab_type": "text"
      },
      "source": [
        "Um gráfico ligeiramente diferente, mas que a além da linha plota as `bins` do histograma."
      ]
    },
    {
      "cell_type": "code",
      "metadata": {
        "trusted": true,
        "_uuid": "ee207beabe11df88ea019293a39499421ef9a050",
        "id": "sXdq3C7GjQTr",
        "colab_type": "code",
        "colab": {}
      },
      "source": [
        "sns.distplot(ind_des.dropna())"
      ],
      "execution_count": null,
      "outputs": []
    },
    {
      "cell_type": "markdown",
      "metadata": {
        "_uuid": "de96a82b5fc336d98d95cdb796397005e36980fe",
        "id": "sKkQUV9UjQTy",
        "colab_type": "text"
      },
      "source": [
        "##  `Exercícios: Histogramas`"
      ]
    },
    {
      "cell_type": "markdown",
      "metadata": {
        "_uuid": "2d3cc5471c9a71d75588c7451a700ed79f4859d7",
        "id": "hUt-A90qjQTz",
        "colab_type": "text"
      },
      "source": [
        "1. Plote um histograma do `gasto_pc_educacao`\n",
        "2. Plote um `sns.kdeplot()` do `gasto_pc_educacao`\n",
        "3. Plote um `sns.distplot()` do `gasto_pc_educacao`\n",
        "4. Utilize o `.describe()` para ver os valores numéricos do `gasto_pc_educacao`"
      ]
    },
    {
      "cell_type": "markdown",
      "metadata": {
        "_uuid": "1f63d49ffee5cea1f81b28adc8641a0f04ed6616",
        "id": "2dRLsh7mjQTz",
        "colab_type": "text"
      },
      "source": [
        "## Fazendo Filtros"
      ]
    },
    {
      "cell_type": "markdown",
      "metadata": {
        "_uuid": "85bb564439f59f6fb27b6fbd2c84e5b59b2b615e",
        "id": "yNUP6p1-jQTz",
        "colab_type": "text"
      },
      "source": [
        "Tem alguns jeitos de selecionar subconjuntos, podemos escolher todas as cidades que pertençam a região nordeste utilizando o comando abaixo:"
      ]
    },
    {
      "cell_type": "code",
      "metadata": {
        "trusted": true,
        "_uuid": "227e3debe76819029553108e64aab203681f0012",
        "id": "cx6ZbacPjQT0",
        "colab_type": "code",
        "colab": {}
      },
      "source": [
        "igm[igm['regiao']=='NORDESTE']"
      ],
      "execution_count": null,
      "outputs": []
    },
    {
      "cell_type": "markdown",
      "metadata": {
        "_uuid": "314c76543c5da644040e152ffaaae11075c30edb",
        "id": "LwPyVI9ajQT7",
        "colab_type": "text"
      },
      "source": [
        "Quando rodamos o comando _igm['Região']=='NORDESTE'_ temos um resultado (em forma de Series) de _True_ (Verdadeiro) ou _False_ (Falso) de acordo com o índice do elemento."
      ]
    },
    {
      "cell_type": "code",
      "metadata": {
        "scrolled": true,
        "trusted": true,
        "_uuid": "528b419ca0a1f05f55a31d928c7880caa565a92a",
        "id": "-o5XHKPxjQT7",
        "colab_type": "code",
        "colab": {}
      },
      "source": [
        "igm['regiao']=='NORDESTE'"
      ],
      "execution_count": null,
      "outputs": []
    },
    {
      "cell_type": "markdown",
      "metadata": {
        "_uuid": "c7af168083c3fd3e73cfee7c9c0866a7f3ac9730",
        "id": "B9_APad0jQT-",
        "colab_type": "text"
      },
      "source": [
        "Podemos guardar esse resultado dentro de uma variável:"
      ]
    },
    {
      "cell_type": "code",
      "metadata": {
        "trusted": true,
        "_uuid": "12980c2649606ffcf0a2efa9e70c42306e52b91b",
        "id": "NGMtuOcKjQT-",
        "colab_type": "code",
        "colab": {}
      },
      "source": [
        "filtro = igm['regiao']=='NORDESTE'"
      ],
      "execution_count": null,
      "outputs": []
    },
    {
      "cell_type": "markdown",
      "metadata": {
        "_uuid": "1206791f8b5de80cf37cc5516ef52fa3b6ee1d8e",
        "id": "7Po81HWRjQUB",
        "colab_type": "text"
      },
      "source": [
        "E executar o filtro em seguida:"
      ]
    },
    {
      "cell_type": "code",
      "metadata": {
        "scrolled": true,
        "trusted": true,
        "_uuid": "1d57120b2ef972c929d2a660c1dc4547d3336773",
        "id": "hqtQSwK5jQUC",
        "colab_type": "code",
        "colab": {}
      },
      "source": [
        "igm[filtro].T"
      ],
      "execution_count": null,
      "outputs": []
    },
    {
      "cell_type": "markdown",
      "metadata": {
        "_uuid": "a6b31adf09a78d4a36b07f076bb5b9ddb3e9097d",
        "id": "SmLxVCPGjQUE",
        "colab_type": "text"
      },
      "source": [
        "## Explorando Dados do Nordeste"
      ]
    },
    {
      "cell_type": "markdown",
      "metadata": {
        "_uuid": "c9c726453343b3aa9c91c3f091318981ff6ab1f5",
        "id": "mGCjHPKyjQUF",
        "colab_type": "text"
      },
      "source": [
        "Para facilitar nossa vida, vamos criar uma variável já filtrada chamada `nordeste`:"
      ]
    },
    {
      "cell_type": "code",
      "metadata": {
        "trusted": true,
        "_uuid": "fcb1ee9c936263edffcd3e0f71f6586101512c1b",
        "id": "tHmxwAXEjQUF",
        "colab_type": "code",
        "colab": {}
      },
      "source": [
        "nordeste = igm[filtro]"
      ],
      "execution_count": null,
      "outputs": []
    },
    {
      "cell_type": "markdown",
      "metadata": {
        "_uuid": "db4049f13df3fdd5ea6cfc8f7946e6d4de977c2a",
        "id": "N0wT0RkMjQUI",
        "colab_type": "text"
      },
      "source": [
        "Agora temos um `DataFrame` apenas com cidades do Nordeste."
      ]
    },
    {
      "cell_type": "code",
      "metadata": {
        "scrolled": true,
        "trusted": true,
        "_uuid": "8f06d0e73650af508580bceb236dc6bdc6974da2",
        "id": "pvUvini3jQUI",
        "colab_type": "code",
        "colab": {}
      },
      "source": [
        "nordeste.sample(5).T"
      ],
      "execution_count": null,
      "outputs": []
    },
    {
      "cell_type": "markdown",
      "metadata": {
        "_uuid": "5030c12027c86064cd6e03c48437ab021a770c57",
        "id": "skLx1p10jQUK",
        "colab_type": "text"
      },
      "source": [
        "Se utilizarmos uma seleção de coluna `indice_governanca` e o `.describe()`, iremos ver o detalhamento dos dados dessa coluna de acordo com o método `.describe()`"
      ]
    },
    {
      "cell_type": "code",
      "metadata": {
        "trusted": true,
        "_uuid": "ca0d91ca855774a340446e6c3e818b2a09343302",
        "id": "hIm4DvAVjQUL",
        "colab_type": "code",
        "colab": {}
      },
      "source": [
        "nordeste['perc_pop_econ_ativa'].describe()"
      ],
      "execution_count": null,
      "outputs": []
    },
    {
      "cell_type": "markdown",
      "metadata": {
        "_uuid": "2da9d001d2cc8daca89ab7637aab145ea97a5ace",
        "id": "CsN9Gb5ujQUN",
        "colab_type": "text"
      },
      "source": [
        "Podemos plotar essa distribuição para o Nordeste:"
      ]
    },
    {
      "cell_type": "code",
      "metadata": {
        "scrolled": true,
        "trusted": true,
        "_uuid": "05c00895b2f5d3b49c574608d8492eee06f77a87",
        "id": "AEXhbuirjQUO",
        "colab_type": "code",
        "colab": {}
      },
      "source": [
        "nordeste['perc_pop_econ_ativa'].hist(bins=50)"
      ],
      "execution_count": null,
      "outputs": []
    },
    {
      "cell_type": "markdown",
      "metadata": {
        "_uuid": "e74c69152bd60996b51ed64a9654eac3fba4b50b",
        "id": "B6jtAYkOjQUP",
        "colab_type": "text"
      },
      "source": [
        "##  `Exercícios: Filtros`"
      ]
    },
    {
      "cell_type": "markdown",
      "metadata": {
        "_uuid": "bbcc3b6a87588e68c6c4d49ea8da2508eebe9034",
        "id": "xYNSkx8zjQUP",
        "colab_type": "text"
      },
      "source": [
        "1. Crie um filtro chamado `meu_filtro` para selecionar apenas as linhas onde os valores da coluna `pib_pc` sejam maiores do que 50000\n",
        "2. Crie um novo `DataFrame` chamado `igm_filtrado_pib_pc` aplicando o `meu_filtro` no `igm`\n",
        "3. Utilize o método `.describe()` na coluna `pib_pc` do `igm_filtrado_pib_pc`\n",
        "4. Plote um histograma da coluna `pib_pc` do `igm_filtrado_pib_pc`"
      ]
    },
    {
      "cell_type": "markdown",
      "metadata": {
        "_uuid": "9638b25d1a68313e00ed9eb2529ac277709687b1",
        "id": "UGJhsYRPjQUP",
        "colab_type": "text"
      },
      "source": [
        "## Fazendo Filtros com Valores Negativos"
      ]
    },
    {
      "cell_type": "markdown",
      "metadata": {
        "_uuid": "c2d6a37bcda3e185a52fe55765f7638dae8407b8",
        "id": "Y5DOe8uPjQUQ",
        "colab_type": "text"
      },
      "source": [
        "Para pegarmos o valor negativo de uma sequência de `True` ou `False`, podemos usar o `~`"
      ]
    },
    {
      "cell_type": "code",
      "metadata": {
        "trusted": true,
        "_uuid": "74261bf71487370e9450816c3a804c86c448448f",
        "id": "51dYOoJLjQUQ",
        "colab_type": "code",
        "colab": {}
      },
      "source": [
        "filtro_nordeste = ~nordeste['perc_pop_econ_ativa'].isnull()"
      ],
      "execution_count": null,
      "outputs": []
    },
    {
      "cell_type": "markdown",
      "metadata": {
        "_uuid": "4a907094e00e05e60caa2b54fb103371be523e3a",
        "id": "7IeRsOaujQUR",
        "colab_type": "text"
      },
      "source": [
        "## Ordenando um DataFrame que possui uma coluna com NaNs"
      ]
    },
    {
      "cell_type": "markdown",
      "metadata": {
        "_uuid": "f6f03743e8274c4ae76824a2ee045fe115870349",
        "id": "BBhK-M5AjQUS",
        "colab_type": "text"
      },
      "source": [
        "Para ordernamos um dataframe por uma coluna basta usarmos o comando `.sort_values()` com o parâmetro `by=nome_da_coluna`. O parâmetro `ascending=False` serve para pegarmos os itens em ordem decrescente."
      ]
    },
    {
      "cell_type": "code",
      "metadata": {
        "scrolled": true,
        "trusted": true,
        "_uuid": "24971528250006ea34845d7f4d9543fd5feade6e",
        "id": "yNn4NslGjQUS",
        "colab_type": "code",
        "colab": {}
      },
      "source": [
        "nordeste[filtro_nordeste].sort_values(by='perc_pop_econ_ativa', ascending=False)[0:5].T"
      ],
      "execution_count": null,
      "outputs": []
    },
    {
      "cell_type": "markdown",
      "metadata": {
        "_uuid": "fba43a0a792599932cef1faaef682c016767ff99",
        "id": "j6kEeXnnjQUV",
        "colab_type": "text"
      },
      "source": [
        "## Usando vários filtros ao mesmo tempo"
      ]
    },
    {
      "cell_type": "markdown",
      "metadata": {
        "_uuid": "e918cbeab791df1bbcfe3cdf39c9459038ac0684",
        "id": "YPfWVGvdjQUV",
        "colab_type": "text"
      },
      "source": [
        "Vamos criar um novo filtro para o `DataFrame` inteiro e não só para o Nordeste."
      ]
    },
    {
      "cell_type": "code",
      "metadata": {
        "trusted": true,
        "_uuid": "3a2a4a9c86551e80f75848321c5d66111a722178",
        "id": "sUH7UHmtjQUW",
        "colab_type": "code",
        "colab": {}
      },
      "source": [
        "filtro_2 = ~igm['perc_pop_econ_ativa'].isnull()"
      ],
      "execution_count": null,
      "outputs": []
    },
    {
      "cell_type": "markdown",
      "metadata": {
        "_uuid": "49124d68eaf3f4285c63e5cd779859482ea7a85d",
        "id": "jDbCITxLjQUY",
        "colab_type": "text"
      },
      "source": [
        "Outra forma de escrever isso é utilizando dois filtros ao mesmo tempo, para isso temos que usar o operador lógico `&` que representa `E`, também temos a oportunidade usar o operador lógico `|`, que significa `OU`:"
      ]
    },
    {
      "cell_type": "code",
      "metadata": {
        "scrolled": true,
        "trusted": true,
        "_uuid": "903a97845ad4ce92a1eb805f10c0d23af5778e7a",
        "id": "DWD8VUgqjQUY",
        "colab_type": "code",
        "colab": {}
      },
      "source": [
        "igm[filtro & filtro_2].sort_values(by='perc_pop_econ_ativa', ascending=False)[0:5].T"
      ],
      "execution_count": null,
      "outputs": []
    },
    {
      "cell_type": "markdown",
      "metadata": {
        "_uuid": "2493daf53c3be2a244e1f0b492edfefdaa315777",
        "id": "r9Wot4N-jQUa",
        "colab_type": "text"
      },
      "source": [
        "## Avaliando o tamanho dos DataFrames e Series"
      ]
    },
    {
      "cell_type": "markdown",
      "metadata": {
        "_uuid": "8c1eed30b2be43959e893d495531dfcef6d15723",
        "id": "z3J-vaG8jQUb",
        "colab_type": "text"
      },
      "source": [
        "Para sabermos o tamanho de um `DataFrame` usamos o comando `.shape`"
      ]
    },
    {
      "cell_type": "code",
      "metadata": {
        "trusted": true,
        "_uuid": "961e7613a9b397aebf4c97a515f2f5cb58871139",
        "id": "NzfpEXZzjQUb",
        "colab_type": "code",
        "colab": {}
      },
      "source": [
        "igm.shape"
      ],
      "execution_count": null,
      "outputs": []
    },
    {
      "cell_type": "markdown",
      "metadata": {
        "_uuid": "1eade6d83fbb54d8de17375df05904fe77fc76b6",
        "id": "2zgOPJt0jQUf",
        "colab_type": "text"
      },
      "source": [
        "O `DataFrame` feito a partir do `filtro` é menor como de se esperar:"
      ]
    },
    {
      "cell_type": "code",
      "metadata": {
        "scrolled": true,
        "trusted": true,
        "_uuid": "32d9bd21cd0ed3a3c20cf527ce10f0bbcb1a524c",
        "id": "xkbthoA9jQUf",
        "colab_type": "code",
        "colab": {}
      },
      "source": [
        "nordeste.shape"
      ],
      "execution_count": null,
      "outputs": []
    },
    {
      "cell_type": "markdown",
      "metadata": {
        "_uuid": "51a2a803d1fe4cd260dec4c59430f6eae743437e",
        "id": "cHKIbgoCjQUh",
        "colab_type": "text"
      },
      "source": [
        "Podemos fazer o `.shape` de uma `Series`"
      ]
    },
    {
      "cell_type": "code",
      "metadata": {
        "trusted": true,
        "_uuid": "f71a7b9d3c33fe555b5ca21a6d761715dcc4b845",
        "id": "sI_fuUijjQUi",
        "colab_type": "code",
        "colab": {}
      },
      "source": [
        "igm['municipio'].shape"
      ],
      "execution_count": null,
      "outputs": []
    },
    {
      "cell_type": "markdown",
      "metadata": {
        "_uuid": "3cbeb9045e8f5e247a68360c2b82ccd4c493a630",
        "id": "PloBqJzujQUk",
        "colab_type": "text"
      },
      "source": [
        "Note pelo comando a seguir como o shape é diferente entre a seleção com:\n",
        "1. `[]` - `Series` - 1 dimensão\n",
        "2. `[[]]` - `DataFrame` - 2 dimensões"
      ]
    },
    {
      "cell_type": "code",
      "metadata": {
        "trusted": true,
        "_uuid": "3dd54abe24dc70517e8169400351504c4e314d3a",
        "id": "K8o6iPe0jQUk",
        "colab_type": "code",
        "colab": {}
      },
      "source": [
        "igm[['municipio']].shape"
      ],
      "execution_count": null,
      "outputs": []
    },
    {
      "cell_type": "markdown",
      "metadata": {
        "_uuid": "a0ead35866f3c97756050f9b30493b80e1694936",
        "id": "TMsUL_epjQUn",
        "colab_type": "text"
      },
      "source": [
        "Podemos usar o `.shape` em uma `Series` também, que nos retornará apenas 1 dimensão."
      ]
    },
    {
      "cell_type": "code",
      "metadata": {
        "scrolled": true,
        "trusted": true,
        "_uuid": "000253900375bbcf49cbd389d63d686613957841",
        "id": "DfYOou2SjQUn",
        "colab_type": "code",
        "colab": {}
      },
      "source": [
        "filtro.shape"
      ],
      "execution_count": null,
      "outputs": []
    },
    {
      "cell_type": "markdown",
      "metadata": {
        "_uuid": "0575da3756dd06a78183edb1d56bcac0010717c1",
        "id": "Y8EXkoVPjQUp",
        "colab_type": "text"
      },
      "source": [
        "Note que o `filtro_nordeste` tem o mesmo número de linhas do `DataFrame` que o originou"
      ]
    },
    {
      "cell_type": "code",
      "metadata": {
        "trusted": true,
        "_uuid": "d828c8766aa4aeb48be6594042315ba6c13fab0c",
        "id": "KW9FWMcMjQUp",
        "colab_type": "code",
        "colab": {}
      },
      "source": [
        "filtro_nordeste.shape"
      ],
      "execution_count": null,
      "outputs": []
    },
    {
      "cell_type": "markdown",
      "metadata": {
        "_uuid": "2f3368ee0e5f6822b5bf55814ad28e7c88f345dc",
        "id": "WU2WWlzTjQUr",
        "colab_type": "text"
      },
      "source": [
        "Note que o segundo filtro que utilizamos tem o mesmo tamanho do primeiro filtro e do `DataFrame` original"
      ]
    },
    {
      "cell_type": "code",
      "metadata": {
        "trusted": true,
        "_uuid": "8fac67ef6b9b639f5ea08405e6e4b0441f326f77",
        "id": "SmvO5L3RjQUs",
        "colab_type": "code",
        "colab": {}
      },
      "source": [
        "filtro_2.shape"
      ],
      "execution_count": null,
      "outputs": []
    },
    {
      "cell_type": "markdown",
      "metadata": {
        "_uuid": "bf8678b1783f5f5289c4144371d148f606e1d9e3",
        "id": "--f7XVSYjQUu",
        "colab_type": "text"
      },
      "source": [
        "De preferência devemos usar um filtro do mesmo tamanho que um `DataFrame` para fazer as seleções. Mas se jogarmos um filtro maior em um `DataFrame` que é um subconjunto do `DataFrame` original, irá funcionar porque ele irá se guiar pelo `index`, mas irá retornar um aviso.\n",
        "\n",
        "Se algum aviso desse tipo acontecer, você já tem uma boa ideia do que pode ter acontecido."
      ]
    },
    {
      "cell_type": "code",
      "metadata": {
        "trusted": true,
        "_uuid": "40e9cde1ee2fa0c429f9d42f8183ec2f1dcd381b",
        "id": "zJKOsGdpjQUu",
        "colab_type": "code",
        "colab": {}
      },
      "source": [
        "nordeste[filtro_2]"
      ],
      "execution_count": null,
      "outputs": []
    },
    {
      "cell_type": "markdown",
      "metadata": {
        "_uuid": "98d1ae04dec1ac5a41617b0ec66fe65f5af10dcf",
        "id": "6zaEJK9VjQUy",
        "colab_type": "text"
      },
      "source": [
        "##  `Exercícios: Mais Filtros e Shape`\n",
        "\n",
        "1. Crie um filtro chamado `filtro_com_idhm` que selecione as cidades que não tenham o `idhm` em branco.\n",
        "2. Crie um filtro chamado `filtro_trabalho` que selecione as cidades que o valor de `jornada_trabalho` seja maior do que 50 \n",
        "3. Crie um novo `DataFrame` chamado `igm_idhm_e_trabalho` que use os filtros `filtro_com_idhm` e `filtro_trabalho` com o operador `E` - `&`\n",
        "4. Crie um novo `DataFrame` chamado `igm_idhm_ou_trabalho` que use os filtros `filtro_com_idhm` e `filtro_trabalho` com o operador `OU` - `|`\n",
        "5. Pegue o `.shape` dos `DataFrames` dos itens `3` e `4`"
      ]
    },
    {
      "cell_type": "markdown",
      "metadata": {
        "_uuid": "93b6ff7c53f90cc1a41101033f6d65ed4cb5a046",
        "id": "RwqqoGJ2jQUz",
        "colab_type": "text"
      },
      "source": [
        "## Manipulação de Strings"
      ]
    },
    {
      "cell_type": "markdown",
      "metadata": {
        "_uuid": "7ccceeb710900a98366f07e7549177767f85c36b",
        "id": "YqT_01mPjQUz",
        "colab_type": "text"
      },
      "source": [
        "Agora nós iremos atualizar a densidade demográfica da tabela com um valor mais recente. Para isso temos que transformar as colunas de area e de populacao em números (`float` ou `int`), atualmente elas estão em forma de texto (`str`)"
      ]
    },
    {
      "cell_type": "markdown",
      "metadata": {
        "_uuid": "b3363e74510c49848070d9f5086a9e1a512f8cd0",
        "id": "uSZGUUPtjQU0",
        "colab_type": "text"
      },
      "source": [
        "## Avaliando os tipos do nosso DataFrame"
      ]
    },
    {
      "cell_type": "code",
      "metadata": {
        "trusted": true,
        "_uuid": "e66880b77972b26b8fa7a354a747061a497f5f3b",
        "id": "SxY5SmpdjQU0",
        "colab_type": "code",
        "colab": {}
      },
      "source": [
        "igm.info()"
      ],
      "execution_count": null,
      "outputs": []
    },
    {
      "cell_type": "markdown",
      "metadata": {
        "_uuid": "f26b8dd4e917262acddaccddf5f9ced4f91f1ca2",
        "id": "f-LtY2YijQU4",
        "colab_type": "text"
      },
      "source": [
        "Como podemos notar, temos algumas colunas que são númeircas mas que estão como `object`, o que normalmente irá significar que são texto. Vamos avaliar o que está acontecendo."
      ]
    },
    {
      "cell_type": "markdown",
      "metadata": {
        "_uuid": "c8f54ab1ed6d9fd40a9abd40ed2e0b9afce12f89",
        "id": "eooV5ZvZjQU4",
        "colab_type": "text"
      },
      "source": [
        "### Convertendo a coluna de área"
      ]
    },
    {
      "cell_type": "code",
      "metadata": {
        "trusted": true,
        "_uuid": "e0fffc0c2edacf0ce0a9bed3004fa362c63da678",
        "id": "Cj-647QWjQU4",
        "colab_type": "code",
        "colab": {}
      },
      "source": [
        "igm['area'].sample(5)"
      ],
      "execution_count": null,
      "outputs": []
    },
    {
      "cell_type": "markdown",
      "metadata": {
        "_uuid": "dd5335c7947884690763ee86eb1f2378b5a792e0",
        "id": "WVazdJ7WjQU7",
        "colab_type": "text"
      },
      "source": [
        "Para forçar a conversão para um número podemos usar o comando `.astype(float)`"
      ]
    },
    {
      "cell_type": "code",
      "metadata": {
        "scrolled": true,
        "trusted": true,
        "_uuid": "a1af06288b0aa216eb35fd266e1fc9137c9e8834",
        "id": "cFD_DdxgjQU8",
        "colab_type": "code",
        "colab": {}
      },
      "source": [
        "igm['area'].astype(float)"
      ],
      "execution_count": null,
      "outputs": []
    },
    {
      "cell_type": "markdown",
      "metadata": {
        "_uuid": "a084ec0be2c7c3a7a29cb27651c266362ab59513",
        "id": "nRoM7NusjQU-",
        "colab_type": "text"
      },
      "source": [
        "O comando não funciona porque temos valores que ele não sabe o que fazer, em específico a vírgula separando os milhares. Para corrigir isso basta usar o comando `.str.replace()`"
      ]
    },
    {
      "cell_type": "code",
      "metadata": {
        "trusted": true,
        "_uuid": "3e79fe77660fbe75ec295b6efba1e64904c0d6c0",
        "id": "wh9jd-TMjQVA",
        "colab_type": "code",
        "colab": {}
      },
      "source": [
        "igm['area'].str.replace(',','').astype(float).sample(10)"
      ],
      "execution_count": null,
      "outputs": []
    },
    {
      "cell_type": "markdown",
      "metadata": {
        "_uuid": "150c1f87ff621edb14088209b38b8ae237038008",
        "id": "CgS32FyOjQVD",
        "colab_type": "text"
      },
      "source": [
        "## Salvando um resultado em uma nova coluna"
      ]
    },
    {
      "cell_type": "markdown",
      "metadata": {
        "_uuid": "dc7618e2550a883d3feefcb926da9867510a0b5d",
        "id": "GtHhIa12jQVD",
        "colab_type": "text"
      },
      "source": [
        "Vamos salvar esse resultado:"
      ]
    },
    {
      "cell_type": "code",
      "metadata": {
        "trusted": true,
        "_uuid": "fad0b43ce040736b1512725bf2e844981c836a03",
        "id": "y6ieOL2GjQVD",
        "colab_type": "code",
        "colab": {}
      },
      "source": [
        "igm['area'] = igm['area'].str.replace(',','').astype(float)"
      ],
      "execution_count": null,
      "outputs": []
    },
    {
      "cell_type": "markdown",
      "metadata": {
        "_uuid": "ebb3393df8d6fd888b7ef8a92449c2df97a3773c",
        "id": "RX0bGW-_jQVF",
        "colab_type": "text"
      },
      "source": [
        "### Convertendo a coluna de população"
      ]
    },
    {
      "cell_type": "markdown",
      "metadata": {
        "_uuid": "1739013135370c130fc3bec8038210c307f5ffe4",
        "id": "euzGBDYBjQVG",
        "colab_type": "text"
      },
      "source": [
        "Vamos primeiro dar uma olhada na coluna `populacao`"
      ]
    },
    {
      "cell_type": "code",
      "metadata": {
        "trusted": true,
        "_uuid": "1915af355f886c608d7a4d5ea6028822b74e8af3",
        "id": "4ivAHjVIjQVG",
        "colab_type": "code",
        "colab": {}
      },
      "source": [
        "igm['populacao'].sample(10)"
      ],
      "execution_count": null,
      "outputs": []
    },
    {
      "cell_type": "markdown",
      "metadata": {
        "_uuid": "931cd24bfc8572f53cf2c34dd60d5516093c4066",
        "id": "S5xuO3_1jQVH",
        "colab_type": "text"
      },
      "source": [
        "Também temos valores com vírgula, vamos substituí-los por um valor em branco:"
      ]
    },
    {
      "cell_type": "code",
      "metadata": {
        "trusted": true,
        "_uuid": "64dddefc76e84dbe1fa08386dfef93c521420478",
        "id": "Q-0vmaopjQVI",
        "colab_type": "code",
        "colab": {}
      },
      "source": [
        "igm['populacao'] = igm['populacao'].str.replace(',','')"
      ],
      "execution_count": null,
      "outputs": []
    },
    {
      "cell_type": "markdown",
      "metadata": {
        "_uuid": "2ba10f1cb4a88e499cf06619fe30eb57ea372c37",
        "id": "1Ubj__X3jQVJ",
        "colab_type": "text"
      },
      "source": [
        "E vamos converter em número e salvar o resultado"
      ]
    },
    {
      "cell_type": "code",
      "metadata": {
        "scrolled": true,
        "trusted": true,
        "_uuid": "c76d48f7062cdc273ab76a86c888f531cae69368",
        "id": "vY5lVgg8jQVJ",
        "colab_type": "code",
        "colab": {}
      },
      "source": [
        "igm['populacao'] = igm['populacao'].astype(float)"
      ],
      "execution_count": null,
      "outputs": []
    },
    {
      "cell_type": "markdown",
      "metadata": {
        "_uuid": "f50fe35608da53eeb22996d2f7573b9b18a5db4b",
        "id": "SE_6fZwyjQVL",
        "colab_type": "text"
      },
      "source": [
        "Desta vez não funcionou, porque de acordo com a mensagem de erro, além de vírgulas temos `.` e temos um `(1)` solto de acordo com a nossa mensagem de erro.\n",
        "\n",
        "Vamos tirar o `.`"
      ]
    },
    {
      "cell_type": "code",
      "metadata": {
        "trusted": true,
        "_uuid": "3b6bde52301449144464df9c27ed1ac6724b7bb0",
        "id": "JrXtcEo7jQVM",
        "colab_type": "code",
        "colab": {}
      },
      "source": [
        "igm['populacao'] = igm['populacao'].str.replace('.','')"
      ],
      "execution_count": null,
      "outputs": []
    },
    {
      "cell_type": "markdown",
      "metadata": {
        "_uuid": "6a869dd3cf328746a735740f3ceb3b17ec4c68be",
        "id": "2C0QF-yOjQVO",
        "colab_type": "text"
      },
      "source": [
        "Para tirar o `('1')`, uma forma é quebrando a string em vários pedaços, para isso usamos o `split()`. Vamos começar com um exemplo fora do `DataFrame` para ilustrar melhor o conceito:"
      ]
    },
    {
      "cell_type": "code",
      "metadata": {
        "trusted": true,
        "_uuid": "bbd68de789301384ce1c98a320bee24ecd82d5b5",
        "id": "5CT2wQqfjQVO",
        "colab_type": "code",
        "colab": {}
      },
      "source": [
        "valor_problema = '41.487(1)'"
      ],
      "execution_count": null,
      "outputs": []
    },
    {
      "cell_type": "markdown",
      "metadata": {
        "_uuid": "56d6e59d87d65f5d7e849471fca3b7ee94079594",
        "id": "CslD5Ar4jQVR",
        "colab_type": "text"
      },
      "source": [
        "Vamos usar o split:"
      ]
    },
    {
      "cell_type": "code",
      "metadata": {
        "trusted": true,
        "_uuid": "9da651b2e3543cfcc0ef8eea9d8ec3b6a5050f2e",
        "id": "mVATYAPwjQVR",
        "colab_type": "code",
        "colab": {}
      },
      "source": [
        "valor_problema.split('(')"
      ],
      "execution_count": null,
      "outputs": []
    },
    {
      "cell_type": "markdown",
      "metadata": {
        "_uuid": "9611ce076c1045bab48a94315d8b0588ec61976d",
        "id": "7qx2z0y3jQVX",
        "colab_type": "text"
      },
      "source": [
        "O split separou o nosso elemento original em dois elementos, o que tinha antes da `(` e o que tinha depois:"
      ]
    },
    {
      "cell_type": "markdown",
      "metadata": {
        "_uuid": "65ec0c4da94da5e79bb73e5dec134f5e356f83f9",
        "id": "3I1ColAbjQVX",
        "colab_type": "text"
      },
      "source": [
        "Para selcionar o que tinha antes basta selecionarmos a posição 0 por meio do comando `[0]`"
      ]
    },
    {
      "cell_type": "code",
      "metadata": {
        "trusted": true,
        "_uuid": "fd0a08e5d664b750ab87b8b2eff6a249a8e3b499",
        "id": "KyOEYMM-jQVX",
        "colab_type": "code",
        "colab": {}
      },
      "source": [
        "valor_problema.split('(')[0]"
      ],
      "execution_count": null,
      "outputs": []
    },
    {
      "cell_type": "markdown",
      "metadata": {
        "_uuid": "e887c8e52c5192ab6609f5e461f758690afa3769",
        "id": "Sb3vutWNjQVb",
        "colab_type": "text"
      },
      "source": [
        "Agora vamos fazer a mesma coisa no `DataFrame`, vamos precisar de chamar o `str` para acessar os métodos de texto."
      ]
    },
    {
      "cell_type": "code",
      "metadata": {
        "trusted": true,
        "_uuid": "ae992919c50a4078ba616143c755e158b39814ed",
        "id": "TwYEZQ2WjQVb",
        "colab_type": "code",
        "colab": {}
      },
      "source": [
        "igm['populacao'] = igm['populacao'].str.split('(')"
      ],
      "execution_count": null,
      "outputs": []
    },
    {
      "cell_type": "markdown",
      "metadata": {
        "_uuid": "dac426dfb287a4be785e24536d858cacdf902a0f",
        "id": "CCkrDSEZjQVe",
        "colab_type": "text"
      },
      "source": [
        "Vamos imprimir novamente os valores:"
      ]
    },
    {
      "cell_type": "code",
      "metadata": {
        "trusted": true,
        "_uuid": "7df37e9f53a8895dd109e17dd7d3907661c6f022",
        "id": "0J7VDjvljQVe",
        "colab_type": "code",
        "colab": {}
      },
      "source": [
        "igm['populacao'].sample(10)"
      ],
      "execution_count": null,
      "outputs": []
    },
    {
      "cell_type": "markdown",
      "metadata": {
        "_uuid": "3d2a2804c8ffdfc6ad7a070171da2ee62d38fcbb",
        "id": "r-fEMaH1jQVh",
        "colab_type": "text"
      },
      "source": [
        "Vamos selecionar o elemento da posição zero para os casos de termos um `(` no elemento e atualizar os valores da coluna com isso."
      ]
    },
    {
      "cell_type": "code",
      "metadata": {
        "trusted": true,
        "_uuid": "f24bc2b3ef84c3d09b175a98b0cb62fced6b701d",
        "id": "xP4rUHYBjQVh",
        "colab_type": "code",
        "colab": {}
      },
      "source": [
        "igm['populacao'] = igm['populacao'].str[0]"
      ],
      "execution_count": null,
      "outputs": []
    },
    {
      "cell_type": "markdown",
      "metadata": {
        "_uuid": "805801ecf3e5f76033da6ef4b0f8f3eee6289b6b",
        "id": "wJvVxK3zjQVj",
        "colab_type": "text"
      },
      "source": [
        "Vamos imprimir os valores da coluna e ver que já temos algo com cara de número, mas que ainda é um `object`"
      ]
    },
    {
      "cell_type": "code",
      "metadata": {
        "trusted": true,
        "_uuid": "7268afe327da5e8e7181fc1ccfa19ea2160b3444",
        "id": "mt6CX9aOjQVj",
        "colab_type": "code",
        "colab": {}
      },
      "source": [
        "igm['populacao'].sample(10)"
      ],
      "execution_count": null,
      "outputs": []
    },
    {
      "cell_type": "markdown",
      "metadata": {
        "_uuid": "9e70b1dd130cb253770a1cd7dd00a5baf6d3cc09",
        "id": "4suO2NqRjQVl",
        "colab_type": "text"
      },
      "source": [
        "Vamos converter isso para `float`:"
      ]
    },
    {
      "cell_type": "code",
      "metadata": {
        "trusted": true,
        "_uuid": "af2636eb5ae2be8274192c2873b3c55259c8252e",
        "id": "RNYlqdEjjQVm",
        "colab_type": "code",
        "colab": {}
      },
      "source": [
        "igm['populacao'] = igm['populacao'].astype(float)"
      ],
      "execution_count": null,
      "outputs": []
    },
    {
      "cell_type": "markdown",
      "metadata": {
        "_uuid": "5f023bd4c6affb25f2cbba69e72d3a9e766a127e",
        "id": "MUHm-VkQjQVn",
        "colab_type": "text"
      },
      "source": [
        "## Operações matemáticas entre colunas"
      ]
    },
    {
      "cell_type": "markdown",
      "metadata": {
        "_uuid": "bc65f00e766f0c8b097dfe3c9a76605cd1dab59f",
        "id": "BetZhzfYjQVo",
        "colab_type": "text"
      },
      "source": [
        "Podemos multiplicar, somar, dividir, subtrair entre colunas, para isso basta usar os respectivos sinais."
      ]
    },
    {
      "cell_type": "code",
      "metadata": {
        "scrolled": true,
        "trusted": true,
        "_uuid": "38dbd2cefca95cebc5914afcb2c13a6dfa640ede",
        "id": "TwZyjhh1jQVo",
        "colab_type": "code",
        "colab": {}
      },
      "source": [
        "igm['populacao'] / igm['area']"
      ],
      "execution_count": null,
      "outputs": []
    },
    {
      "cell_type": "markdown",
      "metadata": {
        "_uuid": "fb5686786e91c396c8eb2c846489c429e3245631",
        "id": "hJumMHJrjQVp",
        "colab_type": "text"
      },
      "source": [
        "Para criarmos uma nova coluna basta colocarmos `igm[]` e dentro do colchetes botar o nome da nova coluna entre aspas. Temos que cuidar cuidado pois se esse nome já existir, iremos sobreescrever o que está lá."
      ]
    },
    {
      "cell_type": "code",
      "metadata": {
        "trusted": true,
        "_uuid": "08ff1416225d078c7405a486c412e4ef884ebd76",
        "id": "bUnbgHiRjQVq",
        "colab_type": "code",
        "colab": {}
      },
      "source": [
        "igm['densidade_2'] = igm['populacao'] / igm['area']"
      ],
      "execution_count": null,
      "outputs": []
    },
    {
      "cell_type": "markdown",
      "metadata": {
        "_uuid": "da6019f35a4f0c32b279494232e1c50602c94392",
        "id": "g2B10-jDjQVr",
        "colab_type": "text"
      },
      "source": [
        "## Comparando Densidades"
      ]
    },
    {
      "cell_type": "markdown",
      "metadata": {
        "_uuid": "1d91263ff65e42d4d329c258adeaa80ea9b94f65",
        "id": "uhWRH394jQVr",
        "colab_type": "text"
      },
      "source": [
        "Uma forma interessante de facilitar a nossa visualização o DataFrame é selecionando apenas algumas colunas que nos interessam, como no caso da densidade demográfica: `municipio`, `populacao`, `area`, `densidade_dem` e `densidade_2`, para isso basta colocarmos `igm[[]]` com os nomes das colunas dentro separados por vírgula (lembrando das aspas para identificar que é um texto)."
      ]
    },
    {
      "cell_type": "code",
      "metadata": {
        "trusted": true,
        "_uuid": "0e985a12ed78317e84f298d5ca3af0d09f8577b1",
        "id": "6VDZumC_jQVs",
        "colab_type": "code",
        "colab": {}
      },
      "source": [
        "igm[['municipio','populacao','area','densidade_dem', 'densidade_2']].sample(10)"
      ],
      "execution_count": null,
      "outputs": []
    },
    {
      "cell_type": "markdown",
      "metadata": {
        "_uuid": "a286ab2e20803fc5e0b869cfe2ebc00e4b741ff8",
        "id": "1JLlYLAAjQVt",
        "colab_type": "text"
      },
      "source": [
        "## Alterando colunas no DataFrame"
      ]
    },
    {
      "cell_type": "markdown",
      "metadata": {
        "_uuid": "3b46584e23b6c11a966d553fefd6ccb84f00ca0a",
        "id": "DtWPO4U4jQVt",
        "colab_type": "text"
      },
      "source": [
        "Valores estão ligeiramente diferentes, provavelmente é por conta de estarmos usando valores mais recentes para a populacao do que os que foram utilizados no cálculo original da densidade demográfica.\n",
        "\n",
        "Para atualizar os valores, basta executar o seguinte comando:"
      ]
    },
    {
      "cell_type": "code",
      "metadata": {
        "trusted": true,
        "_uuid": "26864fe1e447a53799fc8a9880bb0315b20c8576",
        "id": "0-2A4AgijQVu",
        "colab_type": "code",
        "colab": {}
      },
      "source": [
        "igm['densidade_dem'] = igm['densidade_2']"
      ],
      "execution_count": null,
      "outputs": []
    },
    {
      "cell_type": "markdown",
      "metadata": {
        "_uuid": "5ef4728756829c663544417f643fe12e063d328f",
        "id": "NP6OebzcjQVv",
        "colab_type": "text"
      },
      "source": [
        "## Deletando colunas"
      ]
    },
    {
      "cell_type": "markdown",
      "metadata": {
        "_uuid": "fe6e3064ce61618e690d1c94eccd3b860a778a15",
        "id": "eNlgk47bjQVw",
        "colab_type": "text"
      },
      "source": [
        "A coluna `densidade_2` se tornou obsoleta, podemos deletá-la com o seguinte comando:"
      ]
    },
    {
      "cell_type": "code",
      "metadata": {
        "trusted": true,
        "_uuid": "7337fb5ee82bba2027d74bc884df0a7cc5e2b01f",
        "id": "bEIYjeOcjQVw",
        "colab_type": "code",
        "colab": {}
      },
      "source": [
        "igm.drop(columns='densidade_2', inplace=True)"
      ],
      "execution_count": null,
      "outputs": []
    },
    {
      "cell_type": "markdown",
      "metadata": {
        "_uuid": "b5087746d6928d4c2432a0b4cabeb309f3044b02",
        "id": "df6rqvWnjQVy",
        "colab_type": "text"
      },
      "source": [
        "##  `Exercícios: Manipulação de Strings`\n",
        "\n",
        "1. Transforme a coluna `ranking_igm` para uma coluna numérica\n",
        "2. Crie uma coluna `comissionados_por_servidor_2` a partir das colunas `comissionados` e `servidores`\n",
        "3. Substitua a coluna `comissionados_por_servidor` se for o caso\n",
        "4. Delete a coluna `comissionados_por_servidor_2`"
      ]
    },
    {
      "cell_type": "code",
      "metadata": {
        "trusted": false,
        "_uuid": "ab339bf77462427c9a6ff5f87a46199f5b200678",
        "id": "SEnf5DL2jQVy",
        "colab_type": "code",
        "colab": {}
      },
      "source": [
        "igm['comissionados_por_servidor'] = igm['comissionados']/igm['servidores']"
      ],
      "execution_count": null,
      "outputs": []
    },
    {
      "cell_type": "markdown",
      "metadata": {
        "_uuid": "14d9c5537342407d6acf8de7be8b6319d5012e14",
        "id": "KsSwnqmIjQV2",
        "colab_type": "text"
      },
      "source": [
        "## Revisão"
      ]
    },
    {
      "cell_type": "markdown",
      "metadata": {
        "_uuid": "a585d5091ff1b8e29bc31da1f2d113aff75b2a09",
        "id": "tNx__cPEjQV2",
        "colab_type": "text"
      },
      "source": [
        "Fazer revisão do que foi visto."
      ]
    },
    {
      "cell_type": "markdown",
      "metadata": {
        "_uuid": "206386f812d21ff8d96b2054ecdd492649bdd2e8",
        "id": "jpwGCIMrjQV3",
        "colab_type": "text"
      },
      "source": [
        "## `Exercícios: Revisão`\n",
        "\n",
        "1. Plotar um histograma da coluna `exp_vida`\n",
        "2. Usar o método `.describe` na coluna `exp_vida`\n",
        "3. Usar o método `.describe` na coluna `exp_vida` onde os municípios sejam apenas da região `NORTE`\n",
        "4. Usar o método `.value_counts()` na coluna `estado` filtrando os munícipios que tenham `pib_pc` > 50000\n",
        "5. Plotar um gráfico de barras do resultado gerado pelo item 4"
      ]
    },
    {
      "cell_type": "markdown",
      "metadata": {
        "_uuid": "6ff0684d368c02f237d0f4b1edabe53a26c9282c",
        "id": "P-PbsvTwjQV5",
        "colab_type": "text"
      },
      "source": [
        "## Conteúdos Adicionais"
      ]
    },
    {
      "cell_type": "markdown",
      "metadata": {
        "_uuid": "b25b40b296d6a0a481312a863df8ef7e18abe631",
        "id": "tbXZzY86jQV6",
        "colab_type": "text"
      },
      "source": [
        "### Gráficos Interativos"
      ]
    },
    {
      "cell_type": "markdown",
      "metadata": {
        "_uuid": "7718885b271e0f93ab2b3840fd48f5d557d0889c",
        "id": "VwF7vcBGjQV6",
        "colab_type": "text"
      },
      "source": [
        "Um jeito bem interessante de fazermos histogramas é com gráficos interativos, um boa biblioteca para fazer isso é a `plotly`, para instalarmos ela, basta usarmos o comando `!pip install plotly`"
      ]
    },
    {
      "cell_type": "code",
      "metadata": {
        "scrolled": true,
        "trusted": false,
        "_uuid": "97876d82d939952196026d66a312004f7a630b17",
        "id": "ZEnGZyRkjQV6",
        "colab_type": "code",
        "colab": {}
      },
      "source": [
        "!pip install plotly"
      ],
      "execution_count": null,
      "outputs": []
    },
    {
      "cell_type": "markdown",
      "metadata": {
        "_uuid": "88d1a33a2e64c795db86f13648c38aa5eaa40385",
        "id": "46VVFPgZjQV9",
        "colab_type": "text"
      },
      "source": [
        "Vamos precisar importar duas sub-bibliotecas da `plotly`, importante notar que estamos usando o modo `offline` para facilitar a nossa vida e não necessitarmos de autenticação no site deles."
      ]
    },
    {
      "cell_type": "code",
      "metadata": {
        "trusted": false,
        "_uuid": "87dbe4122442b4f3beeda692a909983d4b96430d",
        "id": "FdsaCi3pjQV9",
        "colab_type": "code",
        "colab": {}
      },
      "source": [
        "import plotly.offline as plotly\n",
        "import plotly.graph_objs as go"
      ],
      "execution_count": null,
      "outputs": []
    },
    {
      "cell_type": "markdown",
      "metadata": {
        "_uuid": "e09330ef693cca3e0661e4cccc71a03b76e468b0",
        "id": "H0hKr_BRjQV_",
        "colab_type": "text"
      },
      "source": [
        "Para conseguirmos plotar os gráficos no `Jupyter Notebook` no modo `offline` também precisamos executar o comando abaixo:"
      ]
    },
    {
      "cell_type": "code",
      "metadata": {
        "trusted": false,
        "_uuid": "7e851196811ed05f4e862a0b454e47d45a0c3162",
        "id": "xzGN0hJrjQV_",
        "colab_type": "code",
        "colab": {}
      },
      "source": [
        "plotly.init_notebook_mode(connected=True)"
      ],
      "execution_count": null,
      "outputs": []
    },
    {
      "cell_type": "markdown",
      "metadata": {
        "_uuid": "79a0c309cd3354a69994bd14390a1f4b0a877023",
        "id": "jmJH0K18jQWE",
        "colab_type": "text"
      },
      "source": [
        "Para prepararmos os dados, usamos o comando a seguir:"
      ]
    },
    {
      "cell_type": "code",
      "metadata": {
        "trusted": false,
        "_uuid": "23fa66cfb4592884c2bf333a620a7abe621695ee",
        "id": "bUUqcDMHjQWE",
        "colab_type": "code",
        "colab": {}
      },
      "source": [
        "pyplot_data = [go.Histogram(x=igm['exp_vida'])]"
      ],
      "execution_count": null,
      "outputs": []
    },
    {
      "cell_type": "markdown",
      "metadata": {
        "_uuid": "9dee10ea4acd72873beeedaea65bd6ab04fcc626",
        "id": "zccSmvIqjQWG",
        "colab_type": "text"
      },
      "source": [
        "Para plotarmos o Histograma, usamos o método `pyplot`:"
      ]
    },
    {
      "cell_type": "code",
      "metadata": {
        "trusted": false,
        "_uuid": "c340337058d66d3f4688cca4fa4788e2848ab5f6",
        "id": "RR9lxn7pjQWG",
        "colab_type": "code",
        "colab": {}
      },
      "source": [
        "plotly.iplot(pyplot_data)"
      ],
      "execution_count": null,
      "outputs": []
    },
    {
      "cell_type": "markdown",
      "metadata": {
        "_uuid": "b39ab4419f3a35017f41f4178d4228ad9f598e03",
        "id": "Rk3LUqn8jQWI",
        "colab_type": "text"
      },
      "source": [
        "Importante notar, que diferente dos gráficos do `pandas` e do `seaborn`, se você salvar esse arquivo e abrir depois, o gráfico gerado pelo `plotly` não estará lá para ser visualizado (nem de form não interativa)."
      ]
    },
    {
      "cell_type": "markdown",
      "metadata": {
        "_uuid": "80baeea033572ed096bb201f006d1c9ea45f9b1f",
        "id": "IxVktzSxjQWI",
        "colab_type": "text"
      },
      "source": [
        "## Histograma: Trocando Valores Absolutos por Probabilidades"
      ]
    },
    {
      "cell_type": "markdown",
      "metadata": {
        "_uuid": "d2b149ea6d6e87b8957a92331aad51b8ca1ca4fd",
        "id": "q-gIH0yrjQWI",
        "colab_type": "text"
      },
      "source": [
        "Para vermos a probabilidade de dado valor acontecer em vez de quantos valores daquele tipo aconteceram, basta usar o parâmetro `histnorm='probability'`:"
      ]
    },
    {
      "cell_type": "code",
      "metadata": {
        "trusted": false,
        "_uuid": "fb8a5032e2cec301a3e58271fa9fb68b16f1b400",
        "id": "4Arh8_7-jQWJ",
        "colab_type": "code",
        "colab": {}
      },
      "source": [
        "pyplot_data_norm = [go.Histogram(x=igm['exp_vida'], histnorm='probability')]"
      ],
      "execution_count": null,
      "outputs": []
    },
    {
      "cell_type": "markdown",
      "metadata": {
        "_uuid": "0845b644f898898d57650a20f819063112f33070",
        "id": "0Mg6_bxtjQWK",
        "colab_type": "text"
      },
      "source": [
        "Para plotar o gráfico usamos o `plotly.iplot()`"
      ]
    },
    {
      "cell_type": "code",
      "metadata": {
        "trusted": false,
        "_uuid": "252d68cba6bb24c80bb7e506e51daee7b0919ff0",
        "id": "0pv9wisdjQWK",
        "colab_type": "code",
        "colab": {}
      },
      "source": [
        "plotly.iplot(pyplot_data_norm)"
      ],
      "execution_count": null,
      "outputs": []
    },
    {
      "cell_type": "markdown",
      "metadata": {
        "_uuid": "95d1a7b3626fc64c54af2885753ece7914407c20",
        "id": "r0fcd83LjQWM",
        "colab_type": "text"
      },
      "source": [
        "## `Exercícios: Histogramas Interativos`\n",
        "\n",
        "1. Plote um histograma interativo de 2 colunas da sua escolha."
      ]
    },
    {
      "cell_type": "markdown",
      "metadata": {
        "_uuid": "405885b84af3a73e3bd600a2a9fbb29c587606b5",
        "id": "tT5ZsWQ-jQWM",
        "colab_type": "text"
      },
      "source": [
        "### Importando Valores com Vírgula"
      ]
    },
    {
      "cell_type": "markdown",
      "metadata": {
        "_uuid": "39f55e3baf9f02704400ff696678ad9370adeff0",
        "id": "Hn7r7R2IjQWM",
        "colab_type": "text"
      },
      "source": [
        "Vamos salvar o nosso `igm` de volta no disco. Mas dessa vez vamos separar os campos por `;` (ponto e vírgula) em vez da `,` (vírgula) que era utilizada no nosso arquivo original, e vamos usar a `,` (vírgula) como separador decimal em vez do `.` (ponto)"
      ]
    },
    {
      "cell_type": "code",
      "metadata": {
        "trusted": false,
        "_uuid": "655538b65f2c15e1df6ef361defffb34614a2776",
        "id": "RpeD_YJ1jQWM",
        "colab_type": "code",
        "colab": {}
      },
      "source": [
        "igm.to_csv('igm_virgula.csv', index=False, sep=';', decimal=',')"
      ],
      "execution_count": null,
      "outputs": []
    },
    {
      "cell_type": "markdown",
      "metadata": {
        "_uuid": "4dec42a7f264175c7b5e9ac6c47e6344b6beb95d",
        "id": "eWkH9sQ7jQWO",
        "colab_type": "text"
      },
      "source": [
        "Podemos abrir esse arquivo no notepad para ver como os dados estão salvos."
      ]
    },
    {
      "cell_type": "markdown",
      "metadata": {
        "_uuid": "f42f2ff714e609acc186b4d7d7bed0d5f1eef900",
        "id": "WjGhmgnzjQWO",
        "colab_type": "text"
      },
      "source": [
        "Para lermos o arquivo, vamos usar o `read_csv()` novamente, mas dessa vez precisamos usar o comando `sep=;`. Podemos usar o `.info()` em seguida para averiguarmos os tipos de dados:"
      ]
    },
    {
      "cell_type": "code",
      "metadata": {
        "scrolled": true,
        "trusted": false,
        "_uuid": "e6a0ec6f70c89e971c9a515559765c685aa42744",
        "id": "aAT-RLxbjQWO",
        "colab_type": "code",
        "colab": {}
      },
      "source": [
        "pd.read_csv('igm_virgula.csv',  sep=';').info()"
      ],
      "execution_count": null,
      "outputs": []
    },
    {
      "cell_type": "markdown",
      "metadata": {
        "_uuid": "8d7c2bfee404b1c90f51847b911e3c55b2fee1bd",
        "id": "_xq0BP0EjQWQ",
        "colab_type": "text"
      },
      "source": [
        "Como vimos anteriormente, a maioria dos nossos números objetos foi interpretado como objeto, o que na prática significa que é texto.\n",
        "\n",
        "Para conseguirmos importar os números no formato correto precisamos usar o comando `decimal=','`."
      ]
    },
    {
      "cell_type": "code",
      "metadata": {
        "scrolled": true,
        "trusted": false,
        "_uuid": "b2e4e23f528bbf4c3f239c4f22b76286b1cf829c",
        "id": "GkICedk2jQWR",
        "colab_type": "code",
        "colab": {}
      },
      "source": [
        "pd.read_csv('igm_virgula.csv', sep=';', decimal=',').info()"
      ],
      "execution_count": null,
      "outputs": []
    },
    {
      "cell_type": "markdown",
      "metadata": {
        "_uuid": "d3901c350225314bc151e249c2b10a22046b8189",
        "id": "qh_VPbZ1jQWS",
        "colab_type": "text"
      },
      "source": [
        "## Importandos Arquivos do Excel (Caso de uso real)"
      ]
    },
    {
      "cell_type": "markdown",
      "metadata": {
        "_uuid": "7a2964851208b8631aa5da393871ef772f205e01",
        "id": "G2NwTpENjQWT",
        "colab_type": "text"
      },
      "source": [
        "Além de importarmos arquivos `.csv`, também podemos ler de forma fácil arquivos do `Excel`:"
      ]
    },
    {
      "cell_type": "code",
      "metadata": {
        "scrolled": true,
        "trusted": true,
        "_uuid": "7b9fa53380616bcef840f0189575cf4739c9f62a",
        "id": "lq9AUkgtjQWT",
        "colab_type": "code",
        "colab": {}
      },
      "source": [
        "pd.read_excel('../input/exemplo_1.xls')"
      ],
      "execution_count": null,
      "outputs": []
    },
    {
      "cell_type": "markdown",
      "metadata": {
        "_uuid": "c413bc05b3d4d42884fd30af88f6547febd24db6",
        "id": "fxfdltUnjQWW",
        "colab_type": "text"
      },
      "source": [
        "Por padrão o `read_excel()` vai abrir a primeira aba da planilha do `Excel`, para selecionarmos uma diferente, precisamos do parâmetro `sheet_name`:"
      ]
    },
    {
      "cell_type": "code",
      "metadata": {
        "trusted": false,
        "_uuid": "5fcb535353dd94f001b77fab38b6188cf5c5e753",
        "id": "aeOZbWWtjQWX",
        "colab_type": "code",
        "colab": {}
      },
      "source": [
        "pd.read_excel('../input/exemplo_1.xls', sheet_name='Municípios')"
      ],
      "execution_count": null,
      "outputs": []
    },
    {
      "cell_type": "markdown",
      "metadata": {
        "_uuid": "6b245dc8103342b8287d62dd91649fbbbe21e140",
        "id": "V9G4tiQnjQWZ",
        "colab_type": "text"
      },
      "source": [
        "Por padrão o cabeçalho do nosso arquivo vai ser a primeira linha de texto, para alteramos isso podemos usar o parâmetro `header`:"
      ]
    },
    {
      "cell_type": "code",
      "metadata": {
        "scrolled": true,
        "trusted": false,
        "_uuid": "a7fffb338eb9d8036ac88817c1f11c110de82891",
        "id": "fCFY5Y6pjQWZ",
        "colab_type": "code",
        "colab": {}
      },
      "source": [
        "pd.read_excel('../input/exemplo_1.xls', sheet_name='Municípios', header=1)"
      ],
      "execution_count": null,
      "outputs": []
    },
    {
      "cell_type": "markdown",
      "metadata": {
        "_uuid": "f6883a7064e79e89a48d6c2b6babd0ae1dcad695",
        "id": "ftClLyFujQWb",
        "colab_type": "text"
      },
      "source": [
        "Se observamos cuidadosamente, veremos que no final do nosso arquivo temos uma série de linhas que distoam dos dados coletados, para pularmos a importação de algumas linhas no final do arquivo, podemos usar o parâmetro `skip_footer`."
      ]
    },
    {
      "cell_type": "code",
      "metadata": {
        "scrolled": true,
        "trusted": false,
        "_uuid": "37d029785f104e0869bbc8c109e6e7ab9be51ccf",
        "id": "xfhfsrX6jQWb",
        "colab_type": "code",
        "colab": {}
      },
      "source": [
        "pd.read_excel('../input/exemplo_1.xls', sheet_name='Municípios', header=1, skip_footer=14)"
      ],
      "execution_count": null,
      "outputs": []
    },
    {
      "cell_type": "markdown",
      "metadata": {
        "_uuid": "427d3e7abe8e192ecae416412f73825ddacc63d3",
        "id": "e2VWPOMAjQWc",
        "colab_type": "text"
      },
      "source": [
        "Vamos salvar os nossos dados em uma variável chamada `df`:"
      ]
    },
    {
      "cell_type": "code",
      "metadata": {
        "trusted": false,
        "_uuid": "09b0dabac681d503511b934a89a3d7d9eadb9d8d",
        "id": "jVCmQ40JjQWd",
        "colab_type": "code",
        "colab": {}
      },
      "source": [
        "df = pd.read_excel('../input/exemplo_1.xls', sheet_name='Municípios', header=[1], skip_footer=14)"
      ],
      "execution_count": null,
      "outputs": []
    },
    {
      "cell_type": "markdown",
      "metadata": {
        "_uuid": "e2bcea7b5264614bc131ac260e44b7662c10450d",
        "id": "hBmzyV-2jQWg",
        "colab_type": "text"
      },
      "source": [
        "Vamos olhar os tipos de dados que estão no nosso `DataFrame`"
      ]
    },
    {
      "cell_type": "code",
      "metadata": {
        "trusted": false,
        "_uuid": "52fa747ce2ea973aa2474c726785496adae7ef3a",
        "id": "jSRrLpxgjQWg",
        "colab_type": "code",
        "colab": {}
      },
      "source": [
        "df.info()"
      ],
      "execution_count": null,
      "outputs": []
    },
    {
      "cell_type": "markdown",
      "metadata": {
        "_uuid": "e1a54cf8b471f72035fbd645272bd16c1717a12a",
        "id": "sIRm2mHcjQWk",
        "colab_type": "text"
      },
      "source": [
        "Vamos gerar uma nova coluna chamada código:"
      ]
    },
    {
      "cell_type": "code",
      "metadata": {
        "trusted": false,
        "_uuid": "3fdd013901f176c85e26c0303daa767697a97346",
        "id": "eX4kswZOjQWk",
        "colab_type": "code",
        "colab": {}
      },
      "source": [
        "df['codigo'] = df['COD. UF'] * 100000 + df['COD. MUNIC']"
      ],
      "execution_count": null,
      "outputs": []
    },
    {
      "cell_type": "markdown",
      "metadata": {
        "_uuid": "226d8b44c59e45f40e83ee1ee11032da7c751050",
        "id": "KpO_xmc-jQWm",
        "colab_type": "text"
      },
      "source": [
        "Vamos ver se essa coluna atende aos nossos objetivos:"
      ]
    },
    {
      "cell_type": "code",
      "metadata": {
        "trusted": false,
        "_uuid": "2ba3542ef149e23190f960d1811c497558105413",
        "id": "eCtRfJJSjQWo",
        "colab_type": "code",
        "colab": {}
      },
      "source": [
        "df.sample(5)"
      ],
      "execution_count": null,
      "outputs": []
    },
    {
      "cell_type": "markdown",
      "metadata": {
        "_uuid": "ea1a4ce9261505e75629af87a00a8c33fbf116d7",
        "id": "nuCx2U8UjQWs",
        "colab_type": "text"
      },
      "source": [
        "##  `Exercícios: Importando Arquivos`\n",
        "\n",
        "1. Importe o arquivo `dados_inpe.xlsx` usando a função `pd.read_excel()`.\n",
        "2. Importe novamente o arquivo ajustando os parâmetros `header` e `skip_footer`\n",
        "3. Averigue o `DataFrame` gerado no item 2. Use o comando `.info()`.\n",
        "4. Importe o arquivo `anexo-V.csv`, usando o `read_csv()` e o parâmetro `encoding='latin1'`. (Ignore o `DTypeWarning` caso aconteça, ou use o parâmetro `low_memory=False`) \n",
        "5. Importe novamente o arquivo ajustando o parâmetro `header` e salve o `DataFrame` em uma variável com o nome de `anexo`.\n",
        "6. Averigue a variável `anexo` com o comando `.info()`."
      ]
    },
    {
      "cell_type": "markdown",
      "metadata": {
        "_uuid": "b185d5d11cfecfc9d3c4360c5684cc8a0800ede5",
        "id": "k3UAWlFSjQWs",
        "colab_type": "text"
      },
      "source": [
        "## Plotando Múltiplos Gráficos"
      ]
    },
    {
      "cell_type": "markdown",
      "metadata": {
        "_uuid": "11a6db1eb88edcad896b03aa994c887608bee1aa",
        "id": "LuThzaSVjQWs",
        "colab_type": "text"
      },
      "source": [
        "Uma funcionalidade bem legal das bibliotecas gráficas do Python é que podemos plotar um gráfico em cima do outro.\n",
        "\n",
        "Para isso vamos começar plotando um gráfico simples."
      ]
    },
    {
      "cell_type": "code",
      "metadata": {
        "trusted": true,
        "_uuid": "5dce05556a52c85d0baa09019d3d0da3d4125300",
        "id": "-AAougQ1jQWs",
        "colab_type": "code",
        "colab": {}
      },
      "source": [
        "sns.distplot(igm[igm['regiao'] == 'NORDESTE']['indice_governanca'].dropna(), label='NORDESTE')"
      ],
      "execution_count": null,
      "outputs": []
    },
    {
      "cell_type": "markdown",
      "metadata": {
        "_uuid": "0bdcbbc98fd7c3eb10777b0625705c5bc3d5a744",
        "id": "FzOdI943jQWw",
        "colab_type": "text"
      },
      "source": [
        "Vamos plotar outro gráfico simples."
      ]
    },
    {
      "cell_type": "code",
      "metadata": {
        "scrolled": true,
        "trusted": true,
        "_uuid": "5bed4ae11eb358334a0d81d084d343cc37396af5",
        "id": "VTKNcBY8jQWx",
        "colab_type": "code",
        "colab": {}
      },
      "source": [
        "sns.distplot(igm[igm['regiao'] == 'SUDESTE']['indice_governanca'].dropna(), label='SUDESTE')"
      ],
      "execution_count": null,
      "outputs": []
    },
    {
      "cell_type": "markdown",
      "metadata": {
        "_uuid": "0d4ed3ae2b9be108fd3c924b38a358db1ad1fc66",
        "id": "mHRQH1KLjQWz",
        "colab_type": "text"
      },
      "source": [
        "## Índice de Governança por Região"
      ]
    },
    {
      "cell_type": "markdown",
      "metadata": {
        "_uuid": "c9ff6d8225f9366df888e81665668ee53769887c",
        "id": "gjFze-kPjQWz",
        "colab_type": "text"
      },
      "source": [
        "Para plotar vários gráficos ao mesmo tempo com legenda, vamos precisar importar uma parte do `matplotlib`:"
      ]
    },
    {
      "cell_type": "code",
      "metadata": {
        "trusted": false,
        "_uuid": "49b6e674ec9b11c95fc2855f590145b9f5be581b",
        "id": "I8TkzpIijQWz",
        "colab_type": "code",
        "colab": {}
      },
      "source": [
        "import matplotlib.pyplot as plt"
      ],
      "execution_count": null,
      "outputs": []
    },
    {
      "cell_type": "markdown",
      "metadata": {
        "_uuid": "c11de863df0e77c40c1a1165b816239184a231c6",
        "id": "d51iNSQvjQW2",
        "colab_type": "text"
      },
      "source": [
        "Vamos plotar os dois gráficos que plotamos anteriormente, só que agora ao mesmo tempo, note como eles ficaram diferentes:"
      ]
    },
    {
      "cell_type": "code",
      "metadata": {
        "trusted": false,
        "_uuid": "2079527501c71b5c8236deefeead99a2f04d817d",
        "id": "vtDcaopmjQW2",
        "colab_type": "code",
        "colab": {}
      },
      "source": [
        "sns.distplot(igm[igm['regiao'] == 'NORDESTE']['indice_governanca'].dropna(), label='NORDESTE')\n",
        "sns.distplot(igm[igm['regiao'] == 'SUDESTE']['indice_governanca'].dropna(), label='SUDESTE')\n",
        "plt.legend()"
      ],
      "execution_count": null,
      "outputs": []
    },
    {
      "cell_type": "markdown",
      "metadata": {
        "_uuid": "8e4aff71fdcaf752d8f785d032c557c8c82f7075",
        "id": "AAaNWrzkjQW4",
        "colab_type": "text"
      },
      "source": [
        "Vamos plotar 3 gráficos ao mesmo tempo:"
      ]
    },
    {
      "cell_type": "code",
      "metadata": {
        "trusted": false,
        "_uuid": "79c44bc1582350c87ec6b0173d7386f729e13d64",
        "id": "MMExOUTBjQW4",
        "colab_type": "code",
        "colab": {}
      },
      "source": [
        "sns.distplot(igm[igm['regiao'] == 'NORDESTE']['indice_governanca'].dropna(), label='NORDESTE')\n",
        "sns.distplot(igm[igm['regiao'] == 'SUDESTE']['indice_governanca'].dropna(), label='SUDESTE')\n",
        "sns.distplot(igm[igm['regiao'] == 'CENTRO-OESTE']['indice_governanca'].dropna(), label='CENTRO-OESTE')\n",
        "plt.legend()"
      ],
      "execution_count": null,
      "outputs": []
    },
    {
      "cell_type": "markdown",
      "metadata": {
        "_uuid": "d1bb909ade487e24b38fdd2d2c5d6f1b63104eb4",
        "id": "MMRz9-pTjQW6",
        "colab_type": "text"
      },
      "source": [
        "E finalmente vamos plotar 5 gráficos ao mesmo tempo:"
      ]
    },
    {
      "cell_type": "code",
      "metadata": {
        "scrolled": true,
        "trusted": false,
        "_uuid": "2981dde1ccbdcdd3d7f3f28e2f57b821f2df8876",
        "id": "LXgjEDxhjQW6",
        "colab_type": "code",
        "colab": {}
      },
      "source": [
        "sns.distplot(igm[igm['regiao'] == 'NORDESTE']['indice_governanca'].dropna(), label='NORDESTE')\n",
        "sns.distplot(igm[igm['regiao'] == 'SUDESTE']['indice_governanca'].dropna(), label='SUDESTE')\n",
        "sns.distplot(igm[igm['regiao'] == 'NORTE']['indice_governanca'].dropna(), label='NORTE')\n",
        "sns.distplot(igm[igm['regiao'] == 'SUL']['indice_governanca'].dropna(), label='SUL')\n",
        "sns.distplot(igm[igm['regiao'] == 'CENTRO-OESTE']['indice_governanca'].dropna(), label='CENTRO-OESTE')\n",
        "plt.legend()"
      ],
      "execution_count": null,
      "outputs": []
    },
    {
      "cell_type": "markdown",
      "metadata": {
        "_uuid": "dd2531573f3527c9b551f28861575a828ca6f0ca",
        "id": "22BYCQP9jQW7",
        "colab_type": "text"
      },
      "source": [
        "##  `Exercícios: Plotando Múltiplos Gráficos`\n",
        "\n",
        "1. Plote os gráficos de `exp_vida`de acordo com o `porte`\n",
        "2. Adicione legendas ao gráfico"
      ]
    },
    {
      "cell_type": "markdown",
      "metadata": {
        "_uuid": "38bd2826aba1a5de3c9dfeb082e23fa427086598",
        "id": "m3L8aHaBjQW8",
        "colab_type": "text"
      },
      "source": [
        "# Visualizando Categorias"
      ]
    },
    {
      "cell_type": "markdown",
      "metadata": {
        "_uuid": "2d257f7b43c1250d66a6629c7876e2d65f4f4011",
        "id": "_zXTwCWVjQW8",
        "colab_type": "text"
      },
      "source": [
        "É bastante comum na ciência de dados se classificar váriaveis em: \n",
        "    1. Categóricas - Poucas opções de variabilidade\n",
        "    2. Contínuas - Muitas opções de variabilidade\n",
        "    \n",
        "Uma forma muito boa de entender as suas variáveis categóricas é utilizando o comando `nunique()`, ele irá te mostrar quantos valores únicos existem para cada coluna. "
      ]
    },
    {
      "cell_type": "code",
      "metadata": {
        "scrolled": true,
        "trusted": false,
        "_uuid": "65200050176dabf451146ff5e7e91e7c6254029c",
        "id": "6WnqdW3rjQW8",
        "colab_type": "code",
        "colab": {}
      },
      "source": [
        "igm.nunique()"
      ],
      "execution_count": null,
      "outputs": []
    },
    {
      "cell_type": "markdown",
      "metadata": {
        "_uuid": "e9dfe3fb407f3de12d3e8f8c3e48a2dbd15dcbe2",
        "id": "MK9jdC7UjQW9",
        "colab_type": "text"
      },
      "source": [
        "Basicamente as três variáveis categóricas com poucas opções que temos são `região`, `capital` e `porte`.\n",
        "\n",
        "Além disso temos `estado`, mas que não iria ficar tão bom para plotar gráficos. `participacao_transf_receita` e `taxa_empreendedorismo` também podem ser trabalhadas como variáveis categóricas já que apesar de serem uma porcentagem, os decimals se perderam e acabamos tendo poucas opções de variabilidade."
      ]
    },
    {
      "cell_type": "markdown",
      "metadata": {
        "_uuid": "b85ba7cfdae6fa9bb4e633a13f46013dc271c54a",
        "id": "DwFb3SvCjQW-",
        "colab_type": "text"
      },
      "source": [
        "## Boxplot"
      ]
    },
    {
      "cell_type": "markdown",
      "metadata": {
        "_uuid": "91146f81d6add2d8998bd174e30cb4c033b8b14c",
        "id": "x6_8wlE5jQW-",
        "colab_type": "text"
      },
      "source": [
        "Vamos avaliar como cada `regiao` se sai em relação ao `indice_governanca`"
      ]
    },
    {
      "cell_type": "code",
      "metadata": {
        "scrolled": false,
        "trusted": false,
        "_uuid": "b9ccc7220fd18ae1a7128c40a95744177db1e045",
        "id": "4RBSK0_1jQW-",
        "colab_type": "code",
        "colab": {}
      },
      "source": [
        "sns.boxplot(x=\"regiao\", y=\"indice_governanca\", data=igm)"
      ],
      "execution_count": null,
      "outputs": []
    },
    {
      "cell_type": "markdown",
      "metadata": {
        "_uuid": "4e2b39a453c5fa07fbfdf4a9ba46a9fa5b137a26",
        "id": "9QdNZ6z9jQXB",
        "colab_type": "text"
      },
      "source": [
        "## Violin plot"
      ]
    },
    {
      "cell_type": "markdown",
      "metadata": {
        "_uuid": "ed753b54bd83b3d0f485796f943ff63ab8ebca61",
        "id": "jYiYTnODjQXB",
        "colab_type": "text"
      },
      "source": [
        "Uma forma mais elaborada de fazer isso é com o violin plot, que além de fazer os quartis, plota em seu lado as distribuições dos valores."
      ]
    },
    {
      "cell_type": "code",
      "metadata": {
        "scrolled": true,
        "trusted": false,
        "_uuid": "6783de928c05f852127429137a5889629819ac2d",
        "id": "eANgQXcWjQXB",
        "colab_type": "code",
        "colab": {}
      },
      "source": [
        "sns.violinplot(x=\"regiao\", y=\"indice_governanca\", data=igm)"
      ],
      "execution_count": null,
      "outputs": []
    },
    {
      "cell_type": "markdown",
      "metadata": {
        "_uuid": "302fa95bd10027d137996e1ba7e12f8447b0be91",
        "id": "HeG2nQ4ZjQXD",
        "colab_type": "text"
      },
      "source": [
        "Podemos adicionar mais um agrupamento no gráfico com o comando `hue`:"
      ]
    },
    {
      "cell_type": "code",
      "metadata": {
        "trusted": false,
        "_uuid": "5b0c32541ba8ab4bb5626afe1533e2a7997cc008",
        "id": "fEiXnc5ejQXD",
        "colab_type": "code",
        "colab": {}
      },
      "source": [
        "sns.violinplot(x=\"regiao\", y=\"indice_governanca\", data=igm, hue='capital')"
      ],
      "execution_count": null,
      "outputs": []
    },
    {
      "cell_type": "markdown",
      "metadata": {
        "_uuid": "06a6e0f872ae0669c7e9a03f70986ed93e47c541",
        "id": "bgoplrbXjQXE",
        "colab_type": "text"
      },
      "source": [
        "E inclusive plotar 20 pequenos gráficos de violino ao mesmo tempo:"
      ]
    },
    {
      "cell_type": "code",
      "metadata": {
        "trusted": false,
        "_uuid": "0d3a6242a7cf58e1d462afdfe3b99d0974a2bcc9",
        "id": "rRC2WFx-jQXE",
        "colab_type": "code",
        "colab": {}
      },
      "source": [
        "sns.violinplot(x=\"regiao\", y=\"indice_governanca\", data=igm, hue='porte')"
      ],
      "execution_count": null,
      "outputs": []
    },
    {
      "cell_type": "markdown",
      "metadata": {
        "_uuid": "0776bd93c420ca4ab09c50896d19e4334c14f6fd",
        "id": "QjwRXZnhjQXG",
        "colab_type": "text"
      },
      "source": [
        "Uma forma para facilitar a visualização dos gráficos acima é usando o `factorplot`, que funciona tanto com linhas quant com colunas."
      ]
    },
    {
      "cell_type": "code",
      "metadata": {
        "scrolled": false,
        "trusted": false,
        "_uuid": "d7ab6fa344e5fb88fddaab73785e424b86c7c7eb",
        "id": "2SmEuKogjQXG",
        "colab_type": "code",
        "colab": {}
      },
      "source": [
        "sns.factorplot(x=\"regiao\", y=\"indice_governanca\", data=igm, col='porte', kind='violin')"
      ],
      "execution_count": null,
      "outputs": []
    },
    {
      "cell_type": "markdown",
      "metadata": {
        "_uuid": "a8f7acb9d15a3be6e09f4617719c006cc33721e4",
        "id": "HwyqL8_OjQXH",
        "colab_type": "text"
      },
      "source": [
        "## Análisando Frequência:\n",
        "\n",
        "Para contarmos quantas ocorrências temos por cada categoria podemos usar o `.countplot()`"
      ]
    },
    {
      "cell_type": "code",
      "metadata": {
        "trusted": false,
        "_uuid": "caddf72e26d5b645b8309f4efd70078227bf22a2",
        "id": "dy1kDZdyjQXH",
        "colab_type": "code",
        "colab": {}
      },
      "source": [
        "sns.countplot(x='regiao', data=igm)"
      ],
      "execution_count": null,
      "outputs": []
    },
    {
      "cell_type": "markdown",
      "metadata": {
        "_uuid": "ec5b3b552e588c6ed4780b0a4ced15282f496f16",
        "id": "68SX2ThNjQXK",
        "colab_type": "text"
      },
      "source": [
        "Podemos usar também o `hue` para fazermos uma contagem levando em consideração outra dimensão."
      ]
    },
    {
      "cell_type": "code",
      "metadata": {
        "trusted": false,
        "_uuid": "ee981e2561bda6e57c0a6929f5da9c595aed9ed9",
        "id": "tNKZ4Fy6jQXK",
        "colab_type": "code",
        "colab": {}
      },
      "source": [
        "sns.countplot(x='regiao', hue='porte', data=igm)"
      ],
      "execution_count": null,
      "outputs": []
    },
    {
      "cell_type": "code",
      "metadata": {
        "trusted": false,
        "_uuid": "5e5185aab5c7e9ef232f99a8829086af441e660e",
        "id": "yu121_41jQXM",
        "colab_type": "code",
        "colab": {}
      },
      "source": [
        "sns.factorplot(x=\"regiao\", data=igm, col='porte', kind='count')"
      ],
      "execution_count": null,
      "outputs": []
    },
    {
      "cell_type": "markdown",
      "metadata": {
        "_uuid": "f15686a085d8243129997c7ce2b71f4bab485725",
        "id": "yZ0lAc6djQXN",
        "colab_type": "text"
      },
      "source": [
        "##  `Exercícios: Visualizando Categorias`\n",
        "\n",
        "1. Fazer um `boxplot` de `porte` no eixo `x` e `exp_vida` no eixo `y`\n",
        "2. Fazer um `violinplot` de `porte` no eixo `x` e `exp_vida` no eixo `y` com `hue=regiao`\n",
        "3. Criar um `factorplot`  do tipo `box` com `porte` no eixo `x` e `exp_vida` no eixo `y` e `col='regiao'`\n",
        "4. Pegar o `factorplot` do item 1 e substituir `col='regiao'` por `row='regiao'`\n",
        "5. Fazer um `factorplot` usando `kind='count'`, `hue='porte'` e `x='regiao'`"
      ]
    },
    {
      "cell_type": "markdown",
      "metadata": {
        "_uuid": "f0b664de7e0fac6e88321bfde6aba642e3fe942c",
        "id": "EnFXUS6SjQXO",
        "colab_type": "text"
      },
      "source": [
        "## Gráficos de Pizza"
      ]
    },
    {
      "cell_type": "markdown",
      "metadata": {
        "_uuid": "0d112541a23af9301ac1d5032e56bf393e20434b",
        "id": "LzmnmxXyjQXO",
        "colab_type": "text"
      },
      "source": [
        "Um gráfico bastante útil de plotarmos é o gráfico de pizza, podemos fazer isso com o `pandas`:"
      ]
    },
    {
      "cell_type": "code",
      "metadata": {
        "trusted": false,
        "_uuid": "2518c944b83345a400277f5e4e0f50a2af5c905d",
        "id": "srqhz2U3jQXP",
        "colab_type": "code",
        "colab": {}
      },
      "source": [
        "igm['regiao'].value_counts().plot.pie()"
      ],
      "execution_count": null,
      "outputs": []
    },
    {
      "cell_type": "markdown",
      "metadata": {
        "_uuid": "896267febe1985da0fe090ac842faca6af42f524",
        "id": "v51XcpXejQXQ",
        "colab_type": "text"
      },
      "source": [
        "Como vemos acima, não fica tão bom esse gráfico. Uma possibilidade melhor é usarmos a biblioteca `plotly`. \n",
        "\n",
        "Para isso iremos precisar dos nomes das regiões quando fazemos o comando `.value_counts()`:"
      ]
    },
    {
      "cell_type": "code",
      "metadata": {
        "trusted": false,
        "_uuid": "508ae9cdd7d39c53994f79dc3660840ef3b48a77",
        "id": "_d4fMTY1jQXR",
        "colab_type": "code",
        "colab": {}
      },
      "source": [
        "igm['regiao'].value_counts().index"
      ],
      "execution_count": null,
      "outputs": []
    },
    {
      "cell_type": "markdown",
      "metadata": {
        "_uuid": "93edc0fe7b192c3b292ffc1f3accdef4d44897ea",
        "id": "kMKfSdsPjQXS",
        "colab_type": "text"
      },
      "source": [
        "Em `labels` colocamos os nomes das regiões, e em `values` colocamos os valores:"
      ]
    },
    {
      "cell_type": "code",
      "metadata": {
        "trusted": false,
        "_uuid": "2fd8ffea3cd6dbf69316adea374f2c29d92ceeeb",
        "id": "39hDaKyKjQXS",
        "colab_type": "code",
        "colab": {}
      },
      "source": [
        "pie_chart = go.Pie(labels=igm['regiao'].value_counts().index, values=igm['regiao'].value_counts())\n",
        "plotly.iplot([pie_chart])"
      ],
      "execution_count": null,
      "outputs": []
    },
    {
      "cell_type": "markdown",
      "metadata": {
        "_uuid": "f3a687a6ddb5b38a1aeeb6ed02b0cea7aee163fc",
        "id": "TTJ5tmS0jQXU",
        "colab_type": "text"
      },
      "source": [
        "## Criando novas variáveis categóricas a partir de valores em branco"
      ]
    },
    {
      "cell_type": "markdown",
      "metadata": {
        "_uuid": "c0e8306161392fe09b3baa2952ae89422d11647f",
        "id": "NyukeChrjQXU",
        "colab_type": "text"
      },
      "source": [
        "Um tipo de variável categórica bastante interessante de avaliar são os valores em branco:"
      ]
    },
    {
      "cell_type": "code",
      "metadata": {
        "scrolled": true,
        "trusted": false,
        "_uuid": "2e8f8d58afa34c413d8c44242bc7f3bc0b90e70d",
        "id": "wwMMrhUAjQXU",
        "colab_type": "code",
        "colab": {}
      },
      "source": [
        "igm.isnull().sum()"
      ],
      "execution_count": null,
      "outputs": []
    },
    {
      "cell_type": "markdown",
      "metadata": {
        "_uuid": "ce8c02e7c136c0374700eda56d05915199b1adf6",
        "id": "7uPkCozKjQXV",
        "colab_type": "text"
      },
      "source": [
        "Para criarmos ela basta rodarmos método `.isnull()` e assinalar os valores ao uma nova coluna `sem_igm`:"
      ]
    },
    {
      "cell_type": "code",
      "metadata": {
        "trusted": false,
        "_uuid": "47b15a63315963049b2068e5594cc00655dd29a8",
        "id": "iQTLOGoejQXV",
        "colab_type": "code",
        "colab": {}
      },
      "source": [
        "igm['sem_igm'] = igm['indice_governanca'].isnull()"
      ],
      "execution_count": null,
      "outputs": []
    },
    {
      "cell_type": "markdown",
      "metadata": {
        "_uuid": "74d5d8337067a39afee1da596ecdccb6af001451",
        "id": "EEw40YOWjQXW",
        "colab_type": "text"
      },
      "source": [
        "Agora plotamos o gráfico e podemos observar, que a falta de um IGM, indica uma menor expectativa de vida na maioria das regiões."
      ]
    },
    {
      "cell_type": "code",
      "metadata": {
        "trusted": false,
        "_uuid": "a8bde7da52932c0e6535f219a2c36eedc90ae9f7",
        "id": "gtYyU11HjQXW",
        "colab_type": "code",
        "colab": {}
      },
      "source": [
        "sns.violinplot(x=\"regiao\", y=\"gasto_pc_educacao\", data=igm, hue='sem_igm')"
      ],
      "execution_count": null,
      "outputs": []
    },
    {
      "cell_type": "code",
      "metadata": {
        "trusted": false,
        "_uuid": "e2c078fe2ed08b8b7835fe8601a4ba3422455ae0",
        "id": "8Dz-YcKvjQXZ",
        "colab_type": "code",
        "colab": {}
      },
      "source": [
        "igm['sem_gasto_pc_saude'] = igm['gasto_pc_saude'].isnull()"
      ],
      "execution_count": null,
      "outputs": []
    },
    {
      "cell_type": "code",
      "metadata": {
        "trusted": false,
        "_uuid": "13eb6aa1886ebbd57dd378f48c843b4bffde78b2",
        "id": "MfaDp1x_jQXa",
        "colab_type": "code",
        "colab": {}
      },
      "source": [
        "sns.violinplot(x=\"regiao\", y=\"nota_mat\", data=igm, hue='sem_gasto_pc_saude')"
      ],
      "execution_count": null,
      "outputs": []
    },
    {
      "cell_type": "markdown",
      "metadata": {
        "_uuid": "11e5462f76bd6467eea830d1958f431f96adb3b4",
        "id": "1E3eYOocjQXb",
        "colab_type": "text"
      },
      "source": [
        "## Criando novas variáveis categóricas a partir de agrupamentos"
      ]
    },
    {
      "cell_type": "markdown",
      "metadata": {
        "_uuid": "7c64a1cad281ae1496ad83a0a41f4ff55714312f",
        "id": "423rW0izjQXc",
        "colab_type": "text"
      },
      "source": [
        "Existe uma função bastante útil no `pandas` que é o `qcut` que nos permite criar categorias a partir de valores contínuos (ou de muitas categorias). Basta você partir de um princípio de ordenamento e selecionar a quantidade de categorias final que deseja. No nosso caso escolhemos 3."
      ]
    },
    {
      "cell_type": "code",
      "metadata": {
        "scrolled": true,
        "trusted": false,
        "_uuid": "7e232bf244afa08d0589fa5e050ec688852a0591",
        "id": "ZnpCOmmEjQXd",
        "colab_type": "code",
        "colab": {}
      },
      "source": [
        "pd.qcut(igm['taxa_empreendedorismo'], 3)"
      ],
      "execution_count": null,
      "outputs": []
    },
    {
      "cell_type": "markdown",
      "metadata": {
        "_uuid": "a25e60db980826daeded0cb799aaca00135d443c",
        "id": "CLbjSKMTjQXe",
        "colab_type": "text"
      },
      "source": [
        "Vamos criar uma nova coluna com esses valores:"
      ]
    },
    {
      "cell_type": "code",
      "metadata": {
        "trusted": false,
        "_uuid": "1e4b87ed41a28b798897b103295c0e486f25d7b7",
        "id": "CqbxAOvzjQXe",
        "colab_type": "code",
        "colab": {}
      },
      "source": [
        "igm['cat_te'] = pd.qcut(igm['taxa_empreendedorismo'], 3)"
      ],
      "execution_count": null,
      "outputs": []
    },
    {
      "cell_type": "markdown",
      "metadata": {
        "_uuid": "c9172c01ef4f0d742909acc32248c14d5d439525",
        "id": "o1PD_8KyjQXg",
        "colab_type": "text"
      },
      "source": [
        "E vamos plotar um gráfico os utilizando como filtro:"
      ]
    },
    {
      "cell_type": "code",
      "metadata": {
        "trusted": false,
        "_uuid": "272bff4b3d3b7f7a10ff001d0c81e86157b14a5c",
        "id": "2Y-6UePjjQXh",
        "colab_type": "code",
        "colab": {}
      },
      "source": [
        "sns.violinplot(x=\"regiao\", y=\"exp_vida\", data=igm, hue='cat_te')"
      ],
      "execution_count": null,
      "outputs": []
    },
    {
      "cell_type": "markdown",
      "metadata": {
        "_uuid": "445d0d787119a37d750d55b02c885ac144140f89",
        "id": "CYymd3jjjQXi",
        "colab_type": "text"
      },
      "source": [
        "##  `Exercícios: Visualizando Categorias`\n",
        "\n",
        "1. Criar uma coluna `sem_gasto_pc_saude` a partir dos valores em branco da coluna `gasto_pc_saude`\n",
        "2. Criar uma coluna `cat_te` separando os valores em 3 categorias pra `qcut`\n",
        "3. Criar um `factorplot` do tipo `box` com `porte` no eixo `x` e `exp_vida` no eixo `y` e `col='regiao'` e `row='cat_te`\n",
        "4. Facilite a leitura dos nomes das regiões. Dica: `g.set_xticklabels(rotation=30)`"
      ]
    },
    {
      "cell_type": "markdown",
      "metadata": {
        "_uuid": "ed89f3b30faeb3df4a39ea0234974b7c81f453da",
        "id": "5fVQjOWGjQXj",
        "colab_type": "text"
      },
      "source": [
        "# Mais Gráficos Categóricos"
      ]
    },
    {
      "cell_type": "markdown",
      "metadata": {
        "_uuid": "57efdafc0f342a6befd80d074da0baa22ed3d305",
        "id": "X-UhnJqXjQXj",
        "colab_type": "text"
      },
      "source": [
        "## Swarm plot"
      ]
    },
    {
      "cell_type": "markdown",
      "metadata": {
        "_uuid": "2a1f664222cb60f64931b13271365dcb91ba3efb",
        "id": "ibz5zgwajQXj",
        "colab_type": "text"
      },
      "source": [
        "Um tipo de gráfico interessante é o swarm plot que nos permite ver de forma granular os pontos que compõe uma distribuição, e nos dão a possibilidade de análises com a abaixo:"
      ]
    },
    {
      "cell_type": "code",
      "metadata": {
        "trusted": false,
        "_uuid": "aef3011b1c75dec1ac47ecf933d8a6b291f4758f",
        "id": "BupdRzrfjQXj",
        "colab_type": "code",
        "colab": {}
      },
      "source": [
        "sns.swarmplot(x=\"regiao\", y=\"indice_governanca\", hue='porte', data=igm)"
      ],
      "execution_count": null,
      "outputs": []
    },
    {
      "cell_type": "markdown",
      "metadata": {
        "_uuid": "29cbe4f9922df29877967840a4d84712d6be8940",
        "id": "eLbJOp0AjQXl",
        "colab_type": "text"
      },
      "source": [
        "Abaixo segue um comando opcional para aumentar todos os gráficos que serão gerados:\n",
        "\n",
        "O `#` é um comentário e significa que o código a seguir dele não será executado."
      ]
    },
    {
      "cell_type": "code",
      "metadata": {
        "trusted": false,
        "_uuid": "f1140a6d2e9f9c423722bf473375149117c9a46a",
        "id": "3Jg4gGOzjQXl",
        "colab_type": "code",
        "colab": {}
      },
      "source": [
        "# sns.set(rc={'figure.figsize':(16.7,8.27)})"
      ],
      "execution_count": null,
      "outputs": []
    },
    {
      "cell_type": "markdown",
      "metadata": {
        "_uuid": "658c1965cfc30bca4904df9d047c634e8323b440",
        "id": "5ceNG-lYjQXm",
        "colab_type": "text"
      },
      "source": [
        "## Avaliação de uma variável contínua dada uma variável categórica"
      ]
    },
    {
      "cell_type": "markdown",
      "metadata": {
        "_uuid": "00de6a086951a6b81696ca50630bdd6165f07014",
        "id": "CU6pp3e5jQXn",
        "colab_type": "text"
      },
      "source": [
        "O `seaborn` de forma automática agrupa de acordo com as variáveis categóricas que você coloca no eixo `x` e tira as médias das variáveis que você coloca no eixo `y`.\n",
        "\n",
        "Segue um índice de governança por região e por porte de cidade:"
      ]
    },
    {
      "cell_type": "code",
      "metadata": {
        "trusted": false,
        "_uuid": "e76c3f33a7a7c6adc1181e4cade8d5b7350e2c33",
        "id": "34bdPCSbjQXn",
        "colab_type": "code",
        "colab": {}
      },
      "source": [
        "sns.barplot(x=\"regiao\", y=\"indice_governanca\", hue='porte', data=igm)"
      ],
      "execution_count": null,
      "outputs": []
    },
    {
      "cell_type": "markdown",
      "metadata": {
        "_uuid": "a8e9fb11b1f7712235d0f7326451f6bd7e7e0cdd",
        "id": "YbTkjAO1jQXr",
        "colab_type": "text"
      },
      "source": [
        "Segue a taxa de empreendedorismo por região:"
      ]
    },
    {
      "cell_type": "code",
      "metadata": {
        "trusted": false,
        "_uuid": "bb84d4dc84014196497c35af32080e8a3218c76d",
        "id": "cCIyzXYwjQXr",
        "colab_type": "code",
        "colab": {}
      },
      "source": [
        "sns.barplot(x=\"regiao\", y=\"taxa_empreendedorismo\",  data=igm)"
      ],
      "execution_count": null,
      "outputs": []
    },
    {
      "cell_type": "markdown",
      "metadata": {
        "_uuid": "4b142e4cd2d0638af4e99d8424af0f8b2b05fb5b",
        "id": "HkmChyzujQXt",
        "colab_type": "text"
      },
      "source": [
        "Seguem os anos de estudo do empreendedor por região:"
      ]
    },
    {
      "cell_type": "code",
      "metadata": {
        "trusted": false,
        "_uuid": "d602df15191663ba601ced5fc56f8042027c7bd7",
        "id": "SrBmgCgQjQXt",
        "colab_type": "code",
        "colab": {}
      },
      "source": [
        "sns.barplot(x=\"regiao\", y=\"anos_estudo_empreendedor\",  data=igm)"
      ],
      "execution_count": null,
      "outputs": []
    },
    {
      "cell_type": "markdown",
      "metadata": {
        "_uuid": "766002d3dd00fea4763daeac14efa55f4efa9b75",
        "id": "SwSCGy8yjQXw",
        "colab_type": "text"
      },
      "source": [
        "Segue o pib_pc por região. Note que não é uma média ponderada e sim apenas a média dos munícipios sem levar em conta a população de cada um."
      ]
    },
    {
      "cell_type": "code",
      "metadata": {
        "trusted": false,
        "_uuid": "2d55a9d543c7122292f8e359f18f4fe959db2c86",
        "id": "1Kd2BkufjQXw",
        "colab_type": "code",
        "colab": {}
      },
      "source": [
        "sns.barplot(x=\"regiao\", y=\"pib_pc\",  data=igm)"
      ],
      "execution_count": null,
      "outputs": []
    },
    {
      "cell_type": "markdown",
      "metadata": {
        "_uuid": "dd6c9d43c9f04cc4d91a1defad11ff1338a83800",
        "id": "beaqxX34jQX3",
        "colab_type": "text"
      },
      "source": [
        "## Groupby"
      ]
    },
    {
      "cell_type": "markdown",
      "metadata": {
        "_uuid": "a21836c9bd587518b9c54a6645b1fd2f344674e4",
        "id": "Qtp3fSwUjQX3",
        "colab_type": "text"
      },
      "source": [
        "Os gráficos acima estão pegando uma variável contínua e claculando a média dela para uma dada região, para replicarmos o gráfico acima em números poderíamos utilizar o seguinte comando:"
      ]
    },
    {
      "cell_type": "code",
      "metadata": {
        "trusted": false,
        "_uuid": "5361b408bd0ac35fcd3ae8e636c07a230d69c60a",
        "id": "qSvN-2EAjQX8",
        "colab_type": "code",
        "colab": {}
      },
      "source": [
        "igm.groupby('regiao')['pib_pc'].mean()"
      ],
      "execution_count": null,
      "outputs": []
    },
    {
      "cell_type": "markdown",
      "metadata": {
        "_uuid": "3f45c2fca5475ba79034854c3a7f6cf3397bcb7d",
        "id": "VDf1i9KrjQYA",
        "colab_type": "text"
      },
      "source": [
        "##  `Exercícios: Mais Gráficos Categóricos`\n",
        "\n",
        "1. Fazer um gráfico a partir do agrupamento de `porte` avaliando `gasto_pc_saude`\n",
        "2. Fazer o exercício 1 a partir de um `groupby()`\n",
        "3. Fazer um `swarmplot` usando `y=\"gasto_pc_saude\"`, `hue='porte'`"
      ]
    },
    {
      "cell_type": "markdown",
      "metadata": {
        "_uuid": "d7e62a5f52595322ceec81683ca0ac37d8570043",
        "id": "IHlpCPBZjQYA",
        "colab_type": "text"
      },
      "source": [
        "# Explorando variáveis contínuas"
      ]
    },
    {
      "cell_type": "markdown",
      "metadata": {
        "_uuid": "c8e917e473bdc46cb74601a957d492f21d196963",
        "id": "xyaav4OcjQYA",
        "colab_type": "text"
      },
      "source": [
        "### Gráficos Mais Elaborados"
      ]
    },
    {
      "cell_type": "markdown",
      "metadata": {
        "_uuid": "6f880ed23c37f9f69ee05099ed680d599f749ffa",
        "id": "cDwP9k-VjQYA",
        "colab_type": "text"
      },
      "source": [
        "Abaixo iremos plotar em apenas uma linha de código, um gráfico que mostra a relação entre __'Gastos em saúde e educação per capita'__ com o __'Índice de Desempenho'__."
      ]
    },
    {
      "cell_type": "code",
      "metadata": {
        "scrolled": true,
        "trusted": false,
        "_uuid": "b801e8e64c65038e69b4115b4864893aff2b879a",
        "id": "6ZCxTL2mjQYB",
        "colab_type": "code",
        "colab": {}
      },
      "source": [
        "sns.pairplot(x_vars=['gasto_pc_educacao'], y_vars=['nota_mat'], data=igm, hue=\"regiao\", size=5)"
      ],
      "execution_count": null,
      "outputs": []
    },
    {
      "cell_type": "markdown",
      "metadata": {
        "_uuid": "8051e759e2c57c4ccc4168d60af2800f9853150c",
        "id": "vPvwRXtPjQYC",
        "colab_type": "text"
      },
      "source": [
        "Com o simples parâmetro <i>hue=\"Região\"</i> conseguimos gerar um gráfico colorido de acordo com as regiões do Brasil, que são uma coluna na tabela original.\n",
        "\n",
        "## Regressões Lineares\n",
        "\n",
        "De forma extremamente simples, podemos plotar <i>regressões lineares</i> no gráfico acima. Bastante adicionarmos o parâmetro <i>kind='reg'</i> no código acima."
      ]
    },
    {
      "cell_type": "code",
      "metadata": {
        "trusted": false,
        "_uuid": "2421bbe16aacf0f47e47487fa4c31dc264249a19",
        "id": "b1BUJZGcjQYC",
        "colab_type": "code",
        "colab": {}
      },
      "source": [
        "sns.pairplot(x_vars=['gasto_pc_educacao'], y_vars=['nota_mat'], data=igm, hue=\"regiao\", kind='reg', size=5)"
      ],
      "execution_count": null,
      "outputs": []
    },
    {
      "cell_type": "markdown",
      "metadata": {
        "_uuid": "49767a7faa608b0bc703dfd0505456d3c64a0d45",
        "id": "9J4YWPxxjQYG",
        "colab_type": "text"
      },
      "source": [
        "### Análise do Tamanho do Nome do Município\n",
        "\n",
        "Uma análise simples, mas interessante é vermos se o tamanho do nome de um `municipio` em número de caracteres influencia o `idhm`\n",
        "\n",
        "Para computar o número de caracteres, basta usar o método `.len()`"
      ]
    },
    {
      "cell_type": "code",
      "metadata": {
        "trusted": false,
        "_uuid": "a43c5ec3945ac9d2cc973ded70068f145fc4b4aa",
        "id": "873lzTFAjQYG",
        "colab_type": "code",
        "colab": {}
      },
      "source": [
        "igm['nome_len'] = igm['municipio'].str.len()"
      ],
      "execution_count": null,
      "outputs": []
    },
    {
      "cell_type": "markdown",
      "metadata": {
        "_uuid": "da668bc3d0276a07b413899fb46741ddc8ca35ce",
        "id": "uLF14XOHjQYH",
        "colab_type": "text"
      },
      "source": [
        "Para plotarmos o gráfico, podemos fazer um pairplot, com o parâmetro `kind` para vermos uma regressão linear."
      ]
    },
    {
      "cell_type": "code",
      "metadata": {
        "trusted": false,
        "_uuid": "2d93a418bf472326d63ed00a11fea4128aba77ca",
        "id": "47PPJnbIjQYH",
        "colab_type": "code",
        "colab": {}
      },
      "source": [
        "sns.pairplot(x_vars=['nome_len'], y_vars=['idhm'], data=igm, kind='reg', size=5)"
      ],
      "execution_count": null,
      "outputs": []
    },
    {
      "cell_type": "markdown",
      "metadata": {
        "_uuid": "1e4036d674ad9835708d0a2760afa45df86f071d",
        "id": "ClQhdcWrjQYJ",
        "colab_type": "text"
      },
      "source": [
        "## Múltiplas Regressões Lineares"
      ]
    },
    {
      "cell_type": "markdown",
      "metadata": {
        "_uuid": "b9c3a38fae584bc7c6155f08e4f9d0f9b9475e41",
        "id": "0X1Ujsd9jQYJ",
        "colab_type": "text"
      },
      "source": [
        "Podemos fazermos múltiplas regressões lineares e histogramas ao mesmo tempo com o `sns.pairplot()`:\n",
        "    \n",
        "Para isso vamos criar um `DataFrame` temporário:"
      ]
    },
    {
      "cell_type": "code",
      "metadata": {
        "trusted": false,
        "_uuid": "10a9759f9ae179dd6fc43adcfd2c5177bc6f1f9f",
        "id": "IvYFaxPajQYJ",
        "colab_type": "code",
        "colab": {}
      },
      "source": [
        "temp_df = igm[['nota_mat','exp_vida', 'gasto_pc_saude', 'gasto_pc_educacao', 'regiao']]"
      ],
      "execution_count": null,
      "outputs": []
    },
    {
      "cell_type": "markdown",
      "metadata": {
        "_uuid": "89d61b5408b5cbac63addc540e2cc603657938a8",
        "id": "UMMk_zNNjQYK",
        "colab_type": "text"
      },
      "source": [
        "E vamos usar o `pairplot()` com `hue=regiao` e `kind=reg`:"
      ]
    },
    {
      "cell_type": "code",
      "metadata": {
        "scrolled": true,
        "trusted": false,
        "_uuid": "acdb12988843095d467bea2fd52a188f1a3074f8",
        "id": "3RJseXWujQYM",
        "colab_type": "code",
        "colab": {}
      },
      "source": [
        "sns.pairplot(temp_df, hue='regiao', kind='reg')"
      ],
      "execution_count": null,
      "outputs": []
    },
    {
      "cell_type": "markdown",
      "metadata": {
        "_uuid": "eec3439c58983cfcc5722af0e37350cd99c2713d",
        "id": "fsn0IaDVjQYN",
        "colab_type": "text"
      },
      "source": [
        "O erro aconteceu porque tinhamos valores `NaN` no nosso DataFrame, podemos resolver isso da seguinte forma:"
      ]
    },
    {
      "cell_type": "code",
      "metadata": {
        "scrolled": false,
        "trusted": false,
        "_uuid": "90df1eca45694a97f5bb130879e462077650b79a",
        "id": "9VOTDYptjQYN",
        "colab_type": "code",
        "colab": {}
      },
      "source": [
        "sns.pairplot(temp_df.dropna(), hue='regiao', kind='reg')"
      ],
      "execution_count": null,
      "outputs": []
    },
    {
      "cell_type": "markdown",
      "metadata": {
        "_uuid": "0cec597d7120d5f6ef31698b08346c1263a8d609",
        "id": "Z89MzrZ3jQYP",
        "colab_type": "text"
      },
      "source": [
        "##  `Exercícios: Explorando Variáveis Contínuas`\n",
        "\n",
        "1. Fazer um pairplot usando `taxa_empreendedorismo` e `nota_mat` usando `hue=porte` (apenas 1 gráfico e não 4)\n",
        "2. Fazer um pairplot usando `taxa_empreendedorismo` e `nota_mat` usando `hue=porte` (4 gráficos)\n",
        "3. Fazer um pairplot usando `taxa_empreendedorismo`, `anos_estudo_empreendedor`, `nota_mat` e `idhm`, usando `hue=porte`"
      ]
    },
    {
      "cell_type": "markdown",
      "metadata": {
        "_uuid": "93fcb8375eab01bb2871f1935d230b58b3d05f0d",
        "id": "-Y_Bo6FBjQYP",
        "colab_type": "text"
      },
      "source": [
        "## Plots usando Escala logarítimica"
      ]
    },
    {
      "cell_type": "markdown",
      "metadata": {
        "_uuid": "22024336841c42a12f6f53ed46d98dbb0b7ec993",
        "id": "HYznDEy4jQYP",
        "colab_type": "text"
      },
      "source": [
        "Vai acontecer de termos alguns gráficos que não ficam em uma escala adequada, para isso podemos tentar converter para uma escala logarítimica."
      ]
    },
    {
      "cell_type": "code",
      "metadata": {
        "scrolled": true,
        "trusted": false,
        "_uuid": "9573c9b046aba39c2e1066e0b5ce330f872a391e",
        "id": "sUqNyZGnjQYQ",
        "colab_type": "code",
        "colab": {}
      },
      "source": [
        "sns.pairplot(x_vars=['populacao'], y_vars=['indice_governanca'], data=igm, hue=\"regiao\", kind='reg', size=5)"
      ],
      "execution_count": null,
      "outputs": []
    },
    {
      "cell_type": "markdown",
      "metadata": {
        "_uuid": "65defba7c2a92a2d0dfb33e783280888deca1f87",
        "id": "pm9Jg4V3jQYR",
        "colab_type": "text"
      },
      "source": [
        "Para converter para `log` podemos usar o `numpy` que é uma biblioteca bastante importante para manipulação de dados, e é a base do `pandas`."
      ]
    },
    {
      "cell_type": "code",
      "metadata": {
        "trusted": false,
        "_uuid": "5f8e72a21600a6cc946e003a6c767da3833848f8",
        "id": "1yWGkWvvjQYR",
        "colab_type": "code",
        "colab": {}
      },
      "source": [
        "import numpy as np"
      ],
      "execution_count": null,
      "outputs": []
    },
    {
      "cell_type": "markdown",
      "metadata": {
        "_uuid": "c2f3f43a321c8e59373e4a341e9adb4731473d35",
        "id": "1epV2tHqjQYS",
        "colab_type": "text"
      },
      "source": [
        "Vamos criar uma coluna nova `log_pop` com os valores logarítimicos da `populacao` por meio da função `.log()` do `numpy`:"
      ]
    },
    {
      "cell_type": "code",
      "metadata": {
        "trusted": false,
        "_uuid": "e2b5bf2252c840e934dc175da69115ab8a4a5c56",
        "id": "heSIsCAOjQYS",
        "colab_type": "code",
        "colab": {}
      },
      "source": [
        "igm['log_pop'] = np.log(igm['populacao'])"
      ],
      "execution_count": null,
      "outputs": []
    },
    {
      "cell_type": "markdown",
      "metadata": {
        "_uuid": "d86aa2ae5541950d9f296a0de2d3469b0bc02546",
        "id": "yjmfKZNojQYT",
        "colab_type": "text"
      },
      "source": [
        "Vamos plotar o gráfico de novo substituindo `populacao` por `log_pop`"
      ]
    },
    {
      "cell_type": "code",
      "metadata": {
        "scrolled": false,
        "trusted": false,
        "_uuid": "2d795dcf4867664f307b9684f16aed899b5ced3b",
        "id": "JAXYkkGvjQYT",
        "colab_type": "code",
        "colab": {}
      },
      "source": [
        "sns.pairplot(x_vars=['log_pop'], y_vars=['indice_governanca'], data=igm, hue=\"regiao\", kind='reg', size=5)"
      ],
      "execution_count": null,
      "outputs": []
    },
    {
      "cell_type": "markdown",
      "metadata": {
        "_uuid": "683baa55f69b6a7b7fe3c89b5885d177f4dc0d1d",
        "id": "fIamHEc1jQYT",
        "colab_type": "text"
      },
      "source": [
        "##  `Exercícios: Plots usando Escala logarítimica`\n",
        "\n",
        "1. Plote um `pairplot` de `anos_estudo_empreendedor` por `pib_pc`\n",
        "2. Crie uma nova variável chamada `log_pib_pc` com o log de `pib_pc`\n",
        "3. Plote um `pairplot` de `anos_estudo_empreendedor` por `log_pib_pc`"
      ]
    },
    {
      "cell_type": "markdown",
      "metadata": {
        "_uuid": "489d0532f50e8aa553bd403f2e81d71f70ee1c1e",
        "id": "1aSLZzmvjQYT",
        "colab_type": "text"
      },
      "source": [
        "## Projeto:\n",
        "\n",
        "Pegue algum dataset de sua escolha ou vá em http://dados.gov.br/ e escolha algum conjunto de dados que te interesse.\n",
        "\n",
        "De posse desses conjunto de dados faça os seguintes passos:\n",
        "1. Importe o seu conjunto de dados como um `DataFrame`\n",
        "2. Faça a conversão das colunas que estiverem com formato inadequado (números que estão em formato de `str`)\n",
        "3. Faça 8 gráficos a partir dos seus dados\n",
        "4. Faça um resumo dos principais pontos encontrados nos gráficos avaliados"
      ]
    },
    {
      "cell_type": "markdown",
      "metadata": {
        "_uuid": "0689c59b8c0d99c99e881e98c5ef665ef8700a72",
        "id": "Li9q4VShjQYU",
        "colab_type": "text"
      },
      "source": [
        "## Bônus: Mostrando Valores como um Percentual"
      ]
    },
    {
      "cell_type": "markdown",
      "metadata": {
        "_uuid": "dc9de17d44d81e3abf34ec015b9bac327e0f207c",
        "id": "pu5Z2km4jQYU",
        "colab_type": "text"
      },
      "source": [
        "A opção mais recomendada é usar o `.style.format()`, que irá mexer apenas na exibição dos dados e não irá alterar a estrutura dos dados em si.\n",
        "\n",
        "Para usarmos o `.style.format()`, primeiro precisamos de criar um `dict` com o nome da coluna e o tipo de formatação que desejamos:"
      ]
    },
    {
      "cell_type": "code",
      "metadata": {
        "trusted": false,
        "_uuid": "6fc31b82fc2172ec5e346284440c7ef22e2297db",
        "id": "SGLTmxzojQYU",
        "colab_type": "code",
        "colab": {}
      },
      "source": [
        "format_dict = {'perc_pop_econ_ativa' :'{:.2%}'}"
      ],
      "execution_count": null,
      "outputs": []
    },
    {
      "cell_type": "markdown",
      "metadata": {
        "_uuid": "c2786e506249f86120a488b1bbd832f04873d131",
        "id": "dAMQlJ8qjQYU",
        "colab_type": "text"
      },
      "source": [
        "Depois podemos executar o `.style.format()` em uma parte do `DataFrame` (ou todo ele se quiséssemos):"
      ]
    },
    {
      "cell_type": "code",
      "metadata": {
        "scrolled": true,
        "trusted": false,
        "_uuid": "aa28a4e08b13811249ac81d6f0324e27ce18e712",
        "id": "59hftRtQjQYV",
        "colab_type": "code",
        "colab": {}
      },
      "source": [
        "igm.sample(5).style.format(format_dict)"
      ],
      "execution_count": null,
      "outputs": []
    },
    {
      "cell_type": "markdown",
      "metadata": {
        "_uuid": "ea579b291fec53b9ff01e85ae9c814d9352c5c74",
        "id": "-Snqp8M1jQYV",
        "colab_type": "text"
      },
      "source": [
        "Se olharmos o `.info()`, veremos que `perc_pop_econ_ativa` ainda é numérico:"
      ]
    },
    {
      "cell_type": "code",
      "metadata": {
        "scrolled": true,
        "trusted": false,
        "_uuid": "9a8699e36544933191296a8fac4dcc8fae189a56",
        "id": "IchRqzFtjQYW",
        "colab_type": "code",
        "colab": {}
      },
      "source": [
        "igm.info()"
      ],
      "execution_count": null,
      "outputs": []
    },
    {
      "cell_type": "markdown",
      "metadata": {
        "_uuid": "b130ef715dbfc18d7ca9b2af9dcb5f1dba19422f",
        "id": "8cwSBtXljQYW",
        "colab_type": "text"
      },
      "source": [
        "Podemos converter várias colunas ao mesmo tempo criando um dicionário com vários valores:"
      ]
    },
    {
      "cell_type": "code",
      "metadata": {
        "trusted": false,
        "_uuid": "0b7ca37baf5fe459e9cc3193d550c79ff043441b",
        "id": "3aIvlVzQjQYX",
        "colab_type": "code",
        "colab": {}
      },
      "source": [
        "format_dict = {'perc_pop_econ_ativa' :'{:.0%}', 'taxa_empreendedorismo' :'{:.0%}'}"
      ],
      "execution_count": null,
      "outputs": []
    },
    {
      "cell_type": "markdown",
      "metadata": {
        "_uuid": "ecf1d41406c6cd5b7e1e185560431c0fa40c8b9a",
        "id": "C2vggZ4IjQYY",
        "colab_type": "text"
      },
      "source": [
        "E podemos executar o `.style.format()` novamente"
      ]
    },
    {
      "cell_type": "code",
      "metadata": {
        "scrolled": true,
        "trusted": false,
        "_uuid": "d03d07bfa65fb3b4b46cc032b7c40be5634739f3",
        "id": "pCRLCeCNjQYY",
        "colab_type": "code",
        "colab": {}
      },
      "source": [
        "igm.sample(5).style.format(format_dict)"
      ],
      "execution_count": null,
      "outputs": []
    },
    {
      "cell_type": "markdown",
      "metadata": {
        "_uuid": "148a8582361cfbf87416accb8caee0a708a1ca3c",
        "id": "faPpdPsvjQYZ",
        "colab_type": "text"
      },
      "source": [
        "## Bônus: Juntando DataFrames "
      ]
    },
    {
      "cell_type": "markdown",
      "metadata": {
        "_uuid": "371120eca5816b8100cc5ebfc108faa505f53737",
        "id": "Dj81j_ZcjQYZ",
        "colab_type": "text"
      },
      "source": [
        "Vamos importar uma segunda base de exemplos:"
      ]
    },
    {
      "cell_type": "code",
      "metadata": {
        "trusted": false,
        "_uuid": "9b8bcad890b41a1a4d3e5b17aef8913685915ccb",
        "id": "DwBmfNt9jQYZ",
        "colab_type": "code",
        "colab": {}
      },
      "source": [
        "igf = pd.read_excel('../input/exemplo_2.xls', header=[0], skiprows=8, skip_footer=2)"
      ],
      "execution_count": null,
      "outputs": []
    },
    {
      "cell_type": "markdown",
      "metadata": {
        "_uuid": "3f02f81be9290adf77654eff5614acd422d1821b",
        "id": "0TF-5ye-jQYa",
        "colab_type": "text"
      },
      "source": [
        "Vamos observar como estão nossos dados:"
      ]
    },
    {
      "cell_type": "code",
      "metadata": {
        "scrolled": true,
        "trusted": false,
        "_uuid": "5070a1884b56e6ceb2f7f9073df2af10f247c4a1",
        "id": "HyMLcQ4EjQYa",
        "colab_type": "code",
        "colab": {}
      },
      "source": [
        "igf"
      ],
      "execution_count": null,
      "outputs": []
    },
    {
      "cell_type": "markdown",
      "metadata": {
        "_uuid": "890c121b7690d264e6cf97a0b76305009218da72",
        "id": "xvRewmzejQYb",
        "colab_type": "text"
      },
      "source": [
        "Vamos remover a primeira linha. Usamos o método `.copy()` para evitarmos avisos no futuro."
      ]
    },
    {
      "cell_type": "code",
      "metadata": {
        "trusted": false,
        "_uuid": "de7aac18ca91e261176bca2709cd73fef021b1a6",
        "id": "r7wDxEzFjQYb",
        "colab_type": "code",
        "colab": {}
      },
      "source": [
        "igf = igf[1:].copy()"
      ],
      "execution_count": null,
      "outputs": []
    },
    {
      "cell_type": "markdown",
      "metadata": {
        "_uuid": "4f46e849a6c8feb58cecfcb3f780b39c3361d71b",
        "id": "sEDPdn6zjQYc",
        "colab_type": "text"
      },
      "source": [
        "Vamos renomear a coluna `Unnamed: 1':'Ranking Estadual`, para isso vamos usar o comando `rename()`:"
      ]
    },
    {
      "cell_type": "code",
      "metadata": {
        "trusted": false,
        "_uuid": "ac154e9d3ce18783b01414b56b3bc987b462cf88",
        "id": "vF_7HUkDjQYc",
        "colab_type": "code",
        "colab": {}
      },
      "source": [
        "igf.rename(columns={'Unnamed: 1':'Ranking Estadual'}, inplace=True)"
      ],
      "execution_count": null,
      "outputs": []
    },
    {
      "cell_type": "markdown",
      "metadata": {
        "_uuid": "78cc87ab91d4256151b24d69b9ab40dfcbe54d3f",
        "id": "CY11jdFIjQYd",
        "colab_type": "text"
      },
      "source": [
        "Como não temos códigos em ambos os `DataFrames` com nomes de `df` e `igf`, vamos fazer a junção deles por meio dos nomes dos municípios, para isso vamos deixar o nome da coluna referente aos nomes dos municípios iguais nos 2 `DataFrames`."
      ]
    },
    {
      "cell_type": "code",
      "metadata": {
        "trusted": false,
        "_uuid": "958123572a3e7d771a3c334fd656bc66ef929f18",
        "id": "exp5pAiKjQYe",
        "colab_type": "code",
        "colab": {}
      },
      "source": [
        "igf.rename(columns={'Município':'mun'}, inplace=True)\n",
        "df.rename(columns={'NOME DO MUNICÍPIO':'mun'}, inplace=True)"
      ],
      "execution_count": null,
      "outputs": []
    },
    {
      "cell_type": "markdown",
      "metadata": {
        "_uuid": "e0760cdafb1b15c5c9fdf8caf2a93b90aa84490a",
        "id": "hERnDSLxjQYf",
        "colab_type": "text"
      },
      "source": [
        "Vamos tentar juntar os `DataFrames` e ver o que acontece:"
      ]
    },
    {
      "cell_type": "code",
      "metadata": {
        "scrolled": true,
        "trusted": false,
        "_uuid": "f3c27b8f27c2051f2beb96057b7bbeb912e612d5",
        "id": "Cf2zKE95jQYf",
        "colab_type": "code",
        "colab": {}
      },
      "source": [
        "df.merge(igf)"
      ],
      "execution_count": null,
      "outputs": []
    },
    {
      "cell_type": "markdown",
      "metadata": {
        "_uuid": "852e21c38934487359b856b3dfd84598ed0fbf34",
        "id": "DxtvcIKpjQYg",
        "colab_type": "text"
      },
      "source": [
        "O nosso `DataFrame` após o `merge()` ficou com 5526 linhas, o que significa que 44 munícipios não estão com nomes iguais entre os DataFrames"
      ]
    },
    {
      "cell_type": "code",
      "metadata": {
        "trusted": false,
        "_uuid": "4be865151e5a7a705d8e448ae5f72ceb513c79c2",
        "id": "wfGVKafljQYh",
        "colab_type": "code",
        "colab": {}
      },
      "source": [
        "df.merge(igf).shape"
      ],
      "execution_count": null,
      "outputs": []
    },
    {
      "cell_type": "markdown",
      "metadata": {
        "_uuid": "8f998351e98bc4eeb83616a858c09478cd46a53f",
        "id": "mVbIbNi5jQYi",
        "colab_type": "text"
      },
      "source": [
        "O `DataFrame` chamado `df` tem 5570 munícipios e com 6 colunas:"
      ]
    },
    {
      "cell_type": "code",
      "metadata": {
        "trusted": false,
        "_uuid": "51e1c0b06b0991fa5d5d68c27ca21f37bb0fff61",
        "id": "b9coL4GMjQYi",
        "colab_type": "code",
        "colab": {}
      },
      "source": [
        "df.shape"
      ],
      "execution_count": null,
      "outputs": []
    },
    {
      "cell_type": "markdown",
      "metadata": {
        "_uuid": "1b0642d6695e50f5e7142d40c43b4f5021b0140a",
        "id": "a6wQdr3WjQYj",
        "colab_type": "text"
      },
      "source": [
        "O `DataFrame` chamado `df` tem 5568 munícipios e com 10 colunas:"
      ]
    },
    {
      "cell_type": "code",
      "metadata": {
        "trusted": false,
        "_uuid": "86aa5853e1de48bc47bd653c3f63e1f4501b0a32",
        "id": "mrbDeQjIjQYj",
        "colab_type": "code",
        "colab": {}
      },
      "source": [
        "igf.shape"
      ],
      "execution_count": null,
      "outputs": []
    },
    {
      "cell_type": "markdown",
      "metadata": {
        "_uuid": "c73ec1c2e54739c370978e1ed7b8d6fa59fc7596",
        "id": "UoR__G0ZjQYk",
        "colab_type": "text"
      },
      "source": [
        "Engraçado, que temos 10 colunas em um `DataFrame` e 6 colunas em outro, mas o nosso resultado do merge é de 14 colunas, por que isso?"
      ]
    },
    {
      "cell_type": "markdown",
      "metadata": {
        "_uuid": "18d5e8967799f1ffafe1dec606a67219a90a360f",
        "id": "tmO4e8B0jQYk",
        "colab_type": "text"
      },
      "source": [
        "## Retirando acentos e caracteres especiais:"
      ]
    },
    {
      "cell_type": "markdown",
      "metadata": {
        "_uuid": "ed91b7713773d49b7651e409ee359d32e6cf888f",
        "id": "etSFGfxRjQYm",
        "colab_type": "text"
      },
      "source": [
        "Vamos criar uma coluna chamada `Munícipio` para guardar os nomes originais dos munícipios."
      ]
    },
    {
      "cell_type": "code",
      "metadata": {
        "trusted": false,
        "_uuid": "018b10ffae174131368e5ad47c16140a7a6e328a",
        "id": "8bR_7a82jQYm",
        "colab_type": "code",
        "colab": {}
      },
      "source": [
        "df['Município'] = df['mun']"
      ],
      "execution_count": null,
      "outputs": []
    },
    {
      "cell_type": "markdown",
      "metadata": {
        "_uuid": "e9d5044063141373805448185a502e0b258dfd98",
        "id": "B8elTAuYjQYn",
        "colab_type": "text"
      },
      "source": [
        "Podemos usar o método `str.normalize...` para retirar os acentos e outros caracteres especiais:"
      ]
    },
    {
      "cell_type": "code",
      "metadata": {
        "trusted": false,
        "_uuid": "4155b0c91b0e7b7513a8230dfa4509e7699e2dd7",
        "id": "cyquyI9xjQYn",
        "colab_type": "code",
        "colab": {}
      },
      "source": [
        "igf['mun'] = igf['mun'].str.normalize('NFKD').str.encode('ascii', errors='ignore').str.decode('utf-8')\n",
        "df['mun'] = df['mun'].str.normalize('NFKD').str.encode('ascii', errors='ignore').str.decode('utf-8')"
      ],
      "execution_count": null,
      "outputs": []
    },
    {
      "cell_type": "markdown",
      "metadata": {
        "_uuid": "2d2d8ec4bd83cf2e02896e6a385e944a5acb675b",
        "id": "LEVhvhXhjQYn",
        "colab_type": "text"
      },
      "source": [
        "Podemos ver que ganhamos mais algumas conversões, mas ainda foram poucas."
      ]
    },
    {
      "cell_type": "code",
      "metadata": {
        "scrolled": true,
        "trusted": false,
        "_uuid": "4019716aac45f7b46fe4f567b82c2b9366cf6523",
        "id": "duPCb7E8jQYn",
        "colab_type": "code",
        "colab": {}
      },
      "source": [
        "df.merge(igf).shape"
      ],
      "execution_count": null,
      "outputs": []
    },
    {
      "cell_type": "markdown",
      "metadata": {
        "_uuid": "ae577d18d2c6b881745f597499b48230abd0f72b",
        "id": "vJaxawv0jQYp",
        "colab_type": "text"
      },
      "source": [
        "## Retirando os espaços"
      ]
    },
    {
      "cell_type": "markdown",
      "metadata": {
        "_uuid": "a448fbf71b58aee128b5c7f1ec0785a6a3084e70",
        "id": "PzS5nd4vjQYp",
        "colab_type": "text"
      },
      "source": [
        "Vamos usar o comando `str.replace(' ','')` para remover os espaços em branco dos munícipios"
      ]
    },
    {
      "cell_type": "code",
      "metadata": {
        "trusted": false,
        "_uuid": "ca8ed1db7ae1300a19750d43a9fe1dd408e6ce1a",
        "id": "M7sIKV4pjQYp",
        "colab_type": "code",
        "colab": {}
      },
      "source": [
        "igf['mun'] = igf['mun'].str.replace(' ','')\n",
        "df['mun'] = df['mun'].str.replace(' ','')"
      ],
      "execution_count": null,
      "outputs": []
    },
    {
      "cell_type": "markdown",
      "metadata": {
        "_uuid": "cc9ba93fefa7b714ae88681f80b3bd7a5770ea22",
        "id": "IDvuWocdjQYr",
        "colab_type": "text"
      },
      "source": [
        "Podemos ver que ganhamos mais alguns itens no nosso merge, mas ainda falta um pouco:"
      ]
    },
    {
      "cell_type": "code",
      "metadata": {
        "trusted": false,
        "_uuid": "53ce69036002676178b669a6fb05a75a848f3224",
        "id": "dwMnNNE-jQYr",
        "colab_type": "code",
        "colab": {}
      },
      "source": [
        "df.merge(igf).shape"
      ],
      "execution_count": null,
      "outputs": []
    },
    {
      "cell_type": "markdown",
      "metadata": {
        "_uuid": "f4a7af5654bc007cba7c16ebf0adf853e6162829",
        "id": "hb6K46T4jQYs",
        "colab_type": "text"
      },
      "source": [
        "## O Comando `isin()`:"
      ]
    },
    {
      "cell_type": "markdown",
      "metadata": {
        "_uuid": "f39458f03c8aead05b3d9b71ac3d60fa4f7719ef",
        "id": "m0Qo4j1YjQYs",
        "colab_type": "text"
      },
      "source": [
        "Atráves do comando `isin()` conseguimos se os valores de uma coluna estão contidos em outra coluna. Com o `~` conseguimos saber quais os valores não estão contidos."
      ]
    },
    {
      "cell_type": "markdown",
      "metadata": {
        "_uuid": "9a17edf3cbfa0582bee76ad43377690d438feb02",
        "id": "aek8VjnZjQYs",
        "colab_type": "text"
      },
      "source": [
        "A seguir vamos selecionar os valores da coluna `mun` de `df` que não estão contidos na coluna `mun` de `igf`."
      ]
    },
    {
      "cell_type": "code",
      "metadata": {
        "trusted": false,
        "_uuid": "c4b91f607b71cd97061ffb6677dd4e894231099e",
        "id": "gE4-c1W9jQYs",
        "colab_type": "code",
        "colab": {}
      },
      "source": [
        "df_mun = df[~df.mun.isin(igf['mun'])]['mun'].values"
      ],
      "execution_count": null,
      "outputs": []
    },
    {
      "cell_type": "markdown",
      "metadata": {
        "_uuid": "e5a272c8574ad189c45a7a0b262a1d1329f05f0c",
        "id": "ofJL3P-NjQYt",
        "colab_type": "text"
      },
      "source": [
        "A seguir vamos selecionar os valores da coluna `mun` de `igf` que não estão contidos na coluna `mun` de `df`."
      ]
    },
    {
      "cell_type": "code",
      "metadata": {
        "trusted": false,
        "_uuid": "d663bc00f92a3fb89f310f2f53461096bdc7dbe5",
        "id": "LfhJbF79jQYt",
        "colab_type": "code",
        "colab": {}
      },
      "source": [
        "igf_mun = igf[~igf.mun.isin(df['mun'])]['mun'].values"
      ],
      "execution_count": null,
      "outputs": []
    },
    {
      "cell_type": "markdown",
      "metadata": {
        "_uuid": "e583136cbe980f5ec573d8db8ea9309313080c1e",
        "id": "0-ZRbtvsjQYv",
        "colab_type": "text"
      },
      "source": [
        "## Comparando proximidade de strings:"
      ]
    },
    {
      "cell_type": "markdown",
      "metadata": {
        "_uuid": "74ebed66e377c0a803ab6f9787698df82682ef94",
        "id": "JpMdsLV2jQYv",
        "colab_type": "text"
      },
      "source": [
        "Vamos importar o `SequenceMatcher` para compararmos dois textos e gerarmos um score de quão próximos eles são (1 é idêntico e 0 é nada similar)."
      ]
    },
    {
      "cell_type": "code",
      "metadata": {
        "trusted": false,
        "_uuid": "91a2d3a73fc52d449b787792860520b276aa2a55",
        "id": "TXSxCH2SjQYv",
        "colab_type": "code",
        "colab": {}
      },
      "source": [
        "from difflib import SequenceMatcher"
      ],
      "execution_count": null,
      "outputs": []
    },
    {
      "cell_type": "markdown",
      "metadata": {
        "_uuid": "2b7d6c7c56657d4749b2e3bd05bcc214416f2ef7",
        "id": "p9rdwkGbjQYv",
        "colab_type": "text"
      },
      "source": [
        "Vamos testar todos os valores contidos nas variáveis `df_mun` e `igf_mun` para saber quais são os valores na coluna `mun` de cada `DataFrame` que mais se assemelham, e substituir esses valores caso eles tenham uma semelhança maior do que 80%."
      ]
    },
    {
      "cell_type": "code",
      "metadata": {
        "trusted": false,
        "_uuid": "9d414c1be15c5edfdd082ecfefa3981c9befb521",
        "id": "5gu4tBlujQYw",
        "colab_type": "code",
        "colab": {}
      },
      "source": [
        "for municipio_1 in df_mun:\n",
        "    \n",
        "    \n",
        "    print(score, municipios_proximos)\n",
        "    if score > 0.8:\n",
        "        idx = igf[igf['mun']==municipios_proximos[1]].index[0]\n",
        "        igf.at[idx, 'mun'] = municipios_proximos[0]       "
      ],
      "execution_count": null,
      "outputs": []
    },
    {
      "cell_type": "markdown",
      "metadata": {
        "_uuid": "6fc41ad118f190572b48bb0fcfbb137ca9921dbc",
        "id": "N8APZ_kzjQYw",
        "colab_type": "text"
      },
      "source": [
        "Vamos avaliar as diferenças que ainda restam:"
      ]
    },
    {
      "cell_type": "code",
      "metadata": {
        "trusted": false,
        "_uuid": "0ce26b8fb627c1ce5a464c910b55e111c3ddc84f",
        "id": "359Z9azpjQYw",
        "colab_type": "code",
        "colab": {}
      },
      "source": [
        "df.merge(igf).shape"
      ],
      "execution_count": null,
      "outputs": []
    },
    {
      "cell_type": "code",
      "metadata": {
        "scrolled": true,
        "trusted": false,
        "_uuid": "24d7bae3967a3abd5ffa6493a5e7584550bb66b4",
        "id": "AuPrQ6LQjQYx",
        "colab_type": "code",
        "colab": {}
      },
      "source": [
        "df[~df.mun.isin(igf.mun)]"
      ],
      "execution_count": null,
      "outputs": []
    },
    {
      "cell_type": "code",
      "metadata": {
        "trusted": false,
        "_uuid": "43cbe28cef06a0af7cb9f4879d19da987cd6ab29",
        "id": "XaBnWjmQjQYy",
        "colab_type": "code",
        "colab": {}
      },
      "source": [
        "igf[~igf.mun.isin(df.mun)]"
      ],
      "execution_count": null,
      "outputs": []
    },
    {
      "cell_type": "markdown",
      "metadata": {
        "_uuid": "bce1b3e5fc8c9cad376a30213b9004c14730386d",
        "id": "AdmBIYiAjQYz",
        "colab_type": "text"
      },
      "source": [
        "## O comando `.at[]`"
      ]
    },
    {
      "cell_type": "markdown",
      "metadata": {
        "_uuid": "e34878e6d00be168e4bb8f940b2005d70acc8be3",
        "id": "3Az_pJZXjQYz",
        "colab_type": "text"
      },
      "source": [
        "Para substituirmos uma célula em específico é ideal usar o comando `.at[]`"
      ]
    },
    {
      "cell_type": "code",
      "metadata": {
        "trusted": false,
        "_uuid": "e47eda13292330b388b8c5499c09fa9dc6fd0cfc",
        "id": "KJCu3f4HjQYz",
        "colab_type": "code",
        "colab": {}
      },
      "source": [
        "igf.at[2911,'mun'] = 'EmbudasArtes'"
      ],
      "execution_count": null,
      "outputs": []
    },
    {
      "cell_type": "markdown",
      "metadata": {
        "_uuid": "41698d0dbd01c0a1aab78ebb867c8e11e537ad72",
        "id": "jxpx4HmJjQY0",
        "colab_type": "text"
      },
      "source": [
        "Podemos conferir que a atualização foi efetuada de forma correta:"
      ]
    },
    {
      "cell_type": "code",
      "metadata": {
        "trusted": false,
        "_uuid": "b2ad3d2de1db36b8c0fe94192568080f88d36e83",
        "id": "cWNEQSKpjQY0",
        "colab_type": "code",
        "colab": {}
      },
      "source": [
        "df[~df.mun.isin(igf.mun)]"
      ],
      "execution_count": null,
      "outputs": []
    },
    {
      "cell_type": "code",
      "metadata": {
        "trusted": false,
        "_uuid": "adbf9152ae9eb0742505882246e50b93df8feaa5",
        "id": "slsTVy--jQY1",
        "colab_type": "code",
        "colab": {}
      },
      "source": [
        "igf[~igf.mun.isin(df.mun)]"
      ],
      "execution_count": null,
      "outputs": []
    },
    {
      "cell_type": "markdown",
      "metadata": {
        "_uuid": "fa3dfda2f214d6bd5fc5f63fa1b9238da4947dab",
        "id": "skHHVssJjQY1",
        "colab_type": "text"
      },
      "source": [
        "Vamos terminar de substituir outros munícipios que façam sentido:"
      ]
    },
    {
      "cell_type": "code",
      "metadata": {
        "trusted": false,
        "_uuid": "1de1ac4b351ab5c4b867dfad9b74031f8d0a20bc",
        "id": "bQXt4zl2jQY1",
        "colab_type": "code",
        "colab": {}
      },
      "source": [
        "igf.at[4702, 'mun'] = 'SaoValerio'"
      ],
      "execution_count": null,
      "outputs": []
    },
    {
      "cell_type": "code",
      "metadata": {
        "trusted": false,
        "_uuid": "81dc125fcce18e3873d585d1600493c22c70f743",
        "id": "jf9m_dsrjQY2",
        "colab_type": "code",
        "colab": {}
      },
      "source": [
        "igf.at[4962, 'mun'] = 'SaoVicentedoSerido'"
      ],
      "execution_count": null,
      "outputs": []
    },
    {
      "cell_type": "markdown",
      "metadata": {
        "_uuid": "551597791664d3008e827bfa1b935a21f7b988bf",
        "id": "qpaoN19UjQY3",
        "colab_type": "text"
      },
      "source": [
        "Vamos avaliar as diferenças:"
      ]
    },
    {
      "cell_type": "code",
      "metadata": {
        "trusted": false,
        "_uuid": "0591acfd04e903740b148f8de3ecc208405b0788",
        "id": "_Jj2s38gjQY3",
        "colab_type": "code",
        "colab": {}
      },
      "source": [
        "df[~df.mun.isin(igf.mun)]"
      ],
      "execution_count": null,
      "outputs": []
    },
    {
      "cell_type": "code",
      "metadata": {
        "trusted": false,
        "_uuid": "1b66f66b81086922c626958362a51a2f5c3572c7",
        "id": "XYeUhk4ejQY3",
        "colab_type": "code",
        "colab": {}
      },
      "source": [
        "igf[~igf.mun.isin(df.mun)]"
      ],
      "execution_count": null,
      "outputs": []
    },
    {
      "cell_type": "markdown",
      "metadata": {
        "_uuid": "a89940c09f52a428fb94894bcaebda7800bae28a",
        "id": "5bvart5wjQY7",
        "colab_type": "text"
      },
      "source": [
        "Neste ponto as diferenças são mínimas, e a questão é realmente uma intervenção humana de caso a caso para decidir qual caminho vai ser dado para a junção entre tabelas."
      ]
    },
    {
      "cell_type": "code",
      "metadata": {
        "trusted": false,
        "_uuid": "98b148579380dba4c6a78aa7eeaf8ca8f8cd1427",
        "id": "I7fgWisljQY7",
        "colab_type": "code",
        "colab": {}
      },
      "source": [
        "df.merge(igf).shape"
      ],
      "execution_count": null,
      "outputs": []
    },
    {
      "cell_type": "code",
      "metadata": {
        "trusted": false,
        "_uuid": "b42c133a280d6ef83bf2c4fa6e9ffa877c05321c",
        "id": "yrFCtGWhjQY8",
        "colab_type": "code",
        "colab": {}
      },
      "source": [
        ""
      ],
      "execution_count": null,
      "outputs": []
    }
  ]
}